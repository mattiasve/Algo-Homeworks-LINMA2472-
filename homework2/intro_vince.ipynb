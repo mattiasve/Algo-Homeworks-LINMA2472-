{
 "cells": [
  {
   "cell_type": "code",
   "execution_count": 19,
   "id": "c9e3a924",
   "metadata": {},
   "outputs": [],
   "source": [
    "# note Grakel does not seem to support Python >=3.10, Python 3.9 works fine\n",
    "# you are free to remove imports that are not useful for you\n",
    "from grakel.datasets import fetch_dataset\n",
    "from grakel.kernels import WeisfeilerLehman, VertexHistogram\n",
    "from sklearn.model_selection import train_test_split,cross_val_score\n",
    "from sklearn.svm import SVC\n",
    "from sklearn.metrics import accuracy_score\n",
    "from sklearn.decomposition import KernelPCA # to check your own implementation\n",
    "from sklearn.manifold import TSNE\n",
    "import numpy as np\n",
    "import scipy\n",
    "import matplotlib.pyplot as plt\n",
    "import math"
   ]
  },
  {
   "cell_type": "code",
   "execution_count": 20,
   "id": "195a11e7",
   "metadata": {},
   "outputs": [],
   "source": [
    "# Some datasets, more datasets here https://ls11-www.cs.tu-dortmund.de/staff/morris/graphkerneldatasets\n",
    "\n",
    "\"\"\"\n",
    "    The MUTAG dataset consists of 188 chemical compounds divided into two \n",
    "    classes according to their mutagenic effect on a bacterium. \n",
    "\n",
    "    The chemical data was obtained form http://cdb.ics.uci.edu and converted \n",
    "    to graphs, where vertices represent atoms and edges represent chemical \n",
    "    bonds. Explicit hydrogen atoms have been removed and vertices are labeled\n",
    "    by atom type and edges by bond type (single, double, triple or aromatic).\n",
    "    Chemical data was processed using the Chemistry Development Kit (v1.4).\n",
    "\"\"\"\n",
    "\n",
    "\"\"\"\n",
    "    ENZYMES is a dataset of protein tertiary structures obtained from (Borgwardt et al., 2005) \n",
    "    consisting of 600 enzymes from the BRENDA enzyme database (Schomburg et al., 2004). \n",
    "    In this case the task is to correctly assign each enzyme to one of the 6 EC top-level \n",
    "    classes. \n",
    "\"\"\"\n",
    "\n",
    "\"\"\"\n",
    "    NCI1 and NCI109 represent two balanced subsets of datasets of chemical compounds screened \n",
    "    for activity against non-small cell lung cancer and ovarian cancer cell lines respectively\n",
    "    (Wale and Karypis (2006) and http://pubchem.ncbi.nlm.nih.gov).\n",
    "\"\"\"\n",
    "\n",
    "dataset = fetch_dataset(\"MUTAG\", verbose=False) # just replace by the name of the datasets you want \"ENZYMES\", \"NCI1\"\n",
    "G = dataset.data\n",
    "y = dataset.target"
   ]
  },
  {
   "cell_type": "code",
   "execution_count": 22,
   "outputs": [
    {
     "name": "stdout",
     "output_type": "stream",
     "text": [
      "Accuracy: 85.11%\n"
     ]
    }
   ],
   "source": [
    "H = 10\n",
    "wl = WeisfeilerLehman(n_iter=H, base_graph_kernel=VertexHistogram,normalize=True)\n",
    "X_train, X_test, y_train, y_test = train_test_split(G, y, test_size=0.25, random_state=1, shuffle=True)\n",
    "\n",
    "wlTrain = wl.fit_transform(X_train)\n",
    "wlTest = wl.transform(X_test)\n",
    "\n",
    "clf = SVC(kernel=\"precomputed\")\n",
    "clf.fit(wlTrain, y_train)\n",
    "ypred = clf.predict(wlTest)\n",
    "acc = accuracy_score(y_test, ypred)\n",
    "print(\"Accuracy:\", str(round(acc*100, 2)) + \"%\")\n"
   ],
   "metadata": {
    "collapsed": false
   }
  },
  {
   "cell_type": "code",
   "execution_count": null,
   "outputs": [],
   "source": [],
   "metadata": {
    "collapsed": false
   }
  }
 ],
 "metadata": {
  "kernelspec": {
   "name": "python3",
   "language": "python",
   "display_name": "Python 3 (ipykernel)"
  },
  "language_info": {
   "codemirror_mode": {
    "name": "ipython",
    "version": 3
   },
   "file_extension": ".py",
   "mimetype": "text/x-python",
   "name": "python",
   "nbconvert_exporter": "python",
   "pygments_lexer": "ipython3",
   "version": "3.9.13"
  }
 },
 "nbformat": 4,
 "nbformat_minor": 5
}
