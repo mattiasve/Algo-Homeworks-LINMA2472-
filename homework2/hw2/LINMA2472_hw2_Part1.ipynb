{
 "cells": [
  {
   "cell_type": "code",
   "execution_count": 1,
   "id": "c9e3a924",
   "metadata": {},
   "outputs": [],
   "source": [
    "\n",
    "# note Grakel does not seem to support Python >=3.10, Python 3.9 works fine\n",
    "# you are free to remove imports that are not useful for you\n",
    "from grakel.datasets import fetch_dataset\n",
    "from grakel.kernels import WeisfeilerLehman, VertexHistogram\n",
    "from sklearn.model_selection import train_test_split,cross_val_score\n",
    "from sklearn.svm import SVC\n",
    "from sklearn.metrics import accuracy_score\n",
    "from sklearn.decomposition import KernelPCA # to check your own implementation\n",
    "from sklearn.manifold import TSNE\n",
    "import numpy as np\n",
    "import pandas as pd\n",
    "import scipy\n",
    "import matplotlib.pyplot as plt\n",
    "import seaborn as sns\n",
    "import math"
   ]
  },
  {
   "cell_type": "code",
   "execution_count": 2,
   "outputs": [],
   "source": [
    "# Some datasets, more datasets here https://ls11-www.cs.tu-dortmund.de/staff/morris/graphkerneldatasets\n",
    "\n",
    "\"\"\"\n",
    "    The MUTAG dataset consists of 188 chemical compounds divided into two \n",
    "    classes according to their mutagenic effect on a bacterium. \n",
    "\n",
    "    The chemical data was obtained form http://cdb.ics.uci.edu and converted \n",
    "    to graphs, where vertices represent atoms and edges represent chemical \n",
    "    bonds. Explicit hydrogen atoms have been removed and vertices are labeled\n",
    "    by atom type and edges by bond type (single, double, triple or aromatic).\n",
    "    Chemical data was processed using the Chemistry Development Kit (v1.4).\n",
    "\"\"\"\n",
    "\n",
    "\"\"\"\n",
    "    ENZYMES is a dataset of protein tertiary structures obtained from (Borgwardt et al., 2005) \n",
    "    consisting of 600 enzymes from the BRENDA enzyme database (Schomburg et al., 2004). \n",
    "    In this case the task is to correctly assign each enzyme to one of the 6 EC top-level \n",
    "    classes. \n",
    "\"\"\"\n",
    "\n",
    "\"\"\"\n",
    "    NCI1 and NCI109 represent two balanced subsets of datasets of chemical compounds screened \n",
    "    for activity against non-small cell lung cancer and ovarian cancer cell lines respectively\n",
    "    (Wale and Karypis (2006) and http://pubchem.ncbi.nlm.nih.gov).\n",
    "\"\"\"\n",
    "\n",
    "#fetch the data for the three datasets\n",
    "datasetMutag = fetch_dataset(\"MUTAG\", verbose=False) # just replace by the name of the datasets you want \"ENZYMES\", \"NCI1\"\n",
    "GMutag = datasetMutag.data\n",
    "yMutag = datasetMutag.target\n",
    "\n",
    "datasetEnzimes = fetch_dataset(\"ENZYMES\", verbose=False) # just replace by the name of the datasets you want \"ENZYMES\", \"NCI1\"\n",
    "GEnzimes = datasetEnzimes.data\n",
    "yEnzimes = datasetEnzimes.target\n",
    "\n",
    "datasetNCI1 = fetch_dataset(\"NCI1\", verbose=False) # just replace by the name of the datasets you want \"ENZYMES\", \"NCI1\"\n",
    "GNCI1 = datasetNCI1.data\n",
    "yNCI1 = datasetNCI1.target"
   ],
   "metadata": {
    "collapsed": false
   }
  },
  {
   "cell_type": "markdown",
   "source": [
    "## 4.1 Computing the kernels"
   ],
   "metadata": {
    "collapsed": false
   }
  },
  {
   "cell_type": "code",
   "execution_count": 3,
   "outputs": [],
   "source": [
    "H = 10\n",
    "#function to compute the WL pairwise kernel\n",
    "def pairwiseKernelComputation(graph, H):\n",
    "\n",
    "    wl = WeisfeilerLehman(n_iter=H, base_graph_kernel=VertexHistogram,normalize=False)\n",
    "    #pairwiseComputation\n",
    "    wlTrain = wl.fit_transform(graph)\n",
    "\n",
    "    return wlTrain"
   ],
   "metadata": {
    "collapsed": false
   }
  },
  {
   "cell_type": "code",
   "execution_count": 4,
   "outputs": [],
   "source": [
    "#4.1.2 et 4.1.4 MUTAG\n",
    "pairwiseMutag = pairwiseKernelComputation(GMutag, H)\n",
    "WlrankMutag = np.linalg.matrix_rank(pairwiseMutag)\n",
    "\n",
    "#4.1.2 et 4.1.4 ENZIMES\n",
    "pairwiseEnzimes = pairwiseKernelComputation(GEnzimes, H)\n",
    "WlrankEnzimes = np.linalg.matrix_rank(pairwiseEnzimes)\n",
    "\n",
    "#4.1.2 et 4.1.4 NCI1\n",
    "pairwiseNCI1 = pairwiseKernelComputation(GNCI1, H)\n",
    "WlrankNCI1 = np.linalg.matrix_rank(pairwiseNCI1)"
   ],
   "metadata": {
    "collapsed": false
   }
  },
  {
   "cell_type": "markdown",
   "source": [
    "## 4.2 Vizualisation"
   ],
   "metadata": {
    "collapsed": false
   }
  },
  {
   "cell_type": "markdown",
   "source": [
    "### 4.2.1 Kernel centralisation"
   ],
   "metadata": {
    "collapsed": false
   }
  },
  {
   "cell_type": "code",
   "execution_count": 5,
   "outputs": [],
   "source": [
    "#K = K − 1N K − K1N + 1N K1N\n",
    "def kernelCentralisation(K):\n",
    "    N = np.full((len(K[0]), len(K[0])), 1/len(K[0]))\n",
    "    centredKernelMatrix = (K - N@K) - (K@N) + (N @K@N)\n",
    "    return centredKernelMatrix\n"
   ],
   "metadata": {
    "collapsed": false
   }
  },
  {
   "cell_type": "code",
   "execution_count": 6,
   "outputs": [],
   "source": [
    "centredKernelMutag = kernelCentralisation(pairwiseMutag)\n",
    "centredKernelEnzimes = kernelCentralisation(pairwiseEnzimes)\n",
    "centredKernelNCI1 = kernelCentralisation(pairwiseNCI1)"
   ],
   "metadata": {
    "collapsed": false
   }
  },
  {
   "cell_type": "markdown",
   "source": [
    "### 4.2.2 KernelPCA implementation"
   ],
   "metadata": {
    "collapsed": false
   }
  },
  {
   "cell_type": "code",
   "execution_count": 7,
   "outputs": [],
   "source": [
    "def kernelPCA(kernel):\n",
    "\n",
    "    eigenvalues, eigenvectors = scipy.linalg.eig(kernel)\n",
    "\n",
    "    ##Compute the transformed kernel##\n",
    "    k_transformed = eigenvectors * np.sqrt(eigenvalues)\n",
    "    return k_transformed"
   ],
   "metadata": {
    "collapsed": false
   }
  },
  {
   "cell_type": "markdown",
   "source": [
    "### 4.2.3 KernelPCA visualization"
   ],
   "metadata": {
    "collapsed": false
   }
  },
  {
   "cell_type": "code",
   "execution_count": 8,
   "outputs": [],
   "source": [
    "#Plot the sklearn version of KPCA versus our implementation of KPCA\n",
    "def kernelPCAVisualization(cKernel, y, nameSave):\n",
    "    SKkpca = KernelPCA( kernel =\"precomputed\")#Sklearn implementation\n",
    "    SKkpcaT = SKkpca.fit_transform(cKernel)\n",
    "    SKkpcaT0 = SKkpcaT[:, 0]#first component\n",
    "    SKkpcaT1 = SKkpcaT[:, 1]#second component\n",
    "\n",
    "    fig, ax = plt.subplots(1, 2, figsize=(9,7))\n",
    "    data = {\n",
    "        \"KPCA1\" : SKkpcaT0,\n",
    "        \"KPCA2\" : SKkpcaT1,\n",
    "        \"label\" : y\n",
    "    }\n",
    "    SkKpcaDF = pd.DataFrame(data)\n",
    "    sc1 = sns.scatterplot(x=\"KPCA1\", y=\"KPCA2\", data=SkKpcaDF, hue=\"label\", s=100, ax=ax[0])\n",
    "    lim = (SKkpcaT.min()-1, SKkpcaT.max()+1)\n",
    "    sc1.set(xlim=lim)\n",
    "    sc1.set(ylim=lim)\n",
    "    sc1.legend(title=\"label\", bbox_to_anchor=(1, 1.15))\n",
    "\n",
    "    kpca = kernelPCA(cKernel) #home made KPCA\n",
    "\n",
    "    kpca0 = kpca[:, 0] #first component\n",
    "    kpca1 = kpca[:, 1] #second component\n",
    "\n",
    "    HMdata = {\n",
    "        \"KPCA1\" : kpca0,\n",
    "        \"KPCA2\" : kpca1,\n",
    "        \"label\" : y\n",
    "    }\n",
    "    homemadeKPCA = pd.DataFrame(HMdata)\n",
    "    sc2 = sns.scatterplot(x=\"KPCA1\", y=\"KPCA2\", data=homemadeKPCA, hue=\"label\", s=100, ax=ax[1])\n",
    "    lim2 = (kpca.min()-1, kpca.max()+1)\n",
    "    sc2.set(xlim=lim2)\n",
    "    sc2.set(ylim=lim2)\n",
    "    sc2.legend(title=\"label\", bbox_to_anchor=(1, 1.15))\n",
    "    plt.savefig(f'{nameSave}.svg')\n",
    "    return kpca"
   ],
   "metadata": {
    "collapsed": false
   }
  },
  {
   "cell_type": "markdown",
   "source": [
    "#### KernelPCA ON MUTAG"
   ],
   "metadata": {
    "collapsed": false
   }
  },
  {
   "cell_type": "code",
   "execution_count": 9,
   "outputs": [
    {
     "name": "stderr",
     "output_type": "stream",
     "text": [
      "/home/vinc/anaconda3/lib/python3.9/site-packages/matplotlib/collections.py:200: ComplexWarning: Casting complex values to real discards the imaginary part\n",
      "  offsets = np.asanyarray(offsets, float)\n",
      "/home/vinc/anaconda3/lib/python3.9/site-packages/matplotlib/transforms.py:2877: ComplexWarning: Casting complex values to real discards the imaginary part\n",
      "  vmin, vmax = map(float, [vmin, vmax])\n"
     ]
    },
    {
     "data": {
      "text/plain": "<Figure size 648x504 with 2 Axes>",
      "image/png": "[encoded data removed]"
     },
     "metadata": {},
     "output_type": "display_data"
    }
   ],
   "source": [
    "mutKPCA = kernelPCAVisualization(centredKernelMutag, yMutag, \"KPCAMutag\")"
   ],
   "metadata": {
    "collapsed": false
   }
  },
  {
   "cell_type": "markdown",
   "source": [
    "#### KernelPCA ON ENZIMES"
   ],
   "metadata": {
    "collapsed": false
   }
  },
  {
   "cell_type": "code",
   "execution_count": 10,
   "outputs": [
    {
     "name": "stderr",
     "output_type": "stream",
     "text": [
      "/home/vinc/anaconda3/lib/python3.9/site-packages/matplotlib/collections.py:200: ComplexWarning: Casting complex values to real discards the imaginary part\n",
      "  offsets = np.asanyarray(offsets, float)\n",
      "/home/vinc/anaconda3/lib/python3.9/site-packages/matplotlib/transforms.py:2877: ComplexWarning: Casting complex values to real discards the imaginary part\n",
      "  vmin, vmax = map(float, [vmin, vmax])\n"
     ]
    },
    {
     "data": {
      "text/plain": "array([[ 1.32103179e+00+0.j, -9.55633092e+00+0.j,  4.50991423e-01+0.j,\n        ..., -1.34997793e-02+0.j,  1.57334563e-02+0.j,\n        -2.48733684e-02+0.j],\n       [ 7.99200607e+00+0.j, -1.29036092e+00+0.j,  1.59218930e+00+0.j,\n        ..., -2.65820140e-01+0.j,  2.75724199e-01+0.j,\n        -2.71457007e-01+0.j],\n       [ 8.84873454e+00+0.j, -6.20814659e+00+0.j,  3.79766325e+00+0.j,\n        ...,  4.36337808e-01+0.j,  3.16646362e-01+0.j,\n         1.18797967e-01+0.j],\n       ...,\n       [-2.13679185e+01+0.j,  4.02790010e+00+0.j, -6.11251485e+00+0.j,\n        ..., -4.42084517e-03+0.j,  1.96942732e-02+0.j,\n        -7.59677959e-03+0.j],\n       [-1.02173306e+01+0.j, -7.25852150e+00+0.j, -4.31475428e+00+0.j,\n        ..., -2.07891416e-01+0.j, -3.27841239e-02+0.j,\n        -2.43698944e-01+0.j],\n       [-8.83379333e+00+0.j, -5.00108866e+00+0.j, -3.53231050e+00+0.j,\n        ..., -6.61285686e-02+0.j,  2.35573697e-02+0.j,\n        -1.40361317e-01+0.j]])"
     },
     "execution_count": 10,
     "metadata": {},
     "output_type": "execute_result"
    },
    {
     "data": {
      "text/plain": "<Figure size 648x504 with 2 Axes>",
      "image/png": "[encoded data removed]"
     },
     "metadata": {},
     "output_type": "display_data"
    }
   ],
   "source": [
    "kernelPCAVisualization(centredKernelEnzimes, yEnzimes, \"KPCAEnzimes\")"
   ],
   "metadata": {
    "collapsed": false
   }
  },
  {
   "cell_type": "markdown",
   "source": [
    "#### KernelPCA ON NCI1"
   ],
   "metadata": {
    "collapsed": false
   }
  },
  {
   "cell_type": "code",
   "execution_count": 11,
   "outputs": [
    {
     "name": "stderr",
     "output_type": "stream",
     "text": [
      "/home/vinc/anaconda3/lib/python3.9/site-packages/matplotlib/collections.py:200: ComplexWarning: Casting complex values to real discards the imaginary part\n",
      "  offsets = np.asanyarray(offsets, float)\n",
      "/home/vinc/anaconda3/lib/python3.9/site-packages/matplotlib/transforms.py:2877: ComplexWarning: Casting complex values to real discards the imaginary part\n",
      "  vmin, vmax = map(float, [vmin, vmax])\n"
     ]
    },
    {
     "data": {
      "text/plain": "array([[-1.22827562e+01+0.j, -2.69030679e+00+0.j, -2.60689934e+00+0.j,\n        ..., -2.84312698e-01+0.j, -3.03557876e-01+0.j,\n        -5.94092729e-02+0.j],\n       [-4.05222461e+00+0.j,  3.42432104e+00+0.j,  8.42757649e-01+0.j,\n        ...,  2.59805358e-02+0.j,  1.62803346e-02+0.j,\n         4.24113665e-02+0.j],\n       [-1.14970161e+01+0.j, -2.81911385e+00+0.j, -2.76185194e+00+0.j,\n        ...,  2.04073816e-02+0.j,  1.09201483e-02+0.j,\n         1.34755719e-02+0.j],\n       ...,\n       [ 1.30488519e+01+0.j, -1.77065005e+00+0.j,  1.16135124e+00+0.j,\n        ...,  3.80085126e-02+0.j, -1.08695297e-01+0.j,\n        -3.70028598e-02+0.j],\n       [ 7.46518009e+00+0.j,  1.54591737e-01+0.j,  1.26789889e+00+0.j,\n        ...,  5.30625438e-02+0.j, -1.19199123e-01+0.j,\n         2.26979180e-02+0.j],\n       [ 7.23117687e+00+0.j, -3.04078065e+00+0.j, -1.89113737e+00+0.j,\n        ...,  3.33153022e-02+0.j,  9.18032084e-03+0.j,\n        -3.75791793e-03+0.j]])"
     },
     "execution_count": 11,
     "metadata": {},
     "output_type": "execute_result"
    },
    {
     "data": {
      "text/plain": "<Figure size 648x504 with 2 Axes>",
      "image/png": "[encoded data removed]"
     },
     "metadata": {},
     "output_type": "display_data"
    }
   ],
   "source": [
    "kernelPCAVisualization(centredKernelNCI1, yNCI1, \"KPCANCI1\")"
   ],
   "metadata": {
    "collapsed": false
   }
  },
  {
   "cell_type": "markdown",
   "source": [
    "### 4.2.4 Distance"
   ],
   "metadata": {
    "collapsed": false
   }
  },
  {
   "cell_type": "code",
   "execution_count": 12,
   "outputs": [],
   "source": [
    "import sklearn\n",
    "#compute euclidean distance\n",
    "def pairWiseDistance(data1):\n",
    "\n",
    "    mat= sklearn.metrics.pairwise.pairwise_distances(data1, metric='euclidean')\n",
    "\n",
    "    return mat\n",
    "\n",
    "PWMutag = pairWiseDistance(pairwiseMutag)"
   ],
   "metadata": {
    "collapsed": false
   }
  },
  {
   "cell_type": "code",
   "execution_count": 13,
   "outputs": [],
   "source": [
    "# k(G1,G2) + k(G2, G2) - 2k(G1,G2)\n",
    "#home made computation of the formula in the project description\n",
    "def homeMadePairWiseDistance(data):\n",
    "\n",
    "    distMatrix = np.empty((len(data), len(data)))\n",
    "\n",
    "    for x in range(data.shape[0]):\n",
    "        for y in range(data.shape[1]):\n",
    "            dist = np.sqrt((data[x] @ data[x]) - 2 * (data[x]@data[y]) + (data[y]@data[y]))\n",
    "            distMatrix[x][y] = dist\n",
    "\n",
    "    return distMatrix"
   ],
   "metadata": {
    "collapsed": false
   }
  },
  {
   "cell_type": "code",
   "execution_count": 14,
   "outputs": [],
   "source": [
    "euclideanMutag = homeMadePairWiseDistance(pairwiseMutag)\n",
    "euclideanEnzimes = homeMadePairWiseDistance(pairwiseEnzimes)\n",
    "euclideanNCI1 = homeMadePairWiseDistance(pairwiseNCI1)"
   ],
   "metadata": {
    "collapsed": false
   }
  },
  {
   "cell_type": "markdown",
   "source": [
    "### 4.2.5 tSNE"
   ],
   "metadata": {
    "collapsed": false
   }
  },
  {
   "cell_type": "code",
   "execution_count": 15,
   "outputs": [],
   "source": [
    "#compute and plot the tsne on a euclidean distance\n",
    "def tsneEvaluation(euclideanDistance, y, nameSave):\n",
    "    XEmbedded = TSNE(n_components=2, n_iter=2000,n_jobs=-1,random_state=1).fit_transform(euclideanDistance)\n",
    "\n",
    "    X1 = XEmbedded[:,0]\n",
    "    X2 = XEmbedded[:,1]\n",
    "    fig = plt.figure(figsize=(9,7))\n",
    "    data = {\n",
    "        \"tsne1\" : X1,\n",
    "        \"tsne2\" : X2,\n",
    "        \"label\" : y\n",
    "    }\n",
    "    tsneDF = pd.DataFrame(data)\n",
    "    sc = sns.scatterplot(x=\"tsne1\", y=\"tsne2\", data=tsneDF, hue=\"label\", s=100)\n",
    "    lim = (XEmbedded.min()-1, XEmbedded.max()+1)\n",
    "    sc.set(xlim=lim)\n",
    "    sc.set(ylim=lim)\n",
    "    sc.legend(title=\"label\",bbox_to_anchor= (1.1,1))\n",
    "    plt.savefig(f'{nameSave}.svg')\n",
    "    return tsneDF"
   ],
   "metadata": {
    "collapsed": false
   }
  },
  {
   "cell_type": "code",
   "execution_count": 16,
   "outputs": [
    {
     "name": "stderr",
     "output_type": "stream",
     "text": [
      "/home/vinc/anaconda3/lib/python3.9/site-packages/sklearn/manifold/_t_sne.py:780: FutureWarning: The default initialization in TSNE will change from 'random' to 'pca' in 1.2.\n",
      "  warnings.warn(\n",
      "/home/vinc/anaconda3/lib/python3.9/site-packages/sklearn/manifold/_t_sne.py:790: FutureWarning: The default learning rate in TSNE will change from 200.0 to 'auto' in 1.2.\n",
      "  warnings.warn(\n"
     ]
    },
    {
     "data": {
      "text/plain": "        tsne1      tsne2  label\n0   -1.524918  -5.154937      1\n1   -0.378056   9.466198     -1\n2   -0.376892   9.405074     -1\n3   -1.413328 -11.726961      1\n4   -0.561212  16.570425     -1\n..        ...        ...    ...\n183 -1.704629 -13.265930      1\n184 -0.123449  14.111461     -1\n185 -0.643627  11.873374     -1\n186 -1.909573 -15.804037      1\n187 -0.482550   3.325300     -1\n\n[188 rows x 3 columns]",
      "text/html": "<div>\n<style scoped>\n    .dataframe tbody tr th:only-of-type {\n        vertical-align: middle;\n    }\n\n    .dataframe tbody tr th {\n        vertical-align: top;\n    }\n\n    .dataframe thead th {\n        text-align: right;\n    }\n</style>\n<table border=\"1\" class=\"dataframe\">\n  <thead>\n    <tr style=\"text-align: right;\">\n      <th></th>\n      <th>tsne1</th>\n      <th>tsne2</th>\n      <th>label</th>\n    </tr>\n  </thead>\n  <tbody>\n    <tr>\n      <th>0</th>\n      <td>-1.524918</td>\n      <td>-5.154937</td>\n      <td>1</td>\n    </tr>\n    <tr>\n      <th>1</th>\n      <td>-0.378056</td>\n      <td>9.466198</td>\n      <td>-1</td>\n    </tr>\n    <tr>\n      <th>2</th>\n      <td>-0.376892</td>\n      <td>9.405074</td>\n      <td>-1</td>\n    </tr>\n    <tr>\n      <th>3</th>\n      <td>-1.413328</td>\n      <td>-11.726961</td>\n      <td>1</td>\n    </tr>\n    <tr>\n      <th>4</th>\n      <td>-0.561212</td>\n      <td>16.570425</td>\n      <td>-1</td>\n    </tr>\n    <tr>\n      <th>...</th>\n      <td>...</td>\n      <td>...</td>\n      <td>...</td>\n    </tr>\n    <tr>\n      <th>183</th>\n      <td>-1.704629</td>\n      <td>-13.265930</td>\n      <td>1</td>\n    </tr>\n    <tr>\n      <th>184</th>\n      <td>-0.123449</td>\n      <td>14.111461</td>\n      <td>-1</td>\n    </tr>\n    <tr>\n      <th>185</th>\n      <td>-0.643627</td>\n      <td>11.873374</td>\n      <td>-1</td>\n    </tr>\n    <tr>\n      <th>186</th>\n      <td>-1.909573</td>\n      <td>-15.804037</td>\n      <td>1</td>\n    </tr>\n    <tr>\n      <th>187</th>\n      <td>-0.482550</td>\n      <td>3.325300</td>\n      <td>-1</td>\n    </tr>\n  </tbody>\n</table>\n<p>188 rows × 3 columns</p>\n</div>"
     },
     "execution_count": 16,
     "metadata": {},
     "output_type": "execute_result"
    },
    {
     "data": {
      "text/plain": "<Figure size 648x504 with 1 Axes>",
      "image/png": "[encoded data removed]"
     },
     "metadata": {},
     "output_type": "display_data"
    }
   ],
   "source": [
    "tsneEvaluation(euclideanMutag, yMutag, \"TsneMutag\")"
   ],
   "metadata": {
    "collapsed": false
   }
  },
  {
   "cell_type": "code",
   "execution_count": 17,
   "outputs": [
    {
     "name": "stderr",
     "output_type": "stream",
     "text": [
      "/home/vinc/anaconda3/lib/python3.9/site-packages/sklearn/manifold/_t_sne.py:780: FutureWarning: The default initialization in TSNE will change from 'random' to 'pca' in 1.2.\n",
      "  warnings.warn(\n",
      "/home/vinc/anaconda3/lib/python3.9/site-packages/sklearn/manifold/_t_sne.py:790: FutureWarning: The default learning rate in TSNE will change from 200.0 to 'auto' in 1.2.\n",
      "  warnings.warn(\n"
     ]
    },
    {
     "data": {
      "text/plain": "         tsne1      tsne2  label\n0   -10.907502   7.017141      6\n1    -0.923756 -17.841063      6\n2    -2.208361 -13.770142      6\n3    -1.257489 -15.175149      6\n4     0.095232 -15.876461      6\n..         ...        ...    ...\n595   5.735246  30.758896      4\n596   9.521043  36.867573      4\n597  11.576115  39.193520      4\n598   5.893955  35.623158      4\n599   2.399500  32.071430      4\n\n[600 rows x 3 columns]",
      "text/html": "<div>\n<style scoped>\n    .dataframe tbody tr th:only-of-type {\n        vertical-align: middle;\n    }\n\n    .dataframe tbody tr th {\n        vertical-align: top;\n    }\n\n    .dataframe thead th {\n        text-align: right;\n    }\n</style>\n<table border=\"1\" class=\"dataframe\">\n  <thead>\n    <tr style=\"text-align: right;\">\n      <th></th>\n      <th>tsne1</th>\n      <th>tsne2</th>\n      <th>label</th>\n    </tr>\n  </thead>\n  <tbody>\n    <tr>\n      <th>0</th>\n      <td>-10.907502</td>\n      <td>7.017141</td>\n      <td>6</td>\n    </tr>\n    <tr>\n      <th>1</th>\n      <td>-0.923756</td>\n      <td>-17.841063</td>\n      <td>6</td>\n    </tr>\n    <tr>\n      <th>2</th>\n      <td>-2.208361</td>\n      <td>-13.770142</td>\n      <td>6</td>\n    </tr>\n    <tr>\n      <th>3</th>\n      <td>-1.257489</td>\n      <td>-15.175149</td>\n      <td>6</td>\n    </tr>\n    <tr>\n      <th>4</th>\n      <td>0.095232</td>\n      <td>-15.876461</td>\n      <td>6</td>\n    </tr>\n    <tr>\n      <th>...</th>\n      <td>...</td>\n      <td>...</td>\n      <td>...</td>\n    </tr>\n    <tr>\n      <th>595</th>\n      <td>5.735246</td>\n      <td>30.758896</td>\n      <td>4</td>\n    </tr>\n    <tr>\n      <th>596</th>\n      <td>9.521043</td>\n      <td>36.867573</td>\n      <td>4</td>\n    </tr>\n    <tr>\n      <th>597</th>\n      <td>11.576115</td>\n      <td>39.193520</td>\n      <td>4</td>\n    </tr>\n    <tr>\n      <th>598</th>\n      <td>5.893955</td>\n      <td>35.623158</td>\n      <td>4</td>\n    </tr>\n    <tr>\n      <th>599</th>\n      <td>2.399500</td>\n      <td>32.071430</td>\n      <td>4</td>\n    </tr>\n  </tbody>\n</table>\n<p>600 rows × 3 columns</p>\n</div>"
     },
     "execution_count": 17,
     "metadata": {},
     "output_type": "execute_result"
    },
    {
     "data": {
      "text/plain": "<Figure size 648x504 with 1 Axes>",
      "image/png": "[encoded data removed]"
     },
     "metadata": {},
     "output_type": "display_data"
    }
   ],
   "source": [
    "tsneEvaluation(euclideanEnzimes, yEnzimes, \"TsneEnzimes\")"
   ],
   "metadata": {
    "collapsed": false
   }
  },
  {
   "cell_type": "code",
   "execution_count": 18,
   "outputs": [
    {
     "name": "stderr",
     "output_type": "stream",
     "text": [
      "/home/vinc/anaconda3/lib/python3.9/site-packages/sklearn/manifold/_t_sne.py:780: FutureWarning: The default initialization in TSNE will change from 'random' to 'pca' in 1.2.\n",
      "  warnings.warn(\n",
      "/home/vinc/anaconda3/lib/python3.9/site-packages/sklearn/manifold/_t_sne.py:790: FutureWarning: The default learning rate in TSNE will change from 200.0 to 'auto' in 1.2.\n",
      "  warnings.warn(\n"
     ]
    },
    {
     "data": {
      "text/plain": "          tsne1      tsne2  label\n0     61.801548 -27.305462      0\n1    -20.630005  62.999607      0\n2     40.627247 -31.708109      0\n3     17.755238  40.623741      0\n4     19.163836 -28.273151      0\n...         ...        ...    ...\n4105  59.243015  51.173664      1\n4106  14.411552  40.475315      1\n4107 -29.785410 -11.700851      1\n4108 -27.072626 -64.527962      1\n4109 -26.146280 -63.854523      1\n\n[4110 rows x 3 columns]",
      "text/html": "<div>\n<style scoped>\n    .dataframe tbody tr th:only-of-type {\n        vertical-align: middle;\n    }\n\n    .dataframe tbody tr th {\n        vertical-align: top;\n    }\n\n    .dataframe thead th {\n        text-align: right;\n    }\n</style>\n<table border=\"1\" class=\"dataframe\">\n  <thead>\n    <tr style=\"text-align: right;\">\n      <th></th>\n      <th>tsne1</th>\n      <th>tsne2</th>\n      <th>label</th>\n    </tr>\n  </thead>\n  <tbody>\n    <tr>\n      <th>0</th>\n      <td>61.801548</td>\n      <td>-27.305462</td>\n      <td>0</td>\n    </tr>\n    <tr>\n      <th>1</th>\n      <td>-20.630005</td>\n      <td>62.999607</td>\n      <td>0</td>\n    </tr>\n    <tr>\n      <th>2</th>\n      <td>40.627247</td>\n      <td>-31.708109</td>\n      <td>0</td>\n    </tr>\n    <tr>\n      <th>3</th>\n      <td>17.755238</td>\n      <td>40.623741</td>\n      <td>0</td>\n    </tr>\n    <tr>\n      <th>4</th>\n      <td>19.163836</td>\n      <td>-28.273151</td>\n      <td>0</td>\n    </tr>\n    <tr>\n      <th>...</th>\n      <td>...</td>\n      <td>...</td>\n      <td>...</td>\n    </tr>\n    <tr>\n      <th>4105</th>\n      <td>59.243015</td>\n      <td>51.173664</td>\n      <td>1</td>\n    </tr>\n    <tr>\n      <th>4106</th>\n      <td>14.411552</td>\n      <td>40.475315</td>\n      <td>1</td>\n    </tr>\n    <tr>\n      <th>4107</th>\n      <td>-29.785410</td>\n      <td>-11.700851</td>\n      <td>1</td>\n    </tr>\n    <tr>\n      <th>4108</th>\n      <td>-27.072626</td>\n      <td>-64.527962</td>\n      <td>1</td>\n    </tr>\n    <tr>\n      <th>4109</th>\n      <td>-26.146280</td>\n      <td>-63.854523</td>\n      <td>1</td>\n    </tr>\n  </tbody>\n</table>\n<p>4110 rows × 3 columns</p>\n</div>"
     },
     "execution_count": 18,
     "metadata": {},
     "output_type": "execute_result"
    },
    {
     "data": {
      "text/plain": "<Figure size 648x504 with 1 Axes>",
      "image/png": "[encoded data removed]"
     },
     "metadata": {},
     "output_type": "display_data"
    }
   ],
   "source": [
    "tsneEvaluation(euclideanNCI1, yNCI1, \"TsneNCI1\")"
   ],
   "metadata": {
    "collapsed": false
   }
  },
  {
   "cell_type": "markdown",
   "source": [
    "### 4.2.6 Comparison"
   ],
   "metadata": {
    "collapsed": false
   }
  },
  {
   "cell_type": "code",
   "execution_count": 16,
   "outputs": [],
   "source": [
    "#to complete in the report"
   ],
   "metadata": {
    "collapsed": false
   }
  },
  {
   "cell_type": "markdown",
   "source": [
    "## 4.3 Classification"
   ],
   "metadata": {
    "collapsed": false
   }
  },
  {
   "cell_type": "markdown",
   "source": [
    "### 4.3.1 A simple baseline"
   ],
   "metadata": {
    "collapsed": false
   }
  },
  {
   "cell_type": "code",
   "execution_count": 17,
   "outputs": [],
   "source": [
    "from sklearn.dummy import DummyClassifier"
   ],
   "metadata": {
    "collapsed": false
   }
  },
  {
   "cell_type": "code",
   "execution_count": 18,
   "outputs": [],
   "source": [
    "#Find the best constant model of a graph\n",
    "def constantModel(graph, y, constantStrategy):\n",
    "    wl = WeisfeilerLehman(n_iter=10, base_graph_kernel=VertexHistogram,normalize=False)\n",
    "    X_train, X_test, y_train, y_test = train_test_split(graph, y, test_size=0.20, random_state=1, shuffle=True)\n",
    "    wlTrain = wl.fit_transform(X_train)\n",
    "    wlTest = wl.transform(X_test)\n",
    "    bestDummy = (0, 0)\n",
    "    for i in constantStrategy:\n",
    "        dummyCLF = DummyClassifier(strategy=\"constant\",random_state=1, constant=i)\n",
    "        dummyCLF.fit(wlTrain, y_train)\n",
    "        score = dummyCLF.score(wlTest, y_test)\n",
    "        if score > bestDummy[1]:\n",
    "            bestDummy = (i, score)\n",
    "    return bestDummy\n"
   ],
   "metadata": {
    "collapsed": false
   }
  },
  {
   "cell_type": "code",
   "execution_count": 19,
   "outputs": [
    {
     "name": "stdout",
     "output_type": "stream",
     "text": [
      "(1, 0.7631578947368421)\n"
     ]
    }
   ],
   "source": [
    "mutagDummy = constantModel(GMutag, yMutag, [1, -1])\n",
    "print(mutagDummy)"
   ],
   "metadata": {
    "collapsed": false
   }
  },
  {
   "cell_type": "code",
   "execution_count": 20,
   "outputs": [
    {
     "name": "stdout",
     "output_type": "stream",
     "text": [
      "(3, 0.21666666666666667)\n"
     ]
    }
   ],
   "source": [
    "enzimesDummy = constantModel(GEnzimes, yEnzimes, [1, 2, 3, 4, 5, 6])\n",
    "print(enzimesDummy)"
   ],
   "metadata": {
    "collapsed": false
   }
  },
  {
   "cell_type": "code",
   "execution_count": 21,
   "outputs": [
    {
     "name": "stdout",
     "output_type": "stream",
     "text": [
      "(1, 0.5036496350364964)\n"
     ]
    }
   ],
   "source": [
    "NCI1Dummy = constantModel(GNCI1, yNCI1, [0, 1])\n",
    "print(NCI1Dummy)"
   ],
   "metadata": {
    "collapsed": false
   }
  },
  {
   "cell_type": "markdown",
   "source": [
    "### 4.3.2 Support Vector Machine (SVM)"
   ],
   "metadata": {
    "collapsed": false
   }
  },
  {
   "cell_type": "code",
   "execution_count": 33,
   "outputs": [],
   "source": [
    "C = 1e2\n",
    "H = 3\n",
    "#test the accuracy of classification of a svm on the WeisfeilerLehman pairwise kernel\n",
    "def assessAccuracy(graph, y, H, C):\n",
    "\n",
    "    wl = WeisfeilerLehman(n_iter=H, base_graph_kernel=VertexHistogram)\n",
    "    X_train, X_test, y_train, y_test = train_test_split(graph, y, test_size=0.20, random_state=1, shuffle=True)\n",
    "\n",
    "    wlTrain = wl.fit_transform(X_train)\n",
    "    wlTest = wl.transform(X_test)\n",
    "    clf = SVC(kernel=\"precomputed\", C=C)\n",
    "    clf.fit(wlTrain, y_train)\n",
    "    ypred = clf.predict(wlTest)\n",
    "    acc = accuracy_score(y_test, ypred)\n",
    "    print(\"Accuracy:\", str(round(acc*100, 2)) + \"%\")\n",
    "\n",
    "    return acc, X_train, y_train, X_test, y_test\n",
    "\n"
   ],
   "metadata": {
    "collapsed": false
   }
  },
  {
   "cell_type": "code",
   "execution_count": 34,
   "outputs": [
    {
     "name": "stdout",
     "output_type": "stream",
     "text": [
      "Accuracy: 92.11%\n",
      "Accuracy: 55.0%\n",
      "Accuracy: 82.0%\n"
     ]
    }
   ],
   "source": [
    "accMutag, trainMutag, y_trainMutag, testMutag, y_testMutag = assessAccuracy(GMutag, yMutag, H, C)\n",
    "accEnzimes, trainEnzimes, y_trainEnzimes, testEnzimes, y_testEnzimes = assessAccuracy(GEnzimes, yEnzimes, H, C)\n",
    "accNCI1, trainNCI1, y_trainNCI1, testNCI1, y_testNCI1 = assessAccuracy(GNCI1, yNCI1, H, C)"
   ],
   "metadata": {
    "collapsed": false
   }
  },
  {
   "cell_type": "markdown",
   "source": [
    "### 4.3.3 Hyperparameters selection"
   ],
   "metadata": {
    "collapsed": false
   }
  },
  {
   "cell_type": "code",
   "execution_count": 24,
   "outputs": [],
   "source": [
    "C = [1e-5, 1e-4, 1e-3, 1e-2, 1e-1, 1e0, 1e1, 1e2, 1e3, 1e4]\n",
    "H = [i for i in range(1, 11, 1)]\n",
    "#tuning the hyperparameters of the svm with cross validation of 10 folds\n",
    "def bestParams(X_train, y, H, C):\n",
    "    bestAcc = 0\n",
    "    bestP = (0, 0)\n",
    "    for i in range(len(H)):\n",
    "        for j in range(len(C)):\n",
    "            print(f'ieme iteration {i}: H={H[i]}, C={C[j]}')\n",
    "            wl = WeisfeilerLehman(n_iter=H[i], base_graph_kernel=VertexHistogram,normalize=False)\n",
    "            wlTrain = wl.fit_transform(X_train)\n",
    "            acc = cross_val_score(SVC(kernel=\"precomputed\", C=C[j], random_state=1), wlTrain, y, cv=10, n_jobs=-1, verbose=3)\n",
    "            #print(np.mean(acc))\n",
    "            #print(bestAcc)\n",
    "            if np.mean(acc) > bestAcc:\n",
    "                bestAcc = np.mean(acc)\n",
    "                bestP = (H[i], C[j])\n",
    "\n",
    "    return bestP, bestAcc"
   ],
   "metadata": {
    "collapsed": false
   }
  },
  {
   "cell_type": "code",
   "execution_count": 25,
   "outputs": [
    {
     "name": "stdout",
     "output_type": "stream",
     "text": [
      "ieme iteration 0: H=1, C=1e-05\n"
     ]
    },
    {
     "name": "stderr",
     "output_type": "stream",
     "text": [
      "[Parallel(n_jobs=-1)]: Using backend LokyBackend with 12 concurrent workers.\n",
      "/home/vinc/anaconda3/lib/python3.9/site-packages/scipy/__init__.py:146: UserWarning: A NumPy version >=1.16.5 and <1.23.0 is required for this version of SciPy (detected version 1.23.4\n",
      "  warnings.warn(f\"A NumPy version >={np_minversion} and <{np_maxversion}\"\n",
      "/home/vinc/anaconda3/lib/python3.9/site-packages/scipy/__init__.py:146: UserWarning: A NumPy version >=1.16.5 and <1.23.0 is required for this version of SciPy (detected version 1.23.4\n",
      "  warnings.warn(f\"A NumPy version >={np_minversion} and <{np_maxversion}\"\n",
      "/home/vinc/anaconda3/lib/python3.9/site-packages/scipy/__init__.py:146: UserWarning: A NumPy version >=1.16.5 and <1.23.0 is required for this version of SciPy (detected version 1.23.4\n",
      "  warnings.warn(f\"A NumPy version >={np_minversion} and <{np_maxversion}\"\n",
      "/home/vinc/anaconda3/lib/python3.9/site-packages/scipy/__init__.py:146: UserWarning: A NumPy version >=1.16.5 and <1.23.0 is required for this version of SciPy (detected version 1.23.4\n",
      "  warnings.warn(f\"A NumPy version >={np_minversion} and <{np_maxversion}\"\n",
      "/home/vinc/anaconda3/lib/python3.9/site-packages/scipy/__init__.py:146: UserWarning: A NumPy version >=1.16.5 and <1.23.0 is required for this version of SciPy (detected version 1.23.4\n",
      "  warnings.warn(f\"A NumPy version >={np_minversion} and <{np_maxversion}\"\n",
      "/home/vinc/anaconda3/lib/python3.9/site-packages/scipy/__init__.py:146: UserWarning: A NumPy version >=1.16.5 and <1.23.0 is required for this version of SciPy (detected version 1.23.4\n",
      "  warnings.warn(f\"A NumPy version >={np_minversion} and <{np_maxversion}\"\n",
      "/home/vinc/anaconda3/lib/python3.9/site-packages/scipy/__init__.py:146: UserWarning: A NumPy version >=1.16.5 and <1.23.0 is required for this version of SciPy (detected version 1.23.4\n",
      "  warnings.warn(f\"A NumPy version >={np_minversion} and <{np_maxversion}\"\n",
      "/home/vinc/anaconda3/lib/python3.9/site-packages/scipy/__init__.py:146: UserWarning: A NumPy version >=1.16.5 and <1.23.0 is required for this version of SciPy (detected version 1.23.4\n",
      "  warnings.warn(f\"A NumPy version >={np_minversion} and <{np_maxversion}\"\n",
      "/home/vinc/anaconda3/lib/python3.9/site-packages/scipy/__init__.py:146: UserWarning: A NumPy version >=1.16.5 and <1.23.0 is required for this version of SciPy (detected version 1.23.4\n",
      "  warnings.warn(f\"A NumPy version >={np_minversion} and <{np_maxversion}\"\n",
      "/home/vinc/anaconda3/lib/python3.9/site-packages/scipy/__init__.py:146: UserWarning: A NumPy version >=1.16.5 and <1.23.0 is required for this version of SciPy (detected version 1.23.4\n",
      "  warnings.warn(f\"A NumPy version >={np_minversion} and <{np_maxversion}\"\n",
      "[Parallel(n_jobs=-1)]: Done   3 out of  10 | elapsed:    1.0s remaining:    2.4s\n",
      "[Parallel(n_jobs=-1)]: Done   7 out of  10 | elapsed:    1.1s remaining:    0.5s\n",
      "[Parallel(n_jobs=-1)]: Done  10 out of  10 | elapsed:    1.2s finished\n",
      "[Parallel(n_jobs=-1)]: Using backend LokyBackend with 12 concurrent workers.\n",
      "[Parallel(n_jobs=-1)]: Done   3 out of  10 | elapsed:    0.0s remaining:    0.0s\n",
      "/home/vinc/anaconda3/lib/python3.9/site-packages/scipy/__init__.py:146: UserWarning: A NumPy version >=1.16.5 and <1.23.0 is required for this version of SciPy (detected version 1.23.4\n",
      "  warnings.warn(f\"A NumPy version >={np_minversion} and <{np_maxversion}\"\n",
      "/home/vinc/anaconda3/lib/python3.9/site-packages/scipy/__init__.py:146: UserWarning: A NumPy version >=1.16.5 and <1.23.0 is required for this version of SciPy (detected version 1.23.4\n",
      "  warnings.warn(f\"A NumPy version >={np_minversion} and <{np_maxversion}\"\n",
      "[Parallel(n_jobs=-1)]: Done   7 out of  10 | elapsed:    0.0s remaining:    0.0s\n"
     ]
    },
    {
     "name": "stdout",
     "output_type": "stream",
     "text": [
      "ieme iteration 0: H=1, C=0.0001\n"
     ]
    },
    {
     "name": "stderr",
     "output_type": "stream",
     "text": [
      "[Parallel(n_jobs=-1)]: Done  10 out of  10 | elapsed:    0.2s finished\n",
      "[Parallel(n_jobs=-1)]: Using backend LokyBackend with 12 concurrent workers.\n",
      "[Parallel(n_jobs=-1)]: Done   3 out of  10 | elapsed:    0.0s remaining:    0.0s\n",
      "[Parallel(n_jobs=-1)]: Done   7 out of  10 | elapsed:    0.0s remaining:    0.0s\n",
      "[Parallel(n_jobs=-1)]: Done  10 out of  10 | elapsed:    0.0s finished\n",
      "[Parallel(n_jobs=-1)]: Using backend LokyBackend with 12 concurrent workers.\n",
      "[Parallel(n_jobs=-1)]: Done   3 out of  10 | elapsed:    0.0s remaining:    0.0s\n",
      "[Parallel(n_jobs=-1)]: Done   7 out of  10 | elapsed:    0.0s remaining:    0.0s\n",
      "[Parallel(n_jobs=-1)]: Done  10 out of  10 | elapsed:    0.0s finished\n",
      "[Parallel(n_jobs=-1)]: Using backend LokyBackend with 12 concurrent workers.\n",
      "[Parallel(n_jobs=-1)]: Done   3 out of  10 | elapsed:    0.0s remaining:    0.0s\n",
      "[Parallel(n_jobs=-1)]: Done   7 out of  10 | elapsed:    0.0s remaining:    0.0s\n",
      "[Parallel(n_jobs=-1)]: Done  10 out of  10 | elapsed:    0.0s finished\n",
      "[Parallel(n_jobs=-1)]: Using backend LokyBackend with 12 concurrent workers.\n",
      "[Parallel(n_jobs=-1)]: Done   3 out of  10 | elapsed:    0.0s remaining:    0.0s\n",
      "[Parallel(n_jobs=-1)]: Done   7 out of  10 | elapsed:    0.0s remaining:    0.0s\n",
      "[Parallel(n_jobs=-1)]: Done  10 out of  10 | elapsed:    0.0s finished\n",
      "[Parallel(n_jobs=-1)]: Using backend LokyBackend with 12 concurrent workers.\n",
      "[Parallel(n_jobs=-1)]: Done   3 out of  10 | elapsed:    0.0s remaining:    0.0s\n",
      "[Parallel(n_jobs=-1)]: Done   7 out of  10 | elapsed:    0.0s remaining:    0.0s\n",
      "[Parallel(n_jobs=-1)]: Done  10 out of  10 | elapsed:    0.0s finished\n"
     ]
    },
    {
     "name": "stdout",
     "output_type": "stream",
     "text": [
      "ieme iteration 0: H=1, C=0.001\n",
      "ieme iteration 0: H=1, C=0.01\n",
      "ieme iteration 0: H=1, C=0.1\n",
      "ieme iteration 0: H=1, C=1.0\n",
      "ieme iteration 0: H=1, C=10.0\n",
      "ieme iteration 0: H=1, C=100.0\n"
     ]
    },
    {
     "name": "stderr",
     "output_type": "stream",
     "text": [
      "[Parallel(n_jobs=-1)]: Using backend LokyBackend with 12 concurrent workers.\n",
      "[Parallel(n_jobs=-1)]: Done   3 out of  10 | elapsed:    0.0s remaining:    0.1s\n",
      "[Parallel(n_jobs=-1)]: Done   7 out of  10 | elapsed:    0.0s remaining:    0.0s\n",
      "[Parallel(n_jobs=-1)]: Done  10 out of  10 | elapsed:    0.1s finished\n",
      "[Parallel(n_jobs=-1)]: Using backend LokyBackend with 12 concurrent workers.\n"
     ]
    },
    {
     "name": "stdout",
     "output_type": "stream",
     "text": [
      "ieme iteration 0: H=1, C=1000.0\n",
      "ieme iteration 0: H=1, C=10000.0\n"
     ]
    },
    {
     "name": "stderr",
     "output_type": "stream",
     "text": [
      "[Parallel(n_jobs=-1)]: Done   3 out of  10 | elapsed:    0.1s remaining:    0.2s\n",
      "[Parallel(n_jobs=-1)]: Done   7 out of  10 | elapsed:    0.1s remaining:    0.0s\n",
      "[Parallel(n_jobs=-1)]: Done  10 out of  10 | elapsed:    0.2s finished\n",
      "[Parallel(n_jobs=-1)]: Using backend LokyBackend with 12 concurrent workers.\n",
      "[Parallel(n_jobs=-1)]: Done   3 out of  10 | elapsed:    0.5s remaining:    1.1s\n",
      "[Parallel(n_jobs=-1)]: Done   7 out of  10 | elapsed:    0.6s remaining:    0.3s\n",
      "[Parallel(n_jobs=-1)]: Done  10 out of  10 | elapsed:    0.9s finished\n",
      "[Parallel(n_jobs=-1)]: Using backend LokyBackend with 12 concurrent workers.\n",
      "[Parallel(n_jobs=-1)]: Done   3 out of  10 | elapsed:    0.0s remaining:    0.0s\n",
      "[Parallel(n_jobs=-1)]: Done   7 out of  10 | elapsed:    0.0s remaining:    0.0s\n",
      "[Parallel(n_jobs=-1)]: Done  10 out of  10 | elapsed:    0.0s finished\n",
      "[Parallel(n_jobs=-1)]: Using backend LokyBackend with 12 concurrent workers.\n",
      "[Parallel(n_jobs=-1)]: Done   3 out of  10 | elapsed:    0.0s remaining:    0.0s\n",
      "[Parallel(n_jobs=-1)]: Done   7 out of  10 | elapsed:    0.0s remaining:    0.0s\n",
      "[Parallel(n_jobs=-1)]: Done  10 out of  10 | elapsed:    0.0s finished\n",
      "[Parallel(n_jobs=-1)]: Using backend LokyBackend with 12 concurrent workers.\n",
      "[Parallel(n_jobs=-1)]: Done   3 out of  10 | elapsed:    0.0s remaining:    0.0s\n",
      "[Parallel(n_jobs=-1)]: Done   7 out of  10 | elapsed:    0.0s remaining:    0.0s\n",
      "[Parallel(n_jobs=-1)]: Done  10 out of  10 | elapsed:    0.0s finished\n",
      "[Parallel(n_jobs=-1)]: Using backend LokyBackend with 12 concurrent workers.\n",
      "[Parallel(n_jobs=-1)]: Done   3 out of  10 | elapsed:    0.0s remaining:    0.0s\n",
      "[Parallel(n_jobs=-1)]: Done   7 out of  10 | elapsed:    0.0s remaining:    0.0s\n",
      "[Parallel(n_jobs=-1)]: Done  10 out of  10 | elapsed:    0.0s finished\n",
      "[Parallel(n_jobs=-1)]: Using backend LokyBackend with 12 concurrent workers.\n",
      "[Parallel(n_jobs=-1)]: Done   3 out of  10 | elapsed:    0.0s remaining:    0.0s\n"
     ]
    },
    {
     "name": "stdout",
     "output_type": "stream",
     "text": [
      "ieme iteration 1: H=2, C=1e-05\n",
      "ieme iteration 1: H=2, C=0.0001\n",
      "ieme iteration 1: H=2, C=0.001\n",
      "ieme iteration 1: H=2, C=0.01\n",
      "ieme iteration 1: H=2, C=0.1\n",
      "ieme iteration 1: H=2, C=1.0\n"
     ]
    },
    {
     "name": "stderr",
     "output_type": "stream",
     "text": [
      "[Parallel(n_jobs=-1)]: Done   7 out of  10 | elapsed:    0.0s remaining:    0.0s\n",
      "[Parallel(n_jobs=-1)]: Done  10 out of  10 | elapsed:    0.0s finished\n",
      "[Parallel(n_jobs=-1)]: Using backend LokyBackend with 12 concurrent workers.\n",
      "[Parallel(n_jobs=-1)]: Done   3 out of  10 | elapsed:    0.0s remaining:    0.0s\n",
      "[Parallel(n_jobs=-1)]: Done   7 out of  10 | elapsed:    0.0s remaining:    0.0s\n",
      "[Parallel(n_jobs=-1)]: Done  10 out of  10 | elapsed:    0.0s finished\n",
      "[Parallel(n_jobs=-1)]: Using backend LokyBackend with 12 concurrent workers.\n",
      "[Parallel(n_jobs=-1)]: Done   3 out of  10 | elapsed:    0.0s remaining:    0.0s\n",
      "[Parallel(n_jobs=-1)]: Done   7 out of  10 | elapsed:    0.0s remaining:    0.0s\n",
      "[Parallel(n_jobs=-1)]: Done  10 out of  10 | elapsed:    0.0s finished\n",
      "[Parallel(n_jobs=-1)]: Using backend LokyBackend with 12 concurrent workers.\n",
      "[Parallel(n_jobs=-1)]: Done   3 out of  10 | elapsed:    0.0s remaining:    0.0s\n",
      "[Parallel(n_jobs=-1)]: Done   7 out of  10 | elapsed:    0.0s remaining:    0.0s\n",
      "[Parallel(n_jobs=-1)]: Done  10 out of  10 | elapsed:    0.0s finished\n",
      "[Parallel(n_jobs=-1)]: Using backend LokyBackend with 12 concurrent workers.\n",
      "[Parallel(n_jobs=-1)]: Done   3 out of  10 | elapsed:    0.0s remaining:    0.0s\n",
      "[Parallel(n_jobs=-1)]: Done   7 out of  10 | elapsed:    0.0s remaining:    0.0s\n"
     ]
    },
    {
     "name": "stdout",
     "output_type": "stream",
     "text": [
      "ieme iteration 1: H=2, C=10.0\n",
      "ieme iteration 1: H=2, C=100.0\n",
      "ieme iteration 1: H=2, C=1000.0\n",
      "ieme iteration 1: H=2, C=10000.0\n"
     ]
    },
    {
     "name": "stderr",
     "output_type": "stream",
     "text": [
      "[Parallel(n_jobs=-1)]: Done  10 out of  10 | elapsed:    0.0s finished\n",
      "[Parallel(n_jobs=-1)]: Using backend LokyBackend with 12 concurrent workers.\n",
      "[Parallel(n_jobs=-1)]: Done   3 out of  10 | elapsed:    0.0s remaining:    0.0s\n",
      "[Parallel(n_jobs=-1)]: Done   7 out of  10 | elapsed:    0.1s remaining:    0.1s\n",
      "[Parallel(n_jobs=-1)]: Done  10 out of  10 | elapsed:    0.1s finished\n"
     ]
    },
    {
     "name": "stdout",
     "output_type": "stream",
     "text": [
      "ieme iteration 2: H=3, C=1e-05\n",
      "ieme iteration 2: H=3, C=0.0001\n",
      "ieme iteration 2: H=3, C=0.001\n",
      "ieme iteration 2: H=3, C=0.01\n",
      "ieme iteration 2: H=3, C=0.1\n"
     ]
    },
    {
     "name": "stderr",
     "output_type": "stream",
     "text": [
      "[Parallel(n_jobs=-1)]: Using backend LokyBackend with 12 concurrent workers.\n",
      "[Parallel(n_jobs=-1)]: Done   3 out of  10 | elapsed:    0.0s remaining:    0.0s\n",
      "[Parallel(n_jobs=-1)]: Done   7 out of  10 | elapsed:    0.0s remaining:    0.0s\n",
      "[Parallel(n_jobs=-1)]: Done  10 out of  10 | elapsed:    0.0s finished\n",
      "[Parallel(n_jobs=-1)]: Using backend LokyBackend with 12 concurrent workers.\n",
      "[Parallel(n_jobs=-1)]: Done   3 out of  10 | elapsed:    0.0s remaining:    0.0s\n",
      "[Parallel(n_jobs=-1)]: Done   7 out of  10 | elapsed:    0.0s remaining:    0.0s\n",
      "[Parallel(n_jobs=-1)]: Done  10 out of  10 | elapsed:    0.0s finished\n",
      "[Parallel(n_jobs=-1)]: Using backend LokyBackend with 12 concurrent workers.\n",
      "[Parallel(n_jobs=-1)]: Done   3 out of  10 | elapsed:    0.0s remaining:    0.0s\n",
      "[Parallel(n_jobs=-1)]: Done   7 out of  10 | elapsed:    0.0s remaining:    0.0s\n",
      "[Parallel(n_jobs=-1)]: Done  10 out of  10 | elapsed:    0.0s finished\n",
      "[Parallel(n_jobs=-1)]: Using backend LokyBackend with 12 concurrent workers.\n",
      "[Parallel(n_jobs=-1)]: Done   3 out of  10 | elapsed:    0.0s remaining:    0.0s\n",
      "[Parallel(n_jobs=-1)]: Done   7 out of  10 | elapsed:    0.0s remaining:    0.0s\n",
      "[Parallel(n_jobs=-1)]: Done  10 out of  10 | elapsed:    0.0s finished\n",
      "[Parallel(n_jobs=-1)]: Using backend LokyBackend with 12 concurrent workers.\n",
      "[Parallel(n_jobs=-1)]: Done   3 out of  10 | elapsed:    0.0s remaining:    0.0s\n",
      "[Parallel(n_jobs=-1)]: Done   7 out of  10 | elapsed:    0.0s remaining:    0.0s\n",
      "[Parallel(n_jobs=-1)]: Done  10 out of  10 | elapsed:    0.0s finished\n",
      "[Parallel(n_jobs=-1)]: Using backend LokyBackend with 12 concurrent workers.\n",
      "[Parallel(n_jobs=-1)]: Done   3 out of  10 | elapsed:    0.0s remaining:    0.0s\n",
      "[Parallel(n_jobs=-1)]: Done   7 out of  10 | elapsed:    0.0s remaining:    0.0s\n",
      "[Parallel(n_jobs=-1)]: Done  10 out of  10 | elapsed:    0.0s finished\n",
      "[Parallel(n_jobs=-1)]: Using backend LokyBackend with 12 concurrent workers.\n",
      "[Parallel(n_jobs=-1)]: Done   3 out of  10 | elapsed:    0.0s remaining:    0.0s\n",
      "[Parallel(n_jobs=-1)]: Done   7 out of  10 | elapsed:    0.0s remaining:    0.0s\n",
      "[Parallel(n_jobs=-1)]: Done  10 out of  10 | elapsed:    0.0s finished\n",
      "[Parallel(n_jobs=-1)]: Using backend LokyBackend with 12 concurrent workers.\n",
      "[Parallel(n_jobs=-1)]: Done   3 out of  10 | elapsed:    0.0s remaining:    0.0s\n",
      "[Parallel(n_jobs=-1)]: Done   7 out of  10 | elapsed:    0.0s remaining:    0.0s\n",
      "[Parallel(n_jobs=-1)]: Done  10 out of  10 | elapsed:    0.0s finished\n",
      "[Parallel(n_jobs=-1)]: Using backend LokyBackend with 12 concurrent workers.\n",
      "[Parallel(n_jobs=-1)]: Done   3 out of  10 | elapsed:    0.0s remaining:    0.0s\n",
      "[Parallel(n_jobs=-1)]: Done   7 out of  10 | elapsed:    0.0s remaining:    0.0s\n",
      "[Parallel(n_jobs=-1)]: Done  10 out of  10 | elapsed:    0.0s finished\n"
     ]
    },
    {
     "name": "stdout",
     "output_type": "stream",
     "text": [
      "ieme iteration 2: H=3, C=1.0\n",
      "ieme iteration 2: H=3, C=10.0\n",
      "ieme iteration 2: H=3, C=100.0\n",
      "ieme iteration 2: H=3, C=1000.0\n",
      "ieme iteration 2: H=3, C=10000.0\n"
     ]
    },
    {
     "name": "stderr",
     "output_type": "stream",
     "text": [
      "[Parallel(n_jobs=-1)]: Using backend LokyBackend with 12 concurrent workers.\n",
      "[Parallel(n_jobs=-1)]: Done   3 out of  10 | elapsed:    0.0s remaining:    0.0s\n",
      "[Parallel(n_jobs=-1)]: Done   7 out of  10 | elapsed:    0.0s remaining:    0.0s\n",
      "[Parallel(n_jobs=-1)]: Done  10 out of  10 | elapsed:    0.0s finished\n",
      "[Parallel(n_jobs=-1)]: Using backend LokyBackend with 12 concurrent workers.\n",
      "[Parallel(n_jobs=-1)]: Done   3 out of  10 | elapsed:    0.0s remaining:    0.0s\n",
      "[Parallel(n_jobs=-1)]: Done   7 out of  10 | elapsed:    0.0s remaining:    0.0s\n",
      "[Parallel(n_jobs=-1)]: Done  10 out of  10 | elapsed:    0.0s finished\n",
      "[Parallel(n_jobs=-1)]: Using backend LokyBackend with 12 concurrent workers.\n",
      "[Parallel(n_jobs=-1)]: Done   3 out of  10 | elapsed:    0.0s remaining:    0.0s\n",
      "[Parallel(n_jobs=-1)]: Done   7 out of  10 | elapsed:    0.0s remaining:    0.0s\n",
      "[Parallel(n_jobs=-1)]: Done  10 out of  10 | elapsed:    0.0s finished\n",
      "[Parallel(n_jobs=-1)]: Using backend LokyBackend with 12 concurrent workers.\n",
      "[Parallel(n_jobs=-1)]: Done   3 out of  10 | elapsed:    0.0s remaining:    0.0s\n",
      "[Parallel(n_jobs=-1)]: Done   7 out of  10 | elapsed:    0.0s remaining:    0.0s\n",
      "[Parallel(n_jobs=-1)]: Done  10 out of  10 | elapsed:    0.0s finished\n"
     ]
    },
    {
     "name": "stdout",
     "output_type": "stream",
     "text": [
      "ieme iteration 3: H=4, C=1e-05\n",
      "ieme iteration 3: H=4, C=0.0001\n",
      "ieme iteration 3: H=4, C=0.001\n",
      "ieme iteration 3: H=4, C=0.01\n"
     ]
    },
    {
     "name": "stderr",
     "output_type": "stream",
     "text": [
      "[Parallel(n_jobs=-1)]: Using backend LokyBackend with 12 concurrent workers.\n",
      "[Parallel(n_jobs=-1)]: Done   3 out of  10 | elapsed:    0.0s remaining:    0.0s\n",
      "[Parallel(n_jobs=-1)]: Done   7 out of  10 | elapsed:    0.0s remaining:    0.0s\n",
      "[Parallel(n_jobs=-1)]: Done  10 out of  10 | elapsed:    0.0s finished\n",
      "[Parallel(n_jobs=-1)]: Using backend LokyBackend with 12 concurrent workers.\n",
      "[Parallel(n_jobs=-1)]: Done   3 out of  10 | elapsed:    0.0s remaining:    0.0s\n",
      "[Parallel(n_jobs=-1)]: Done   7 out of  10 | elapsed:    0.0s remaining:    0.0s\n",
      "[Parallel(n_jobs=-1)]: Done  10 out of  10 | elapsed:    0.0s finished\n",
      "[Parallel(n_jobs=-1)]: Using backend LokyBackend with 12 concurrent workers.\n",
      "[Parallel(n_jobs=-1)]: Done   3 out of  10 | elapsed:    0.0s remaining:    0.0s\n",
      "[Parallel(n_jobs=-1)]: Done   7 out of  10 | elapsed:    0.0s remaining:    0.0s\n",
      "[Parallel(n_jobs=-1)]: Done  10 out of  10 | elapsed:    0.0s finished\n",
      "[Parallel(n_jobs=-1)]: Using backend LokyBackend with 12 concurrent workers.\n",
      "[Parallel(n_jobs=-1)]: Done   3 out of  10 | elapsed:    0.0s remaining:    0.0s\n",
      "[Parallel(n_jobs=-1)]: Done   7 out of  10 | elapsed:    0.0s remaining:    0.0s\n",
      "[Parallel(n_jobs=-1)]: Done  10 out of  10 | elapsed:    0.0s finished\n"
     ]
    },
    {
     "name": "stdout",
     "output_type": "stream",
     "text": [
      "ieme iteration 3: H=4, C=0.1\n",
      "ieme iteration 3: H=4, C=1.0\n",
      "ieme iteration 3: H=4, C=10.0\n",
      "ieme iteration 3: H=4, C=100.0\n"
     ]
    },
    {
     "name": "stderr",
     "output_type": "stream",
     "text": [
      "[Parallel(n_jobs=-1)]: Using backend LokyBackend with 12 concurrent workers.\n",
      "[Parallel(n_jobs=-1)]: Done   3 out of  10 | elapsed:    0.0s remaining:    0.0s\n",
      "[Parallel(n_jobs=-1)]: Done   7 out of  10 | elapsed:    0.0s remaining:    0.0s\n",
      "[Parallel(n_jobs=-1)]: Done  10 out of  10 | elapsed:    0.0s finished\n",
      "[Parallel(n_jobs=-1)]: Using backend LokyBackend with 12 concurrent workers.\n",
      "[Parallel(n_jobs=-1)]: Done   3 out of  10 | elapsed:    0.0s remaining:    0.0s\n",
      "[Parallel(n_jobs=-1)]: Done   7 out of  10 | elapsed:    0.0s remaining:    0.0s\n",
      "[Parallel(n_jobs=-1)]: Done  10 out of  10 | elapsed:    0.0s finished\n",
      "[Parallel(n_jobs=-1)]: Using backend LokyBackend with 12 concurrent workers.\n",
      "[Parallel(n_jobs=-1)]: Done   3 out of  10 | elapsed:    0.0s remaining:    0.0s\n",
      "[Parallel(n_jobs=-1)]: Done   7 out of  10 | elapsed:    0.0s remaining:    0.0s\n",
      "[Parallel(n_jobs=-1)]: Done  10 out of  10 | elapsed:    0.0s finished\n",
      "[Parallel(n_jobs=-1)]: Using backend LokyBackend with 12 concurrent workers.\n",
      "[Parallel(n_jobs=-1)]: Done   3 out of  10 | elapsed:    0.0s remaining:    0.0s\n",
      "[Parallel(n_jobs=-1)]: Done   7 out of  10 | elapsed:    0.0s remaining:    0.0s\n"
     ]
    },
    {
     "name": "stdout",
     "output_type": "stream",
     "text": [
      "ieme iteration 3: H=4, C=1000.0\n",
      "ieme iteration 3: H=4, C=10000.0\n",
      "ieme iteration 4: H=5, C=1e-05\n",
      "ieme iteration 4: H=5, C=0.0001\n"
     ]
    },
    {
     "name": "stderr",
     "output_type": "stream",
     "text": [
      "[Parallel(n_jobs=-1)]: Done  10 out of  10 | elapsed:    0.0s finished\n",
      "[Parallel(n_jobs=-1)]: Using backend LokyBackend with 12 concurrent workers.\n",
      "[Parallel(n_jobs=-1)]: Done   3 out of  10 | elapsed:    0.0s remaining:    0.0s\n",
      "[Parallel(n_jobs=-1)]: Done   7 out of  10 | elapsed:    0.0s remaining:    0.0s\n",
      "[Parallel(n_jobs=-1)]: Done  10 out of  10 | elapsed:    0.0s finished\n",
      "[Parallel(n_jobs=-1)]: Using backend LokyBackend with 12 concurrent workers.\n",
      "[Parallel(n_jobs=-1)]: Done   3 out of  10 | elapsed:    0.0s remaining:    0.0s\n",
      "[Parallel(n_jobs=-1)]: Done   7 out of  10 | elapsed:    0.0s remaining:    0.0s\n",
      "[Parallel(n_jobs=-1)]: Done  10 out of  10 | elapsed:    0.0s finished\n",
      "[Parallel(n_jobs=-1)]: Using backend LokyBackend with 12 concurrent workers.\n",
      "[Parallel(n_jobs=-1)]: Done   3 out of  10 | elapsed:    0.0s remaining:    0.0s\n",
      "[Parallel(n_jobs=-1)]: Done   7 out of  10 | elapsed:    0.0s remaining:    0.0s\n",
      "[Parallel(n_jobs=-1)]: Done  10 out of  10 | elapsed:    0.0s finished\n"
     ]
    },
    {
     "name": "stdout",
     "output_type": "stream",
     "text": [
      "ieme iteration 4: H=5, C=0.001\n",
      "ieme iteration 4: H=5, C=0.01\n",
      "ieme iteration 4: H=5, C=0.1\n"
     ]
    },
    {
     "name": "stderr",
     "output_type": "stream",
     "text": [
      "[Parallel(n_jobs=-1)]: Using backend LokyBackend with 12 concurrent workers.\n",
      "[Parallel(n_jobs=-1)]: Done   3 out of  10 | elapsed:    0.0s remaining:    0.0s\n",
      "[Parallel(n_jobs=-1)]: Done   7 out of  10 | elapsed:    0.0s remaining:    0.0s\n",
      "[Parallel(n_jobs=-1)]: Done  10 out of  10 | elapsed:    0.0s finished\n",
      "[Parallel(n_jobs=-1)]: Using backend LokyBackend with 12 concurrent workers.\n",
      "[Parallel(n_jobs=-1)]: Done   3 out of  10 | elapsed:    0.0s remaining:    0.0s\n",
      "[Parallel(n_jobs=-1)]: Done   7 out of  10 | elapsed:    0.0s remaining:    0.0s\n",
      "[Parallel(n_jobs=-1)]: Done  10 out of  10 | elapsed:    0.0s finished\n",
      "[Parallel(n_jobs=-1)]: Using backend LokyBackend with 12 concurrent workers.\n",
      "[Parallel(n_jobs=-1)]: Done   3 out of  10 | elapsed:    0.0s remaining:    0.0s\n",
      "[Parallel(n_jobs=-1)]: Done   7 out of  10 | elapsed:    0.0s remaining:    0.0s\n",
      "[Parallel(n_jobs=-1)]: Done  10 out of  10 | elapsed:    0.0s finished\n"
     ]
    },
    {
     "name": "stdout",
     "output_type": "stream",
     "text": [
      "ieme iteration 4: H=5, C=1.0\n",
      "ieme iteration 4: H=5, C=10.0\n",
      "ieme iteration 4: H=5, C=100.0\n",
      "ieme iteration 4: H=5, C=1000.0\n"
     ]
    },
    {
     "name": "stderr",
     "output_type": "stream",
     "text": [
      "[Parallel(n_jobs=-1)]: Using backend LokyBackend with 12 concurrent workers.\n",
      "[Parallel(n_jobs=-1)]: Done   3 out of  10 | elapsed:    0.0s remaining:    0.0s\n",
      "[Parallel(n_jobs=-1)]: Done   7 out of  10 | elapsed:    0.0s remaining:    0.0s\n",
      "[Parallel(n_jobs=-1)]: Done  10 out of  10 | elapsed:    0.0s finished\n",
      "[Parallel(n_jobs=-1)]: Using backend LokyBackend with 12 concurrent workers.\n",
      "[Parallel(n_jobs=-1)]: Done   3 out of  10 | elapsed:    0.0s remaining:    0.0s\n",
      "[Parallel(n_jobs=-1)]: Done   7 out of  10 | elapsed:    0.0s remaining:    0.0s\n",
      "[Parallel(n_jobs=-1)]: Done  10 out of  10 | elapsed:    0.0s finished\n",
      "[Parallel(n_jobs=-1)]: Using backend LokyBackend with 12 concurrent workers.\n",
      "[Parallel(n_jobs=-1)]: Done   3 out of  10 | elapsed:    0.0s remaining:    0.0s\n",
      "[Parallel(n_jobs=-1)]: Done   7 out of  10 | elapsed:    0.0s remaining:    0.0s\n",
      "[Parallel(n_jobs=-1)]: Done  10 out of  10 | elapsed:    0.0s finished\n"
     ]
    },
    {
     "name": "stdout",
     "output_type": "stream",
     "text": [
      "ieme iteration 4: H=5, C=10000.0\n",
      "ieme iteration 5: H=6, C=1e-05\n",
      "ieme iteration 5: H=6, C=0.0001\n"
     ]
    },
    {
     "name": "stderr",
     "output_type": "stream",
     "text": [
      "[Parallel(n_jobs=-1)]: Using backend LokyBackend with 12 concurrent workers.\n",
      "[Parallel(n_jobs=-1)]: Done   3 out of  10 | elapsed:    0.0s remaining:    0.0s\n",
      "[Parallel(n_jobs=-1)]: Done   7 out of  10 | elapsed:    0.0s remaining:    0.0s\n",
      "[Parallel(n_jobs=-1)]: Done  10 out of  10 | elapsed:    0.0s finished\n",
      "[Parallel(n_jobs=-1)]: Using backend LokyBackend with 12 concurrent workers.\n",
      "[Parallel(n_jobs=-1)]: Done   3 out of  10 | elapsed:    0.0s remaining:    0.0s\n",
      "[Parallel(n_jobs=-1)]: Done   7 out of  10 | elapsed:    0.0s remaining:    0.0s\n",
      "[Parallel(n_jobs=-1)]: Done  10 out of  10 | elapsed:    0.0s finished\n",
      "[Parallel(n_jobs=-1)]: Using backend LokyBackend with 12 concurrent workers.\n",
      "[Parallel(n_jobs=-1)]: Done   3 out of  10 | elapsed:    0.0s remaining:    0.0s\n",
      "[Parallel(n_jobs=-1)]: Done   7 out of  10 | elapsed:    0.0s remaining:    0.0s\n",
      "[Parallel(n_jobs=-1)]: Done  10 out of  10 | elapsed:    0.0s finished\n"
     ]
    },
    {
     "name": "stdout",
     "output_type": "stream",
     "text": [
      "ieme iteration 5: H=6, C=0.001\n",
      "ieme iteration 5: H=6, C=0.01\n",
      "ieme iteration 5: H=6, C=0.1\n"
     ]
    },
    {
     "name": "stderr",
     "output_type": "stream",
     "text": [
      "[Parallel(n_jobs=-1)]: Using backend LokyBackend with 12 concurrent workers.\n",
      "[Parallel(n_jobs=-1)]: Done   3 out of  10 | elapsed:    0.0s remaining:    0.0s\n",
      "[Parallel(n_jobs=-1)]: Done   7 out of  10 | elapsed:    0.0s remaining:    0.0s\n",
      "[Parallel(n_jobs=-1)]: Done  10 out of  10 | elapsed:    0.0s finished\n",
      "[Parallel(n_jobs=-1)]: Using backend LokyBackend with 12 concurrent workers.\n",
      "[Parallel(n_jobs=-1)]: Done   3 out of  10 | elapsed:    0.0s remaining:    0.0s\n",
      "[Parallel(n_jobs=-1)]: Done   7 out of  10 | elapsed:    0.0s remaining:    0.0s\n",
      "[Parallel(n_jobs=-1)]: Done  10 out of  10 | elapsed:    0.0s finished\n",
      "[Parallel(n_jobs=-1)]: Using backend LokyBackend with 12 concurrent workers.\n",
      "[Parallel(n_jobs=-1)]: Done   3 out of  10 | elapsed:    0.0s remaining:    0.0s\n",
      "[Parallel(n_jobs=-1)]: Done   7 out of  10 | elapsed:    0.0s remaining:    0.0s\n",
      "[Parallel(n_jobs=-1)]: Done  10 out of  10 | elapsed:    0.0s finished\n"
     ]
    },
    {
     "name": "stdout",
     "output_type": "stream",
     "text": [
      "ieme iteration 5: H=6, C=1.0\n",
      "ieme iteration 5: H=6, C=10.0\n",
      "ieme iteration 5: H=6, C=100.0\n"
     ]
    },
    {
     "name": "stderr",
     "output_type": "stream",
     "text": [
      "[Parallel(n_jobs=-1)]: Using backend LokyBackend with 12 concurrent workers.\n",
      "[Parallel(n_jobs=-1)]: Done   3 out of  10 | elapsed:    0.0s remaining:    0.0s\n",
      "[Parallel(n_jobs=-1)]: Done   7 out of  10 | elapsed:    0.0s remaining:    0.0s\n",
      "[Parallel(n_jobs=-1)]: Done  10 out of  10 | elapsed:    0.0s finished\n",
      "[Parallel(n_jobs=-1)]: Using backend LokyBackend with 12 concurrent workers.\n",
      "[Parallel(n_jobs=-1)]: Done   3 out of  10 | elapsed:    0.0s remaining:    0.0s\n",
      "[Parallel(n_jobs=-1)]: Done   7 out of  10 | elapsed:    0.0s remaining:    0.0s\n",
      "[Parallel(n_jobs=-1)]: Done  10 out of  10 | elapsed:    0.0s finished\n",
      "[Parallel(n_jobs=-1)]: Using backend LokyBackend with 12 concurrent workers.\n",
      "[Parallel(n_jobs=-1)]: Done   3 out of  10 | elapsed:    0.0s remaining:    0.0s\n",
      "[Parallel(n_jobs=-1)]: Done   7 out of  10 | elapsed:    0.0s remaining:    0.0s\n",
      "[Parallel(n_jobs=-1)]: Done  10 out of  10 | elapsed:    0.0s finished\n"
     ]
    },
    {
     "name": "stdout",
     "output_type": "stream",
     "text": [
      "ieme iteration 5: H=6, C=1000.0\n",
      "ieme iteration 5: H=6, C=10000.0\n",
      "ieme iteration 6: H=7, C=1e-05\n"
     ]
    },
    {
     "name": "stderr",
     "output_type": "stream",
     "text": [
      "[Parallel(n_jobs=-1)]: Using backend LokyBackend with 12 concurrent workers.\n",
      "[Parallel(n_jobs=-1)]: Done   3 out of  10 | elapsed:    0.0s remaining:    0.0s\n",
      "[Parallel(n_jobs=-1)]: Done   7 out of  10 | elapsed:    0.0s remaining:    0.0s\n",
      "[Parallel(n_jobs=-1)]: Done  10 out of  10 | elapsed:    0.0s finished\n",
      "[Parallel(n_jobs=-1)]: Using backend LokyBackend with 12 concurrent workers.\n",
      "[Parallel(n_jobs=-1)]: Done   3 out of  10 | elapsed:    0.0s remaining:    0.0s\n",
      "[Parallel(n_jobs=-1)]: Done   7 out of  10 | elapsed:    0.0s remaining:    0.0s\n",
      "[Parallel(n_jobs=-1)]: Done  10 out of  10 | elapsed:    0.0s finished\n",
      "[Parallel(n_jobs=-1)]: Using backend LokyBackend with 12 concurrent workers.\n",
      "[Parallel(n_jobs=-1)]: Done   3 out of  10 | elapsed:    0.0s remaining:    0.0s\n",
      "[Parallel(n_jobs=-1)]: Done   7 out of  10 | elapsed:    0.0s remaining:    0.0s\n",
      "[Parallel(n_jobs=-1)]: Done  10 out of  10 | elapsed:    0.0s finished\n"
     ]
    },
    {
     "name": "stdout",
     "output_type": "stream",
     "text": [
      "ieme iteration 6: H=7, C=0.0001\n",
      "ieme iteration 6: H=7, C=0.001\n",
      "ieme iteration 6: H=7, C=0.01\n"
     ]
    },
    {
     "name": "stderr",
     "output_type": "stream",
     "text": [
      "[Parallel(n_jobs=-1)]: Using backend LokyBackend with 12 concurrent workers.\n",
      "[Parallel(n_jobs=-1)]: Done   3 out of  10 | elapsed:    0.0s remaining:    0.0s\n",
      "[Parallel(n_jobs=-1)]: Done   7 out of  10 | elapsed:    0.0s remaining:    0.0s\n",
      "[Parallel(n_jobs=-1)]: Done  10 out of  10 | elapsed:    0.0s finished\n",
      "[Parallel(n_jobs=-1)]: Using backend LokyBackend with 12 concurrent workers.\n",
      "[Parallel(n_jobs=-1)]: Done   3 out of  10 | elapsed:    0.0s remaining:    0.0s\n",
      "[Parallel(n_jobs=-1)]: Done   7 out of  10 | elapsed:    0.0s remaining:    0.0s\n",
      "[Parallel(n_jobs=-1)]: Done  10 out of  10 | elapsed:    0.0s finished\n",
      "[Parallel(n_jobs=-1)]: Using backend LokyBackend with 12 concurrent workers.\n",
      "[Parallel(n_jobs=-1)]: Done   3 out of  10 | elapsed:    0.0s remaining:    0.0s\n",
      "[Parallel(n_jobs=-1)]: Done   7 out of  10 | elapsed:    0.0s remaining:    0.0s\n"
     ]
    },
    {
     "name": "stdout",
     "output_type": "stream",
     "text": [
      "ieme iteration 6: H=7, C=0.1\n",
      "ieme iteration 6: H=7, C=1.0\n",
      "ieme iteration 6: H=7, C=10.0\n"
     ]
    },
    {
     "name": "stderr",
     "output_type": "stream",
     "text": [
      "[Parallel(n_jobs=-1)]: Done  10 out of  10 | elapsed:    0.0s finished\n",
      "[Parallel(n_jobs=-1)]: Using backend LokyBackend with 12 concurrent workers.\n",
      "[Parallel(n_jobs=-1)]: Done   3 out of  10 | elapsed:    0.0s remaining:    0.0s\n",
      "[Parallel(n_jobs=-1)]: Done   7 out of  10 | elapsed:    0.0s remaining:    0.0s\n",
      "[Parallel(n_jobs=-1)]: Done  10 out of  10 | elapsed:    0.0s finished\n",
      "[Parallel(n_jobs=-1)]: Using backend LokyBackend with 12 concurrent workers.\n",
      "[Parallel(n_jobs=-1)]: Done   3 out of  10 | elapsed:    0.0s remaining:    0.0s\n",
      "[Parallel(n_jobs=-1)]: Done   7 out of  10 | elapsed:    0.0s remaining:    0.0s\n",
      "[Parallel(n_jobs=-1)]: Done  10 out of  10 | elapsed:    0.0s finished\n"
     ]
    },
    {
     "name": "stdout",
     "output_type": "stream",
     "text": [
      "ieme iteration 6: H=7, C=100.0\n",
      "ieme iteration 6: H=7, C=1000.0\n",
      "ieme iteration 6: H=7, C=10000.0\n"
     ]
    },
    {
     "name": "stderr",
     "output_type": "stream",
     "text": [
      "[Parallel(n_jobs=-1)]: Using backend LokyBackend with 12 concurrent workers.\n",
      "[Parallel(n_jobs=-1)]: Done   3 out of  10 | elapsed:    0.0s remaining:    0.0s\n",
      "[Parallel(n_jobs=-1)]: Done   7 out of  10 | elapsed:    0.0s remaining:    0.0s\n",
      "[Parallel(n_jobs=-1)]: Done  10 out of  10 | elapsed:    0.0s finished\n",
      "[Parallel(n_jobs=-1)]: Using backend LokyBackend with 12 concurrent workers.\n",
      "[Parallel(n_jobs=-1)]: Done   3 out of  10 | elapsed:    0.0s remaining:    0.0s\n",
      "[Parallel(n_jobs=-1)]: Done   7 out of  10 | elapsed:    0.0s remaining:    0.0s\n",
      "[Parallel(n_jobs=-1)]: Done  10 out of  10 | elapsed:    0.0s finished\n",
      "[Parallel(n_jobs=-1)]: Using backend LokyBackend with 12 concurrent workers.\n",
      "[Parallel(n_jobs=-1)]: Done   3 out of  10 | elapsed:    0.0s remaining:    0.0s\n",
      "[Parallel(n_jobs=-1)]: Done   7 out of  10 | elapsed:    0.0s remaining:    0.0s\n",
      "[Parallel(n_jobs=-1)]: Done  10 out of  10 | elapsed:    0.0s finished\n"
     ]
    },
    {
     "name": "stdout",
     "output_type": "stream",
     "text": [
      "ieme iteration 7: H=8, C=1e-05\n",
      "ieme iteration 7: H=8, C=0.0001\n",
      "ieme iteration 7: H=8, C=0.001\n"
     ]
    },
    {
     "name": "stderr",
     "output_type": "stream",
     "text": [
      "[Parallel(n_jobs=-1)]: Using backend LokyBackend with 12 concurrent workers.\n",
      "[Parallel(n_jobs=-1)]: Done   3 out of  10 | elapsed:    0.0s remaining:    0.0s\n",
      "[Parallel(n_jobs=-1)]: Done   7 out of  10 | elapsed:    0.0s remaining:    0.0s\n",
      "[Parallel(n_jobs=-1)]: Done  10 out of  10 | elapsed:    0.0s finished\n",
      "[Parallel(n_jobs=-1)]: Using backend LokyBackend with 12 concurrent workers.\n",
      "[Parallel(n_jobs=-1)]: Done   3 out of  10 | elapsed:    0.0s remaining:    0.0s\n",
      "[Parallel(n_jobs=-1)]: Done   7 out of  10 | elapsed:    0.0s remaining:    0.0s\n",
      "[Parallel(n_jobs=-1)]: Done  10 out of  10 | elapsed:    0.0s finished\n",
      "[Parallel(n_jobs=-1)]: Using backend LokyBackend with 12 concurrent workers.\n",
      "[Parallel(n_jobs=-1)]: Done   3 out of  10 | elapsed:    0.0s remaining:    0.0s\n",
      "[Parallel(n_jobs=-1)]: Done   7 out of  10 | elapsed:    0.0s remaining:    0.0s\n",
      "[Parallel(n_jobs=-1)]: Done  10 out of  10 | elapsed:    0.0s finished\n"
     ]
    },
    {
     "name": "stdout",
     "output_type": "stream",
     "text": [
      "ieme iteration 7: H=8, C=0.01\n",
      "ieme iteration 7: H=8, C=0.1\n",
      "ieme iteration 7: H=8, C=1.0\n"
     ]
    },
    {
     "name": "stderr",
     "output_type": "stream",
     "text": [
      "[Parallel(n_jobs=-1)]: Using backend LokyBackend with 12 concurrent workers.\n",
      "[Parallel(n_jobs=-1)]: Done   3 out of  10 | elapsed:    0.0s remaining:    0.0s\n",
      "[Parallel(n_jobs=-1)]: Done   7 out of  10 | elapsed:    0.0s remaining:    0.0s\n",
      "[Parallel(n_jobs=-1)]: Done  10 out of  10 | elapsed:    0.0s finished\n",
      "[Parallel(n_jobs=-1)]: Using backend LokyBackend with 12 concurrent workers.\n",
      "[Parallel(n_jobs=-1)]: Done   3 out of  10 | elapsed:    0.0s remaining:    0.0s\n",
      "[Parallel(n_jobs=-1)]: Done   7 out of  10 | elapsed:    0.0s remaining:    0.0s\n",
      "[Parallel(n_jobs=-1)]: Done  10 out of  10 | elapsed:    0.0s finished\n",
      "[Parallel(n_jobs=-1)]: Using backend LokyBackend with 12 concurrent workers.\n",
      "[Parallel(n_jobs=-1)]: Done   3 out of  10 | elapsed:    0.0s remaining:    0.0s\n",
      "[Parallel(n_jobs=-1)]: Done   7 out of  10 | elapsed:    0.0s remaining:    0.0s\n",
      "[Parallel(n_jobs=-1)]: Done  10 out of  10 | elapsed:    0.0s finished\n"
     ]
    },
    {
     "name": "stdout",
     "output_type": "stream",
     "text": [
      "ieme iteration 7: H=8, C=10.0\n",
      "ieme iteration 7: H=8, C=100.0\n",
      "ieme iteration 7: H=8, C=1000.0\n"
     ]
    },
    {
     "name": "stderr",
     "output_type": "stream",
     "text": [
      "[Parallel(n_jobs=-1)]: Using backend LokyBackend with 12 concurrent workers.\n",
      "[Parallel(n_jobs=-1)]: Done   3 out of  10 | elapsed:    0.0s remaining:    0.0s\n",
      "[Parallel(n_jobs=-1)]: Done   7 out of  10 | elapsed:    0.0s remaining:    0.0s\n",
      "[Parallel(n_jobs=-1)]: Done  10 out of  10 | elapsed:    0.0s finished\n",
      "[Parallel(n_jobs=-1)]: Using backend LokyBackend with 12 concurrent workers.\n",
      "[Parallel(n_jobs=-1)]: Done   3 out of  10 | elapsed:    0.0s remaining:    0.0s\n",
      "[Parallel(n_jobs=-1)]: Done   7 out of  10 | elapsed:    0.0s remaining:    0.0s\n",
      "[Parallel(n_jobs=-1)]: Done  10 out of  10 | elapsed:    0.0s finished\n",
      "[Parallel(n_jobs=-1)]: Using backend LokyBackend with 12 concurrent workers.\n",
      "[Parallel(n_jobs=-1)]: Done   3 out of  10 | elapsed:    0.0s remaining:    0.0s\n",
      "[Parallel(n_jobs=-1)]: Done   7 out of  10 | elapsed:    0.0s remaining:    0.0s\n",
      "[Parallel(n_jobs=-1)]: Done  10 out of  10 | elapsed:    0.0s finished\n"
     ]
    },
    {
     "name": "stdout",
     "output_type": "stream",
     "text": [
      "ieme iteration 7: H=8, C=10000.0\n",
      "ieme iteration 8: H=9, C=1e-05\n",
      "ieme iteration 8: H=9, C=0.0001\n"
     ]
    },
    {
     "name": "stderr",
     "output_type": "stream",
     "text": [
      "[Parallel(n_jobs=-1)]: Using backend LokyBackend with 12 concurrent workers.\n",
      "[Parallel(n_jobs=-1)]: Done   3 out of  10 | elapsed:    0.0s remaining:    0.0s\n",
      "[Parallel(n_jobs=-1)]: Done   7 out of  10 | elapsed:    0.0s remaining:    0.0s\n",
      "[Parallel(n_jobs=-1)]: Done  10 out of  10 | elapsed:    0.0s finished\n",
      "[Parallel(n_jobs=-1)]: Using backend LokyBackend with 12 concurrent workers.\n",
      "[Parallel(n_jobs=-1)]: Done   3 out of  10 | elapsed:    0.0s remaining:    0.0s\n",
      "[Parallel(n_jobs=-1)]: Done   7 out of  10 | elapsed:    0.0s remaining:    0.0s\n",
      "[Parallel(n_jobs=-1)]: Done  10 out of  10 | elapsed:    0.0s finished\n",
      "[Parallel(n_jobs=-1)]: Using backend LokyBackend with 12 concurrent workers.\n",
      "[Parallel(n_jobs=-1)]: Done   3 out of  10 | elapsed:    0.0s remaining:    0.0s\n",
      "[Parallel(n_jobs=-1)]: Done   7 out of  10 | elapsed:    0.0s remaining:    0.0s\n",
      "[Parallel(n_jobs=-1)]: Done  10 out of  10 | elapsed:    0.0s finished\n",
      "[Parallel(n_jobs=-1)]: Using backend LokyBackend with 12 concurrent workers.\n",
      "[Parallel(n_jobs=-1)]: Done   3 out of  10 | elapsed:    0.0s remaining:    0.0s\n",
      "[Parallel(n_jobs=-1)]: Done   7 out of  10 | elapsed:    0.0s remaining:    0.0s\n",
      "[Parallel(n_jobs=-1)]: Done  10 out of  10 | elapsed:    0.0s finished\n"
     ]
    },
    {
     "name": "stdout",
     "output_type": "stream",
     "text": [
      "ieme iteration 8: H=9, C=0.001\n",
      "ieme iteration 8: H=9, C=0.01\n"
     ]
    },
    {
     "name": "stderr",
     "output_type": "stream",
     "text": [
      "[Parallel(n_jobs=-1)]: Using backend LokyBackend with 12 concurrent workers.\n",
      "[Parallel(n_jobs=-1)]: Done   3 out of  10 | elapsed:    0.0s remaining:    0.0s\n",
      "[Parallel(n_jobs=-1)]: Done   7 out of  10 | elapsed:    0.0s remaining:    0.0s\n",
      "[Parallel(n_jobs=-1)]: Done  10 out of  10 | elapsed:    0.0s finished\n",
      "[Parallel(n_jobs=-1)]: Using backend LokyBackend with 12 concurrent workers.\n",
      "[Parallel(n_jobs=-1)]: Done   3 out of  10 | elapsed:    0.0s remaining:    0.0s\n",
      "[Parallel(n_jobs=-1)]: Done   7 out of  10 | elapsed:    0.0s remaining:    0.0s\n",
      "[Parallel(n_jobs=-1)]: Done  10 out of  10 | elapsed:    0.0s finished\n"
     ]
    },
    {
     "name": "stdout",
     "output_type": "stream",
     "text": [
      "ieme iteration 8: H=9, C=0.1\n",
      "ieme iteration 8: H=9, C=1.0\n",
      "ieme iteration 8: H=9, C=10.0\n"
     ]
    },
    {
     "name": "stderr",
     "output_type": "stream",
     "text": [
      "[Parallel(n_jobs=-1)]: Using backend LokyBackend with 12 concurrent workers.\n",
      "[Parallel(n_jobs=-1)]: Done   3 out of  10 | elapsed:    0.0s remaining:    0.0s\n",
      "[Parallel(n_jobs=-1)]: Done   7 out of  10 | elapsed:    0.0s remaining:    0.0s\n",
      "[Parallel(n_jobs=-1)]: Done  10 out of  10 | elapsed:    0.0s finished\n",
      "[Parallel(n_jobs=-1)]: Using backend LokyBackend with 12 concurrent workers.\n",
      "[Parallel(n_jobs=-1)]: Done   3 out of  10 | elapsed:    0.0s remaining:    0.0s\n",
      "[Parallel(n_jobs=-1)]: Done   7 out of  10 | elapsed:    0.0s remaining:    0.0s\n",
      "[Parallel(n_jobs=-1)]: Done  10 out of  10 | elapsed:    0.0s finished\n",
      "[Parallel(n_jobs=-1)]: Using backend LokyBackend with 12 concurrent workers.\n"
     ]
    },
    {
     "name": "stdout",
     "output_type": "stream",
     "text": [
      "ieme iteration 8: H=9, C=100.0\n",
      "ieme iteration 8: H=9, C=1000.0\n",
      "ieme iteration 8: H=9, C=10000.0\n"
     ]
    },
    {
     "name": "stderr",
     "output_type": "stream",
     "text": [
      "[Parallel(n_jobs=-1)]: Done   3 out of  10 | elapsed:    0.0s remaining:    0.0s\n",
      "[Parallel(n_jobs=-1)]: Done   7 out of  10 | elapsed:    0.0s remaining:    0.0s\n",
      "[Parallel(n_jobs=-1)]: Done  10 out of  10 | elapsed:    0.0s finished\n",
      "[Parallel(n_jobs=-1)]: Using backend LokyBackend with 12 concurrent workers.\n",
      "[Parallel(n_jobs=-1)]: Done   3 out of  10 | elapsed:    0.0s remaining:    0.0s\n",
      "[Parallel(n_jobs=-1)]: Done   7 out of  10 | elapsed:    0.0s remaining:    0.0s\n",
      "[Parallel(n_jobs=-1)]: Done  10 out of  10 | elapsed:    0.0s finished\n",
      "[Parallel(n_jobs=-1)]: Using backend LokyBackend with 12 concurrent workers.\n",
      "[Parallel(n_jobs=-1)]: Done   3 out of  10 | elapsed:    0.0s remaining:    0.0s\n",
      "[Parallel(n_jobs=-1)]: Done   7 out of  10 | elapsed:    0.0s remaining:    0.0s\n",
      "[Parallel(n_jobs=-1)]: Done  10 out of  10 | elapsed:    0.0s finished\n",
      "[Parallel(n_jobs=-1)]: Using backend LokyBackend with 12 concurrent workers.\n",
      "[Parallel(n_jobs=-1)]: Done   3 out of  10 | elapsed:    0.0s remaining:    0.0s\n",
      "[Parallel(n_jobs=-1)]: Done   7 out of  10 | elapsed:    0.0s remaining:    0.0s\n",
      "[Parallel(n_jobs=-1)]: Done  10 out of  10 | elapsed:    0.0s finished\n"
     ]
    },
    {
     "name": "stdout",
     "output_type": "stream",
     "text": [
      "ieme iteration 9: H=10, C=1e-05\n",
      "ieme iteration 9: H=10, C=0.0001\n"
     ]
    },
    {
     "name": "stderr",
     "output_type": "stream",
     "text": [
      "[Parallel(n_jobs=-1)]: Using backend LokyBackend with 12 concurrent workers.\n",
      "[Parallel(n_jobs=-1)]: Done   3 out of  10 | elapsed:    0.0s remaining:    0.0s\n",
      "[Parallel(n_jobs=-1)]: Done   7 out of  10 | elapsed:    0.0s remaining:    0.0s\n",
      "[Parallel(n_jobs=-1)]: Done  10 out of  10 | elapsed:    0.0s finished\n",
      "[Parallel(n_jobs=-1)]: Using backend LokyBackend with 12 concurrent workers.\n",
      "[Parallel(n_jobs=-1)]: Done   3 out of  10 | elapsed:    0.0s remaining:    0.0s\n",
      "[Parallel(n_jobs=-1)]: Done   7 out of  10 | elapsed:    0.0s remaining:    0.0s\n",
      "[Parallel(n_jobs=-1)]: Done  10 out of  10 | elapsed:    0.0s finished\n"
     ]
    },
    {
     "name": "stdout",
     "output_type": "stream",
     "text": [
      "ieme iteration 9: H=10, C=0.001\n",
      "ieme iteration 9: H=10, C=0.01\n"
     ]
    },
    {
     "name": "stderr",
     "output_type": "stream",
     "text": [
      "[Parallel(n_jobs=-1)]: Using backend LokyBackend with 12 concurrent workers.\n",
      "[Parallel(n_jobs=-1)]: Done   3 out of  10 | elapsed:    0.0s remaining:    0.0s\n",
      "[Parallel(n_jobs=-1)]: Done   7 out of  10 | elapsed:    0.0s remaining:    0.0s\n",
      "[Parallel(n_jobs=-1)]: Done  10 out of  10 | elapsed:    0.0s finished\n",
      "[Parallel(n_jobs=-1)]: Using backend LokyBackend with 12 concurrent workers.\n",
      "[Parallel(n_jobs=-1)]: Done   3 out of  10 | elapsed:    0.0s remaining:    0.0s\n",
      "[Parallel(n_jobs=-1)]: Done   7 out of  10 | elapsed:    0.0s remaining:    0.0s\n",
      "[Parallel(n_jobs=-1)]: Done  10 out of  10 | elapsed:    0.0s finished\n"
     ]
    },
    {
     "name": "stdout",
     "output_type": "stream",
     "text": [
      "ieme iteration 9: H=10, C=0.1\n",
      "ieme iteration 9: H=10, C=1.0\n"
     ]
    },
    {
     "name": "stderr",
     "output_type": "stream",
     "text": [
      "[Parallel(n_jobs=-1)]: Using backend LokyBackend with 12 concurrent workers.\n",
      "[Parallel(n_jobs=-1)]: Done   3 out of  10 | elapsed:    0.0s remaining:    0.0s\n",
      "[Parallel(n_jobs=-1)]: Done   7 out of  10 | elapsed:    0.0s remaining:    0.0s\n",
      "[Parallel(n_jobs=-1)]: Done  10 out of  10 | elapsed:    0.0s finished\n",
      "[Parallel(n_jobs=-1)]: Using backend LokyBackend with 12 concurrent workers.\n",
      "[Parallel(n_jobs=-1)]: Done   3 out of  10 | elapsed:    0.0s remaining:    0.0s\n",
      "[Parallel(n_jobs=-1)]: Done   7 out of  10 | elapsed:    0.0s remaining:    0.0s\n",
      "[Parallel(n_jobs=-1)]: Done  10 out of  10 | elapsed:    0.0s finished\n"
     ]
    },
    {
     "name": "stdout",
     "output_type": "stream",
     "text": [
      "ieme iteration 9: H=10, C=10.0\n",
      "ieme iteration 9: H=10, C=100.0\n"
     ]
    },
    {
     "name": "stderr",
     "output_type": "stream",
     "text": [
      "[Parallel(n_jobs=-1)]: Using backend LokyBackend with 12 concurrent workers.\n",
      "[Parallel(n_jobs=-1)]: Done   3 out of  10 | elapsed:    0.0s remaining:    0.0s\n",
      "[Parallel(n_jobs=-1)]: Done   7 out of  10 | elapsed:    0.0s remaining:    0.0s\n",
      "[Parallel(n_jobs=-1)]: Done  10 out of  10 | elapsed:    0.0s finished\n",
      "[Parallel(n_jobs=-1)]: Using backend LokyBackend with 12 concurrent workers.\n",
      "[Parallel(n_jobs=-1)]: Done   3 out of  10 | elapsed:    0.0s remaining:    0.0s\n",
      "[Parallel(n_jobs=-1)]: Done   7 out of  10 | elapsed:    0.0s remaining:    0.0s\n",
      "[Parallel(n_jobs=-1)]: Done  10 out of  10 | elapsed:    0.0s finished\n"
     ]
    },
    {
     "name": "stdout",
     "output_type": "stream",
     "text": [
      "ieme iteration 9: H=10, C=1000.0\n",
      "ieme iteration 9: H=10, C=10000.0\n",
      "Best param SVC Mutag: (1, 1000.0), accuracy: 0.8733333333333334\n"
     ]
    },
    {
     "name": "stderr",
     "output_type": "stream",
     "text": [
      "[Parallel(n_jobs=-1)]: Using backend LokyBackend with 12 concurrent workers.\n",
      "[Parallel(n_jobs=-1)]: Done   3 out of  10 | elapsed:    0.0s remaining:    0.0s\n",
      "[Parallel(n_jobs=-1)]: Done   7 out of  10 | elapsed:    0.0s remaining:    0.0s\n",
      "[Parallel(n_jobs=-1)]: Done  10 out of  10 | elapsed:    0.0s finished\n"
     ]
    }
   ],
   "source": [
    "\n",
    "bestParamMutag = bestParams(trainMutag, y_trainMutag, H, C)\n",
    "print(f\"Best param SVC Mutag: {bestParamMutag[0]}, accuracy: {bestParamMutag[1]}\")\n"
   ],
   "metadata": {
    "collapsed": false
   }
  },
  {
   "cell_type": "code",
   "execution_count": 26,
   "outputs": [
    {
     "name": "stderr",
     "output_type": "stream",
     "text": [
      "[Parallel(n_jobs=-1)]: Using backend LokyBackend with 12 concurrent workers.\n",
      "[Parallel(n_jobs=-1)]: Done   3 out of  10 | elapsed:    0.0s remaining:    0.0s\n",
      "[Parallel(n_jobs=-1)]: Done   7 out of  10 | elapsed:    0.0s remaining:    0.0s\n",
      "[Parallel(n_jobs=-1)]: Done  10 out of  10 | elapsed:    0.0s finished\n"
     ]
    },
    {
     "name": "stdout",
     "output_type": "stream",
     "text": [
      "ieme iteration 0: H=1, C=1e-05\n",
      "ieme iteration 0: H=1, C=0.0001\n"
     ]
    },
    {
     "name": "stderr",
     "output_type": "stream",
     "text": [
      "[Parallel(n_jobs=-1)]: Using backend LokyBackend with 12 concurrent workers.\n",
      "[Parallel(n_jobs=-1)]: Done   3 out of  10 | elapsed:    0.0s remaining:    0.0s\n",
      "[Parallel(n_jobs=-1)]: Done   7 out of  10 | elapsed:    0.0s remaining:    0.0s\n",
      "[Parallel(n_jobs=-1)]: Done  10 out of  10 | elapsed:    0.0s finished\n"
     ]
    },
    {
     "name": "stdout",
     "output_type": "stream",
     "text": [
      "ieme iteration 0: H=1, C=0.001\n"
     ]
    },
    {
     "name": "stderr",
     "output_type": "stream",
     "text": [
      "[Parallel(n_jobs=-1)]: Using backend LokyBackend with 12 concurrent workers.\n",
      "[Parallel(n_jobs=-1)]: Done   3 out of  10 | elapsed:    0.0s remaining:    0.0s\n",
      "[Parallel(n_jobs=-1)]: Done   7 out of  10 | elapsed:    0.0s remaining:    0.0s\n",
      "[Parallel(n_jobs=-1)]: Done  10 out of  10 | elapsed:    0.0s finished\n"
     ]
    },
    {
     "name": "stdout",
     "output_type": "stream",
     "text": [
      "ieme iteration 0: H=1, C=0.01\n"
     ]
    },
    {
     "name": "stderr",
     "output_type": "stream",
     "text": [
      "[Parallel(n_jobs=-1)]: Using backend LokyBackend with 12 concurrent workers.\n",
      "[Parallel(n_jobs=-1)]: Done   3 out of  10 | elapsed:    0.0s remaining:    0.0s\n",
      "[Parallel(n_jobs=-1)]: Done   7 out of  10 | elapsed:    0.0s remaining:    0.0s\n",
      "[Parallel(n_jobs=-1)]: Done  10 out of  10 | elapsed:    0.0s finished\n"
     ]
    },
    {
     "name": "stdout",
     "output_type": "stream",
     "text": [
      "ieme iteration 0: H=1, C=0.1\n"
     ]
    },
    {
     "name": "stderr",
     "output_type": "stream",
     "text": [
      "[Parallel(n_jobs=-1)]: Using backend LokyBackend with 12 concurrent workers.\n",
      "[Parallel(n_jobs=-1)]: Done   3 out of  10 | elapsed:    0.0s remaining:    0.1s\n",
      "[Parallel(n_jobs=-1)]: Done   7 out of  10 | elapsed:    0.0s remaining:    0.0s\n",
      "[Parallel(n_jobs=-1)]: Done  10 out of  10 | elapsed:    0.1s finished\n"
     ]
    },
    {
     "name": "stdout",
     "output_type": "stream",
     "text": [
      "ieme iteration 0: H=1, C=1.0\n"
     ]
    },
    {
     "name": "stderr",
     "output_type": "stream",
     "text": [
      "[Parallel(n_jobs=-1)]: Using backend LokyBackend with 12 concurrent workers.\n",
      "[Parallel(n_jobs=-1)]: Done   3 out of  10 | elapsed:    0.3s remaining:    0.7s\n",
      "[Parallel(n_jobs=-1)]: Done   7 out of  10 | elapsed:    0.3s remaining:    0.1s\n",
      "[Parallel(n_jobs=-1)]: Done  10 out of  10 | elapsed:    0.4s finished\n"
     ]
    },
    {
     "name": "stdout",
     "output_type": "stream",
     "text": [
      "ieme iteration 0: H=1, C=10.0\n"
     ]
    },
    {
     "name": "stderr",
     "output_type": "stream",
     "text": [
      "[Parallel(n_jobs=-1)]: Using backend LokyBackend with 12 concurrent workers.\n",
      "[Parallel(n_jobs=-1)]: Done   3 out of  10 | elapsed:    1.7s remaining:    3.9s\n",
      "[Parallel(n_jobs=-1)]: Done   7 out of  10 | elapsed:    2.3s remaining:    1.0s\n",
      "[Parallel(n_jobs=-1)]: Done  10 out of  10 | elapsed:    2.5s finished\n"
     ]
    },
    {
     "name": "stdout",
     "output_type": "stream",
     "text": [
      "ieme iteration 0: H=1, C=100.0\n"
     ]
    },
    {
     "name": "stderr",
     "output_type": "stream",
     "text": [
      "[Parallel(n_jobs=-1)]: Using backend LokyBackend with 12 concurrent workers.\n",
      "[Parallel(n_jobs=-1)]: Done   3 out of  10 | elapsed:    8.3s remaining:   19.5s\n",
      "[Parallel(n_jobs=-1)]: Done   7 out of  10 | elapsed:   11.0s remaining:    4.7s\n",
      "[Parallel(n_jobs=-1)]: Done  10 out of  10 | elapsed:   11.8s finished\n"
     ]
    },
    {
     "name": "stdout",
     "output_type": "stream",
     "text": [
      "ieme iteration 0: H=1, C=1000.0\n"
     ]
    },
    {
     "name": "stderr",
     "output_type": "stream",
     "text": [
      "[Parallel(n_jobs=-1)]: Using backend LokyBackend with 12 concurrent workers.\n",
      "[Parallel(n_jobs=-1)]: Done   3 out of  10 | elapsed:   37.6s remaining:  1.5min\n",
      "[Parallel(n_jobs=-1)]: Done   7 out of  10 | elapsed:   47.0s remaining:   20.2s\n",
      "[Parallel(n_jobs=-1)]: Done  10 out of  10 | elapsed:  1.0min finished\n"
     ]
    },
    {
     "name": "stdout",
     "output_type": "stream",
     "text": [
      "ieme iteration 0: H=1, C=10000.0\n"
     ]
    },
    {
     "name": "stderr",
     "output_type": "stream",
     "text": [
      "[Parallel(n_jobs=-1)]: Using backend LokyBackend with 12 concurrent workers.\n",
      "[Parallel(n_jobs=-1)]: Done   3 out of  10 | elapsed:  3.0min remaining:  6.9min\n"
     ]
    },
    {
     "name": "stdout",
     "output_type": "stream",
     "text": [
      "[CV] END ................................ score: (test=0.667) total time=   0.0s\n",
      "[CV] END ................................ score: (test=0.600) total time=   0.0s\n",
      "[CV] END ................................ score: (test=0.933) total time=   0.0s\n",
      "[CV] END ................................ score: (test=0.867) total time=   0.0s\n",
      "[CV] END ................................ score: (test=0.800) total time=   0.0s\n",
      "[CV] END ................................ score: (test=0.933) total time=   0.0s\n",
      "[CV] END ................................ score: (test=0.600) total time=   0.0s\n",
      "[CV] END ................................ score: (test=0.867) total time=   0.1s\n",
      "[CV] END ................................ score: (test=0.667) total time=   0.0s\n",
      "[CV] END ................................ score: (test=0.667) total time=   0.0s\n",
      "[CV] END ................................ score: (test=0.667) total time=   0.0s\n",
      "[CV] END ................................ score: (test=0.933) total time=   0.0s\n",
      "[CV] END ................................ score: (test=0.867) total time=   0.0s\n",
      "[CV] END ................................ score: (test=0.933) total time=   0.0s\n",
      "[CV] END ................................ score: (test=0.800) total time=   0.0s\n",
      "[CV] END ................................ score: (test=0.800) total time=   0.0s\n",
      "[CV] END ................................ score: (test=0.667) total time=   0.1s\n",
      "[CV] END ................................ score: (test=0.667) total time=   0.0s\n",
      "[CV] END ................................ score: (test=0.867) total time=   0.0s\n",
      "[CV] END ................................ score: (test=0.733) total time=   0.0s\n",
      "[CV] END ................................ score: (test=0.667) total time=   0.0s\n",
      "[CV] END ................................ score: (test=0.867) total time=   0.0s\n",
      "[CV] END ................................ score: (test=0.733) total time=   0.0s\n",
      "[CV] END ................................ score: (test=1.000) total time=   0.0s\n",
      "[CV] END ................................ score: (test=0.733) total time=   0.0s\n",
      "[CV] END ................................ score: (test=0.800) total time=   0.0s\n",
      "[CV] END ................................ score: (test=0.667) total time=   0.0s\n",
      "[CV] END ................................ score: (test=0.600) total time=   0.0s\n",
      "[CV] END ................................ score: (test=0.800) total time=   0.0s\n",
      "[CV] END ................................ score: (test=0.933) total time=   0.0s\n",
      "[CV] END ................................ score: (test=0.800) total time=   0.0s\n",
      "[CV] END ................................ score: (test=0.600) total time=   0.0s\n",
      "[CV] END ................................ score: (test=1.000) total time=   0.0s\n",
      "[CV] END ................................ score: (test=0.800) total time=   0.0s\n",
      "[CV] END ................................ score: (test=0.667) total time=   0.0s\n",
      "[CV] END ................................ score: (test=0.600) total time=   0.0s\n",
      "[CV] END ................................ score: (test=0.800) total time=   0.0s\n",
      "[CV] END ................................ score: (test=0.867) total time=   0.0s\n",
      "[CV] END ................................ score: (test=0.733) total time=   0.0s\n",
      "[CV] END ................................ score: (test=0.933) total time=   0.0s\n",
      "[CV] END ................................ score: (test=0.800) total time=   0.0s\n",
      "[CV] END ................................ score: (test=0.600) total time=   0.0s\n",
      "[CV] END ................................ score: (test=0.600) total time=   0.0s\n",
      "[CV] END ................................ score: (test=0.600) total time=   0.0s\n",
      "[CV] END ................................ score: (test=0.867) total time=   0.0s\n",
      "[CV] END ................................ score: (test=1.000) total time=   0.0s\n",
      "[CV] END ................................ score: (test=0.933) total time=   0.0s\n",
      "[CV] END ................................ score: (test=0.800) total time=   0.0s\n",
      "[CV] END ................................ score: (test=0.800) total time=   0.0s\n",
      "[CV] END ................................ score: (test=0.800) total time=   0.0s\n",
      "[CV] END ................................ score: (test=0.933) total time=   0.0s\n",
      "[CV] END ................................ score: (test=0.667) total time=   0.0s\n",
      "[CV] END ................................ score: (test=0.667) total time=   0.0s\n",
      "[CV] END ................................ score: (test=0.733) total time=   0.0s\n",
      "[CV] END ................................ score: (test=0.867) total time=   0.0s\n",
      "[CV] END ................................ score: (test=0.733) total time=   0.0s\n",
      "[CV] END ................................ score: (test=0.733) total time=   0.0s\n",
      "[CV] END ................................ score: (test=0.600) total time=   0.0s\n",
      "[CV] END ................................ score: (test=0.800) total time=   0.0s\n",
      "[CV] END ................................ score: (test=0.800) total time=   0.0s\n",
      "[CV] END ................................ score: (test=0.600) total time=   0.0s\n",
      "[CV] END ................................ score: (test=0.667) total time=   0.0s\n",
      "[CV] END ................................ score: (test=0.867) total time=   0.0s\n",
      "[CV] END ................................ score: (test=0.867) total time=   0.0s\n",
      "[CV] END ................................ score: (test=0.867) total time=   0.0s\n",
      "[CV] END ................................ score: (test=0.800) total time=   0.0s\n",
      "[CV] END ................................ score: (test=0.667) total time=   0.0s\n",
      "[CV] END ................................ score: (test=0.800) total time=   0.0s\n",
      "[CV] END ................................ score: (test=0.933) total time=   0.0s\n",
      "[CV] END ................................ score: (test=0.933) total time=   0.0s\n",
      "[CV] END ................................ score: (test=0.667) total time=   0.0s\n",
      "[CV] END ................................ score: (test=0.867) total time=   0.0s\n",
      "[CV] END ................................ score: (test=0.733) total time=   0.0s\n",
      "[CV] END ................................ score: (test=0.867) total time=   0.0s\n",
      "[CV] END ................................ score: (test=0.800) total time=   0.0s\n",
      "[CV] END ................................ score: (test=0.933) total time=   0.0s\n",
      "[CV] END ................................ score: (test=0.800) total time=   0.0s\n",
      "[CV] END ................................ score: (test=0.667) total time=   0.0s\n",
      "[CV] END ................................ score: (test=0.667) total time=   0.0s\n",
      "[CV] END ................................ score: (test=0.867) total time=   0.0s\n",
      "[CV] END ................................ score: (test=0.867) total time=   0.0s\n",
      "[CV] END ................................ score: (test=0.600) total time=   0.0s\n",
      "[CV] END ................................ score: (test=0.933) total time=   0.0s\n",
      "[CV] END ................................ score: (test=0.933) total time=   0.0s\n",
      "[CV] END ................................ score: (test=0.733) total time=   0.0s\n",
      "[CV] END ................................ score: (test=0.933) total time=   0.0s\n",
      "[CV] END ................................ score: (test=0.188) total time=   0.0s\n",
      "[CV] END ................................ score: (test=0.292) total time=   0.0s\n",
      "[CV] END ................................ score: (test=0.375) total time=   0.0s\n",
      "[CV] END ................................ score: (test=0.333) total time=   0.0s\n",
      "[CV] END ................................ score: (test=0.354) total time=   0.2s\n",
      "[CV] END ................................ score: (test=0.271) total time=   2.3s\n",
      "[CV] END ................................ score: (test=0.354) total time=  11.0s\n",
      "[CV] END ................................ score: (test=0.354) total time=  54.3s\n",
      "[CV] END ................................ score: (test=0.600) total time=   0.0s\n",
      "[CV] END ................................ score: (test=0.600) total time=   0.0s\n",
      "[CV] END ................................ score: (test=0.800) total time=   0.0s\n",
      "[CV] END ................................ score: (test=0.800) total time=   0.0s\n",
      "[CV] END ................................ score: (test=0.867) total time=   0.0s\n",
      "[CV] END ................................ score: (test=0.933) total time=   0.0s\n",
      "[CV] END ................................ score: (test=0.867) total time=   0.0s\n",
      "[CV] END ................................ score: (test=0.867) total time=   0.0s\n",
      "[CV] END ................................ score: (test=0.867) total time=   0.1s\n",
      "[CV] END ................................ score: (test=0.667) total time=   0.8s\n",
      "[CV] END ................................ score: (test=0.600) total time=   0.0s\n",
      "[CV] END ................................ score: (test=0.800) total time=   0.0s\n",
      "[CV] END ................................ score: (test=0.867) total time=   0.0s\n",
      "[CV] END ................................ score: (test=0.600) total time=   0.0s\n",
      "[CV] END ................................ score: (test=0.733) total time=   0.0s\n",
      "[CV] END ................................ score: (test=0.867) total time=   0.0s\n",
      "[CV] END ................................ score: (test=0.667) total time=   0.0s\n",
      "[CV] END ................................ score: (test=0.667) total time=   0.0s\n",
      "[CV] END ................................ score: (test=0.800) total time=   0.0s\n",
      "[CV] END ................................ score: (test=0.800) total time=   0.0s\n",
      "[CV] END ................................ score: (test=0.800) total time=   0.0s\n",
      "[CV] END ................................ score: (test=0.800) total time=   0.0s\n",
      "[CV] END ................................ score: (test=0.600) total time=   0.0s\n",
      "[CV] END ................................ score: (test=0.867) total time=   0.0s\n",
      "[CV] END ................................ score: (test=1.000) total time=   0.0s\n",
      "[CV] END ................................ score: (test=0.667) total time=   0.0s\n",
      "[CV] END ................................ score: (test=0.667) total time=   0.0s\n",
      "[CV] END ................................ score: (test=1.000) total time=   0.0s\n",
      "[CV] END ................................ score: (test=1.000) total time=   0.0s\n",
      "[CV] END ................................ score: (test=0.800) total time=   0.0s\n",
      "[CV] END ................................ score: (test=0.800) total time=   0.0s\n",
      "[CV] END ................................ score: (test=0.600) total time=   0.0s\n",
      "[CV] END ................................ score: (test=0.600) total time=   0.0s\n",
      "[CV] END ................................ score: (test=0.800) total time=   0.0s\n",
      "[CV] END ................................ score: (test=0.667) total time=   0.0s\n",
      "[CV] END ................................ score: (test=0.667) total time=   0.0s\n",
      "[CV] END ................................ score: (test=0.933) total time=   0.0s\n",
      "[CV] END ................................ score: (test=0.933) total time=   0.0s\n",
      "[CV] END ................................ score: (test=0.800) total time=   0.0s\n",
      "[CV] END ................................ score: (test=0.800) total time=   0.0s\n",
      "[CV] END ................................ score: (test=0.800) total time=   0.0s\n",
      "[CV] END ................................ score: (test=0.867) total time=   0.0s\n",
      "[CV] END ................................ score: (test=0.600) total time=   0.0s\n",
      "[CV] END ................................ score: (test=0.867) total time=   0.0s\n",
      "[CV] END ................................ score: (test=0.800) total time=   0.0s\n",
      "[CV] END ................................ score: (test=0.600) total time=   0.0s\n",
      "[CV] END ................................ score: (test=0.600) total time=   0.0s\n",
      "[CV] END ................................ score: (test=0.733) total time=   0.0s\n",
      "[CV] END ................................ score: (test=0.933) total time=   0.0s\n",
      "[CV] END ................................ score: (test=0.600) total time=   0.0s\n",
      "[CV] END ................................ score: (test=0.600) total time=   0.0s\n",
      "[CV] END ................................ score: (test=0.867) total time=   0.0s\n",
      "[CV] END ................................ score: (test=0.800) total time=   0.0s\n",
      "[CV] END ................................ score: (test=0.800) total time=   0.0s\n",
      "[CV] END ................................ score: (test=0.867) total time=   0.0s\n",
      "[CV] END ................................ score: (test=0.933) total time=   0.0s\n",
      "[CV] END ................................ score: (test=0.867) total time=   0.0s\n",
      "[CV] END ................................ score: (test=0.733) total time=   0.0s\n",
      "[CV] END ................................ score: (test=0.600) total time=   0.0s\n",
      "[CV] END ................................ score: (test=0.867) total time=   0.0s\n",
      "[CV] END ................................ score: (test=0.733) total time=   0.0s\n",
      "[CV] END ................................ score: (test=0.933) total time=   0.0s\n",
      "[CV] END ................................ score: (test=0.933) total time=   0.0s\n",
      "[CV] END ................................ score: (test=0.800) total time=   0.0s\n",
      "[CV] END ................................ score: (test=0.667) total time=   0.0s\n",
      "[CV] END ................................ score: (test=0.667) total time=   0.0s\n",
      "[CV] END ................................ score: (test=0.667) total time=   0.0s\n",
      "[CV] END ................................ score: (test=0.867) total time=   0.0s\n",
      "[CV] END ................................ score: (test=0.867) total time=   0.0s\n",
      "[CV] END ................................ score: (test=0.800) total time=   0.0s\n",
      "[CV] END ................................ score: (test=0.933) total time=   0.0s\n",
      "[CV] END ................................ score: (test=0.800) total time=   0.0s\n",
      "[CV] END ................................ score: (test=0.867) total time=   0.0s\n",
      "[CV] END ................................ score: (test=0.867) total time=   0.0s\n",
      "[CV] END ................................ score: (test=0.667) total time=   0.0s\n",
      "[CV] END ................................ score: (test=0.667) total time=   0.0s\n",
      "[CV] END ................................ score: (test=0.733) total time=   0.0s\n",
      "[CV] END ................................ score: (test=0.600) total time=   0.0s\n",
      "[CV] END ................................ score: (test=0.933) total time=   0.0s\n",
      "[CV] END ................................ score: (test=0.867) total time=   0.0s\n",
      "[CV] END ................................ score: (test=0.933) total time=   0.0s\n",
      "[CV] END ................................ score: (test=0.933) total time=   0.0s\n",
      "[CV] END ................................ score: (test=0.167) total time=   0.0s\n",
      "[CV] END ................................ score: (test=0.188) total time=   0.0s\n",
      "[CV] END ................................ score: (test=0.188) total time=   0.0s\n",
      "[CV] END ................................ score: (test=0.250) total time=   0.0s\n",
      "[CV] END ................................ score: (test=0.438) total time=   0.3s\n",
      "[CV] END ................................ score: (test=0.417) total time=   1.3s\n",
      "[CV] END ................................ score: (test=0.396) total time=   7.6s\n",
      "[CV] END ................................ score: (test=0.250) total time= 1.0min\n"
     ]
    },
    {
     "name": "stderr",
     "output_type": "stream",
     "text": [
      "[Parallel(n_jobs=-1)]: Done   7 out of  10 | elapsed:  5.4min remaining:  2.3min\n"
     ]
    },
    {
     "name": "stdout",
     "output_type": "stream",
     "text": [
      "[CV] END ................................ score: (test=0.600) total time=   0.0s\n",
      "[CV] END ................................ score: (test=0.600) total time=   0.0s\n",
      "[CV] END ................................ score: (test=1.000) total time=   0.0s\n",
      "[CV] END ................................ score: (test=0.800) total time=   0.0s\n",
      "[CV] END ................................ score: (test=0.933) total time=   0.0s\n",
      "[CV] END ................................ score: (test=0.867) total time=   0.0s\n",
      "[CV] END ................................ score: (test=0.933) total time=   0.0s\n",
      "[CV] END ................................ score: (test=1.000) total time=   0.2s\n",
      "[CV] END ................................ score: (test=0.667) total time=   0.0s\n",
      "[CV] END ................................ score: (test=0.667) total time=   0.0s\n",
      "[CV] END ................................ score: (test=0.800) total time=   0.0s\n",
      "[CV] END ................................ score: (test=1.000) total time=   0.0s\n",
      "[CV] END ................................ score: (test=0.800) total time=   0.0s\n",
      "[CV] END ................................ score: (test=0.933) total time=   0.0s\n",
      "[CV] END ................................ score: (test=0.733) total time=   0.0s\n",
      "[CV] END ................................ score: (test=0.867) total time=   0.0s\n",
      "[CV] END ................................ score: (test=0.533) total time=   0.0s\n",
      "[CV] END ................................ score: (test=0.800) total time=   0.1s\n",
      "[CV] END ................................ score: (test=0.600) total time=   0.0s\n",
      "[CV] END ................................ score: (test=0.800) total time=   0.0s\n",
      "[CV] END ................................ score: (test=0.933) total time=   0.0s\n",
      "[CV] END ................................ score: (test=0.800) total time=   0.0s\n",
      "[CV] END ................................ score: (test=1.000) total time=   0.0s\n",
      "[CV] END ................................ score: (test=0.867) total time=   0.0s\n",
      "[CV] END ................................ score: (test=0.867) total time=   0.0s\n",
      "[CV] END ................................ score: (test=0.867) total time=   0.0s\n",
      "[CV] END ................................ score: (test=0.733) total time=   0.0s\n",
      "[CV] END ................................ score: (test=0.600) total time=   0.0s\n",
      "[CV] END ................................ score: (test=0.867) total time=   0.0s\n",
      "[CV] END ................................ score: (test=0.733) total time=   0.0s\n",
      "[CV] END ................................ score: (test=0.667) total time=   0.0s\n",
      "[CV] END ................................ score: (test=0.800) total time=   0.0s\n",
      "[CV] END ................................ score: (test=0.933) total time=   0.0s\n",
      "[CV] END ................................ score: (test=0.800) total time=   0.0s\n",
      "[CV] END ................................ score: (test=0.800) total time=   0.0s\n",
      "[CV] END ................................ score: (test=0.933) total time=   0.0s\n",
      "[CV] END ................................ score: (test=0.600) total time=   0.0s\n",
      "[CV] END ................................ score: (test=0.867) total time=   0.0s\n",
      "[CV] END ................................ score: (test=0.867) total time=   0.0s\n",
      "[CV] END ................................ score: (test=0.600) total time=   0.0s\n",
      "[CV] END ................................ score: (test=0.733) total time=   0.0s\n",
      "[CV] END ................................ score: (test=0.933) total time=   0.0s\n",
      "[CV] END ................................ score: (test=0.800) total time=   0.0s\n",
      "[CV] END ................................ score: (test=0.933) total time=   0.0s\n",
      "[CV] END ................................ score: (test=0.667) total time=   0.0s\n",
      "[CV] END ................................ score: (test=0.867) total time=   0.0s\n",
      "[CV] END ................................ score: (test=0.600) total time=   0.0s\n",
      "[CV] END ................................ score: (test=0.600) total time=   0.0s\n",
      "[CV] END ................................ score: (test=0.867) total time=   0.0s\n",
      "[CV] END ................................ score: (test=0.733) total time=   0.0s\n",
      "[CV] END ................................ score: (test=0.933) total time=   0.0s\n",
      "[CV] END ................................ score: (test=0.867) total time=   0.0s\n",
      "[CV] END ................................ score: (test=0.667) total time=   0.0s\n",
      "[CV] END ................................ score: (test=0.667) total time=   0.0s\n",
      "[CV] END ................................ score: (test=0.600) total time=   0.0s\n",
      "[CV] END ................................ score: (test=0.933) total time=   0.0s\n",
      "[CV] END ................................ score: (test=0.800) total time=   0.0s\n",
      "[CV] END ................................ score: (test=0.933) total time=   0.0s\n",
      "[CV] END ................................ score: (test=0.733) total time=   0.0s\n",
      "[CV] END ................................ score: (test=0.867) total time=   0.0s\n",
      "[CV] END ................................ score: (test=0.800) total time=   0.0s\n",
      "[CV] END ................................ score: (test=0.600) total time=   0.0s\n",
      "[CV] END ................................ score: (test=0.667) total time=   0.0s\n",
      "[CV] END ................................ score: (test=0.600) total time=   0.0s\n",
      "[CV] END ................................ score: (test=0.800) total time=   0.0s\n",
      "[CV] END ................................ score: (test=0.933) total time=   0.0s\n",
      "[CV] END ................................ score: (test=0.933) total time=   0.0s\n",
      "[CV] END ................................ score: (test=0.800) total time=   0.0s\n",
      "[CV] END ................................ score: (test=0.933) total time=   0.0s\n",
      "[CV] END ................................ score: (test=0.667) total time=   0.0s\n",
      "[CV] END ................................ score: (test=0.600) total time=   0.0s\n",
      "[CV] END ................................ score: (test=0.600) total time=   0.0s\n",
      "[CV] END ................................ score: (test=0.933) total time=   0.0s\n",
      "[CV] END ................................ score: (test=0.867) total time=   0.0s\n",
      "[CV] END ................................ score: (test=0.933) total time=   0.0s\n",
      "[CV] END ................................ score: (test=0.933) total time=   0.0s\n",
      "[CV] END ................................ score: (test=0.933) total time=   0.0s\n",
      "[CV] END ................................ score: (test=0.800) total time=   0.0s\n",
      "[CV] END ................................ score: (test=0.600) total time=   0.0s\n",
      "[CV] END ................................ score: (test=0.600) total time=   0.0s\n",
      "[CV] END ................................ score: (test=0.933) total time=   0.0s\n",
      "[CV] END ................................ score: (test=0.800) total time=   0.0s\n",
      "[CV] END ................................ score: (test=0.733) total time=   0.0s\n",
      "[CV] END ................................ score: (test=0.800) total time=   0.0s\n",
      "[CV] END ................................ score: (test=0.933) total time=   0.0s\n",
      "[CV] END ................................ score: (test=0.933) total time=   0.0s\n",
      "[CV] END ................................ score: (test=0.800) total time=   0.0s\n",
      "[CV] END ................................ score: (test=0.167) total time=   0.0s\n",
      "[CV] END ................................ score: (test=0.312) total time=   0.0s\n",
      "[CV] END ................................ score: (test=0.354) total time=   0.0s\n",
      "[CV] END ................................ score: (test=0.333) total time=   0.0s\n",
      "[CV] END ................................ score: (test=0.479) total time=   0.3s\n",
      "[CV] END ................................ score: (test=0.354) total time=   1.8s\n",
      "[CV] END ................................ score: (test=0.271) total time=  11.6s\n",
      "[CV] END ................................ score: (test=0.271) total time= 2.6min\n",
      "[CV] END ................................ score: (test=0.600) total time=   0.0s\n",
      "[CV] END ................................ score: (test=0.800) total time=   0.0s\n",
      "[CV] END ................................ score: (test=0.867) total time=   0.0s\n",
      "[CV] END ................................ score: (test=0.867) total time=   0.0s\n",
      "[CV] END ................................ score: (test=0.867) total time=   0.0s\n",
      "[CV] END ................................ score: (test=0.933) total time=   0.0s\n",
      "[CV] END ................................ score: (test=0.800) total time=   0.1s\n",
      "[CV] END ................................ score: (test=1.000) total time=   0.6s\n",
      "[CV] END ................................ score: (test=0.667) total time=   0.0s\n",
      "[CV] END ................................ score: (test=0.600) total time=   0.0s\n",
      "[CV] END ................................ score: (test=0.800) total time=   0.0s\n",
      "[CV] END ................................ score: (test=0.867) total time=   0.0s\n",
      "[CV] END ................................ score: (test=0.867) total time=   0.0s\n",
      "[CV] END ................................ score: (test=0.867) total time=   0.0s\n",
      "[CV] END ................................ score: (test=0.867) total time=   0.0s\n",
      "[CV] END ................................ score: (test=0.667) total time=   0.0s\n",
      "[CV] END ................................ score: (test=0.800) total time=   0.1s\n",
      "[CV] END ................................ score: (test=0.600) total time=   0.0s\n",
      "[CV] END ................................ score: (test=0.600) total time=   0.0s\n",
      "[CV] END ................................ score: (test=0.800) total time=   0.0s\n",
      "[CV] END ................................ score: (test=0.800) total time=   0.0s\n",
      "[CV] END ................................ score: (test=0.733) total time=   0.0s\n",
      "[CV] END ................................ score: (test=0.867) total time=   0.0s\n",
      "[CV] END ................................ score: (test=1.000) total time=   0.0s\n",
      "[CV] END ................................ score: (test=0.733) total time=   0.0s\n",
      "[CV] END ................................ score: (test=0.667) total time=   0.0s\n",
      "[CV] END ................................ score: (test=0.667) total time=   0.0s\n",
      "[CV] END ................................ score: (test=0.667) total time=   0.0s\n",
      "[CV] END ................................ score: (test=0.867) total time=   0.0s\n",
      "[CV] END ................................ score: (test=0.600) total time=   0.0s\n",
      "[CV] END ................................ score: (test=0.933) total time=   0.0s\n",
      "[CV] END ................................ score: (test=0.933) total time=   0.0s\n",
      "[CV] END ................................ score: (test=0.800) total time=   0.0s\n",
      "[CV] END ................................ score: (test=0.800) total time=   0.0s\n",
      "[CV] END ................................ score: (test=0.600) total time=   0.0s\n",
      "[CV] END ................................ score: (test=0.867) total time=   0.0s\n",
      "[CV] END ................................ score: (test=0.800) total time=   0.0s\n",
      "[CV] END ................................ score: (test=0.800) total time=   0.0s\n",
      "[CV] END ................................ score: (test=0.867) total time=   0.0s\n",
      "[CV] END ................................ score: (test=0.933) total time=   0.0s\n",
      "[CV] END ................................ score: (test=0.733) total time=   0.0s\n",
      "[CV] END ................................ score: (test=0.933) total time=   0.0s\n",
      "[CV] END ................................ score: (test=0.667) total time=   0.0s\n",
      "[CV] END ................................ score: (test=0.667) total time=   0.0s\n",
      "[CV] END ................................ score: (test=0.933) total time=   0.0s\n",
      "[CV] END ................................ score: (test=0.933) total time=   0.0s\n",
      "[CV] END ................................ score: (test=0.733) total time=   0.0s\n",
      "[CV] END ................................ score: (test=0.933) total time=   0.0s\n",
      "[CV] END ................................ score: (test=0.733) total time=   0.0s\n",
      "[CV] END ................................ score: (test=0.867) total time=   0.0s\n",
      "[CV] END ................................ score: (test=0.933) total time=   0.0s\n",
      "[CV] END ................................ score: (test=0.667) total time=   0.0s\n",
      "[CV] END ................................ score: (test=0.600) total time=   0.0s\n",
      "[CV] END ................................ score: (test=1.000) total time=   0.0s\n",
      "[CV] END ................................ score: (test=0.933) total time=   0.0s\n",
      "[CV] END ................................ score: (test=0.800) total time=   0.0s\n",
      "[CV] END ................................ score: (test=0.933) total time=   0.0s\n",
      "[CV] END ................................ score: (test=0.933) total time=   0.0s\n",
      "[CV] END ................................ score: (test=0.800) total time=   0.0s\n",
      "[CV] END ................................ score: (test=0.600) total time=   0.0s\n",
      "[CV] END ................................ score: (test=0.600) total time=   0.0s\n",
      "[CV] END ................................ score: (test=0.933) total time=   0.0s\n",
      "[CV] END ................................ score: (test=0.800) total time=   0.0s\n",
      "[CV] END ................................ score: (test=0.800) total time=   0.0s\n",
      "[CV] END ................................ score: (test=0.933) total time=   0.0s\n",
      "[CV] END ................................ score: (test=0.933) total time=   0.0s\n",
      "[CV] END ................................ score: (test=0.800) total time=   0.0s\n",
      "[CV] END ................................ score: (test=0.600) total time=   0.0s\n",
      "[CV] END ................................ score: (test=0.867) total time=   0.0s\n",
      "[CV] END ................................ score: (test=0.867) total time=   0.0s\n",
      "[CV] END ................................ score: (test=0.933) total time=   0.0s\n",
      "[CV] END ................................ score: (test=0.933) total time=   0.0s\n",
      "[CV] END ................................ score: (test=0.800) total time=   0.0s\n",
      "[CV] END ................................ score: (test=0.800) total time=   0.0s\n",
      "[CV] END ................................ score: (test=0.867) total time=   0.0s\n",
      "[CV] END ................................ score: (test=0.600) total time=   0.0s\n",
      "[CV] END ................................ score: (test=0.867) total time=   0.0s\n",
      "[CV] END ................................ score: (test=0.867) total time=   0.0s\n",
      "[CV] END ................................ score: (test=0.867) total time=   0.0s\n",
      "[CV] END ................................ score: (test=0.867) total time=   0.0s\n",
      "[CV] END ................................ score: (test=0.933) total time=   0.0s\n",
      "[CV] END ................................ score: (test=0.800) total time=   0.0s\n",
      "[CV] END ................................ score: (test=0.800) total time=   0.0s\n",
      "[CV] END ................................ score: (test=0.933) total time=   0.0s\n",
      "[CV] END ................................ score: (test=0.208) total time=   0.0s\n",
      "[CV] END ................................ score: (test=0.312) total time=   0.0s\n",
      "[CV] END ................................ score: (test=0.438) total time=   0.0s\n",
      "[CV] END ................................ score: (test=0.396) total time=   0.0s\n",
      "[CV] END ................................ score: (test=0.354) total time=   0.3s\n",
      "[CV] END ................................ score: (test=0.354) total time=  11.8s\n",
      "[CV] END ................................ score: (test=0.292) total time= 2.7min\n",
      "[CV] END ................................ score: (test=0.667) total time=   0.0s\n",
      "[CV] END ................................ score: (test=0.800) total time=   0.0s\n",
      "[CV] END ................................ score: (test=0.733) total time=   0.0s\n",
      "[CV] END ................................ score: (test=0.867) total time=   0.0s\n",
      "[CV] END ................................ score: (test=0.600) total time=   0.0s\n",
      "[CV] END ................................ score: (test=0.867) total time=   0.1s\n",
      "[CV] END ................................ score: (test=0.933) total time=   0.4s\n",
      "[CV] END ................................ score: (test=0.667) total time=   0.0s\n",
      "[CV] END ................................ score: (test=0.600) total time=   0.0s\n",
      "[CV] END ................................ score: (test=0.867) total time=   0.0s\n",
      "[CV] END ................................ score: (test=0.800) total time=   0.0s\n",
      "[CV] END ................................ score: (test=0.733) total time=   0.0s\n",
      "[CV] END ................................ score: (test=0.533) total time=   0.0s\n",
      "[CV] END ................................ score: (test=0.667) total time=   0.0s\n",
      "[CV] END ................................ score: (test=0.667) total time=   0.0s\n",
      "[CV] END ................................ score: (test=0.667) total time=   0.0s\n",
      "[CV] END ................................ score: (test=0.600) total time=   0.0s\n",
      "[CV] END ................................ score: (test=0.800) total time=   0.0s\n",
      "[CV] END ................................ score: (test=0.933) total time=   0.0s\n",
      "[CV] END ................................ score: (test=0.600) total time=   0.0s\n",
      "[CV] END ................................ score: (test=0.867) total time=   0.0s\n",
      "[CV] END ................................ score: (test=0.800) total time=   0.0s\n",
      "[CV] END ................................ score: (test=0.867) total time=   0.0s\n",
      "[CV] END ................................ score: (test=0.667) total time=   0.0s\n",
      "[CV] END ................................ score: (test=0.667) total time=   0.0s\n",
      "[CV] END ................................ score: (test=0.867) total time=   0.0s\n",
      "[CV] END ................................ score: (test=0.800) total time=   0.0s\n",
      "[CV] END ................................ score: (test=0.933) total time=   0.0s\n",
      "[CV] END ................................ score: (test=1.000) total time=   0.0s\n",
      "[CV] END ................................ score: (test=0.800) total time=   0.0s\n",
      "[CV] END ................................ score: (test=0.600) total time=   0.0s\n",
      "[CV] END ................................ score: (test=0.600) total time=   0.0s\n",
      "[CV] END ................................ score: (test=0.600) total time=   0.0s\n",
      "[CV] END ................................ score: (test=0.867) total time=   0.0s\n",
      "[CV] END ................................ score: (test=0.800) total time=   0.0s\n",
      "[CV] END ................................ score: (test=0.800) total time=   0.0s\n",
      "[CV] END ................................ score: (test=0.867) total time=   0.0s\n",
      "[CV] END ................................ score: (test=0.933) total time=   0.0s\n",
      "[CV] END ................................ score: (test=0.800) total time=   0.0s\n",
      "[CV] END ................................ score: (test=0.667) total time=   0.0s\n",
      "[CV] END ................................ score: (test=0.600) total time=   0.0s\n",
      "[CV] END ................................ score: (test=0.867) total time=   0.0s\n",
      "[CV] END ................................ score: (test=0.867) total time=   0.0s\n",
      "[CV] END ................................ score: (test=0.933) total time=   0.0s\n",
      "[CV] END ................................ score: (test=0.867) total time=   0.0s\n",
      "[CV] END ................................ score: (test=0.933) total time=   0.0s\n",
      "[CV] END ................................ score: (test=0.600) total time=   0.0s\n",
      "[CV] END ................................ score: (test=0.733) total time=   0.0s\n",
      "[CV] END ................................ score: (test=0.667) total time=   0.0s\n",
      "[CV] END ................................ score: (test=0.667) total time=   0.0s\n",
      "[CV] END ................................ score: (test=0.867) total time=   0.0s\n",
      "[CV] END ................................ score: (test=0.800) total time=   0.0s\n",
      "[CV] END ................................ score: (test=0.933) total time=   0.0s\n",
      "[CV] END ................................ score: (test=0.800) total time=   0.0s\n",
      "[CV] END ................................ score: (test=0.867) total time=   0.0s\n",
      "[CV] END ................................ score: (test=0.867) total time=   0.0s\n",
      "[CV] END ................................ score: (test=0.733) total time=   0.0s\n",
      "[CV] END ................................ score: (test=0.867) total time=   0.0s\n",
      "[CV] END ................................ score: (test=0.667) total time=   0.0s\n",
      "[CV] END ................................ score: (test=0.600) total time=   0.0s\n",
      "[CV] END ................................ score: (test=0.800) total time=   0.0s\n",
      "[CV] END ................................ score: (test=0.933) total time=   0.0s\n",
      "[CV] END ................................ score: (test=0.933) total time=   0.0s\n",
      "[CV] END ................................ score: (test=0.800) total time=   0.0s\n",
      "[CV] END ................................ score: (test=0.933) total time=   0.0s\n",
      "[CV] END ................................ score: (test=0.933) total time=   0.0s\n",
      "[CV] END ................................ score: (test=0.667) total time=   0.0s\n",
      "[CV] END ................................ score: (test=0.667) total time=   0.0s\n",
      "[CV] END ................................ score: (test=0.867) total time=   0.0s\n",
      "[CV] END ................................ score: (test=0.600) total time=   0.0s\n",
      "[CV] END ................................ score: (test=0.933) total time=   0.0s\n",
      "[CV] END ................................ score: (test=0.933) total time=   0.0s\n",
      "[CV] END ................................ score: (test=0.867) total time=   0.0s\n",
      "[CV] END ................................ score: (test=0.667) total time=   0.0s\n",
      "[CV] END ................................ score: (test=0.933) total time=   0.0s\n",
      "[CV] END ................................ score: (test=0.600) total time=   0.0s\n",
      "[CV] END ................................ score: (test=0.600) total time=   0.0s\n",
      "[CV] END ................................ score: (test=1.000) total time=   0.0s\n",
      "[CV] END ................................ score: (test=0.933) total time=   0.0s\n",
      "[CV] END ................................ score: (test=0.800) total time=   0.0s\n",
      "[CV] END ................................ score: (test=0.800) total time=   0.0s\n",
      "[CV] END ................................ score: (test=0.800) total time=   0.0s\n",
      "[CV] END ................................ score: (test=0.600) total time=   0.0s\n",
      "[CV] END ................................ score: (test=0.167) total time=   0.0s\n",
      "[CV] END ................................ score: (test=0.167) total time=   0.0s\n",
      "[CV] END ................................ score: (test=0.250) total time=   0.0s\n",
      "[CV] END ................................ score: (test=0.396) total time=   0.0s\n",
      "[CV] END ................................ score: (test=0.312) total time=   0.4s\n",
      "[CV] END ................................ score: (test=0.333) total time=   6.6s\n",
      "[CV] END ................................ score: (test=0.458) total time=  52.6s\n",
      "[CV] END ................................ score: (test=0.312) total time= 3.0min\n",
      "[CV] END ................................ score: (test=0.600) total time=   0.0s\n",
      "[CV] END ................................ score: (test=0.600) total time=   0.0s\n",
      "[CV] END ................................ score: (test=0.867) total time=   0.0s\n",
      "[CV] END ................................ score: (test=0.667) total time=   0.0s\n",
      "[CV] END ................................ score: (test=0.933) total time=   0.0s\n",
      "[CV] END ................................ score: (test=0.867) total time=   0.1s\n",
      "[CV] END ................................ score: (test=0.867) total time=   0.6s\n",
      "[CV] END ................................ score: (test=0.600) total time=   0.0s\n",
      "[CV] END ................................ score: (test=0.600) total time=   0.0s\n",
      "[CV] END ................................ score: (test=0.600) total time=   0.0s\n",
      "[CV] END ................................ score: (test=0.933) total time=   0.0s\n",
      "[CV] END ................................ score: (test=0.933) total time=   0.0s\n",
      "[CV] END ................................ score: (test=0.800) total time=   0.0s\n",
      "[CV] END ................................ score: (test=0.867) total time=   0.0s\n",
      "[CV] END ................................ score: (test=0.667) total time=   0.0s\n",
      "[CV] END ................................ score: (test=0.667) total time=   0.0s\n",
      "[CV] END ................................ score: (test=0.733) total time=   0.0s\n",
      "[CV] END ................................ score: (test=0.867) total time=   0.0s\n",
      "[CV] END ................................ score: (test=0.800) total time=   0.0s\n",
      "[CV] END ................................ score: (test=0.800) total time=   0.0s\n",
      "[CV] END ................................ score: (test=0.600) total time=   0.0s\n",
      "[CV] END ................................ score: (test=0.600) total time=   0.0s\n",
      "[CV] END ................................ score: (test=0.600) total time=   0.0s\n",
      "[CV] END ................................ score: (test=0.600) total time=   0.0s\n",
      "[CV] END ................................ score: (test=0.933) total time=   0.0s\n",
      "[CV] END ................................ score: (test=0.933) total time=   0.0s\n",
      "[CV] END ................................ score: (test=0.733) total time=   0.0s\n",
      "[CV] END ................................ score: (test=0.733) total time=   0.0s\n",
      "[CV] END ................................ score: (test=0.933) total time=   0.0s\n",
      "[CV] END ................................ score: (test=0.800) total time=   0.0s\n",
      "[CV] END ................................ score: (test=0.800) total time=   0.0s\n",
      "[CV] END ................................ score: (test=0.600) total time=   0.0s\n",
      "[CV] END ................................ score: (test=0.867) total time=   0.0s\n",
      "[CV] END ................................ score: (test=0.933) total time=   0.0s\n",
      "[CV] END ................................ score: (test=0.800) total time=   0.0s\n",
      "[CV] END ................................ score: (test=0.600) total time=   0.0s\n",
      "[CV] END ................................ score: (test=0.933) total time=   0.0s\n",
      "[CV] END ................................ score: (test=0.933) total time=   0.0s\n",
      "[CV] END ................................ score: (test=0.667) total time=   0.0s\n",
      "[CV] END ................................ score: (test=0.667) total time=   0.0s\n",
      "[CV] END ................................ score: (test=0.600) total time=   0.0s\n",
      "[CV] END ................................ score: (test=0.800) total time=   0.0s\n",
      "[CV] END ................................ score: (test=0.933) total time=   0.0s\n",
      "[CV] END ................................ score: (test=0.867) total time=   0.0s\n",
      "[CV] END ................................ score: (test=0.800) total time=   0.0s\n",
      "[CV] END ................................ score: (test=0.933) total time=   0.0s\n",
      "[CV] END ................................ score: (test=0.600) total time=   0.0s\n",
      "[CV] END ................................ score: (test=0.867) total time=   0.0s\n",
      "[CV] END ................................ score: (test=0.667) total time=   0.0s\n",
      "[CV] END ................................ score: (test=0.867) total time=   0.0s\n",
      "[CV] END ................................ score: (test=0.933) total time=   0.0s\n",
      "[CV] END ................................ score: (test=0.600) total time=   0.0s\n",
      "[CV] END ................................ score: (test=0.933) total time=   0.0s\n",
      "[CV] END ................................ score: (test=0.800) total time=   0.0s\n",
      "[CV] END ................................ score: (test=0.933) total time=   0.0s\n",
      "[CV] END ................................ score: (test=0.933) total time=   0.0s\n",
      "[CV] END ................................ score: (test=0.667) total time=   0.0s\n",
      "[CV] END ................................ score: (test=0.667) total time=   0.0s\n",
      "[CV] END ................................ score: (test=0.933) total time=   0.0s\n",
      "[CV] END ................................ score: (test=0.933) total time=   0.0s\n",
      "[CV] END ................................ score: (test=0.800) total time=   0.0s\n",
      "[CV] END ................................ score: (test=0.800) total time=   0.0s\n",
      "[CV] END ................................ score: (test=0.800) total time=   0.0s\n",
      "[CV] END ................................ score: (test=0.800) total time=   0.0s\n",
      "[CV] END ................................ score: (test=0.667) total time=   0.0s\n",
      "[CV] END ................................ score: (test=0.600) total time=   0.0s\n",
      "[CV] END ................................ score: (test=1.000) total time=   0.0s\n",
      "[CV] END ................................ score: (test=0.800) total time=   0.0s\n",
      "[CV] END ................................ score: (test=0.933) total time=   0.0s\n",
      "[CV] END ................................ score: (test=0.867) total time=   0.0s\n",
      "[CV] END ................................ score: (test=0.933) total time=   0.0s\n",
      "[CV] END ................................ score: (test=0.933) total time=   0.0s\n",
      "[CV] END ................................ score: (test=0.667) total time=   0.0s\n",
      "[CV] END ................................ score: (test=0.667) total time=   0.0s\n",
      "[CV] END ................................ score: (test=0.933) total time=   0.0s\n",
      "[CV] END ................................ score: (test=0.800) total time=   0.0s\n",
      "[CV] END ................................ score: (test=0.933) total time=   0.0s\n",
      "[CV] END ................................ score: (test=0.733) total time=   0.0s\n",
      "[CV] END ................................ score: (test=0.600) total time=   0.0s\n",
      "[CV] END ................................ score: (test=0.933) total time=   0.0s\n",
      "[CV] END ................................ score: (test=0.188) total time=   0.0s\n",
      "[CV] END ................................ score: (test=0.188) total time=   0.0s\n",
      "[CV] END ................................ score: (test=0.292) total time=   0.0s\n",
      "[CV] END ................................ score: (test=0.417) total time=   0.0s\n",
      "[CV] END ................................ score: (test=0.271) total time=   0.3s\n",
      "[CV] END ................................ score: (test=0.333) total time=   2.4s\n",
      "[CV] END ................................ score: (test=0.333) total time=  40.3s\n",
      "[CV] END ................................ score: (test=0.333) total time= 3.4min\n",
      "[CV] END ................................ score: (test=0.667) total time=   0.0s\n",
      "[CV] END ................................ score: (test=0.667) total time=   0.0s\n",
      "[CV] END ................................ score: (test=0.867) total time=   0.0s\n",
      "[CV] END ................................ score: (test=0.800) total time=   0.0s\n",
      "[CV] END ................................ score: (test=0.933) total time=   0.0s\n",
      "[CV] END ................................ score: (test=0.933) total time=   0.0s\n",
      "[CV] END ................................ score: (test=0.933) total time=   0.0s\n",
      "[CV] END ................................ score: (test=0.867) total time=   0.0s\n",
      "[CV] END ................................ score: (test=0.933) total time=   0.1s\n",
      "[CV] END ................................ score: (test=0.933) total time=   0.8s\n",
      "[CV] END ................................ score: (test=0.667) total time=   0.0s\n",
      "[CV] END ................................ score: (test=0.667) total time=   0.0s\n",
      "[CV] END ................................ score: (test=0.867) total time=   0.0s\n",
      "[CV] END ................................ score: (test=0.933) total time=   0.0s\n",
      "[CV] END ................................ score: (test=0.800) total time=   0.0s\n",
      "[CV] END ................................ score: (test=0.800) total time=   0.0s\n",
      "[CV] END ................................ score: (test=0.667) total time=   0.0s\n",
      "[CV] END ................................ score: (test=0.867) total time=   0.1s\n",
      "[CV] END ................................ score: (test=0.600) total time=   0.0s\n",
      "[CV] END ................................ score: (test=0.800) total time=   0.0s\n",
      "[CV] END ................................ score: (test=0.867) total time=   0.0s\n",
      "[CV] END ................................ score: (test=0.733) total time=   0.0s\n",
      "[CV] END ................................ score: (test=0.733) total time=   0.0s\n",
      "[CV] END ................................ score: (test=0.733) total time=   0.0s\n",
      "[CV] END ................................ score: (test=0.800) total time=   0.0s\n",
      "[CV] END ................................ score: (test=0.667) total time=   0.0s\n",
      "[CV] END ................................ score: (test=0.600) total time=   0.0s\n",
      "[CV] END ................................ score: (test=0.933) total time=   0.0s\n",
      "[CV] END ................................ score: (test=0.800) total time=   0.0s\n",
      "[CV] END ................................ score: (test=0.800) total time=   0.0s\n",
      "[CV] END ................................ score: (test=0.800) total time=   0.0s\n",
      "[CV] END ................................ score: (test=0.933) total time=   0.0s\n",
      "[CV] END ................................ score: (test=0.933) total time=   0.0s\n",
      "[CV] END ................................ score: (test=0.667) total time=   0.0s\n",
      "[CV] END ................................ score: (test=0.667) total time=   0.0s\n",
      "[CV] END ................................ score: (test=0.867) total time=   0.0s\n",
      "[CV] END ................................ score: (test=0.800) total time=   0.0s\n",
      "[CV] END ................................ score: (test=0.800) total time=   0.0s\n",
      "[CV] END ................................ score: (test=0.933) total time=   0.0s\n",
      "[CV] END ................................ score: (test=0.733) total time=   0.0s\n",
      "[CV] END ................................ score: (test=0.933) total time=   0.0s\n",
      "[CV] END ................................ score: (test=0.800) total time=   0.0s\n",
      "[CV] END ................................ score: (test=0.667) total time=   0.0s\n",
      "[CV] END ................................ score: (test=0.867) total time=   0.0s\n",
      "[CV] END ................................ score: (test=0.933) total time=   0.0s\n",
      "[CV] END ................................ score: (test=0.933) total time=   0.0s\n",
      "[CV] END ................................ score: (test=0.733) total time=   0.0s\n",
      "[CV] END ................................ score: (test=0.867) total time=   0.0s\n",
      "[CV] END ................................ score: (test=0.933) total time=   0.0s\n",
      "[CV] END ................................ score: (test=0.600) total time=   0.0s\n",
      "[CV] END ................................ score: (test=0.600) total time=   0.0s\n",
      "[CV] END ................................ score: (test=0.867) total time=   0.0s\n",
      "[CV] END ................................ score: (test=0.933) total time=   0.0s\n",
      "[CV] END ................................ score: (test=0.733) total time=   0.0s\n",
      "[CV] END ................................ score: (test=0.800) total time=   0.0s\n",
      "[CV] END ................................ score: (test=0.933) total time=   0.0s\n",
      "[CV] END ................................ score: (test=0.667) total time=   0.0s\n",
      "[CV] END ................................ score: (test=0.600) total time=   0.0s\n",
      "[CV] END ................................ score: (test=0.933) total time=   0.0s\n",
      "[CV] END ................................ score: (test=0.600) total time=   0.0s\n",
      "[CV] END ................................ score: (test=0.933) total time=   0.0s\n",
      "[CV] END ................................ score: (test=0.800) total time=   0.0s\n",
      "[CV] END ................................ score: (test=0.933) total time=   0.0s\n",
      "[CV] END ................................ score: (test=0.800) total time=   0.0s\n",
      "[CV] END ................................ score: (test=0.933) total time=   0.0s\n",
      "[CV] END ................................ score: (test=0.600) total time=   0.0s\n",
      "[CV] END ................................ score: (test=0.867) total time=   0.0s\n",
      "[CV] END ................................ score: (test=0.800) total time=   0.0s\n",
      "[CV] END ................................ score: (test=0.667) total time=   0.0s\n",
      "[CV] END ................................ score: (test=0.933) total time=   0.0s\n",
      "[CV] END ................................ score: (test=0.933) total time=   0.0s\n",
      "[CV] END ................................ score: (test=0.800) total time=   0.0s\n",
      "[CV] END ................................ score: (test=0.800) total time=   0.0s\n",
      "[CV] END ................................ score: (test=0.667) total time=   0.0s\n",
      "[CV] END ................................ score: (test=0.667) total time=   0.0s\n",
      "[CV] END ................................ score: (test=0.867) total time=   0.0s\n",
      "[CV] END ................................ score: (test=0.733) total time=   0.0s\n",
      "[CV] END ................................ score: (test=0.933) total time=   0.0s\n",
      "[CV] END ................................ score: (test=0.933) total time=   0.0s\n",
      "[CV] END ................................ score: (test=0.933) total time=   0.0s\n",
      "[CV] END ................................ score: (test=0.800) total time=   0.0s\n",
      "[CV] END ................................ score: (test=0.867) total time=   0.0s\n",
      "[CV] END ................................ score: (test=0.188) total time=   0.0s\n",
      "[CV] END ................................ score: (test=0.312) total time=   0.0s\n",
      "[CV] END ................................ score: (test=0.417) total time=   0.0s\n",
      "[CV] END ................................ score: (test=0.271) total time=   0.0s\n",
      "[CV] END ................................ score: (test=0.333) total time=   2.0s\n",
      "[CV] END ................................ score: (test=0.354) total time=  10.9s\n",
      "[CV] END ................................ score: (test=0.333) total time=  37.6s\n",
      "[CV] END ................................ score: (test=0.229) total time= 3.9min\n",
      "[CV] END ................................ score: (test=0.667) total time=   0.0s\n",
      "[CV] END ................................ score: (test=0.667) total time=   0.0s\n",
      "[CV] END ................................ score: (test=0.800) total time=   0.0s\n",
      "[CV] END ................................ score: (test=0.733) total time=   0.0s\n",
      "[CV] END ................................ score: (test=0.600) total time=   0.0s\n",
      "[CV] END ................................ score: (test=0.867) total time=   0.0s\n",
      "[CV] END ................................ score: (test=0.800) total time=   0.0s\n",
      "[CV] END ................................ score: (test=0.933) total time=   0.1s\n",
      "[CV] END ................................ score: (test=0.933) total time=   0.6s\n",
      "[CV] END ................................ score: (test=0.600) total time=   0.0s\n",
      "[CV] END ................................ score: (test=0.800) total time=   0.0s\n",
      "[CV] END ................................ score: (test=0.800) total time=   0.0s\n",
      "[CV] END ................................ score: (test=0.800) total time=   0.0s\n",
      "[CV] END ................................ score: (test=0.800) total time=   0.0s\n",
      "[CV] END ................................ score: (test=0.733) total time=   0.0s\n",
      "[CV] END ................................ score: (test=0.867) total time=   0.0s\n",
      "[CV] END ................................ score: (test=0.667) total time=   0.0s\n",
      "[CV] END ................................ score: (test=0.667) total time=   0.0s\n",
      "[CV] END ................................ score: (test=0.733) total time=   0.0s\n",
      "[CV] END ................................ score: (test=0.800) total time=   0.0s\n",
      "[CV] END ................................ score: (test=0.800) total time=   0.0s\n",
      "[CV] END ................................ score: (test=0.867) total time=   0.0s\n",
      "[CV] END ................................ score: (test=0.867) total time=   0.0s\n",
      "[CV] END ................................ score: (test=0.667) total time=   0.0s\n",
      "[CV] END ................................ score: (test=0.800) total time=   0.0s\n",
      "[CV] END ................................ score: (test=0.867) total time=   0.0s\n",
      "[CV] END ................................ score: (test=0.800) total time=   0.0s\n",
      "[CV] END ................................ score: (test=1.000) total time=   0.0s\n",
      "[CV] END ................................ score: (test=0.800) total time=   0.0s\n",
      "[CV] END ................................ score: (test=0.800) total time=   0.0s\n",
      "[CV] END ................................ score: (test=0.800) total time=   0.0s\n",
      "[CV] END ................................ score: (test=0.667) total time=   0.0s\n",
      "[CV] END ................................ score: (test=0.667) total time=   0.0s\n",
      "[CV] END ................................ score: (test=0.600) total time=   0.0s\n",
      "[CV] END ................................ score: (test=0.933) total time=   0.0s\n",
      "[CV] END ................................ score: (test=0.800) total time=   0.0s\n",
      "[CV] END ................................ score: (test=0.800) total time=   0.0s\n",
      "[CV] END ................................ score: (test=0.800) total time=   0.0s\n",
      "[CV] END ................................ score: (test=0.867) total time=   0.0s\n",
      "[CV] END ................................ score: (test=0.733) total time=   0.0s\n",
      "[CV] END ................................ score: (test=0.733) total time=   0.0s\n",
      "[CV] END ................................ score: (test=0.667) total time=   0.0s\n",
      "[CV] END ................................ score: (test=0.867) total time=   0.0s\n",
      "[CV] END ................................ score: (test=0.800) total time=   0.0s\n",
      "[CV] END ................................ score: (test=0.867) total time=   0.0s\n",
      "[CV] END ................................ score: (test=0.933) total time=   0.0s\n",
      "[CV] END ................................ score: (test=0.867) total time=   0.0s\n",
      "[CV] END ................................ score: (test=0.933) total time=   0.0s\n",
      "[CV] END ................................ score: (test=0.800) total time=   0.0s\n",
      "[CV] END ................................ score: (test=0.600) total time=   0.0s\n",
      "[CV] END ................................ score: (test=0.600) total time=   0.0s\n",
      "[CV] END ................................ score: (test=0.933) total time=   0.0s\n",
      "[CV] END ................................ score: (test=0.800) total time=   0.0s\n",
      "[CV] END ................................ score: (test=0.600) total time=   0.0s\n",
      "[CV] END ................................ score: (test=0.933) total time=   0.0s\n",
      "[CV] END ................................ score: (test=0.800) total time=   0.0s\n",
      "[CV] END ................................ score: (test=0.800) total time=   0.0s\n",
      "[CV] END ................................ score: (test=0.667) total time=   0.0s\n",
      "[CV] END ................................ score: (test=0.600) total time=   0.0s\n",
      "[CV] END ................................ score: (test=1.000) total time=   0.0s\n",
      "[CV] END ................................ score: (test=0.867) total time=   0.0s\n",
      "[CV] END ................................ score: (test=0.800) total time=   0.0s\n",
      "[CV] END ................................ score: (test=0.933) total time=   0.0s\n",
      "[CV] END ................................ score: (test=0.867) total time=   0.0s\n",
      "[CV] END ................................ score: (test=0.800) total time=   0.0s\n",
      "[CV] END ................................ score: (test=0.667) total time=   0.0s\n",
      "[CV] END ................................ score: (test=0.600) total time=   0.0s\n",
      "[CV] END ................................ score: (test=0.933) total time=   0.0s\n",
      "[CV] END ................................ score: (test=0.800) total time=   0.0s\n",
      "[CV] END ................................ score: (test=0.800) total time=   0.0s\n",
      "[CV] END ................................ score: (test=0.867) total time=   0.0s\n",
      "[CV] END ................................ score: (test=0.800) total time=   0.0s\n",
      "[CV] END ................................ score: (test=0.933) total time=   0.0s\n",
      "[CV] END ................................ score: (test=0.667) total time=   0.0s\n",
      "[CV] END ................................ score: (test=0.867) total time=   0.0s\n",
      "[CV] END ................................ score: (test=0.800) total time=   0.0s\n",
      "[CV] END ................................ score: (test=0.867) total time=   0.0s\n",
      "[CV] END ................................ score: (test=0.600) total time=   0.0s\n",
      "[CV] END ................................ score: (test=0.733) total time=   0.0s\n",
      "[CV] END ................................ score: (test=0.867) total time=   0.0s\n",
      "[CV] END ................................ score: (test=0.733) total time=   0.0s\n",
      "[CV] END ................................ score: (test=0.800) total time=   0.0s\n",
      "[CV] END ................................ score: (test=0.188) total time=   0.0s\n",
      "[CV] END ................................ score: (test=0.188) total time=   0.0s\n",
      "[CV] END ................................ score: (test=0.167) total time=   0.0s\n",
      "[CV] END ................................ score: (test=0.354) total time=   0.0s\n",
      "[CV] END ................................ score: (test=0.229) total time=   0.3s\n",
      "[CV] END ................................ score: (test=0.333) total time=   1.8s\n",
      "[CV] END ................................ score: (test=0.292) total time=   8.3s\n",
      "[CV] END ................................ score: (test=0.208) total time=  38.0s\n",
      "[CV] END ................................ score: (test=0.250) total time= 4.5min\n",
      "[CV] END ................................ score: (test=0.667) total time=   0.0s\n",
      "[CV] END ................................ score: (test=0.800) total time=   0.0s\n",
      "[CV] END ................................ score: (test=0.667) total time=   0.0s\n",
      "[CV] END ................................ score: (test=0.933) total time=   0.0s\n",
      "[CV] END ................................ score: (test=0.933) total time=   0.0s\n",
      "[CV] END ................................ score: (test=0.867) total time=   0.0s\n",
      "[CV] END ................................ score: (test=0.867) total time=   0.1s\n",
      "[CV] END ................................ score: (test=0.867) total time=   0.9s\n",
      "[CV] END ................................ score: (test=0.667) total time=   0.0s\n",
      "[CV] END ................................ score: (test=0.800) total time=   0.0s\n",
      "[CV] END ................................ score: (test=0.733) total time=   0.0s\n",
      "[CV] END ................................ score: (test=0.733) total time=   0.0s\n",
      "[CV] END ................................ score: (test=0.600) total time=   0.0s\n",
      "[CV] END ................................ score: (test=0.667) total time=   0.0s\n",
      "[CV] END ................................ score: (test=0.733) total time=   0.0s\n",
      "[CV] END ................................ score: (test=0.667) total time=   0.0s\n",
      "[CV] END ................................ score: (test=0.667) total time=   0.1s\n",
      "[CV] END ................................ score: (test=0.667) total time=   0.0s\n",
      "[CV] END ................................ score: (test=0.867) total time=   0.0s\n",
      "[CV] END ................................ score: (test=0.933) total time=   0.0s\n",
      "[CV] END ................................ score: (test=0.867) total time=   0.0s\n",
      "[CV] END ................................ score: (test=0.800) total time=   0.0s\n",
      "[CV] END ................................ score: (test=0.800) total time=   0.0s\n",
      "[CV] END ................................ score: (test=0.800) total time=   0.0s\n",
      "[CV] END ................................ score: (test=0.800) total time=   0.0s\n",
      "[CV] END ................................ score: (test=0.600) total time=   0.0s\n",
      "[CV] END ................................ score: (test=0.600) total time=   0.0s\n",
      "[CV] END ................................ score: (test=0.933) total time=   0.0s\n",
      "[CV] END ................................ score: (test=0.800) total time=   0.0s\n",
      "[CV] END ................................ score: (test=0.600) total time=   0.0s\n",
      "[CV] END ................................ score: (test=0.733) total time=   0.0s\n",
      "[CV] END ................................ score: (test=0.933) total time=   0.0s\n",
      "[CV] END ................................ score: (test=0.933) total time=   0.0s\n",
      "[CV] END ................................ score: (test=0.667) total time=   0.0s\n",
      "[CV] END ................................ score: (test=0.667) total time=   0.0s\n",
      "[CV] END ................................ score: (test=0.800) total time=   0.0s\n",
      "[CV] END ................................ score: (test=0.867) total time=   0.0s\n",
      "[CV] END ................................ score: (test=0.933) total time=   0.0s\n",
      "[CV] END ................................ score: (test=0.933) total time=   0.0s\n",
      "[CV] END ................................ score: (test=0.800) total time=   0.0s\n",
      "[CV] END ................................ score: (test=0.867) total time=   0.0s\n",
      "[CV] END ................................ score: (test=0.667) total time=   0.0s\n",
      "[CV] END ................................ score: (test=0.600) total time=   0.0s\n",
      "[CV] END ................................ score: (test=0.600) total time=   0.0s\n",
      "[CV] END ................................ score: (test=0.933) total time=   0.0s\n",
      "[CV] END ................................ score: (test=0.800) total time=   0.0s\n",
      "[CV] END ................................ score: (test=0.733) total time=   0.0s\n",
      "[CV] END ................................ score: (test=0.867) total time=   0.0s\n",
      "[CV] END ................................ score: (test=0.867) total time=   0.0s\n",
      "[CV] END ................................ score: (test=0.800) total time=   0.0s\n",
      "[CV] END ................................ score: (test=0.667) total time=   0.0s\n",
      "[CV] END ................................ score: (test=0.867) total time=   0.0s\n",
      "[CV] END ................................ score: (test=0.600) total time=   0.0s\n",
      "[CV] END ................................ score: (test=0.933) total time=   0.0s\n",
      "[CV] END ................................ score: (test=0.933) total time=   0.0s\n",
      "[CV] END ................................ score: (test=0.600) total time=   0.0s\n",
      "[CV] END ................................ score: (test=0.800) total time=   0.0s\n",
      "[CV] END ................................ score: (test=0.667) total time=   0.0s\n",
      "[CV] END ................................ score: (test=0.667) total time=   0.0s\n",
      "[CV] END ................................ score: (test=0.867) total time=   0.0s\n",
      "[CV] END ................................ score: (test=0.933) total time=   0.0s\n",
      "[CV] END ................................ score: (test=0.933) total time=   0.0s\n",
      "[CV] END ................................ score: (test=0.933) total time=   0.0s\n",
      "[CV] END ................................ score: (test=0.867) total time=   0.0s\n",
      "[CV] END ................................ score: (test=0.800) total time=   0.0s\n",
      "[CV] END ................................ score: (test=0.600) total time=   0.0s\n",
      "[CV] END ................................ score: (test=0.667) total time=   0.0s\n",
      "[CV] END ................................ score: (test=0.800) total time=   0.0s\n",
      "[CV] END ................................ score: (test=0.933) total time=   0.0s\n",
      "[CV] END ................................ score: (test=0.800) total time=   0.0s\n",
      "[CV] END ................................ score: (test=0.667) total time=   0.0s\n",
      "[CV] END ................................ score: (test=0.667) total time=   0.0s\n",
      "[CV] END ................................ score: (test=0.933) total time=   0.0s\n",
      "[CV] END ................................ score: (test=0.933) total time=   0.0s\n",
      "[CV] END ................................ score: (test=0.600) total time=   0.0s\n",
      "[CV] END ................................ score: (test=0.600) total time=   0.0s\n",
      "[CV] END ................................ score: (test=0.933) total time=   0.0s\n",
      "[CV] END ................................ score: (test=0.733) total time=   0.0s\n",
      "[CV] END ................................ score: (test=0.933) total time=   0.0s\n",
      "[CV] END ................................ score: (test=0.600) total time=   0.0s\n",
      "[CV] END ................................ score: (test=0.933) total time=   0.0s\n",
      "[CV] END ................................ score: (test=0.867) total time=   0.0s\n",
      "[CV] END ................................ score: (test=0.188) total time=   0.0s\n",
      "[CV] END ................................ score: (test=0.188) total time=   0.0s\n",
      "[CV] END ................................ score: (test=0.167) total time=   0.0s\n",
      "[CV] END ................................ score: (test=0.375) total time=   0.0s\n",
      "[CV] END ................................ score: (test=0.354) total time=   0.0s\n",
      "[CV] END ................................ score: (test=0.396) total time=   0.3s\n",
      "[CV] END ................................ score: (test=0.271) total time=   1.7s\n",
      "[CV] END ................................ score: (test=0.229) total time=   9.6s\n",
      "[CV] END ................................ score: (test=0.396) total time=  30.4s\n",
      "[CV] END ................................ score: (test=0.208) total time= 5.4min\n",
      "[CV] END ................................ score: (test=0.667) total time=   0.0s\n",
      "[CV] END ................................ score: (test=0.667) total time=   0.0s\n",
      "[CV] END ................................ score: (test=0.667) total time=   0.0s\n",
      "[CV] END ................................ score: (test=1.000) total time=   0.0s\n",
      "[CV] END ................................ score: (test=0.933) total time=   0.0s\n",
      "[CV] END ................................ score: (test=0.867) total time=   0.0s\n",
      "[CV] END ................................ score: (test=0.867) total time=   0.0s\n",
      "[CV] END ................................ score: (test=0.800) total time=   0.0s\n",
      "[CV] END ................................ score: (test=0.933) total time=   0.1s\n",
      "[CV] END ................................ score: (test=0.867) total time=   0.6s\n",
      "[CV] END ................................ score: (test=0.600) total time=   0.0s\n",
      "[CV] END ................................ score: (test=0.600) total time=   0.0s\n",
      "[CV] END ................................ score: (test=0.867) total time=   0.0s\n",
      "[CV] END ................................ score: (test=0.867) total time=   0.0s\n",
      "[CV] END ................................ score: (test=0.800) total time=   0.0s\n",
      "[CV] END ................................ score: (test=0.733) total time=   0.0s\n",
      "[CV] END ................................ score: (test=0.667) total time=   0.0s\n",
      "[CV] END ................................ score: (test=0.800) total time=   0.0s\n",
      "[CV] END ................................ score: (test=0.800) total time=   0.0s\n",
      "[CV] END ................................ score: (test=0.667) total time=   0.0s\n",
      "[CV] END ................................ score: (test=0.600) total time=   0.0s\n",
      "[CV] END ................................ score: (test=1.000) total time=   0.0s\n",
      "[CV] END ................................ score: (test=1.000) total time=   0.0s\n",
      "[CV] END ................................ score: (test=0.800) total time=   0.0s\n",
      "[CV] END ................................ score: (test=0.800) total time=   0.0s\n",
      "[CV] END ................................ score: (test=0.800) total time=   0.0s\n",
      "[CV] END ................................ score: (test=0.867) total time=   0.0s\n",
      "[CV] END ................................ score: (test=0.867) total time=   0.0s\n",
      "[CV] END ................................ score: (test=0.600) total time=   0.0s\n",
      "[CV] END ................................ score: (test=0.867) total time=   0.0s\n",
      "[CV] END ................................ score: (test=0.733) total time=   0.0s\n",
      "[CV] END ................................ score: (test=0.800) total time=   0.0s\n",
      "[CV] END ................................ score: (test=0.800) total time=   0.0s\n",
      "[CV] END ................................ score: (test=0.800) total time=   0.0s\n",
      "[CV] END ................................ score: (test=0.733) total time=   0.0s\n",
      "[CV] END ................................ score: (test=1.000) total time=   0.0s\n",
      "[CV] END ................................ score: (test=0.667) total time=   0.0s\n",
      "[CV] END ................................ score: (test=0.600) total time=   0.0s\n",
      "[CV] END ................................ score: (test=1.000) total time=   0.0s\n",
      "[CV] END ................................ score: (test=0.933) total time=   0.0s\n",
      "[CV] END ................................ score: (test=0.800) total time=   0.0s\n",
      "[CV] END ................................ score: (test=0.800) total time=   0.0s\n",
      "[CV] END ................................ score: (test=0.600) total time=   0.0s\n",
      "[CV] END ................................ score: (test=0.933) total time=   0.0s\n",
      "[CV] END ................................ score: (test=0.667) total time=   0.0s\n",
      "[CV] END ................................ score: (test=0.667) total time=   0.0s\n",
      "[CV] END ................................ score: (test=0.600) total time=   0.0s\n",
      "[CV] END ................................ score: (test=0.867) total time=   0.0s\n",
      "[CV] END ................................ score: (test=0.933) total time=   0.0s\n",
      "[CV] END ................................ score: (test=0.733) total time=   0.0s\n",
      "[CV] END ................................ score: (test=0.933) total time=   0.0s\n",
      "[CV] END ................................ score: (test=0.800) total time=   0.0s\n",
      "[CV] END ................................ score: (test=0.733) total time=   0.0s\n",
      "[CV] END ................................ score: (test=0.667) total time=   0.0s\n",
      "[CV] END ................................ score: (test=0.667) total time=   0.0s\n",
      "[CV] END ................................ score: (test=0.733) total time=   0.0s\n",
      "[CV] END ................................ score: (test=0.867) total time=   0.0s\n",
      "[CV] END ................................ score: (test=0.800) total time=   0.0s\n",
      "[CV] END ................................ score: (test=0.867) total time=   0.0s\n",
      "[CV] END ................................ score: (test=0.867) total time=   0.0s\n",
      "[CV] END ................................ score: (test=0.933) total time=   0.0s\n",
      "[CV] END ................................ score: (test=0.667) total time=   0.0s\n",
      "[CV] END ................................ score: (test=0.667) total time=   0.0s\n",
      "[CV] END ................................ score: (test=0.867) total time=   0.0s\n",
      "[CV] END ................................ score: (test=0.867) total time=   0.0s\n",
      "[CV] END ................................ score: (test=0.667) total time=   0.0s\n",
      "[CV] END ................................ score: (test=0.667) total time=   0.0s\n",
      "[CV] END ................................ score: (test=0.867) total time=   0.0s\n",
      "[CV] END ................................ score: (test=0.667) total time=   0.0s\n",
      "[CV] END ................................ score: (test=0.933) total time=   0.0s\n",
      "[CV] END ................................ score: (test=0.800) total time=   0.0s\n",
      "[CV] END ................................ score: (test=0.667) total time=   0.0s\n",
      "[CV] END ................................ score: (test=0.733) total time=   0.0s\n",
      "[CV] END ................................ score: (test=0.867) total time=   0.0s\n",
      "[CV] END ................................ score: (test=0.867) total time=   0.0s\n",
      "[CV] END ................................ score: (test=0.800) total time=   0.0s\n",
      "[CV] END ................................ score: (test=0.867) total time=   0.0s\n",
      "[CV] END ................................ score: (test=0.867) total time=   0.0s\n",
      "[CV] END ................................ score: (test=0.800) total time=   0.0s\n",
      "[CV] END ................................ score: (test=0.667) total time=   0.0s\n",
      "[CV] END ................................ score: (test=0.867) total time=   0.0s\n",
      "[CV] END ................................ score: (test=0.867) total time=   0.0s\n",
      "[CV] END ................................ score: (test=0.800) total time=   0.0s\n",
      "[CV] END ................................ score: (test=0.933) total time=   0.0s\n",
      "[CV] END ................................ score: (test=0.867) total time=   0.0s\n",
      "[CV] END ................................ score: (test=0.933) total time=   0.0s\n",
      "[CV] END ................................ score: (test=0.188) total time=   0.0s\n",
      "[CV] END ................................ score: (test=0.188) total time=   0.0s\n",
      "[CV] END ................................ score: (test=0.458) total time=   0.0s\n",
      "[CV] END ................................ score: (test=0.354) total time=   0.0s\n",
      "[CV] END ................................ score: (test=0.354) total time=   0.0s\n",
      "[CV] END ................................ score: (test=0.354) total time=   2.4s\n",
      "[CV] END ................................ score: (test=0.312) total time=   9.5s\n",
      "[CV] END ................................ score: (test=0.229) total time=  26.1s\n",
      "[CV] END ................................ score: (test=0.458) total time= 5.7min\n",
      "[CV] END ................................ score: (test=0.667) total time=   0.0s\n",
      "[CV] END ................................ score: (test=0.667) total time=   0.0s\n",
      "[CV] END ................................ score: (test=0.800) total time=   0.0s\n",
      "[CV] END ................................ score: (test=0.733) total time=   0.0s\n",
      "[CV] END ................................ score: (test=0.933) total time=   0.0s\n",
      "[CV] END ................................ score: (test=0.933) total time=   0.0s\n",
      "[CV] END ................................ score: (test=0.667) total time=   0.1s\n",
      "[CV] END ................................ score: (test=0.800) total time=   0.4s\n",
      "[CV] END ................................ score: (test=0.667) total time=   0.0s\n",
      "[CV] END ................................ score: (test=0.867) total time=   0.0s\n",
      "[CV] END ................................ score: (test=0.800) total time=   0.0s\n",
      "[CV] END ................................ score: (test=0.933) total time=   0.0s\n",
      "[CV] END ................................ score: (test=0.867) total time=   0.0s\n",
      "[CV] END ................................ score: (test=0.800) total time=   0.0s\n",
      "[CV] END ................................ score: (test=0.667) total time=   0.0s\n",
      "[CV] END ................................ score: (test=0.800) total time=   0.0s\n",
      "[CV] END ................................ score: (test=0.533) total time=   0.0s\n",
      "[CV] END ................................ score: (test=0.667) total time=   0.0s\n",
      "[CV] END ................................ score: (test=0.667) total time=   0.0s\n",
      "[CV] END ................................ score: (test=0.600) total time=   0.0s\n",
      "[CV] END ................................ score: (test=0.600) total time=   0.0s\n",
      "[CV] END ................................ score: (test=0.733) total time=   0.0s\n",
      "[CV] END ................................ score: (test=1.000) total time=   0.0s\n",
      "[CV] END ................................ score: (test=0.733) total time=   0.0s\n",
      "[CV] END ................................ score: (test=0.600) total time=   0.0s\n",
      "[CV] END ................................ score: (test=0.733) total time=   0.0s\n",
      "[CV] END ................................ score: (test=0.667) total time=   0.0s\n",
      "[CV] END ................................ score: (test=0.867) total time=   0.0s\n",
      "[CV] END ................................ score: (test=0.867) total time=   0.0s\n",
      "[CV] END ................................ score: (test=0.933) total time=   0.0s\n",
      "[CV] END ................................ score: (test=0.800) total time=   0.0s\n",
      "[CV] END ................................ score: (test=0.800) total time=   0.0s\n",
      "[CV] END ................................ score: (test=0.733) total time=   0.0s\n",
      "[CV] END ................................ score: (test=0.667) total time=   0.0s\n",
      "[CV] END ................................ score: (test=0.667) total time=   0.0s\n",
      "[CV] END ................................ score: (test=0.933) total time=   0.0s\n",
      "[CV] END ................................ score: (test=0.800) total time=   0.0s\n",
      "[CV] END ................................ score: (test=0.933) total time=   0.0s\n",
      "[CV] END ................................ score: (test=0.800) total time=   0.0s\n",
      "[CV] END ................................ score: (test=0.800) total time=   0.0s\n",
      "[CV] END ................................ score: (test=0.800) total time=   0.0s\n",
      "[CV] END ................................ score: (test=0.800) total time=   0.0s\n",
      "[CV] END ................................ score: (test=0.667) total time=   0.0s\n",
      "[CV] END ................................ score: (test=0.667) total time=   0.0s\n",
      "[CV] END ................................ score: (test=0.800) total time=   0.0s\n",
      "[CV] END ................................ score: (test=0.733) total time=   0.0s\n",
      "[CV] END ................................ score: (test=0.933) total time=   0.0s\n",
      "[CV] END ................................ score: (test=0.933) total time=   0.0s\n",
      "[CV] END ................................ score: (test=0.800) total time=   0.0s\n",
      "[CV] END ................................ score: (test=0.733) total time=   0.0s\n",
      "[CV] END ................................ score: (test=0.600) total time=   0.0s\n",
      "[CV] END ................................ score: (test=0.867) total time=   0.0s\n",
      "[CV] END ................................ score: (test=0.867) total time=   0.0s\n",
      "[CV] END ................................ score: (test=0.800) total time=   0.0s\n",
      "[CV] END ................................ score: (test=0.933) total time=   0.0s\n",
      "[CV] END ................................ score: (test=0.800) total time=   0.0s\n",
      "[CV] END ................................ score: (test=0.933) total time=   0.0s\n",
      "[CV] END ................................ score: (test=0.867) total time=   0.0s\n",
      "[CV] END ................................ score: (test=0.600) total time=   0.0s\n",
      "[CV] END ................................ score: (test=0.867) total time=   0.0s\n",
      "[CV] END ................................ score: (test=0.800) total time=   0.0s\n",
      "[CV] END ................................ score: (test=0.800) total time=   0.0s\n",
      "[CV] END ................................ score: (test=0.867) total time=   0.0s\n",
      "[CV] END ................................ score: (test=0.800) total time=   0.0s\n",
      "[CV] END ................................ score: (test=0.800) total time=   0.0s\n",
      "[CV] END ................................ score: (test=0.933) total time=   0.0s\n",
      "[CV] END ................................ score: (test=0.800) total time=   0.0s\n",
      "[CV] END ................................ score: (test=0.667) total time=   0.0s\n",
      "[CV] END ................................ score: (test=0.600) total time=   0.0s\n",
      "[CV] END ................................ score: (test=0.667) total time=   0.0s\n",
      "[CV] END ................................ score: (test=0.933) total time=   0.0s\n",
      "[CV] END ................................ score: (test=0.933) total time=   0.0s\n",
      "[CV] END ................................ score: (test=0.933) total time=   0.0s\n",
      "[CV] END ................................ score: (test=0.800) total time=   0.0s\n",
      "[CV] END ................................ score: (test=0.667) total time=   0.0s\n",
      "[CV] END ................................ score: (test=0.800) total time=   0.0s\n",
      "[CV] END ................................ score: (test=0.667) total time=   0.0s\n",
      "[CV] END ................................ score: (test=0.667) total time=   0.0s\n",
      "[CV] END ................................ score: (test=0.600) total time=   0.0s\n",
      "[CV] END ................................ score: (test=0.933) total time=   0.0s\n",
      "[CV] END ................................ score: (test=0.933) total time=   0.0s\n",
      "[CV] END ................................ score: (test=0.867) total time=   0.0s\n",
      "[CV] END ................................ score: (test=0.867) total time=   0.0s\n",
      "[CV] END ................................ score: (test=0.867) total time=   0.0s\n",
      "[CV] END ................................ score: (test=0.600) total time=   0.0s\n",
      "[CV] END ................................ score: (test=0.188) total time=   0.0s\n",
      "[CV] END ................................ score: (test=0.250) total time=   0.0s\n",
      "[CV] END ................................ score: (test=0.354) total time=   0.0s\n",
      "[CV] END ................................ score: (test=0.375) total time=   0.0s\n",
      "[CV] END ................................ score: (test=0.354) total time=   0.3s\n",
      "[CV] END ................................ score: (test=0.250) total time=   1.6s\n",
      "[CV] END ................................ score: (test=0.292) total time=  10.0s\n",
      "[CV] END ................................ score: (test=0.312) total time=  42.7s\n",
      "[CV] END ................................ score: (test=0.271) total time= 6.3min\n"
     ]
    },
    {
     "name": "stderr",
     "output_type": "stream",
     "text": [
      "[Parallel(n_jobs=-1)]: Done  10 out of  10 | elapsed: 11.7min finished\n"
     ]
    },
    {
     "name": "stdout",
     "output_type": "stream",
     "text": [
      "ieme iteration 1: H=2, C=1e-05\n"
     ]
    },
    {
     "name": "stderr",
     "output_type": "stream",
     "text": [
      "[Parallel(n_jobs=-1)]: Using backend LokyBackend with 12 concurrent workers.\n",
      "[Parallel(n_jobs=-1)]: Done   3 out of  10 | elapsed:    0.1s remaining:    0.3s\n",
      "[Parallel(n_jobs=-1)]: Done   7 out of  10 | elapsed:    0.2s remaining:    0.1s\n",
      "[Parallel(n_jobs=-1)]: Done  10 out of  10 | elapsed:    0.2s finished\n"
     ]
    },
    {
     "name": "stdout",
     "output_type": "stream",
     "text": [
      "ieme iteration 1: H=2, C=0.0001\n"
     ]
    },
    {
     "name": "stderr",
     "output_type": "stream",
     "text": [
      "[Parallel(n_jobs=-1)]: Using backend LokyBackend with 12 concurrent workers.\n",
      "/home/vinc/anaconda3/lib/python3.9/site-packages/scipy/__init__.py:146: UserWarning: A NumPy version >=1.16.5 and <1.23.0 is required for this version of SciPy (detected version 1.23.4\n",
      "  warnings.warn(f\"A NumPy version >={np_minversion} and <{np_maxversion}\"\n",
      "/home/vinc/anaconda3/lib/python3.9/site-packages/scipy/__init__.py:146: UserWarning: A NumPy version >=1.16.5 and <1.23.0 is required for this version of SciPy (detected version 1.23.4\n",
      "  warnings.warn(f\"A NumPy version >={np_minversion} and <{np_maxversion}\"\n",
      "/home/vinc/anaconda3/lib/python3.9/site-packages/scipy/__init__.py:146: UserWarning: A NumPy version >=1.16.5 and <1.23.0 is required for this version of SciPy (detected version 1.23.4\n",
      "  warnings.warn(f\"A NumPy version >={np_minversion} and <{np_maxversion}\"\n",
      "/home/vinc/anaconda3/lib/python3.9/site-packages/scipy/__init__.py:146: UserWarning: A NumPy version >=1.16.5 and <1.23.0 is required for this version of SciPy (detected version 1.23.4\n",
      "  warnings.warn(f\"A NumPy version >={np_minversion} and <{np_maxversion}\"\n",
      "/home/vinc/anaconda3/lib/python3.9/site-packages/scipy/__init__.py:146: UserWarning: A NumPy version >=1.16.5 and <1.23.0 is required for this version of SciPy (detected version 1.23.4\n",
      "  warnings.warn(f\"A NumPy version >={np_minversion} and <{np_maxversion}\"\n",
      "/home/vinc/anaconda3/lib/python3.9/site-packages/scipy/__init__.py:146: UserWarning: A NumPy version >=1.16.5 and <1.23.0 is required for this version of SciPy (detected version 1.23.4\n",
      "  warnings.warn(f\"A NumPy version >={np_minversion} and <{np_maxversion}\"\n",
      "[Parallel(n_jobs=-1)]: Done   3 out of  10 | elapsed:    0.0s remaining:    0.1s\n",
      "/home/vinc/anaconda3/lib/python3.9/site-packages/scipy/__init__.py:146: UserWarning: A NumPy version >=1.16.5 and <1.23.0 is required for this version of SciPy (detected version 1.23.4\n",
      "  warnings.warn(f\"A NumPy version >={np_minversion} and <{np_maxversion}\"\n"
     ]
    },
    {
     "name": "stdout",
     "output_type": "stream",
     "text": [
      "[CV] END ................................ score: (test=0.667) total time=   0.0s\n",
      "[CV] END ................................ score: (test=0.867) total time=   0.0s\n",
      "[CV] END ................................ score: (test=0.933) total time=   0.0s\n",
      "[CV] END ................................ score: (test=0.800) total time=   0.0s\n",
      "[CV] END ................................ score: (test=0.867) total time=   0.0s\n",
      "[CV] END ................................ score: (test=1.000) total time=   0.1s\n",
      "[CV] END ................................ score: (test=0.867) total time=   0.3s\n",
      "[CV] END ................................ score: (test=0.667) total time=   0.0s\n",
      "[CV] END ................................ score: (test=0.667) total time=   0.0s\n",
      "[CV] END ................................ score: (test=0.933) total time=   0.0s\n",
      "[CV] END ................................ score: (test=0.933) total time=   0.0s\n",
      "[CV] END ................................ score: (test=0.933) total time=   0.0s\n",
      "[CV] END ................................ score: (test=0.533) total time=   0.0s\n",
      "[CV] END ................................ score: (test=0.800) total time=   0.0s\n",
      "[CV] END ................................ score: (test=0.733) total time=   0.0s\n",
      "[CV] END ................................ score: (test=0.733) total time=   0.1s\n",
      "[CV] END ................................ score: (test=0.600) total time=   0.0s\n",
      "[CV] END ................................ score: (test=0.600) total time=   0.0s\n",
      "[CV] END ................................ score: (test=0.933) total time=   0.0s\n",
      "[CV] END ................................ score: (test=0.733) total time=   0.0s\n",
      "[CV] END ................................ score: (test=0.933) total time=   0.0s\n",
      "[CV] END ................................ score: (test=0.867) total time=   0.0s\n",
      "[CV] END ................................ score: (test=0.800) total time=   0.0s\n",
      "[CV] END ................................ score: (test=0.800) total time=   0.0s\n",
      "[CV] END ................................ score: (test=0.867) total time=   0.0s\n",
      "[CV] END ................................ score: (test=0.667) total time=   0.0s\n",
      "[CV] END ................................ score: (test=0.667) total time=   0.0s\n",
      "[CV] END ................................ score: (test=0.600) total time=   0.0s\n",
      "[CV] END ................................ score: (test=0.800) total time=   0.0s\n",
      "[CV] END ................................ score: (test=1.000) total time=   0.0s\n",
      "[CV] END ................................ score: (test=0.800) total time=   0.0s\n",
      "[CV] END ................................ score: (test=0.800) total time=   0.0s\n",
      "[CV] END ................................ score: (test=0.800) total time=   0.0s\n",
      "[CV] END ................................ score: (test=0.733) total time=   0.0s\n",
      "[CV] END ................................ score: (test=0.667) total time=   0.0s\n",
      "[CV] END ................................ score: (test=0.600) total time=   0.0s\n",
      "[CV] END ................................ score: (test=0.600) total time=   0.0s\n",
      "[CV] END ................................ score: (test=0.867) total time=   0.0s\n",
      "[CV] END ................................ score: (test=0.600) total time=   0.0s\n",
      "[CV] END ................................ score: (test=0.933) total time=   0.0s\n",
      "[CV] END ................................ score: (test=0.800) total time=   0.0s\n",
      "[CV] END ................................ score: (test=0.800) total time=   0.0s\n",
      "[CV] END ................................ score: (test=0.600) total time=   0.0s\n",
      "[CV] END ................................ score: (test=0.600) total time=   0.0s\n",
      "[CV] END ................................ score: (test=0.867) total time=   0.0s\n",
      "[CV] END ................................ score: (test=0.867) total time=   0.0s\n",
      "[CV] END ................................ score: (test=0.800) total time=   0.0s\n",
      "[CV] END ................................ score: (test=0.800) total time=   0.0s\n",
      "[CV] END ................................ score: (test=0.733) total time=   0.0s\n",
      "[CV] END ................................ score: (test=0.667) total time=   0.0s\n",
      "[CV] END ................................ score: (test=0.600) total time=   0.0s\n",
      "[CV] END ................................ score: (test=0.933) total time=   0.0s\n",
      "[CV] END ................................ score: (test=0.867) total time=   0.0s\n",
      "[CV] END ................................ score: (test=0.867) total time=   0.0s\n",
      "[CV] END ................................ score: (test=0.800) total time=   0.0s\n",
      "[CV] END ................................ score: (test=0.800) total time=   0.0s\n",
      "[CV] END ................................ score: (test=0.600) total time=   0.0s\n",
      "[CV] END ................................ score: (test=0.933) total time=   0.0s\n",
      "[CV] END ................................ score: (test=0.667) total time=   0.0s\n",
      "[CV] END ................................ score: (test=0.733) total time=   0.0s\n",
      "[CV] END ................................ score: (test=0.800) total time=   0.0s\n",
      "[CV] END ................................ score: (test=0.933) total time=   0.0s\n",
      "[CV] END ................................ score: (test=0.800) total time=   0.0s\n",
      "[CV] END ................................ score: (test=0.933) total time=   0.0s\n",
      "[CV] END ................................ score: (test=0.867) total time=   0.0s\n",
      "[CV] END ................................ score: (test=0.667) total time=   0.0s\n",
      "[CV] END ................................ score: (test=0.600) total time=   0.0s\n",
      "[CV] END ................................ score: (test=0.933) total time=   0.0s\n",
      "[CV] END ................................ score: (test=0.800) total time=   0.0s\n",
      "[CV] END ................................ score: (test=0.867) total time=   0.0s\n",
      "[CV] END ................................ score: (test=0.933) total time=   0.0s\n",
      "[CV] END ................................ score: (test=0.933) total time=   0.0s\n",
      "[CV] END ................................ score: (test=0.933) total time=   0.0s\n",
      "[CV] END ................................ score: (test=0.667) total time=   0.0s\n",
      "[CV] END ................................ score: (test=0.600) total time=   0.0s\n",
      "[CV] END ................................ score: (test=0.800) total time=   0.0s\n",
      "[CV] END ................................ score: (test=0.933) total time=   0.0s\n",
      "[CV] END ................................ score: (test=0.867) total time=   0.0s\n",
      "[CV] END ................................ score: (test=0.800) total time=   0.0s\n",
      "[CV] END ................................ score: (test=0.933) total time=   0.0s\n",
      "[CV] END ................................ score: (test=0.933) total time=   0.0s\n",
      "[CV] END ................................ score: (test=0.188) total time=   0.0s\n",
      "[CV] END ................................ score: (test=0.188) total time=   0.0s\n",
      "[CV] END ................................ score: (test=0.250) total time=   0.0s\n",
      "[CV] END ................................ score: (test=0.458) total time=   0.0s\n",
      "[CV] END ................................ score: (test=0.333) total time=   0.3s\n",
      "[CV] END ................................ score: (test=0.354) total time=   2.4s\n",
      "[CV] END ................................ score: (test=0.292) total time=  47.0s\n",
      "[CV] END ................................ score: (test=0.312) total time=11.7min\n",
      "[CV] END ................................ score: (test=0.188) total time=   0.0s\n",
      "[CV] END ................................ score: (test=0.188) total time=   0.0s\n",
      "[CV] END ................................ score: (test=0.188) total time=   0.0s\n",
      "[CV] END ................................ score: (test=0.188) total time=   0.0s\n",
      "[CV] END ................................ score: (test=0.167) total time=   0.0s\n",
      "[CV] END ................................ score: (test=0.167) total time=   0.0s\n",
      "[CV] END ................................ score: (test=0.167) total time=   0.0s\n",
      "[CV] END ................................ score: (test=0.188) total time=   0.0s\n",
      "[CV] END ................................ score: (test=0.188) total time=   0.0s\n",
      "[CV] END ................................ score: (test=0.188) total time=   0.0s\n",
      "[CV] END ................................ score: (test=0.208) total time=   0.0s\n",
      "[CV] END ................................ score: (test=0.167) total time=   0.0s\n"
     ]
    },
    {
     "name": "stderr",
     "output_type": "stream",
     "text": [
      "[Parallel(n_jobs=-1)]: Done   7 out of  10 | elapsed:    0.3s remaining:    0.1s\n",
      "[Parallel(n_jobs=-1)]: Done  10 out of  10 | elapsed:    0.4s finished\n"
     ]
    },
    {
     "name": "stdout",
     "output_type": "stream",
     "text": [
      "ieme iteration 1: H=2, C=0.001\n"
     ]
    },
    {
     "name": "stderr",
     "output_type": "stream",
     "text": [
      "[Parallel(n_jobs=-1)]: Using backend LokyBackend with 12 concurrent workers.\n",
      "/home/vinc/anaconda3/lib/python3.9/site-packages/scipy/__init__.py:146: UserWarning: A NumPy version >=1.16.5 and <1.23.0 is required for this version of SciPy (detected version 1.23.4\n",
      "  warnings.warn(f\"A NumPy version >={np_minversion} and <{np_maxversion}\"\n",
      "/home/vinc/anaconda3/lib/python3.9/site-packages/scipy/__init__.py:146: UserWarning: A NumPy version >=1.16.5 and <1.23.0 is required for this version of SciPy (detected version 1.23.4\n",
      "  warnings.warn(f\"A NumPy version >={np_minversion} and <{np_maxversion}\"\n",
      "/home/vinc/anaconda3/lib/python3.9/site-packages/scipy/__init__.py:146: UserWarning: A NumPy version >=1.16.5 and <1.23.0 is required for this version of SciPy (detected version 1.23.4\n",
      "  warnings.warn(f\"A NumPy version >={np_minversion} and <{np_maxversion}\"\n",
      "[Parallel(n_jobs=-1)]: Done   3 out of  10 | elapsed:    0.0s remaining:    0.0s\n",
      "/home/vinc/anaconda3/lib/python3.9/site-packages/scipy/__init__.py:146: UserWarning: A NumPy version >=1.16.5 and <1.23.0 is required for this version of SciPy (detected version 1.23.4\n",
      "  warnings.warn(f\"A NumPy version >={np_minversion} and <{np_maxversion}\"\n",
      "[Parallel(n_jobs=-1)]: Done   7 out of  10 | elapsed:    0.3s remaining:    0.1s\n",
      "[Parallel(n_jobs=-1)]: Done  10 out of  10 | elapsed:    0.3s finished\n"
     ]
    },
    {
     "name": "stdout",
     "output_type": "stream",
     "text": [
      "ieme iteration 1: H=2, C=0.01\n"
     ]
    },
    {
     "name": "stderr",
     "output_type": "stream",
     "text": [
      "[Parallel(n_jobs=-1)]: Using backend LokyBackend with 12 concurrent workers.\n",
      "[Parallel(n_jobs=-1)]: Done   3 out of  10 | elapsed:    0.0s remaining:    0.0s\n",
      "[Parallel(n_jobs=-1)]: Done   7 out of  10 | elapsed:    0.0s remaining:    0.0s\n",
      "[Parallel(n_jobs=-1)]: Done  10 out of  10 | elapsed:    0.0s finished\n"
     ]
    },
    {
     "name": "stdout",
     "output_type": "stream",
     "text": [
      "ieme iteration 1: H=2, C=0.1\n"
     ]
    },
    {
     "name": "stderr",
     "output_type": "stream",
     "text": [
      "[Parallel(n_jobs=-1)]: Using backend LokyBackend with 12 concurrent workers.\n",
      "[Parallel(n_jobs=-1)]: Done   3 out of  10 | elapsed:    0.0s remaining:    0.1s\n",
      "[Parallel(n_jobs=-1)]: Done   7 out of  10 | elapsed:    0.0s remaining:    0.0s\n",
      "[Parallel(n_jobs=-1)]: Done  10 out of  10 | elapsed:    0.1s finished\n"
     ]
    },
    {
     "name": "stdout",
     "output_type": "stream",
     "text": [
      "ieme iteration 1: H=2, C=1.0\n"
     ]
    },
    {
     "name": "stderr",
     "output_type": "stream",
     "text": [
      "[Parallel(n_jobs=-1)]: Using backend LokyBackend with 12 concurrent workers.\n",
      "[Parallel(n_jobs=-1)]: Done   3 out of  10 | elapsed:    0.0s remaining:    0.1s\n",
      "[Parallel(n_jobs=-1)]: Done   7 out of  10 | elapsed:    0.0s remaining:    0.0s\n",
      "[Parallel(n_jobs=-1)]: Done  10 out of  10 | elapsed:    0.0s finished\n"
     ]
    },
    {
     "name": "stdout",
     "output_type": "stream",
     "text": [
      "ieme iteration 1: H=2, C=10.0\n"
     ]
    },
    {
     "name": "stderr",
     "output_type": "stream",
     "text": [
      "[Parallel(n_jobs=-1)]: Using backend LokyBackend with 12 concurrent workers.\n",
      "[Parallel(n_jobs=-1)]: Done   3 out of  10 | elapsed:    0.0s remaining:    0.1s\n",
      "[Parallel(n_jobs=-1)]: Done   7 out of  10 | elapsed:    0.0s remaining:    0.0s\n",
      "[Parallel(n_jobs=-1)]: Done  10 out of  10 | elapsed:    0.1s finished\n"
     ]
    },
    {
     "name": "stdout",
     "output_type": "stream",
     "text": [
      "ieme iteration 1: H=2, C=100.0\n"
     ]
    },
    {
     "name": "stderr",
     "output_type": "stream",
     "text": [
      "[Parallel(n_jobs=-1)]: Using backend LokyBackend with 12 concurrent workers.\n",
      "[Parallel(n_jobs=-1)]: Done   3 out of  10 | elapsed:    0.0s remaining:    0.1s\n",
      "[Parallel(n_jobs=-1)]: Done   7 out of  10 | elapsed:    0.0s remaining:    0.0s\n",
      "[Parallel(n_jobs=-1)]: Done  10 out of  10 | elapsed:    0.1s finished\n"
     ]
    },
    {
     "name": "stdout",
     "output_type": "stream",
     "text": [
      "ieme iteration 1: H=2, C=1000.0\n"
     ]
    },
    {
     "name": "stderr",
     "output_type": "stream",
     "text": [
      "[Parallel(n_jobs=-1)]: Using backend LokyBackend with 12 concurrent workers.\n",
      "[Parallel(n_jobs=-1)]: Done   3 out of  10 | elapsed:    0.0s remaining:    0.1s\n",
      "[Parallel(n_jobs=-1)]: Done   7 out of  10 | elapsed:    0.1s remaining:    0.0s\n",
      "[Parallel(n_jobs=-1)]: Done  10 out of  10 | elapsed:    0.1s finished\n"
     ]
    },
    {
     "name": "stdout",
     "output_type": "stream",
     "text": [
      "ieme iteration 1: H=2, C=10000.0\n"
     ]
    },
    {
     "name": "stderr",
     "output_type": "stream",
     "text": [
      "[Parallel(n_jobs=-1)]: Using backend LokyBackend with 12 concurrent workers.\n",
      "[Parallel(n_jobs=-1)]: Done   3 out of  10 | elapsed:    0.0s remaining:    0.1s\n",
      "[Parallel(n_jobs=-1)]: Done   7 out of  10 | elapsed:    0.1s remaining:    0.0s\n",
      "[Parallel(n_jobs=-1)]: Done  10 out of  10 | elapsed:    0.1s finished\n"
     ]
    },
    {
     "name": "stdout",
     "output_type": "stream",
     "text": [
      "ieme iteration 2: H=3, C=1e-05\n"
     ]
    },
    {
     "name": "stderr",
     "output_type": "stream",
     "text": [
      "[Parallel(n_jobs=-1)]: Using backend LokyBackend with 12 concurrent workers.\n",
      "[Parallel(n_jobs=-1)]: Done   3 out of  10 | elapsed:    0.0s remaining:    0.0s\n",
      "[Parallel(n_jobs=-1)]: Done   7 out of  10 | elapsed:    0.0s remaining:    0.0s\n",
      "[Parallel(n_jobs=-1)]: Done  10 out of  10 | elapsed:    0.0s finished\n"
     ]
    },
    {
     "name": "stdout",
     "output_type": "stream",
     "text": [
      "ieme iteration 2: H=3, C=0.0001\n"
     ]
    },
    {
     "name": "stderr",
     "output_type": "stream",
     "text": [
      "[Parallel(n_jobs=-1)]: Using backend LokyBackend with 12 concurrent workers.\n",
      "[Parallel(n_jobs=-1)]: Done   3 out of  10 | elapsed:    0.0s remaining:    0.0s\n",
      "[Parallel(n_jobs=-1)]: Done   7 out of  10 | elapsed:    0.0s remaining:    0.0s\n",
      "[Parallel(n_jobs=-1)]: Done  10 out of  10 | elapsed:    0.0s finished\n"
     ]
    },
    {
     "name": "stdout",
     "output_type": "stream",
     "text": [
      "ieme iteration 2: H=3, C=0.001\n"
     ]
    },
    {
     "name": "stderr",
     "output_type": "stream",
     "text": [
      "[Parallel(n_jobs=-1)]: Using backend LokyBackend with 12 concurrent workers.\n",
      "[Parallel(n_jobs=-1)]: Done   3 out of  10 | elapsed:    0.0s remaining:    0.0s\n",
      "[Parallel(n_jobs=-1)]: Done   7 out of  10 | elapsed:    0.0s remaining:    0.0s\n",
      "[Parallel(n_jobs=-1)]: Done  10 out of  10 | elapsed:    0.0s finished\n"
     ]
    },
    {
     "name": "stdout",
     "output_type": "stream",
     "text": [
      "ieme iteration 2: H=3, C=0.01\n"
     ]
    },
    {
     "name": "stderr",
     "output_type": "stream",
     "text": [
      "[Parallel(n_jobs=-1)]: Using backend LokyBackend with 12 concurrent workers.\n",
      "[Parallel(n_jobs=-1)]: Done   3 out of  10 | elapsed:    0.0s remaining:    0.1s\n",
      "[Parallel(n_jobs=-1)]: Done   7 out of  10 | elapsed:    0.0s remaining:    0.0s\n",
      "[Parallel(n_jobs=-1)]: Done  10 out of  10 | elapsed:    0.0s finished\n"
     ]
    },
    {
     "name": "stdout",
     "output_type": "stream",
     "text": [
      "ieme iteration 2: H=3, C=0.1\n"
     ]
    },
    {
     "name": "stderr",
     "output_type": "stream",
     "text": [
      "[Parallel(n_jobs=-1)]: Using backend LokyBackend with 12 concurrent workers.\n",
      "[Parallel(n_jobs=-1)]: Done   3 out of  10 | elapsed:    0.0s remaining:    0.1s\n",
      "[Parallel(n_jobs=-1)]: Done   7 out of  10 | elapsed:    0.1s remaining:    0.0s\n",
      "[Parallel(n_jobs=-1)]: Done  10 out of  10 | elapsed:    0.1s finished\n"
     ]
    },
    {
     "name": "stdout",
     "output_type": "stream",
     "text": [
      "ieme iteration 2: H=3, C=1.0\n"
     ]
    },
    {
     "name": "stderr",
     "output_type": "stream",
     "text": [
      "[Parallel(n_jobs=-1)]: Using backend LokyBackend with 12 concurrent workers.\n",
      "[Parallel(n_jobs=-1)]: Done   3 out of  10 | elapsed:    0.0s remaining:    0.1s\n",
      "[Parallel(n_jobs=-1)]: Done   7 out of  10 | elapsed:    0.0s remaining:    0.0s\n",
      "[Parallel(n_jobs=-1)]: Done  10 out of  10 | elapsed:    0.0s finished\n"
     ]
    },
    {
     "name": "stdout",
     "output_type": "stream",
     "text": [
      "ieme iteration 2: H=3, C=10.0\n"
     ]
    },
    {
     "name": "stderr",
     "output_type": "stream",
     "text": [
      "[Parallel(n_jobs=-1)]: Using backend LokyBackend with 12 concurrent workers.\n",
      "[Parallel(n_jobs=-1)]: Done   3 out of  10 | elapsed:    0.0s remaining:    0.1s\n",
      "[Parallel(n_jobs=-1)]: Done   7 out of  10 | elapsed:    0.0s remaining:    0.0s\n",
      "[Parallel(n_jobs=-1)]: Done  10 out of  10 | elapsed:    0.0s finished\n"
     ]
    },
    {
     "name": "stdout",
     "output_type": "stream",
     "text": [
      "ieme iteration 2: H=3, C=100.0\n"
     ]
    },
    {
     "name": "stderr",
     "output_type": "stream",
     "text": [
      "[Parallel(n_jobs=-1)]: Using backend LokyBackend with 12 concurrent workers.\n",
      "[Parallel(n_jobs=-1)]: Done   3 out of  10 | elapsed:    0.0s remaining:    0.1s\n",
      "[Parallel(n_jobs=-1)]: Done   7 out of  10 | elapsed:    0.0s remaining:    0.0s\n",
      "[Parallel(n_jobs=-1)]: Done  10 out of  10 | elapsed:    0.1s finished\n"
     ]
    },
    {
     "name": "stdout",
     "output_type": "stream",
     "text": [
      "ieme iteration 2: H=3, C=1000.0\n"
     ]
    },
    {
     "name": "stderr",
     "output_type": "stream",
     "text": [
      "[Parallel(n_jobs=-1)]: Using backend LokyBackend with 12 concurrent workers.\n",
      "[Parallel(n_jobs=-1)]: Done   3 out of  10 | elapsed:    0.0s remaining:    0.1s\n",
      "[Parallel(n_jobs=-1)]: Done   7 out of  10 | elapsed:    0.0s remaining:    0.0s\n",
      "[Parallel(n_jobs=-1)]: Done  10 out of  10 | elapsed:    0.1s finished\n"
     ]
    },
    {
     "name": "stdout",
     "output_type": "stream",
     "text": [
      "ieme iteration 2: H=3, C=10000.0\n"
     ]
    },
    {
     "name": "stderr",
     "output_type": "stream",
     "text": [
      "[Parallel(n_jobs=-1)]: Using backend LokyBackend with 12 concurrent workers.\n",
      "[Parallel(n_jobs=-1)]: Done   3 out of  10 | elapsed:    0.0s remaining:    0.1s\n",
      "[Parallel(n_jobs=-1)]: Done   7 out of  10 | elapsed:    0.1s remaining:    0.0s\n",
      "[Parallel(n_jobs=-1)]: Done  10 out of  10 | elapsed:    0.1s finished\n"
     ]
    },
    {
     "name": "stdout",
     "output_type": "stream",
     "text": [
      "ieme iteration 3: H=4, C=1e-05\n"
     ]
    },
    {
     "name": "stderr",
     "output_type": "stream",
     "text": [
      "[Parallel(n_jobs=-1)]: Using backend LokyBackend with 12 concurrent workers.\n",
      "[Parallel(n_jobs=-1)]: Done   3 out of  10 | elapsed:    0.0s remaining:    0.0s\n",
      "[Parallel(n_jobs=-1)]: Done   7 out of  10 | elapsed:    0.0s remaining:    0.0s\n",
      "[Parallel(n_jobs=-1)]: Done  10 out of  10 | elapsed:    0.0s finished\n"
     ]
    },
    {
     "name": "stdout",
     "output_type": "stream",
     "text": [
      "ieme iteration 3: H=4, C=0.0001\n"
     ]
    },
    {
     "name": "stderr",
     "output_type": "stream",
     "text": [
      "[Parallel(n_jobs=-1)]: Using backend LokyBackend with 12 concurrent workers.\n",
      "[Parallel(n_jobs=-1)]: Done   3 out of  10 | elapsed:    0.0s remaining:    0.0s\n",
      "[Parallel(n_jobs=-1)]: Done   7 out of  10 | elapsed:    0.0s remaining:    0.0s\n",
      "[Parallel(n_jobs=-1)]: Done  10 out of  10 | elapsed:    0.0s finished\n"
     ]
    },
    {
     "name": "stdout",
     "output_type": "stream",
     "text": [
      "ieme iteration 3: H=4, C=0.001\n"
     ]
    },
    {
     "name": "stderr",
     "output_type": "stream",
     "text": [
      "[Parallel(n_jobs=-1)]: Using backend LokyBackend with 12 concurrent workers.\n",
      "[Parallel(n_jobs=-1)]: Done   3 out of  10 | elapsed:    0.0s remaining:    0.0s\n",
      "[Parallel(n_jobs=-1)]: Done   7 out of  10 | elapsed:    0.0s remaining:    0.0s\n",
      "[Parallel(n_jobs=-1)]: Done  10 out of  10 | elapsed:    0.0s finished\n"
     ]
    },
    {
     "name": "stdout",
     "output_type": "stream",
     "text": [
      "ieme iteration 3: H=4, C=0.01\n"
     ]
    },
    {
     "name": "stderr",
     "output_type": "stream",
     "text": [
      "[Parallel(n_jobs=-1)]: Using backend LokyBackend with 12 concurrent workers.\n",
      "[Parallel(n_jobs=-1)]: Done   3 out of  10 | elapsed:    0.0s remaining:    0.1s\n",
      "[Parallel(n_jobs=-1)]: Done   7 out of  10 | elapsed:    0.0s remaining:    0.0s\n",
      "[Parallel(n_jobs=-1)]: Done  10 out of  10 | elapsed:    0.0s finished\n"
     ]
    },
    {
     "name": "stdout",
     "output_type": "stream",
     "text": [
      "ieme iteration 3: H=4, C=0.1\n"
     ]
    },
    {
     "name": "stderr",
     "output_type": "stream",
     "text": [
      "[Parallel(n_jobs=-1)]: Using backend LokyBackend with 12 concurrent workers.\n",
      "[Parallel(n_jobs=-1)]: Done   3 out of  10 | elapsed:    0.0s remaining:    0.1s\n",
      "[Parallel(n_jobs=-1)]: Done   7 out of  10 | elapsed:    0.0s remaining:    0.0s\n",
      "[Parallel(n_jobs=-1)]: Done  10 out of  10 | elapsed:    0.1s finished\n"
     ]
    },
    {
     "name": "stdout",
     "output_type": "stream",
     "text": [
      "ieme iteration 3: H=4, C=1.0\n"
     ]
    },
    {
     "name": "stderr",
     "output_type": "stream",
     "text": [
      "[Parallel(n_jobs=-1)]: Using backend LokyBackend with 12 concurrent workers.\n",
      "[Parallel(n_jobs=-1)]: Done   3 out of  10 | elapsed:    0.0s remaining:    0.1s\n",
      "[Parallel(n_jobs=-1)]: Done   7 out of  10 | elapsed:    0.1s remaining:    0.0s\n",
      "[Parallel(n_jobs=-1)]: Done  10 out of  10 | elapsed:    0.1s finished\n"
     ]
    },
    {
     "name": "stdout",
     "output_type": "stream",
     "text": [
      "ieme iteration 3: H=4, C=10.0\n"
     ]
    },
    {
     "name": "stderr",
     "output_type": "stream",
     "text": [
      "[Parallel(n_jobs=-1)]: Using backend LokyBackend with 12 concurrent workers.\n",
      "[Parallel(n_jobs=-1)]: Done   3 out of  10 | elapsed:    0.0s remaining:    0.1s\n",
      "[Parallel(n_jobs=-1)]: Done   7 out of  10 | elapsed:    0.0s remaining:    0.0s\n",
      "[Parallel(n_jobs=-1)]: Done  10 out of  10 | elapsed:    0.0s finished\n"
     ]
    },
    {
     "name": "stdout",
     "output_type": "stream",
     "text": [
      "ieme iteration 3: H=4, C=100.0\n"
     ]
    },
    {
     "name": "stderr",
     "output_type": "stream",
     "text": [
      "[Parallel(n_jobs=-1)]: Using backend LokyBackend with 12 concurrent workers.\n",
      "[Parallel(n_jobs=-1)]: Done   3 out of  10 | elapsed:    0.0s remaining:    0.1s\n",
      "[Parallel(n_jobs=-1)]: Done   7 out of  10 | elapsed:    0.0s remaining:    0.0s\n",
      "[Parallel(n_jobs=-1)]: Done  10 out of  10 | elapsed:    0.0s finished\n"
     ]
    },
    {
     "name": "stdout",
     "output_type": "stream",
     "text": [
      "ieme iteration 3: H=4, C=1000.0\n"
     ]
    },
    {
     "name": "stderr",
     "output_type": "stream",
     "text": [
      "[Parallel(n_jobs=-1)]: Using backend LokyBackend with 12 concurrent workers.\n",
      "[Parallel(n_jobs=-1)]: Done   3 out of  10 | elapsed:    0.0s remaining:    0.1s\n",
      "[Parallel(n_jobs=-1)]: Done   7 out of  10 | elapsed:    0.0s remaining:    0.0s\n",
      "[Parallel(n_jobs=-1)]: Done  10 out of  10 | elapsed:    0.1s finished\n"
     ]
    },
    {
     "name": "stdout",
     "output_type": "stream",
     "text": [
      "ieme iteration 3: H=4, C=10000.0\n"
     ]
    },
    {
     "name": "stderr",
     "output_type": "stream",
     "text": [
      "[Parallel(n_jobs=-1)]: Using backend LokyBackend with 12 concurrent workers.\n",
      "[Parallel(n_jobs=-1)]: Done   3 out of  10 | elapsed:    0.0s remaining:    0.1s\n",
      "[Parallel(n_jobs=-1)]: Done   7 out of  10 | elapsed:    0.0s remaining:    0.0s\n",
      "[Parallel(n_jobs=-1)]: Done  10 out of  10 | elapsed:    0.0s finished\n"
     ]
    },
    {
     "name": "stdout",
     "output_type": "stream",
     "text": [
      "ieme iteration 4: H=5, C=1e-05\n"
     ]
    },
    {
     "name": "stderr",
     "output_type": "stream",
     "text": [
      "[Parallel(n_jobs=-1)]: Using backend LokyBackend with 12 concurrent workers.\n",
      "[Parallel(n_jobs=-1)]: Done   3 out of  10 | elapsed:    0.0s remaining:    0.0s\n",
      "[Parallel(n_jobs=-1)]: Done   7 out of  10 | elapsed:    0.0s remaining:    0.0s\n",
      "[Parallel(n_jobs=-1)]: Done  10 out of  10 | elapsed:    0.0s finished\n"
     ]
    },
    {
     "name": "stdout",
     "output_type": "stream",
     "text": [
      "ieme iteration 4: H=5, C=0.0001\n"
     ]
    },
    {
     "name": "stderr",
     "output_type": "stream",
     "text": [
      "[Parallel(n_jobs=-1)]: Using backend LokyBackend with 12 concurrent workers.\n",
      "[Parallel(n_jobs=-1)]: Done   3 out of  10 | elapsed:    0.0s remaining:    0.0s\n",
      "[Parallel(n_jobs=-1)]: Done   7 out of  10 | elapsed:    0.0s remaining:    0.0s\n",
      "[Parallel(n_jobs=-1)]: Done  10 out of  10 | elapsed:    0.0s finished\n"
     ]
    },
    {
     "name": "stdout",
     "output_type": "stream",
     "text": [
      "ieme iteration 4: H=5, C=0.001\n"
     ]
    },
    {
     "name": "stderr",
     "output_type": "stream",
     "text": [
      "[Parallel(n_jobs=-1)]: Using backend LokyBackend with 12 concurrent workers.\n",
      "[Parallel(n_jobs=-1)]: Done   3 out of  10 | elapsed:    0.0s remaining:    0.0s\n",
      "[Parallel(n_jobs=-1)]: Done   7 out of  10 | elapsed:    0.0s remaining:    0.0s\n",
      "[Parallel(n_jobs=-1)]: Done  10 out of  10 | elapsed:    0.0s finished\n"
     ]
    },
    {
     "name": "stdout",
     "output_type": "stream",
     "text": [
      "ieme iteration 4: H=5, C=0.01\n"
     ]
    },
    {
     "name": "stderr",
     "output_type": "stream",
     "text": [
      "[Parallel(n_jobs=-1)]: Using backend LokyBackend with 12 concurrent workers.\n",
      "[Parallel(n_jobs=-1)]: Done   3 out of  10 | elapsed:    0.0s remaining:    0.1s\n",
      "[Parallel(n_jobs=-1)]: Done   7 out of  10 | elapsed:    0.0s remaining:    0.0s\n",
      "[Parallel(n_jobs=-1)]: Done  10 out of  10 | elapsed:    0.0s finished\n"
     ]
    },
    {
     "name": "stdout",
     "output_type": "stream",
     "text": [
      "ieme iteration 4: H=5, C=0.1\n"
     ]
    },
    {
     "name": "stderr",
     "output_type": "stream",
     "text": [
      "[Parallel(n_jobs=-1)]: Using backend LokyBackend with 12 concurrent workers.\n",
      "[Parallel(n_jobs=-1)]: Done   3 out of  10 | elapsed:    0.0s remaining:    0.1s\n",
      "[Parallel(n_jobs=-1)]: Done   7 out of  10 | elapsed:    0.0s remaining:    0.0s\n",
      "[Parallel(n_jobs=-1)]: Done  10 out of  10 | elapsed:    0.1s finished\n"
     ]
    },
    {
     "name": "stdout",
     "output_type": "stream",
     "text": [
      "ieme iteration 4: H=5, C=1.0\n"
     ]
    },
    {
     "name": "stderr",
     "output_type": "stream",
     "text": [
      "[Parallel(n_jobs=-1)]: Using backend LokyBackend with 12 concurrent workers.\n",
      "[Parallel(n_jobs=-1)]: Done   3 out of  10 | elapsed:    0.0s remaining:    0.1s\n",
      "[Parallel(n_jobs=-1)]: Done   7 out of  10 | elapsed:    0.1s remaining:    0.0s\n",
      "[Parallel(n_jobs=-1)]: Done  10 out of  10 | elapsed:    0.1s finished\n"
     ]
    },
    {
     "name": "stdout",
     "output_type": "stream",
     "text": [
      "ieme iteration 4: H=5, C=10.0\n"
     ]
    },
    {
     "name": "stderr",
     "output_type": "stream",
     "text": [
      "[Parallel(n_jobs=-1)]: Using backend LokyBackend with 12 concurrent workers.\n",
      "[Parallel(n_jobs=-1)]: Done   3 out of  10 | elapsed:    0.0s remaining:    0.1s\n",
      "[Parallel(n_jobs=-1)]: Done   7 out of  10 | elapsed:    0.0s remaining:    0.0s\n",
      "[Parallel(n_jobs=-1)]: Done  10 out of  10 | elapsed:    0.0s finished\n"
     ]
    },
    {
     "name": "stdout",
     "output_type": "stream",
     "text": [
      "ieme iteration 4: H=5, C=100.0\n"
     ]
    },
    {
     "name": "stderr",
     "output_type": "stream",
     "text": [
      "[Parallel(n_jobs=-1)]: Using backend LokyBackend with 12 concurrent workers.\n",
      "[Parallel(n_jobs=-1)]: Done   3 out of  10 | elapsed:    0.0s remaining:    0.1s\n",
      "[Parallel(n_jobs=-1)]: Done   7 out of  10 | elapsed:    0.0s remaining:    0.0s\n",
      "[Parallel(n_jobs=-1)]: Done  10 out of  10 | elapsed:    0.0s finished\n"
     ]
    },
    {
     "name": "stdout",
     "output_type": "stream",
     "text": [
      "ieme iteration 4: H=5, C=1000.0\n"
     ]
    },
    {
     "name": "stderr",
     "output_type": "stream",
     "text": [
      "[Parallel(n_jobs=-1)]: Using backend LokyBackend with 12 concurrent workers.\n",
      "[Parallel(n_jobs=-1)]: Done   3 out of  10 | elapsed:    0.0s remaining:    0.1s\n",
      "[Parallel(n_jobs=-1)]: Done   7 out of  10 | elapsed:    0.0s remaining:    0.0s\n",
      "[Parallel(n_jobs=-1)]: Done  10 out of  10 | elapsed:    0.0s finished\n"
     ]
    },
    {
     "name": "stdout",
     "output_type": "stream",
     "text": [
      "ieme iteration 4: H=5, C=10000.0\n"
     ]
    },
    {
     "name": "stderr",
     "output_type": "stream",
     "text": [
      "[Parallel(n_jobs=-1)]: Using backend LokyBackend with 12 concurrent workers.\n",
      "[Parallel(n_jobs=-1)]: Done   3 out of  10 | elapsed:    0.0s remaining:    0.1s\n",
      "[Parallel(n_jobs=-1)]: Done   7 out of  10 | elapsed:    0.0s remaining:    0.0s\n",
      "[Parallel(n_jobs=-1)]: Done  10 out of  10 | elapsed:    0.1s finished\n"
     ]
    },
    {
     "name": "stdout",
     "output_type": "stream",
     "text": [
      "ieme iteration 5: H=6, C=1e-05\n"
     ]
    },
    {
     "name": "stderr",
     "output_type": "stream",
     "text": [
      "[Parallel(n_jobs=-1)]: Using backend LokyBackend with 12 concurrent workers.\n",
      "[Parallel(n_jobs=-1)]: Done   3 out of  10 | elapsed:    0.0s remaining:    0.0s\n",
      "[Parallel(n_jobs=-1)]: Done   7 out of  10 | elapsed:    0.0s remaining:    0.0s\n",
      "[Parallel(n_jobs=-1)]: Done  10 out of  10 | elapsed:    0.0s finished\n"
     ]
    },
    {
     "name": "stdout",
     "output_type": "stream",
     "text": [
      "ieme iteration 5: H=6, C=0.0001\n"
     ]
    },
    {
     "name": "stderr",
     "output_type": "stream",
     "text": [
      "[Parallel(n_jobs=-1)]: Using backend LokyBackend with 12 concurrent workers.\n",
      "[Parallel(n_jobs=-1)]: Done   3 out of  10 | elapsed:    0.0s remaining:    0.0s\n",
      "[Parallel(n_jobs=-1)]: Done   7 out of  10 | elapsed:    0.0s remaining:    0.0s\n",
      "[Parallel(n_jobs=-1)]: Done  10 out of  10 | elapsed:    0.0s finished\n"
     ]
    },
    {
     "name": "stdout",
     "output_type": "stream",
     "text": [
      "ieme iteration 5: H=6, C=0.001\n"
     ]
    },
    {
     "name": "stderr",
     "output_type": "stream",
     "text": [
      "[Parallel(n_jobs=-1)]: Using backend LokyBackend with 12 concurrent workers.\n",
      "[Parallel(n_jobs=-1)]: Done   3 out of  10 | elapsed:    0.0s remaining:    0.0s\n",
      "[Parallel(n_jobs=-1)]: Done   7 out of  10 | elapsed:    0.0s remaining:    0.0s\n",
      "[Parallel(n_jobs=-1)]: Done  10 out of  10 | elapsed:    0.0s finished\n"
     ]
    },
    {
     "name": "stdout",
     "output_type": "stream",
     "text": [
      "ieme iteration 5: H=6, C=0.01\n"
     ]
    },
    {
     "name": "stderr",
     "output_type": "stream",
     "text": [
      "[Parallel(n_jobs=-1)]: Using backend LokyBackend with 12 concurrent workers.\n",
      "[Parallel(n_jobs=-1)]: Done   3 out of  10 | elapsed:    0.0s remaining:    0.1s\n",
      "[Parallel(n_jobs=-1)]: Done   7 out of  10 | elapsed:    0.0s remaining:    0.0s\n",
      "[Parallel(n_jobs=-1)]: Done  10 out of  10 | elapsed:    0.1s finished\n"
     ]
    },
    {
     "name": "stdout",
     "output_type": "stream",
     "text": [
      "ieme iteration 5: H=6, C=0.1\n"
     ]
    },
    {
     "name": "stderr",
     "output_type": "stream",
     "text": [
      "[Parallel(n_jobs=-1)]: Using backend LokyBackend with 12 concurrent workers.\n",
      "[Parallel(n_jobs=-1)]: Done   3 out of  10 | elapsed:    0.0s remaining:    0.1s\n",
      "[Parallel(n_jobs=-1)]: Done   7 out of  10 | elapsed:    0.0s remaining:    0.0s\n",
      "[Parallel(n_jobs=-1)]: Done  10 out of  10 | elapsed:    0.0s finished\n"
     ]
    },
    {
     "name": "stdout",
     "output_type": "stream",
     "text": [
      "ieme iteration 5: H=6, C=1.0\n"
     ]
    },
    {
     "name": "stderr",
     "output_type": "stream",
     "text": [
      "[Parallel(n_jobs=-1)]: Using backend LokyBackend with 12 concurrent workers.\n",
      "[Parallel(n_jobs=-1)]: Done   3 out of  10 | elapsed:    0.0s remaining:    0.1s\n",
      "[Parallel(n_jobs=-1)]: Done   7 out of  10 | elapsed:    0.0s remaining:    0.0s\n",
      "[Parallel(n_jobs=-1)]: Done  10 out of  10 | elapsed:    0.1s finished\n"
     ]
    },
    {
     "name": "stdout",
     "output_type": "stream",
     "text": [
      "ieme iteration 5: H=6, C=10.0\n"
     ]
    },
    {
     "name": "stderr",
     "output_type": "stream",
     "text": [
      "[Parallel(n_jobs=-1)]: Using backend LokyBackend with 12 concurrent workers.\n",
      "[Parallel(n_jobs=-1)]: Done   3 out of  10 | elapsed:    0.0s remaining:    0.1s\n",
      "[Parallel(n_jobs=-1)]: Done   7 out of  10 | elapsed:    0.0s remaining:    0.0s\n",
      "[Parallel(n_jobs=-1)]: Done  10 out of  10 | elapsed:    0.0s finished\n"
     ]
    },
    {
     "name": "stdout",
     "output_type": "stream",
     "text": [
      "ieme iteration 5: H=6, C=100.0\n"
     ]
    },
    {
     "name": "stderr",
     "output_type": "stream",
     "text": [
      "[Parallel(n_jobs=-1)]: Using backend LokyBackend with 12 concurrent workers.\n",
      "[Parallel(n_jobs=-1)]: Done   3 out of  10 | elapsed:    0.0s remaining:    0.1s\n",
      "[Parallel(n_jobs=-1)]: Done   7 out of  10 | elapsed:    0.0s remaining:    0.0s\n",
      "[Parallel(n_jobs=-1)]: Done  10 out of  10 | elapsed:    0.0s finished\n"
     ]
    },
    {
     "name": "stdout",
     "output_type": "stream",
     "text": [
      "ieme iteration 5: H=6, C=1000.0\n"
     ]
    },
    {
     "name": "stderr",
     "output_type": "stream",
     "text": [
      "[Parallel(n_jobs=-1)]: Using backend LokyBackend with 12 concurrent workers.\n",
      "[Parallel(n_jobs=-1)]: Done   3 out of  10 | elapsed:    0.0s remaining:    0.1s\n",
      "[Parallel(n_jobs=-1)]: Done   7 out of  10 | elapsed:    0.0s remaining:    0.0s\n",
      "[Parallel(n_jobs=-1)]: Done  10 out of  10 | elapsed:    0.1s finished\n"
     ]
    },
    {
     "name": "stdout",
     "output_type": "stream",
     "text": [
      "ieme iteration 5: H=6, C=10000.0\n"
     ]
    },
    {
     "name": "stderr",
     "output_type": "stream",
     "text": [
      "[Parallel(n_jobs=-1)]: Using backend LokyBackend with 12 concurrent workers.\n",
      "[Parallel(n_jobs=-1)]: Done   3 out of  10 | elapsed:    0.0s remaining:    0.1s\n",
      "[Parallel(n_jobs=-1)]: Done   7 out of  10 | elapsed:    0.0s remaining:    0.0s\n",
      "[Parallel(n_jobs=-1)]: Done  10 out of  10 | elapsed:    0.0s finished\n"
     ]
    },
    {
     "name": "stdout",
     "output_type": "stream",
     "text": [
      "ieme iteration 6: H=7, C=1e-05\n"
     ]
    },
    {
     "name": "stderr",
     "output_type": "stream",
     "text": [
      "[Parallel(n_jobs=-1)]: Using backend LokyBackend with 12 concurrent workers.\n",
      "[Parallel(n_jobs=-1)]: Done   3 out of  10 | elapsed:    0.0s remaining:    0.0s\n",
      "[Parallel(n_jobs=-1)]: Done   7 out of  10 | elapsed:    0.0s remaining:    0.0s\n",
      "[Parallel(n_jobs=-1)]: Done  10 out of  10 | elapsed:    0.0s finished\n"
     ]
    },
    {
     "name": "stdout",
     "output_type": "stream",
     "text": [
      "ieme iteration 6: H=7, C=0.0001\n"
     ]
    },
    {
     "name": "stderr",
     "output_type": "stream",
     "text": [
      "[Parallel(n_jobs=-1)]: Using backend LokyBackend with 12 concurrent workers.\n",
      "[Parallel(n_jobs=-1)]: Done   3 out of  10 | elapsed:    0.0s remaining:    0.0s\n",
      "[Parallel(n_jobs=-1)]: Done   7 out of  10 | elapsed:    0.0s remaining:    0.0s\n",
      "[Parallel(n_jobs=-1)]: Done  10 out of  10 | elapsed:    0.0s finished\n"
     ]
    },
    {
     "name": "stdout",
     "output_type": "stream",
     "text": [
      "ieme iteration 6: H=7, C=0.001\n"
     ]
    },
    {
     "name": "stderr",
     "output_type": "stream",
     "text": [
      "[Parallel(n_jobs=-1)]: Using backend LokyBackend with 12 concurrent workers.\n",
      "[Parallel(n_jobs=-1)]: Done   3 out of  10 | elapsed:    0.0s remaining:    0.0s\n",
      "[Parallel(n_jobs=-1)]: Done   7 out of  10 | elapsed:    0.0s remaining:    0.0s\n",
      "[Parallel(n_jobs=-1)]: Done  10 out of  10 | elapsed:    0.0s finished\n"
     ]
    },
    {
     "name": "stdout",
     "output_type": "stream",
     "text": [
      "ieme iteration 6: H=7, C=0.01\n"
     ]
    },
    {
     "name": "stderr",
     "output_type": "stream",
     "text": [
      "[Parallel(n_jobs=-1)]: Using backend LokyBackend with 12 concurrent workers.\n",
      "[Parallel(n_jobs=-1)]: Done   3 out of  10 | elapsed:    0.0s remaining:    0.1s\n",
      "[Parallel(n_jobs=-1)]: Done   7 out of  10 | elapsed:    0.0s remaining:    0.0s\n",
      "[Parallel(n_jobs=-1)]: Done  10 out of  10 | elapsed:    0.0s finished\n"
     ]
    },
    {
     "name": "stdout",
     "output_type": "stream",
     "text": [
      "ieme iteration 6: H=7, C=0.1\n"
     ]
    },
    {
     "name": "stderr",
     "output_type": "stream",
     "text": [
      "[Parallel(n_jobs=-1)]: Using backend LokyBackend with 12 concurrent workers.\n",
      "[Parallel(n_jobs=-1)]: Done   3 out of  10 | elapsed:    0.0s remaining:    0.1s\n",
      "[Parallel(n_jobs=-1)]: Done   7 out of  10 | elapsed:    0.0s remaining:    0.0s\n",
      "[Parallel(n_jobs=-1)]: Done  10 out of  10 | elapsed:    0.0s finished\n"
     ]
    },
    {
     "name": "stdout",
     "output_type": "stream",
     "text": [
      "ieme iteration 6: H=7, C=1.0\n"
     ]
    },
    {
     "name": "stderr",
     "output_type": "stream",
     "text": [
      "[Parallel(n_jobs=-1)]: Using backend LokyBackend with 12 concurrent workers.\n",
      "[Parallel(n_jobs=-1)]: Done   3 out of  10 | elapsed:    0.0s remaining:    0.1s\n",
      "[Parallel(n_jobs=-1)]: Done   7 out of  10 | elapsed:    0.0s remaining:    0.0s\n",
      "[Parallel(n_jobs=-1)]: Done  10 out of  10 | elapsed:    0.0s finished\n"
     ]
    },
    {
     "name": "stdout",
     "output_type": "stream",
     "text": [
      "ieme iteration 6: H=7, C=10.0\n"
     ]
    },
    {
     "name": "stderr",
     "output_type": "stream",
     "text": [
      "[Parallel(n_jobs=-1)]: Using backend LokyBackend with 12 concurrent workers.\n",
      "[Parallel(n_jobs=-1)]: Done   3 out of  10 | elapsed:    0.0s remaining:    0.1s\n",
      "[Parallel(n_jobs=-1)]: Done   7 out of  10 | elapsed:    0.0s remaining:    0.0s\n",
      "[Parallel(n_jobs=-1)]: Done  10 out of  10 | elapsed:    0.1s finished\n"
     ]
    },
    {
     "name": "stdout",
     "output_type": "stream",
     "text": [
      "ieme iteration 6: H=7, C=100.0\n"
     ]
    },
    {
     "name": "stderr",
     "output_type": "stream",
     "text": [
      "[Parallel(n_jobs=-1)]: Using backend LokyBackend with 12 concurrent workers.\n",
      "[Parallel(n_jobs=-1)]: Done   3 out of  10 | elapsed:    0.0s remaining:    0.1s\n",
      "[Parallel(n_jobs=-1)]: Done   7 out of  10 | elapsed:    0.0s remaining:    0.0s\n",
      "[Parallel(n_jobs=-1)]: Done  10 out of  10 | elapsed:    0.0s finished\n"
     ]
    },
    {
     "name": "stdout",
     "output_type": "stream",
     "text": [
      "ieme iteration 6: H=7, C=1000.0\n"
     ]
    },
    {
     "name": "stderr",
     "output_type": "stream",
     "text": [
      "[Parallel(n_jobs=-1)]: Using backend LokyBackend with 12 concurrent workers.\n",
      "[Parallel(n_jobs=-1)]: Done   3 out of  10 | elapsed:    0.0s remaining:    0.1s\n",
      "[Parallel(n_jobs=-1)]: Done   7 out of  10 | elapsed:    0.0s remaining:    0.0s\n",
      "[Parallel(n_jobs=-1)]: Done  10 out of  10 | elapsed:    0.0s finished\n"
     ]
    },
    {
     "name": "stdout",
     "output_type": "stream",
     "text": [
      "ieme iteration 6: H=7, C=10000.0\n"
     ]
    },
    {
     "name": "stderr",
     "output_type": "stream",
     "text": [
      "[Parallel(n_jobs=-1)]: Using backend LokyBackend with 12 concurrent workers.\n",
      "[Parallel(n_jobs=-1)]: Done   3 out of  10 | elapsed:    0.0s remaining:    0.1s\n",
      "[Parallel(n_jobs=-1)]: Done   7 out of  10 | elapsed:    0.0s remaining:    0.0s\n",
      "[Parallel(n_jobs=-1)]: Done  10 out of  10 | elapsed:    0.0s finished\n"
     ]
    },
    {
     "name": "stdout",
     "output_type": "stream",
     "text": [
      "ieme iteration 7: H=8, C=1e-05\n"
     ]
    },
    {
     "name": "stderr",
     "output_type": "stream",
     "text": [
      "[Parallel(n_jobs=-1)]: Using backend LokyBackend with 12 concurrent workers.\n",
      "[Parallel(n_jobs=-1)]: Done   3 out of  10 | elapsed:    0.0s remaining:    0.0s\n",
      "[Parallel(n_jobs=-1)]: Done   7 out of  10 | elapsed:    0.0s remaining:    0.0s\n",
      "[Parallel(n_jobs=-1)]: Done  10 out of  10 | elapsed:    0.0s finished\n"
     ]
    },
    {
     "name": "stdout",
     "output_type": "stream",
     "text": [
      "ieme iteration 7: H=8, C=0.0001\n"
     ]
    },
    {
     "name": "stderr",
     "output_type": "stream",
     "text": [
      "[Parallel(n_jobs=-1)]: Using backend LokyBackend with 12 concurrent workers.\n",
      "[Parallel(n_jobs=-1)]: Done   3 out of  10 | elapsed:    0.0s remaining:    0.0s\n",
      "[Parallel(n_jobs=-1)]: Done   7 out of  10 | elapsed:    0.0s remaining:    0.0s\n",
      "[Parallel(n_jobs=-1)]: Done  10 out of  10 | elapsed:    0.0s finished\n"
     ]
    },
    {
     "name": "stdout",
     "output_type": "stream",
     "text": [
      "ieme iteration 7: H=8, C=0.001\n"
     ]
    },
    {
     "name": "stderr",
     "output_type": "stream",
     "text": [
      "[Parallel(n_jobs=-1)]: Using backend LokyBackend with 12 concurrent workers.\n",
      "[Parallel(n_jobs=-1)]: Done   3 out of  10 | elapsed:    0.0s remaining:    0.0s\n",
      "[Parallel(n_jobs=-1)]: Done   7 out of  10 | elapsed:    0.0s remaining:    0.0s\n",
      "[Parallel(n_jobs=-1)]: Done  10 out of  10 | elapsed:    0.0s finished\n"
     ]
    },
    {
     "name": "stdout",
     "output_type": "stream",
     "text": [
      "ieme iteration 7: H=8, C=0.01\n"
     ]
    },
    {
     "name": "stderr",
     "output_type": "stream",
     "text": [
      "[Parallel(n_jobs=-1)]: Using backend LokyBackend with 12 concurrent workers.\n",
      "[Parallel(n_jobs=-1)]: Done   3 out of  10 | elapsed:    0.0s remaining:    0.1s\n",
      "[Parallel(n_jobs=-1)]: Done   7 out of  10 | elapsed:    0.0s remaining:    0.0s\n",
      "[Parallel(n_jobs=-1)]: Done  10 out of  10 | elapsed:    0.0s finished\n"
     ]
    },
    {
     "name": "stdout",
     "output_type": "stream",
     "text": [
      "ieme iteration 7: H=8, C=0.1\n"
     ]
    },
    {
     "name": "stderr",
     "output_type": "stream",
     "text": [
      "[Parallel(n_jobs=-1)]: Using backend LokyBackend with 12 concurrent workers.\n",
      "[Parallel(n_jobs=-1)]: Done   3 out of  10 | elapsed:    0.0s remaining:    0.0s\n",
      "[Parallel(n_jobs=-1)]: Done   7 out of  10 | elapsed:    0.0s remaining:    0.0s\n",
      "[Parallel(n_jobs=-1)]: Done  10 out of  10 | elapsed:    0.0s finished\n"
     ]
    },
    {
     "name": "stdout",
     "output_type": "stream",
     "text": [
      "ieme iteration 7: H=8, C=1.0\n"
     ]
    },
    {
     "name": "stderr",
     "output_type": "stream",
     "text": [
      "[Parallel(n_jobs=-1)]: Using backend LokyBackend with 12 concurrent workers.\n",
      "[Parallel(n_jobs=-1)]: Done   3 out of  10 | elapsed:    0.0s remaining:    0.1s\n",
      "[Parallel(n_jobs=-1)]: Done   7 out of  10 | elapsed:    0.0s remaining:    0.0s\n",
      "[Parallel(n_jobs=-1)]: Done  10 out of  10 | elapsed:    0.0s finished\n"
     ]
    },
    {
     "name": "stdout",
     "output_type": "stream",
     "text": [
      "ieme iteration 7: H=8, C=10.0\n"
     ]
    },
    {
     "name": "stderr",
     "output_type": "stream",
     "text": [
      "[Parallel(n_jobs=-1)]: Using backend LokyBackend with 12 concurrent workers.\n",
      "[Parallel(n_jobs=-1)]: Done   3 out of  10 | elapsed:    0.0s remaining:    0.1s\n",
      "[Parallel(n_jobs=-1)]: Done   7 out of  10 | elapsed:    0.0s remaining:    0.0s\n",
      "[Parallel(n_jobs=-1)]: Done  10 out of  10 | elapsed:    0.0s finished\n"
     ]
    },
    {
     "name": "stdout",
     "output_type": "stream",
     "text": [
      "ieme iteration 7: H=8, C=100.0\n"
     ]
    },
    {
     "name": "stderr",
     "output_type": "stream",
     "text": [
      "[Parallel(n_jobs=-1)]: Using backend LokyBackend with 12 concurrent workers.\n",
      "[Parallel(n_jobs=-1)]: Done   3 out of  10 | elapsed:    0.0s remaining:    0.0s\n",
      "[Parallel(n_jobs=-1)]: Done   7 out of  10 | elapsed:    0.0s remaining:    0.0s\n",
      "[Parallel(n_jobs=-1)]: Done  10 out of  10 | elapsed:    0.0s finished\n"
     ]
    },
    {
     "name": "stdout",
     "output_type": "stream",
     "text": [
      "ieme iteration 7: H=8, C=1000.0\n"
     ]
    },
    {
     "name": "stderr",
     "output_type": "stream",
     "text": [
      "[Parallel(n_jobs=-1)]: Using backend LokyBackend with 12 concurrent workers.\n",
      "[Parallel(n_jobs=-1)]: Done   3 out of  10 | elapsed:    0.0s remaining:    0.1s\n",
      "[Parallel(n_jobs=-1)]: Done   7 out of  10 | elapsed:    0.0s remaining:    0.0s\n",
      "[Parallel(n_jobs=-1)]: Done  10 out of  10 | elapsed:    0.1s finished\n"
     ]
    },
    {
     "name": "stdout",
     "output_type": "stream",
     "text": [
      "ieme iteration 7: H=8, C=10000.0\n"
     ]
    },
    {
     "name": "stderr",
     "output_type": "stream",
     "text": [
      "[Parallel(n_jobs=-1)]: Using backend LokyBackend with 12 concurrent workers.\n",
      "[Parallel(n_jobs=-1)]: Done   3 out of  10 | elapsed:    0.0s remaining:    0.0s\n",
      "[Parallel(n_jobs=-1)]: Done   7 out of  10 | elapsed:    0.0s remaining:    0.0s\n",
      "[Parallel(n_jobs=-1)]: Done  10 out of  10 | elapsed:    0.0s finished\n"
     ]
    },
    {
     "name": "stdout",
     "output_type": "stream",
     "text": [
      "ieme iteration 8: H=9, C=1e-05\n"
     ]
    },
    {
     "name": "stderr",
     "output_type": "stream",
     "text": [
      "[Parallel(n_jobs=-1)]: Using backend LokyBackend with 12 concurrent workers.\n",
      "[Parallel(n_jobs=-1)]: Done   3 out of  10 | elapsed:    0.0s remaining:    0.0s\n",
      "[Parallel(n_jobs=-1)]: Done   7 out of  10 | elapsed:    0.0s remaining:    0.0s\n",
      "[Parallel(n_jobs=-1)]: Done  10 out of  10 | elapsed:    0.0s finished\n"
     ]
    },
    {
     "name": "stdout",
     "output_type": "stream",
     "text": [
      "ieme iteration 8: H=9, C=0.0001\n"
     ]
    },
    {
     "name": "stderr",
     "output_type": "stream",
     "text": [
      "[Parallel(n_jobs=-1)]: Using backend LokyBackend with 12 concurrent workers.\n",
      "[Parallel(n_jobs=-1)]: Done   3 out of  10 | elapsed:    0.0s remaining:    0.0s\n",
      "[Parallel(n_jobs=-1)]: Done   7 out of  10 | elapsed:    0.0s remaining:    0.0s\n",
      "[Parallel(n_jobs=-1)]: Done  10 out of  10 | elapsed:    0.0s finished\n"
     ]
    },
    {
     "name": "stdout",
     "output_type": "stream",
     "text": [
      "ieme iteration 8: H=9, C=0.001\n"
     ]
    },
    {
     "name": "stderr",
     "output_type": "stream",
     "text": [
      "[Parallel(n_jobs=-1)]: Using backend LokyBackend with 12 concurrent workers.\n",
      "[Parallel(n_jobs=-1)]: Done   3 out of  10 | elapsed:    0.0s remaining:    0.0s\n",
      "[Parallel(n_jobs=-1)]: Done   7 out of  10 | elapsed:    0.0s remaining:    0.0s\n",
      "[Parallel(n_jobs=-1)]: Done  10 out of  10 | elapsed:    0.0s finished\n"
     ]
    },
    {
     "name": "stdout",
     "output_type": "stream",
     "text": [
      "ieme iteration 8: H=9, C=0.01\n"
     ]
    },
    {
     "name": "stderr",
     "output_type": "stream",
     "text": [
      "[Parallel(n_jobs=-1)]: Using backend LokyBackend with 12 concurrent workers.\n",
      "[Parallel(n_jobs=-1)]: Done   3 out of  10 | elapsed:    0.0s remaining:    0.0s\n",
      "[Parallel(n_jobs=-1)]: Done   7 out of  10 | elapsed:    0.0s remaining:    0.0s\n",
      "[Parallel(n_jobs=-1)]: Done  10 out of  10 | elapsed:    0.0s finished\n"
     ]
    },
    {
     "name": "stdout",
     "output_type": "stream",
     "text": [
      "ieme iteration 8: H=9, C=0.1\n"
     ]
    },
    {
     "name": "stderr",
     "output_type": "stream",
     "text": [
      "[Parallel(n_jobs=-1)]: Using backend LokyBackend with 12 concurrent workers.\n",
      "[Parallel(n_jobs=-1)]: Done   3 out of  10 | elapsed:    0.0s remaining:    0.0s\n",
      "[Parallel(n_jobs=-1)]: Done   7 out of  10 | elapsed:    0.0s remaining:    0.0s\n",
      "[Parallel(n_jobs=-1)]: Done  10 out of  10 | elapsed:    0.0s finished\n"
     ]
    },
    {
     "name": "stdout",
     "output_type": "stream",
     "text": [
      "ieme iteration 8: H=9, C=1.0\n"
     ]
    },
    {
     "name": "stderr",
     "output_type": "stream",
     "text": [
      "[Parallel(n_jobs=-1)]: Using backend LokyBackend with 12 concurrent workers.\n",
      "[Parallel(n_jobs=-1)]: Done   3 out of  10 | elapsed:    0.0s remaining:    0.1s\n",
      "[Parallel(n_jobs=-1)]: Done   7 out of  10 | elapsed:    0.0s remaining:    0.0s\n",
      "[Parallel(n_jobs=-1)]: Done  10 out of  10 | elapsed:    0.0s finished\n"
     ]
    },
    {
     "name": "stdout",
     "output_type": "stream",
     "text": [
      "ieme iteration 8: H=9, C=10.0\n"
     ]
    },
    {
     "name": "stderr",
     "output_type": "stream",
     "text": [
      "[Parallel(n_jobs=-1)]: Using backend LokyBackend with 12 concurrent workers.\n",
      "[Parallel(n_jobs=-1)]: Done   3 out of  10 | elapsed:    0.0s remaining:    0.0s\n",
      "[Parallel(n_jobs=-1)]: Done   7 out of  10 | elapsed:    0.0s remaining:    0.0s\n",
      "[Parallel(n_jobs=-1)]: Done  10 out of  10 | elapsed:    0.0s finished\n"
     ]
    },
    {
     "name": "stdout",
     "output_type": "stream",
     "text": [
      "ieme iteration 8: H=9, C=100.0\n"
     ]
    },
    {
     "name": "stderr",
     "output_type": "stream",
     "text": [
      "[Parallel(n_jobs=-1)]: Using backend LokyBackend with 12 concurrent workers.\n",
      "[Parallel(n_jobs=-1)]: Done   3 out of  10 | elapsed:    0.0s remaining:    0.1s\n",
      "[Parallel(n_jobs=-1)]: Done   7 out of  10 | elapsed:    0.0s remaining:    0.0s\n",
      "[Parallel(n_jobs=-1)]: Done  10 out of  10 | elapsed:    0.0s finished\n"
     ]
    },
    {
     "name": "stdout",
     "output_type": "stream",
     "text": [
      "ieme iteration 8: H=9, C=1000.0\n"
     ]
    },
    {
     "name": "stderr",
     "output_type": "stream",
     "text": [
      "[Parallel(n_jobs=-1)]: Using backend LokyBackend with 12 concurrent workers.\n",
      "[Parallel(n_jobs=-1)]: Done   3 out of  10 | elapsed:    0.0s remaining:    0.1s\n",
      "[Parallel(n_jobs=-1)]: Done   7 out of  10 | elapsed:    0.0s remaining:    0.0s\n",
      "[Parallel(n_jobs=-1)]: Done  10 out of  10 | elapsed:    0.0s finished\n"
     ]
    },
    {
     "name": "stdout",
     "output_type": "stream",
     "text": [
      "ieme iteration 8: H=9, C=10000.0\n"
     ]
    },
    {
     "name": "stderr",
     "output_type": "stream",
     "text": [
      "[Parallel(n_jobs=-1)]: Using backend LokyBackend with 12 concurrent workers.\n",
      "[Parallel(n_jobs=-1)]: Done   3 out of  10 | elapsed:    0.0s remaining:    0.1s\n",
      "[Parallel(n_jobs=-1)]: Done   7 out of  10 | elapsed:    0.0s remaining:    0.0s\n",
      "[Parallel(n_jobs=-1)]: Done  10 out of  10 | elapsed:    0.0s finished\n"
     ]
    },
    {
     "name": "stdout",
     "output_type": "stream",
     "text": [
      "ieme iteration 9: H=10, C=1e-05\n"
     ]
    },
    {
     "name": "stderr",
     "output_type": "stream",
     "text": [
      "[Parallel(n_jobs=-1)]: Using backend LokyBackend with 12 concurrent workers.\n",
      "[Parallel(n_jobs=-1)]: Done   3 out of  10 | elapsed:    0.0s remaining:    0.0s\n",
      "[Parallel(n_jobs=-1)]: Done   7 out of  10 | elapsed:    0.0s remaining:    0.0s\n",
      "[Parallel(n_jobs=-1)]: Done  10 out of  10 | elapsed:    0.0s finished\n"
     ]
    },
    {
     "name": "stdout",
     "output_type": "stream",
     "text": [
      "ieme iteration 9: H=10, C=0.0001\n"
     ]
    },
    {
     "name": "stderr",
     "output_type": "stream",
     "text": [
      "[Parallel(n_jobs=-1)]: Using backend LokyBackend with 12 concurrent workers.\n",
      "[Parallel(n_jobs=-1)]: Done   3 out of  10 | elapsed:    0.0s remaining:    0.0s\n",
      "[Parallel(n_jobs=-1)]: Done   7 out of  10 | elapsed:    0.0s remaining:    0.0s\n",
      "[Parallel(n_jobs=-1)]: Done  10 out of  10 | elapsed:    0.0s finished\n"
     ]
    },
    {
     "name": "stdout",
     "output_type": "stream",
     "text": [
      "ieme iteration 9: H=10, C=0.001\n"
     ]
    },
    {
     "name": "stderr",
     "output_type": "stream",
     "text": [
      "[Parallel(n_jobs=-1)]: Using backend LokyBackend with 12 concurrent workers.\n",
      "[Parallel(n_jobs=-1)]: Done   3 out of  10 | elapsed:    0.0s remaining:    0.1s\n",
      "[Parallel(n_jobs=-1)]: Done   7 out of  10 | elapsed:    0.0s remaining:    0.0s\n",
      "[Parallel(n_jobs=-1)]: Done  10 out of  10 | elapsed:    0.0s finished\n"
     ]
    },
    {
     "name": "stdout",
     "output_type": "stream",
     "text": [
      "ieme iteration 9: H=10, C=0.01\n"
     ]
    },
    {
     "name": "stderr",
     "output_type": "stream",
     "text": [
      "[Parallel(n_jobs=-1)]: Using backend LokyBackend with 12 concurrent workers.\n",
      "[Parallel(n_jobs=-1)]: Done   3 out of  10 | elapsed:    0.0s remaining:    0.1s\n",
      "[Parallel(n_jobs=-1)]: Done   7 out of  10 | elapsed:    0.0s remaining:    0.0s\n",
      "[Parallel(n_jobs=-1)]: Done  10 out of  10 | elapsed:    0.0s finished\n"
     ]
    },
    {
     "name": "stdout",
     "output_type": "stream",
     "text": [
      "ieme iteration 9: H=10, C=0.1\n"
     ]
    },
    {
     "name": "stderr",
     "output_type": "stream",
     "text": [
      "[Parallel(n_jobs=-1)]: Using backend LokyBackend with 12 concurrent workers.\n",
      "[Parallel(n_jobs=-1)]: Done   3 out of  10 | elapsed:    0.0s remaining:    0.1s\n",
      "[Parallel(n_jobs=-1)]: Done   7 out of  10 | elapsed:    0.0s remaining:    0.0s\n",
      "[Parallel(n_jobs=-1)]: Done  10 out of  10 | elapsed:    0.0s finished\n"
     ]
    },
    {
     "name": "stdout",
     "output_type": "stream",
     "text": [
      "ieme iteration 9: H=10, C=1.0\n"
     ]
    },
    {
     "name": "stderr",
     "output_type": "stream",
     "text": [
      "[Parallel(n_jobs=-1)]: Using backend LokyBackend with 12 concurrent workers.\n",
      "[Parallel(n_jobs=-1)]: Done   3 out of  10 | elapsed:    0.0s remaining:    0.1s\n",
      "[Parallel(n_jobs=-1)]: Done   7 out of  10 | elapsed:    0.0s remaining:    0.0s\n",
      "[Parallel(n_jobs=-1)]: Done  10 out of  10 | elapsed:    0.0s finished\n"
     ]
    },
    {
     "name": "stdout",
     "output_type": "stream",
     "text": [
      "ieme iteration 9: H=10, C=10.0\n"
     ]
    },
    {
     "name": "stderr",
     "output_type": "stream",
     "text": [
      "[Parallel(n_jobs=-1)]: Using backend LokyBackend with 12 concurrent workers.\n",
      "[Parallel(n_jobs=-1)]: Done   3 out of  10 | elapsed:    0.0s remaining:    0.1s\n",
      "[Parallel(n_jobs=-1)]: Done   7 out of  10 | elapsed:    0.0s remaining:    0.0s\n",
      "[Parallel(n_jobs=-1)]: Done  10 out of  10 | elapsed:    0.0s finished\n"
     ]
    },
    {
     "name": "stdout",
     "output_type": "stream",
     "text": [
      "ieme iteration 9: H=10, C=100.0\n"
     ]
    },
    {
     "name": "stderr",
     "output_type": "stream",
     "text": [
      "[Parallel(n_jobs=-1)]: Using backend LokyBackend with 12 concurrent workers.\n",
      "[Parallel(n_jobs=-1)]: Done   3 out of  10 | elapsed:    0.0s remaining:    0.1s\n",
      "[Parallel(n_jobs=-1)]: Done   7 out of  10 | elapsed:    0.0s remaining:    0.0s\n",
      "[Parallel(n_jobs=-1)]: Done  10 out of  10 | elapsed:    0.0s finished\n"
     ]
    },
    {
     "name": "stdout",
     "output_type": "stream",
     "text": [
      "ieme iteration 9: H=10, C=1000.0\n"
     ]
    },
    {
     "name": "stderr",
     "output_type": "stream",
     "text": [
      "[Parallel(n_jobs=-1)]: Using backend LokyBackend with 12 concurrent workers.\n",
      "[Parallel(n_jobs=-1)]: Done   3 out of  10 | elapsed:    0.0s remaining:    0.1s\n",
      "[Parallel(n_jobs=-1)]: Done   7 out of  10 | elapsed:    0.0s remaining:    0.0s\n",
      "[Parallel(n_jobs=-1)]: Done  10 out of  10 | elapsed:    0.0s finished\n"
     ]
    },
    {
     "name": "stdout",
     "output_type": "stream",
     "text": [
      "ieme iteration 9: H=10, C=10000.0\n",
      "Best param SVC Enzimes: (3, 0.1), accuracy: 0.5020833333333333\n"
     ]
    },
    {
     "name": "stderr",
     "output_type": "stream",
     "text": [
      "[Parallel(n_jobs=-1)]: Using backend LokyBackend with 12 concurrent workers.\n",
      "[Parallel(n_jobs=-1)]: Done   3 out of  10 | elapsed:    0.0s remaining:    0.1s\n",
      "[Parallel(n_jobs=-1)]: Done   7 out of  10 | elapsed:    0.0s remaining:    0.0s\n",
      "[Parallel(n_jobs=-1)]: Done  10 out of  10 | elapsed:    0.0s finished\n"
     ]
    }
   ],
   "source": [
    "bestParamEnzimes = bestParams(trainEnzimes, y_trainEnzimes, H, C)\n",
    "print(f\"Best param SVC Enzimes: {bestParamEnzimes[0]}, accuracy: {bestParamEnzimes[1]}\")"
   ],
   "metadata": {
    "collapsed": false
   }
  },
  {
   "cell_type": "code",
   "execution_count": 27,
   "outputs": [
    {
     "name": "stdout",
     "output_type": "stream",
     "text": [
      "ieme iteration 0: H=1, C=1e-05\n"
     ]
    },
    {
     "name": "stderr",
     "output_type": "stream",
     "text": [
      "[Parallel(n_jobs=-1)]: Using backend LokyBackend with 12 concurrent workers.\n",
      "[Parallel(n_jobs=-1)]: Done   3 out of  10 | elapsed:    0.5s remaining:    1.1s\n",
      "[Parallel(n_jobs=-1)]: Done   7 out of  10 | elapsed:    0.5s remaining:    0.2s\n",
      "[Parallel(n_jobs=-1)]: Done  10 out of  10 | elapsed:    0.5s finished\n"
     ]
    },
    {
     "name": "stdout",
     "output_type": "stream",
     "text": [
      "ieme iteration 0: H=1, C=0.0001\n"
     ]
    },
    {
     "name": "stderr",
     "output_type": "stream",
     "text": [
      "[Parallel(n_jobs=-1)]: Using backend LokyBackend with 12 concurrent workers.\n",
      "[Parallel(n_jobs=-1)]: Done   3 out of  10 | elapsed:    0.5s remaining:    1.1s\n",
      "[Parallel(n_jobs=-1)]: Done   7 out of  10 | elapsed:    0.5s remaining:    0.2s\n",
      "[Parallel(n_jobs=-1)]: Done  10 out of  10 | elapsed:    0.5s finished\n"
     ]
    },
    {
     "name": "stdout",
     "output_type": "stream",
     "text": [
      "ieme iteration 0: H=1, C=0.001\n"
     ]
    },
    {
     "name": "stderr",
     "output_type": "stream",
     "text": [
      "[Parallel(n_jobs=-1)]: Using backend LokyBackend with 12 concurrent workers.\n",
      "[Parallel(n_jobs=-1)]: Done   3 out of  10 | elapsed:    0.5s remaining:    1.1s\n",
      "[Parallel(n_jobs=-1)]: Done   7 out of  10 | elapsed:    0.5s remaining:    0.2s\n",
      "[Parallel(n_jobs=-1)]: Done  10 out of  10 | elapsed:    0.5s finished\n"
     ]
    },
    {
     "name": "stdout",
     "output_type": "stream",
     "text": [
      "ieme iteration 0: H=1, C=0.01\n"
     ]
    },
    {
     "name": "stderr",
     "output_type": "stream",
     "text": [
      "[Parallel(n_jobs=-1)]: Using backend LokyBackend with 12 concurrent workers.\n",
      "[Parallel(n_jobs=-1)]: Done   3 out of  10 | elapsed:    0.5s remaining:    1.1s\n",
      "[Parallel(n_jobs=-1)]: Done   7 out of  10 | elapsed:    0.5s remaining:    0.2s\n",
      "[Parallel(n_jobs=-1)]: Done  10 out of  10 | elapsed:    0.5s finished\n"
     ]
    },
    {
     "name": "stdout",
     "output_type": "stream",
     "text": [
      "ieme iteration 0: H=1, C=0.1\n"
     ]
    },
    {
     "name": "stderr",
     "output_type": "stream",
     "text": [
      "[Parallel(n_jobs=-1)]: Using backend LokyBackend with 12 concurrent workers.\n",
      "[Parallel(n_jobs=-1)]: Done   3 out of  10 | elapsed:    0.7s remaining:    1.7s\n",
      "[Parallel(n_jobs=-1)]: Done   7 out of  10 | elapsed:    0.8s remaining:    0.3s\n",
      "[Parallel(n_jobs=-1)]: Done  10 out of  10 | elapsed:    0.8s finished\n"
     ]
    },
    {
     "name": "stdout",
     "output_type": "stream",
     "text": [
      "ieme iteration 0: H=1, C=1.0\n"
     ]
    },
    {
     "name": "stderr",
     "output_type": "stream",
     "text": [
      "[Parallel(n_jobs=-1)]: Using backend LokyBackend with 12 concurrent workers.\n",
      "[Parallel(n_jobs=-1)]: Done   3 out of  10 | elapsed:    2.4s remaining:    5.6s\n",
      "[Parallel(n_jobs=-1)]: Done   7 out of  10 | elapsed:    2.9s remaining:    1.2s\n",
      "[Parallel(n_jobs=-1)]: Done  10 out of  10 | elapsed:    3.1s finished\n"
     ]
    },
    {
     "name": "stdout",
     "output_type": "stream",
     "text": [
      "ieme iteration 0: H=1, C=10.0\n"
     ]
    },
    {
     "name": "stderr",
     "output_type": "stream",
     "text": [
      "[Parallel(n_jobs=-1)]: Using backend LokyBackend with 12 concurrent workers.\n",
      "[Parallel(n_jobs=-1)]: Done   3 out of  10 | elapsed:   22.6s remaining:   52.6s\n",
      "[Parallel(n_jobs=-1)]: Done   7 out of  10 | elapsed:   24.3s remaining:   10.4s\n",
      "[Parallel(n_jobs=-1)]: Done  10 out of  10 | elapsed:   27.2s finished\n"
     ]
    },
    {
     "name": "stdout",
     "output_type": "stream",
     "text": [
      "ieme iteration 0: H=1, C=100.0\n"
     ]
    },
    {
     "name": "stderr",
     "output_type": "stream",
     "text": [
      "[Parallel(n_jobs=-1)]: Using backend LokyBackend with 12 concurrent workers.\n",
      "[Parallel(n_jobs=-1)]: Done   3 out of  10 | elapsed:  3.4min remaining:  7.9min\n",
      "[Parallel(n_jobs=-1)]: Done   7 out of  10 | elapsed:  3.9min remaining:  1.7min\n"
     ]
    },
    {
     "name": "stdout",
     "output_type": "stream",
     "text": [
      "[CV] END ................................ score: (test=0.188) total time=   0.0s\n",
      "[CV] END ................................ score: (test=0.312) total time=   0.0s\n",
      "[CV] END ................................ score: (test=0.458) total time=   0.0s\n",
      "[CV] END ................................ score: (test=0.521) total time=   0.0s\n",
      "[CV] END ................................ score: (test=0.438) total time=   0.0s\n",
      "[CV] END ................................ score: (test=0.604) total time=   0.0s\n",
      "[CV] END ................................ score: (test=0.521) total time=   0.1s\n",
      "[CV] END ................................ score: (test=0.188) total time=   0.0s\n",
      "[CV] END ................................ score: (test=0.312) total time=   0.0s\n",
      "[CV] END ................................ score: (test=0.458) total time=   0.0s\n",
      "[CV] END ................................ score: (test=0.583) total time=   0.0s\n",
      "[CV] END ................................ score: (test=0.542) total time=   0.0s\n",
      "[CV] END ................................ score: (test=0.417) total time=   0.0s\n",
      "[CV] END ................................ score: (test=0.562) total time=   0.0s\n",
      "[CV] END ................................ score: (test=0.562) total time=   0.0s\n",
      "[CV] END ................................ score: (test=0.188) total time=   0.0s\n",
      "[CV] END ................................ score: (test=0.292) total time=   0.0s\n",
      "[CV] END ................................ score: (test=0.375) total time=   0.0s\n",
      "[CV] END ................................ score: (test=0.500) total time=   0.0s\n",
      "[CV] END ................................ score: (test=0.500) total time=   0.0s\n",
      "[CV] END ................................ score: (test=0.562) total time=   0.0s\n",
      "[CV] END ................................ score: (test=0.521) total time=   0.0s\n",
      "[CV] END ................................ score: (test=0.562) total time=   0.0s\n",
      "[CV] END ................................ score: (test=0.188) total time=   0.0s\n",
      "[CV] END ................................ score: (test=0.292) total time=   0.0s\n",
      "[CV] END ................................ score: (test=0.458) total time=   0.0s\n",
      "[CV] END ................................ score: (test=0.417) total time=   0.0s\n",
      "[CV] END ................................ score: (test=0.521) total time=   0.0s\n",
      "[CV] END ................................ score: (test=0.500) total time=   0.0s\n",
      "[CV] END ................................ score: (test=0.479) total time=   0.0s\n",
      "[CV] END ................................ score: (test=0.438) total time=   0.0s\n",
      "[CV] END ................................ score: (test=0.188) total time=   0.0s\n",
      "[CV] END ................................ score: (test=0.333) total time=   0.0s\n",
      "[CV] END ................................ score: (test=0.479) total time=   0.0s\n",
      "[CV] END ................................ score: (test=0.458) total time=   0.0s\n",
      "[CV] END ................................ score: (test=0.417) total time=   0.0s\n",
      "[CV] END ................................ score: (test=0.438) total time=   0.0s\n",
      "[CV] END ................................ score: (test=0.521) total time=   0.0s\n",
      "[CV] END ................................ score: (test=0.438) total time=   0.0s\n",
      "[CV] END ................................ score: (test=0.208) total time=   0.0s\n",
      "[CV] END ................................ score: (test=0.375) total time=   0.0s\n",
      "[CV] END ................................ score: (test=0.396) total time=   0.0s\n",
      "[CV] END ................................ score: (test=0.521) total time=   0.0s\n",
      "[CV] END ................................ score: (test=0.438) total time=   0.0s\n",
      "[CV] END ................................ score: (test=0.562) total time=   0.0s\n",
      "[CV] END ................................ score: (test=0.458) total time=   0.0s\n",
      "[CV] END ................................ score: (test=0.188) total time=   0.0s\n",
      "[CV] END ................................ score: (test=0.188) total time=   0.0s\n",
      "[CV] END ................................ score: (test=0.312) total time=   0.0s\n",
      "[CV] END ................................ score: (test=0.562) total time=   0.0s\n",
      "[CV] END ................................ score: (test=0.417) total time=   0.0s\n",
      "[CV] END ................................ score: (test=0.521) total time=   0.0s\n",
      "[CV] END ................................ score: (test=0.417) total time=   0.0s\n",
      "[CV] END ................................ score: (test=0.521) total time=   0.0s\n",
      "[CV] END ................................ score: (test=0.188) total time=   0.0s\n",
      "[CV] END ................................ score: (test=0.292) total time=   0.0s\n",
      "[CV] END ................................ score: (test=0.438) total time=   0.0s\n",
      "[CV] END ................................ score: (test=0.521) total time=   0.0s\n",
      "[CV] END ................................ score: (test=0.396) total time=   0.0s\n",
      "[CV] END ................................ score: (test=0.396) total time=   0.0s\n",
      "[CV] END ................................ score: (test=0.521) total time=   0.0s\n",
      "[CV] END ................................ score: (test=0.396) total time=   0.0s\n",
      "[CV] END ................................ score: (test=0.500) total time=   0.0s\n",
      "[CV] END ................................ score: (test=0.167) total time=   0.0s\n",
      "[CV] END ................................ score: (test=0.188) total time=   0.0s\n",
      "[CV] END ................................ score: (test=0.354) total time=   0.0s\n",
      "[CV] END ................................ score: (test=0.500) total time=   0.0s\n",
      "[CV] END ................................ score: (test=0.521) total time=   0.0s\n",
      "[CV] END ................................ score: (test=0.521) total time=   0.0s\n",
      "[CV] END ................................ score: (test=0.438) total time=   0.0s\n",
      "[CV] END ................................ score: (test=0.521) total time=   0.0s\n",
      "[CV] END ................................ score: (test=0.617) total time=   0.4s\n",
      "[CV] END ................................ score: (test=0.662) total time=   0.4s\n",
      "[CV] END ................................ score: (test=0.690) total time=   0.4s\n",
      "[CV] END ................................ score: (test=0.717) total time=   0.7s\n",
      "[CV] END ................................ score: (test=0.747) total time=   2.9s\n",
      "[CV] END ................................ score: (test=0.802) total time=  27.0s\n",
      "[CV] END ................................ score: (test=0.188) total time=   0.0s\n",
      "[CV] END ................................ score: (test=0.188) total time=   0.0s\n",
      "[CV] END ................................ score: (test=0.479) total time=   0.0s\n",
      "[CV] END ................................ score: (test=0.438) total time=   0.1s\n",
      "[CV] END ................................ score: (test=0.583) total time=   0.0s\n",
      "[CV] END ................................ score: (test=0.458) total time=   0.0s\n",
      "[CV] END ................................ score: (test=0.438) total time=   0.0s\n",
      "[CV] END ................................ score: (test=0.438) total time=   0.1s\n",
      "[CV] END ................................ score: (test=0.188) total time=   0.0s\n",
      "[CV] END ................................ score: (test=0.271) total time=   0.0s\n",
      "[CV] END ................................ score: (test=0.375) total time=   0.0s\n",
      "[CV] END ................................ score: (test=0.562) total time=   0.0s\n",
      "[CV] END ................................ score: (test=0.521) total time=   0.0s\n",
      "[CV] END ................................ score: (test=0.562) total time=   0.0s\n",
      "[CV] END ................................ score: (test=0.583) total time=   0.0s\n",
      "[CV] END ................................ score: (test=0.458) total time=   0.0s\n",
      "[CV] END ................................ score: (test=0.188) total time=   0.0s\n",
      "[CV] END ................................ score: (test=0.188) total time=   0.0s\n",
      "[CV] END ................................ score: (test=0.292) total time=   0.0s\n",
      "[CV] END ................................ score: (test=0.521) total time=   0.0s\n",
      "[CV] END ................................ score: (test=0.438) total time=   0.0s\n",
      "[CV] END ................................ score: (test=0.438) total time=   0.0s\n",
      "[CV] END ................................ score: (test=0.438) total time=   0.0s\n",
      "[CV] END ................................ score: (test=0.438) total time=   0.0s\n",
      "[CV] END ................................ score: (test=0.521) total time=   0.0s\n",
      "[CV] END ................................ score: (test=0.167) total time=   0.0s\n",
      "[CV] END ................................ score: (test=0.188) total time=   0.0s\n",
      "[CV] END ................................ score: (test=0.312) total time=   0.0s\n",
      "[CV] END ................................ score: (test=0.521) total time=   0.0s\n",
      "[CV] END ................................ score: (test=0.438) total time=   0.0s\n",
      "[CV] END ................................ score: (test=0.500) total time=   0.0s\n",
      "[CV] END ................................ score: (test=0.542) total time=   0.0s\n",
      "[CV] END ................................ score: (test=0.521) total time=   0.0s\n",
      "[CV] END ................................ score: (test=0.167) total time=   0.0s\n",
      "[CV] END ................................ score: (test=0.188) total time=   0.0s\n",
      "[CV] END ................................ score: (test=0.188) total time=   0.0s\n",
      "[CV] END ................................ score: (test=0.521) total time=   0.0s\n",
      "[CV] END ................................ score: (test=0.438) total time=   0.0s\n",
      "[CV] END ................................ score: (test=0.417) total time=   0.0s\n",
      "[CV] END ................................ score: (test=0.500) total time=   0.0s\n",
      "[CV] END ................................ score: (test=0.521) total time=   0.0s\n",
      "[CV] END ................................ score: (test=0.167) total time=   0.0s\n",
      "[CV] END ................................ score: (test=0.188) total time=   0.0s\n",
      "[CV] END ................................ score: (test=0.312) total time=   0.0s\n",
      "[CV] END ................................ score: (test=0.375) total time=   0.0s\n",
      "[CV] END ................................ score: (test=0.562) total time=   0.0s\n",
      "[CV] END ................................ score: (test=0.438) total time=   0.0s\n",
      "[CV] END ................................ score: (test=0.521) total time=   0.0s\n",
      "[CV] END ................................ score: (test=0.417) total time=   0.0s\n",
      "[CV] END ................................ score: (test=0.417) total time=   0.0s\n",
      "[CV] END ................................ score: (test=0.167) total time=   0.0s\n",
      "[CV] END ................................ score: (test=0.188) total time=   0.0s\n",
      "[CV] END ................................ score: (test=0.229) total time=   0.0s\n",
      "[CV] END ................................ score: (test=0.375) total time=   0.0s\n",
      "[CV] END ................................ score: (test=0.521) total time=   0.0s\n",
      "[CV] END ................................ score: (test=0.396) total time=   0.0s\n",
      "[CV] END ................................ score: (test=0.521) total time=   0.0s\n",
      "[CV] END ................................ score: (test=0.396) total time=   0.0s\n",
      "[CV] END ................................ score: (test=0.188) total time=   0.0s\n",
      "[CV] END ................................ score: (test=0.188) total time=   0.0s\n",
      "[CV] END ................................ score: (test=0.375) total time=   0.0s\n",
      "[CV] END ................................ score: (test=0.479) total time=   0.0s\n",
      "[CV] END ................................ score: (test=0.479) total time=   0.0s\n",
      "[CV] END ................................ score: (test=0.479) total time=   0.0s\n",
      "[CV] END ................................ score: (test=0.458) total time=   0.0s\n",
      "[CV] END ................................ score: (test=0.521) total time=   0.0s\n",
      "[CV] END ................................ score: (test=0.188) total time=   0.0s\n",
      "[CV] END ................................ score: (test=0.188) total time=   0.0s\n",
      "[CV] END ................................ score: (test=0.188) total time=   0.0s\n",
      "[CV] END ................................ score: (test=0.271) total time=   0.0s\n",
      "[CV] END ................................ score: (test=0.417) total time=   0.0s\n",
      "[CV] END ................................ score: (test=0.500) total time=   0.0s\n",
      "[CV] END ................................ score: (test=0.417) total time=   0.0s\n",
      "[CV] END ................................ score: (test=0.417) total time=   0.0s\n",
      "[CV] END ................................ score: (test=0.438) total time=   0.0s\n",
      "[CV] END ................................ score: (test=0.438) total time=   0.0s\n",
      "[CV] END ................................ score: (test=0.590) total time=   0.4s\n",
      "[CV] END ................................ score: (test=0.669) total time=   0.5s\n",
      "[CV] END ................................ score: (test=0.686) total time=   0.3s\n",
      "[CV] END ................................ score: (test=0.714) total time=   0.5s\n",
      "[CV] END ................................ score: (test=0.729) total time=   0.7s\n",
      "[CV] END ................................ score: (test=0.754) total time=   2.3s\n",
      "[CV] END ................................ score: (test=0.775) total time=  27.2s\n"
     ]
    },
    {
     "name": "stderr",
     "output_type": "stream",
     "text": [
      "[Parallel(n_jobs=-1)]: Done  10 out of  10 | elapsed:  5.8min finished\n"
     ]
    },
    {
     "name": "stdout",
     "output_type": "stream",
     "text": [
      "ieme iteration 0: H=1, C=1000.0\n"
     ]
    },
    {
     "name": "stderr",
     "output_type": "stream",
     "text": [
      "[Parallel(n_jobs=-1)]: Using backend LokyBackend with 12 concurrent workers.\n",
      "[Parallel(n_jobs=-1)]: Done   3 out of  10 | elapsed: 32.6min remaining: 76.0min\n"
     ]
    },
    {
     "name": "stdout",
     "output_type": "stream",
     "text": [
      "[CV] END ................................ score: (test=0.333) total time=   0.0s\n",
      "[CV] END ................................ score: (test=0.375) total time=   0.0s\n",
      "[CV] END ................................ score: (test=0.604) total time=   0.1s\n",
      "[CV] END ................................ score: (test=0.521) total time=   0.0s\n",
      "[CV] END ................................ score: (test=0.438) total time=   0.0s\n",
      "[CV] END ................................ score: (test=0.458) total time=   0.1s\n",
      "[CV] END ................................ score: (test=0.521) total time=   0.0s\n",
      "[CV] END ................................ score: (test=0.167) total time=   0.0s\n",
      "[CV] END ................................ score: (test=0.188) total time=   0.0s\n",
      "[CV] END ................................ score: (test=0.250) total time=   0.0s\n",
      "[CV] END ................................ score: (test=0.542) total time=   0.0s\n",
      "[CV] END ................................ score: (test=0.542) total time=   0.0s\n",
      "[CV] END ................................ score: (test=0.500) total time=   0.0s\n",
      "[CV] END ................................ score: (test=0.562) total time=   0.0s\n",
      "[CV] END ................................ score: (test=0.583) total time=   0.0s\n",
      "[CV] END ................................ score: (test=0.188) total time=   0.0s\n",
      "[CV] END ................................ score: (test=0.188) total time=   0.0s\n",
      "[CV] END ................................ score: (test=0.333) total time=   0.0s\n",
      "[CV] END ................................ score: (test=0.500) total time=   0.0s\n",
      "[CV] END ................................ score: (test=0.417) total time=   0.0s\n",
      "[CV] END ................................ score: (test=0.438) total time=   0.0s\n",
      "[CV] END ................................ score: (test=0.438) total time=   0.0s\n",
      "[CV] END ................................ score: (test=0.562) total time=   0.0s\n",
      "[CV] END ................................ score: (test=0.438) total time=   0.0s\n",
      "[CV] END ................................ score: (test=0.188) total time=   0.0s\n",
      "[CV] END ................................ score: (test=0.333) total time=   0.0s\n",
      "[CV] END ................................ score: (test=0.396) total time=   0.0s\n",
      "[CV] END ................................ score: (test=0.500) total time=   0.0s\n",
      "[CV] END ................................ score: (test=0.438) total time=   0.0s\n",
      "[CV] END ................................ score: (test=0.438) total time=   0.0s\n",
      "[CV] END ................................ score: (test=0.417) total time=   0.0s\n",
      "[CV] END ................................ score: (test=0.458) total time=   0.0s\n",
      "[CV] END ................................ score: (test=0.458) total time=   0.0s\n",
      "[CV] END ................................ score: (test=0.188) total time=   0.0s\n",
      "[CV] END ................................ score: (test=0.188) total time=   0.0s\n",
      "[CV] END ................................ score: (test=0.333) total time=   0.0s\n",
      "[CV] END ................................ score: (test=0.562) total time=   0.0s\n",
      "[CV] END ................................ score: (test=0.438) total time=   0.0s\n",
      "[CV] END ................................ score: (test=0.458) total time=   0.0s\n",
      "[CV] END ................................ score: (test=0.458) total time=   0.0s\n",
      "[CV] END ................................ score: (test=0.438) total time=   0.0s\n",
      "[CV] END ................................ score: (test=0.500) total time=   0.0s\n",
      "[CV] END ................................ score: (test=0.417) total time=   0.0s\n",
      "[CV] END ................................ score: (test=0.188) total time=   0.0s\n",
      "[CV] END ................................ score: (test=0.333) total time=   0.0s\n",
      "[CV] END ................................ score: (test=0.438) total time=   0.0s\n",
      "[CV] END ................................ score: (test=0.521) total time=   0.0s\n",
      "[CV] END ................................ score: (test=0.458) total time=   0.0s\n",
      "[CV] END ................................ score: (test=0.458) total time=   0.0s\n",
      "[CV] END ................................ score: (test=0.438) total time=   0.0s\n",
      "[CV] END ................................ score: (test=0.458) total time=   0.0s\n",
      "[CV] END ................................ score: (test=0.417) total time=   0.0s\n",
      "[CV] END ................................ score: (test=0.167) total time=   0.0s\n",
      "[CV] END ................................ score: (test=0.188) total time=   0.0s\n",
      "[CV] END ................................ score: (test=0.354) total time=   0.0s\n",
      "[CV] END ................................ score: (test=0.521) total time=   0.0s\n",
      "[CV] END ................................ score: (test=0.417) total time=   0.0s\n",
      "[CV] END ................................ score: (test=0.458) total time=   0.0s\n",
      "[CV] END ................................ score: (test=0.458) total time=   0.0s\n",
      "[CV] END ................................ score: (test=0.521) total time=   0.0s\n",
      "[CV] END ................................ score: (test=0.562) total time=   0.0s\n",
      "[CV] END ................................ score: (test=0.167) total time=   0.0s\n",
      "[CV] END ................................ score: (test=0.188) total time=   0.0s\n",
      "[CV] END ................................ score: (test=0.312) total time=   0.0s\n",
      "[CV] END ................................ score: (test=0.458) total time=   0.0s\n",
      "[CV] END ................................ score: (test=0.396) total time=   0.0s\n",
      "[CV] END ................................ score: (test=0.396) total time=   0.0s\n",
      "[CV] END ................................ score: (test=0.500) total time=   0.0s\n",
      "[CV] END ................................ score: (test=0.417) total time=   0.0s\n",
      "[CV] END ................................ score: (test=0.479) total time=   0.0s\n",
      "[CV] END ................................ score: (test=0.167) total time=   0.0s\n",
      "[CV] END ................................ score: (test=0.188) total time=   0.0s\n",
      "[CV] END ................................ score: (test=0.208) total time=   0.0s\n",
      "[CV] END ................................ score: (test=0.354) total time=   0.0s\n",
      "[CV] END ................................ score: (test=0.521) total time=   0.0s\n",
      "[CV] END ................................ score: (test=0.500) total time=   0.0s\n",
      "[CV] END ................................ score: (test=0.521) total time=   0.0s\n",
      "[CV] END ................................ score: (test=0.417) total time=   0.0s\n",
      "[CV] END ................................ score: (test=0.626) total time=   0.4s\n",
      "[CV] END ................................ score: (test=0.663) total time=   0.4s\n",
      "[CV] END ................................ score: (test=0.687) total time=   0.4s\n",
      "[CV] END ................................ score: (test=0.705) total time=   0.6s\n",
      "[CV] END ................................ score: (test=0.763) total time=   2.8s\n",
      "[CV] END ................................ score: (test=0.750) total time=  24.1s\n",
      "[CV] END ................................ score: (test=0.726) total time= 4.7min\n",
      "[CV] END ................................ score: (test=0.753) total time=30.8min\n",
      "[CV] END ................................ score: (test=0.188) total time=   0.0s\n",
      "[CV] END ................................ score: (test=0.250) total time=   0.0s\n",
      "[CV] END ................................ score: (test=0.354) total time=   0.0s\n",
      "[CV] END ................................ score: (test=0.479) total time=   0.0s\n",
      "[CV] END ................................ score: (test=0.521) total time=   0.0s\n",
      "[CV] END ................................ score: (test=0.521) total time=   0.0s\n",
      "[CV] END ................................ score: (test=0.521) total time=   0.0s\n",
      "[CV] END ................................ score: (test=0.438) total time=   0.1s\n",
      "[CV] END ................................ score: (test=0.188) total time=   0.0s\n",
      "[CV] END ................................ score: (test=0.188) total time=   0.0s\n",
      "[CV] END ................................ score: (test=0.479) total time=   0.0s\n",
      "[CV] END ................................ score: (test=0.521) total time=   0.0s\n",
      "[CV] END ................................ score: (test=0.417) total time=   0.0s\n",
      "[CV] END ................................ score: (test=0.458) total time=   0.0s\n",
      "[CV] END ................................ score: (test=0.458) total time=   0.0s\n",
      "[CV] END ................................ score: (test=0.417) total time=   0.0s\n",
      "[CV] END ................................ score: (test=0.583) total time=   0.0s\n",
      "[CV] END ................................ score: (test=0.188) total time=   0.0s\n",
      "[CV] END ................................ score: (test=0.167) total time=   0.0s\n",
      "[CV] END ................................ score: (test=0.333) total time=   0.0s\n",
      "[CV] END ................................ score: (test=0.500) total time=   0.0s\n",
      "[CV] END ................................ score: (test=0.521) total time=   0.0s\n",
      "[CV] END ................................ score: (test=0.562) total time=   0.0s\n",
      "[CV] END ................................ score: (test=0.562) total time=   0.0s\n",
      "[CV] END ................................ score: (test=0.188) total time=   0.0s\n",
      "[CV] END ................................ score: (test=0.188) total time=   0.0s\n",
      "[CV] END ................................ score: (test=0.208) total time=   0.0s\n",
      "[CV] END ................................ score: (test=0.542) total time=   0.0s\n",
      "[CV] END ................................ score: (test=0.438) total time=   0.0s\n",
      "[CV] END ................................ score: (test=0.417) total time=   0.0s\n",
      "[CV] END ................................ score: (test=0.458) total time=   0.0s\n",
      "[CV] END ................................ score: (test=0.458) total time=   0.0s\n",
      "[CV] END ................................ score: (test=0.438) total time=   0.0s\n",
      "[CV] END ................................ score: (test=0.188) total time=   0.0s\n",
      "[CV] END ................................ score: (test=0.188) total time=   0.0s\n",
      "[CV] END ................................ score: (test=0.375) total time=   0.0s\n",
      "[CV] END ................................ score: (test=0.396) total time=   0.0s\n",
      "[CV] END ................................ score: (test=0.438) total time=   0.0s\n",
      "[CV] END ................................ score: (test=0.479) total time=   0.0s\n",
      "[CV] END ................................ score: (test=0.438) total time=   0.0s\n",
      "[CV] END ................................ score: (test=0.458) total time=   0.0s\n",
      "[CV] END ................................ score: (test=0.458) total time=   0.0s\n",
      "[CV] END ................................ score: (test=0.438) total time=   0.0s\n",
      "[CV] END ................................ score: (test=0.188) total time=   0.0s\n",
      "[CV] END ................................ score: (test=0.188) total time=   0.0s\n",
      "[CV] END ................................ score: (test=0.312) total time=   0.0s\n",
      "[CV] END ................................ score: (test=0.562) total time=   0.0s\n",
      "[CV] END ................................ score: (test=0.458) total time=   0.0s\n",
      "[CV] END ................................ score: (test=0.438) total time=   0.0s\n",
      "[CV] END ................................ score: (test=0.417) total time=   0.0s\n",
      "[CV] END ................................ score: (test=0.438) total time=   0.0s\n",
      "[CV] END ................................ score: (test=0.438) total time=   0.0s\n",
      "[CV] END ................................ score: (test=0.479) total time=   0.0s\n",
      "[CV] END ................................ score: (test=0.167) total time=   0.0s\n",
      "[CV] END ................................ score: (test=0.375) total time=   0.0s\n",
      "[CV] END ................................ score: (test=0.479) total time=   0.0s\n",
      "[CV] END ................................ score: (test=0.458) total time=   0.0s\n",
      "[CV] END ................................ score: (test=0.521) total time=   0.0s\n",
      "[CV] END ................................ score: (test=0.521) total time=   0.0s\n",
      "[CV] END ................................ score: (test=0.521) total time=   0.0s\n",
      "[CV] END ................................ score: (test=0.458) total time=   0.0s\n",
      "[CV] END ................................ score: (test=0.188) total time=   0.0s\n",
      "[CV] END ................................ score: (test=0.188) total time=   0.0s\n",
      "[CV] END ................................ score: (test=0.188) total time=   0.0s\n",
      "[CV] END ................................ score: (test=0.500) total time=   0.0s\n",
      "[CV] END ................................ score: (test=0.500) total time=   0.0s\n",
      "[CV] END ................................ score: (test=0.458) total time=   0.0s\n",
      "[CV] END ................................ score: (test=0.479) total time=   0.0s\n",
      "[CV] END ................................ score: (test=0.458) total time=   0.0s\n",
      "[CV] END ................................ score: (test=0.458) total time=   0.0s\n",
      "[CV] END ................................ score: (test=0.167) total time=   0.0s\n",
      "[CV] END ................................ score: (test=0.188) total time=   0.0s\n",
      "[CV] END ................................ score: (test=0.188) total time=   0.0s\n",
      "[CV] END ................................ score: (test=0.375) total time=   0.0s\n",
      "[CV] END ................................ score: (test=0.438) total time=   0.0s\n",
      "[CV] END ................................ score: (test=0.354) total time=   0.0s\n",
      "[CV] END ................................ score: (test=0.500) total time=   0.0s\n",
      "[CV] END ................................ score: (test=0.500) total time=   0.0s\n",
      "[CV] END ................................ score: (test=0.417) total time=   0.0s\n",
      "[CV] END ................................ score: (test=0.521) total time=   0.0s\n",
      "[CV] END ................................ score: (test=0.620) total time=   0.5s\n",
      "[CV] END ................................ score: (test=0.690) total time=   0.5s\n",
      "[CV] END ................................ score: (test=0.714) total time=   2.3s\n",
      "[CV] END ................................ score: (test=0.766) total time=  22.5s\n",
      "[CV] END ................................ score: (test=0.754) total time= 3.6min\n",
      "[CV] END ................................ score: (test=0.754) total time=32.0min\n",
      "[CV] END ................................ score: (test=0.312) total time=   0.0s\n",
      "[CV] END ................................ score: (test=0.583) total time=   0.0s\n",
      "[CV] END ................................ score: (test=0.438) total time=   0.0s\n",
      "[CV] END ................................ score: (test=0.458) total time=   0.1s\n",
      "[CV] END ................................ score: (test=0.583) total time=   0.1s\n",
      "[CV] END ................................ score: (test=0.479) total time=   0.1s\n",
      "[CV] END ................................ score: (test=0.208) total time=   0.0s\n",
      "[CV] END ................................ score: (test=0.333) total time=   0.0s\n",
      "[CV] END ................................ score: (test=0.479) total time=   0.0s\n",
      "[CV] END ................................ score: (test=0.500) total time=   0.0s\n",
      "[CV] END ................................ score: (test=0.583) total time=   0.0s\n",
      "[CV] END ................................ score: (test=0.521) total time=   0.0s\n",
      "[CV] END ................................ score: (test=0.583) total time=   0.0s\n",
      "[CV] END ................................ score: (test=0.500) total time=   0.0s\n",
      "[CV] END ................................ score: (test=0.167) total time=   0.0s\n",
      "[CV] END ................................ score: (test=0.333) total time=   0.0s\n",
      "[CV] END ................................ score: (test=0.542) total time=   0.0s\n",
      "[CV] END ................................ score: (test=0.521) total time=   0.0s\n",
      "[CV] END ................................ score: (test=0.438) total time=   0.0s\n",
      "[CV] END ................................ score: (test=0.562) total time=   0.0s\n",
      "[CV] END ................................ score: (test=0.562) total time=   0.0s\n",
      "[CV] END ................................ score: (test=0.521) total time=   0.0s\n",
      "[CV] END ................................ score: (test=0.188) total time=   0.0s\n",
      "[CV] END ................................ score: (test=0.188) total time=   0.0s\n",
      "[CV] END ................................ score: (test=0.271) total time=   0.0s\n",
      "[CV] END ................................ score: (test=0.500) total time=   0.0s\n",
      "[CV] END ................................ score: (test=0.458) total time=   0.0s\n",
      "[CV] END ................................ score: (test=0.479) total time=   0.0s\n",
      "[CV] END ................................ score: (test=0.521) total time=   0.0s\n",
      "[CV] END ................................ score: (test=0.500) total time=   0.0s\n",
      "[CV] END ................................ score: (test=0.500) total time=   0.0s\n",
      "[CV] END ................................ score: (test=0.167) total time=   0.0s\n",
      "[CV] END ................................ score: (test=0.188) total time=   0.0s\n",
      "[CV] END ................................ score: (test=0.292) total time=   0.0s\n",
      "[CV] END ................................ score: (test=0.438) total time=   0.0s\n",
      "[CV] END ................................ score: (test=0.542) total time=   0.0s\n",
      "[CV] END ................................ score: (test=0.458) total time=   0.0s\n",
      "[CV] END ................................ score: (test=0.438) total time=   0.0s\n",
      "[CV] END ................................ score: (test=0.479) total time=   0.0s\n",
      "[CV] END ................................ score: (test=0.438) total time=   0.0s\n",
      "[CV] END ................................ score: (test=0.167) total time=   0.0s\n",
      "[CV] END ................................ score: (test=0.188) total time=   0.0s\n",
      "[CV] END ................................ score: (test=0.208) total time=   0.0s\n",
      "[CV] END ................................ score: (test=0.521) total time=   0.0s\n",
      "[CV] END ................................ score: (test=0.458) total time=   0.0s\n",
      "[CV] END ................................ score: (test=0.562) total time=   0.0s\n",
      "[CV] END ................................ score: (test=0.458) total time=   0.0s\n",
      "[CV] END ................................ score: (test=0.521) total time=   0.0s\n",
      "[CV] END ................................ score: (test=0.188) total time=   0.0s\n",
      "[CV] END ................................ score: (test=0.167) total time=   0.0s\n",
      "[CV] END ................................ score: (test=0.188) total time=   0.0s\n",
      "[CV] END ................................ score: (test=0.521) total time=   0.0s\n",
      "[CV] END ................................ score: (test=0.458) total time=   0.0s\n",
      "[CV] END ................................ score: (test=0.458) total time=   0.0s\n",
      "[CV] END ................................ score: (test=0.562) total time=   0.0s\n",
      "[CV] END ................................ score: (test=0.417) total time=   0.0s\n",
      "[CV] END ................................ score: (test=0.208) total time=   0.0s\n",
      "[CV] END ................................ score: (test=0.333) total time=   0.0s\n",
      "[CV] END ................................ score: (test=0.375) total time=   0.0s\n",
      "[CV] END ................................ score: (test=0.417) total time=   0.0s\n",
      "[CV] END ................................ score: (test=0.458) total time=   0.0s\n",
      "[CV] END ................................ score: (test=0.521) total time=   0.0s\n",
      "[CV] END ................................ score: (test=0.458) total time=   0.0s\n",
      "[CV] END ................................ score: (test=0.396) total time=   0.0s\n",
      "[CV] END ................................ score: (test=0.188) total time=   0.0s\n",
      "[CV] END ................................ score: (test=0.312) total time=   0.0s\n",
      "[CV] END ................................ score: (test=0.500) total time=   0.0s\n",
      "[CV] END ................................ score: (test=0.521) total time=   0.0s\n",
      "[CV] END ................................ score: (test=0.438) total time=   0.0s\n",
      "[CV] END ................................ score: (test=0.354) total time=   0.0s\n",
      "[CV] END ................................ score: (test=0.500) total time=   0.0s\n",
      "[CV] END ................................ score: (test=0.608) total time=   0.4s\n",
      "[CV] END ................................ score: (test=0.663) total time=   0.3s\n",
      "[CV] END ................................ score: (test=0.705) total time=   0.4s\n",
      "[CV] END ................................ score: (test=0.759) total time=   0.4s\n",
      "[CV] END ................................ score: (test=0.763) total time=   0.8s\n",
      "[CV] END ................................ score: (test=0.729) total time=  25.1s\n",
      "[CV] END ................................ score: (test=0.808) total time= 3.4min\n",
      "[CV] END ................................ score: (test=0.769) total time=32.6min\n"
     ]
    },
    {
     "name": "stderr",
     "output_type": "stream",
     "text": [
      "[Parallel(n_jobs=-1)]: Done   7 out of  10 | elapsed: 41.1min remaining: 17.6min\n"
     ]
    },
    {
     "name": "stdout",
     "output_type": "stream",
     "text": [
      "[CV] END ................................ score: (test=0.188) total time=   0.0s\n",
      "[CV] END ................................ score: (test=0.250) total time=   0.0s\n",
      "[CV] END ................................ score: (test=0.417) total time=   0.0s\n",
      "[CV] END ................................ score: (test=0.479) total time=   0.0s\n",
      "[CV] END ................................ score: (test=0.438) total time=   0.0s\n",
      "[CV] END ................................ score: (test=0.438) total time=   0.0s\n",
      "[CV] END ................................ score: (test=0.438) total time=   0.0s\n",
      "[CV] END ................................ score: (test=0.583) total time=   0.0s\n",
      "[CV] END ................................ score: (test=0.167) total time=   0.0s\n",
      "[CV] END ................................ score: (test=0.188) total time=   0.0s\n",
      "[CV] END ................................ score: (test=0.479) total time=   0.0s\n",
      "[CV] END ................................ score: (test=0.458) total time=   0.0s\n",
      "[CV] END ................................ score: (test=0.583) total time=   0.0s\n",
      "[CV] END ................................ score: (test=0.521) total time=   0.0s\n",
      "[CV] END ................................ score: (test=0.583) total time=   0.0s\n",
      "[CV] END ................................ score: (test=0.188) total time=   0.0s\n",
      "[CV] END ................................ score: (test=0.188) total time=   0.0s\n",
      "[CV] END ................................ score: (test=0.312) total time=   0.0s\n",
      "[CV] END ................................ score: (test=0.438) total time=   0.0s\n",
      "[CV] END ................................ score: (test=0.562) total time=   0.0s\n",
      "[CV] END ................................ score: (test=0.521) total time=   0.0s\n",
      "[CV] END ................................ score: (test=0.417) total time=   0.0s\n",
      "[CV] END ................................ score: (test=0.500) total time=   0.0s\n",
      "[CV] END ................................ score: (test=0.188) total time=   0.0s\n",
      "[CV] END ................................ score: (test=0.188) total time=   0.0s\n",
      "[CV] END ................................ score: (test=0.479) total time=   0.0s\n",
      "[CV] END ................................ score: (test=0.521) total time=   0.0s\n",
      "[CV] END ................................ score: (test=0.542) total time=   0.0s\n",
      "[CV] END ................................ score: (test=0.521) total time=   0.0s\n",
      "[CV] END ................................ score: (test=0.438) total time=   0.0s\n",
      "[CV] END ................................ score: (test=0.167) total time=   0.0s\n",
      "[CV] END ................................ score: (test=0.188) total time=   0.0s\n",
      "[CV] END ................................ score: (test=0.500) total time=   0.0s\n",
      "[CV] END ................................ score: (test=0.417) total time=   0.0s\n",
      "[CV] END ................................ score: (test=0.500) total time=   0.0s\n",
      "[CV] END ................................ score: (test=0.438) total time=   0.0s\n",
      "[CV] END ................................ score: (test=0.542) total time=   0.0s\n",
      "[CV] END ................................ score: (test=0.458) total time=   0.0s\n",
      "[CV] END ................................ score: (test=0.188) total time=   0.0s\n",
      "[CV] END ................................ score: (test=0.188) total time=   0.0s\n",
      "[CV] END ................................ score: (test=0.333) total time=   0.0s\n",
      "[CV] END ................................ score: (test=0.479) total time=   0.0s\n",
      "[CV] END ................................ score: (test=0.417) total time=   0.0s\n",
      "[CV] END ................................ score: (test=0.521) total time=   0.0s\n",
      "[CV] END ................................ score: (test=0.458) total time=   0.0s\n",
      "[CV] END ................................ score: (test=0.479) total time=   0.0s\n",
      "[CV] END ................................ score: (test=0.438) total time=   0.0s\n",
      "[CV] END ................................ score: (test=0.188) total time=   0.0s\n",
      "[CV] END ................................ score: (test=0.292) total time=   0.0s\n",
      "[CV] END ................................ score: (test=0.500) total time=   0.0s\n",
      "[CV] END ................................ score: (test=0.458) total time=   0.0s\n",
      "[CV] END ................................ score: (test=0.521) total time=   0.0s\n",
      "[CV] END ................................ score: (test=0.521) total time=   0.0s\n",
      "[CV] END ................................ score: (test=0.458) total time=   0.0s\n",
      "[CV] END ................................ score: (test=0.458) total time=   0.0s\n",
      "[CV] END ................................ score: (test=0.167) total time=   0.0s\n",
      "[CV] END ................................ score: (test=0.188) total time=   0.0s\n",
      "[CV] END ................................ score: (test=0.500) total time=   0.0s\n",
      "[CV] END ................................ score: (test=0.458) total time=   0.0s\n",
      "[CV] END ................................ score: (test=0.521) total time=   0.0s\n",
      "[CV] END ................................ score: (test=0.396) total time=   0.0s\n",
      "[CV] END ................................ score: (test=0.458) total time=   0.0s\n",
      "[CV] END ................................ score: (test=0.396) total time=   0.0s\n",
      "[CV] END ................................ score: (test=0.521) total time=   0.0s\n",
      "[CV] END ................................ score: (test=0.188) total time=   0.0s\n",
      "[CV] END ................................ score: (test=0.188) total time=   0.0s\n",
      "[CV] END ................................ score: (test=0.333) total time=   0.0s\n",
      "[CV] END ................................ score: (test=0.354) total time=   0.0s\n",
      "[CV] END ................................ score: (test=0.438) total time=   0.0s\n",
      "[CV] END ................................ score: (test=0.417) total time=   0.0s\n",
      "[CV] END ................................ score: (test=0.521) total time=   0.0s\n",
      "[CV] END ................................ score: (test=0.521) total time=   0.0s\n",
      "[CV] END ................................ score: (test=0.438) total time=   0.0s\n",
      "[CV] END ................................ score: (test=0.521) total time=   0.0s\n",
      "[CV] END ................................ score: (test=0.611) total time=   0.5s\n",
      "[CV] END ................................ score: (test=0.698) total time=   0.3s\n",
      "[CV] END ................................ score: (test=0.693) total time=   0.4s\n",
      "[CV] END ................................ score: (test=0.754) total time=   0.4s\n",
      "[CV] END ................................ score: (test=0.720) total time=   0.7s\n",
      "[CV] END ................................ score: (test=0.726) total time=   3.1s\n",
      "[CV] END ................................ score: (test=0.717) total time= 3.6min\n",
      "[CV] END ................................ score: (test=0.775) total time=38.3min\n",
      "[CV] END ................................ score: (test=0.292) total time=   0.0s\n",
      "[CV] END ................................ score: (test=0.479) total time=   0.0s\n",
      "[CV] END ................................ score: (test=0.542) total time=   0.0s\n",
      "[CV] END ................................ score: (test=0.438) total time=   0.0s\n",
      "[CV] END ................................ score: (test=0.438) total time=   0.0s\n",
      "[CV] END ................................ score: (test=0.458) total time=   0.0s\n",
      "[CV] END ................................ score: (test=0.521) total time=   0.1s\n",
      "[CV] END ................................ score: (test=0.188) total time=   0.0s\n",
      "[CV] END ................................ score: (test=0.188) total time=   0.0s\n",
      "[CV] END ................................ score: (test=0.312) total time=   0.0s\n",
      "[CV] END ................................ score: (test=0.542) total time=   0.0s\n",
      "[CV] END ................................ score: (test=0.417) total time=   0.0s\n",
      "[CV] END ................................ score: (test=0.583) total time=   0.0s\n",
      "[CV] END ................................ score: (test=0.521) total time=   0.0s\n",
      "[CV] END ................................ score: (test=0.521) total time=   0.0s\n",
      "[CV] END ................................ score: (test=0.167) total time=   0.0s\n",
      "[CV] END ................................ score: (test=0.188) total time=   0.0s\n",
      "[CV] END ................................ score: (test=0.583) total time=   0.0s\n",
      "[CV] END ................................ score: (test=0.438) total time=   0.0s\n",
      "[CV] END ................................ score: (test=0.438) total time=   0.0s\n",
      "[CV] END ................................ score: (test=0.438) total time=   0.0s\n",
      "[CV] END ................................ score: (test=0.562) total time=   0.0s\n",
      "[CV] END ................................ score: (test=0.438) total time=   0.0s\n",
      "[CV] END ................................ score: (test=0.562) total time=   0.0s\n",
      "[CV] END ................................ score: (test=0.208) total time=   0.0s\n",
      "[CV] END ................................ score: (test=0.354) total time=   0.0s\n",
      "[CV] END ................................ score: (test=0.458) total time=   0.0s\n",
      "[CV] END ................................ score: (test=0.438) total time=   0.0s\n",
      "[CV] END ................................ score: (test=0.500) total time=   0.0s\n",
      "[CV] END ................................ score: (test=0.438) total time=   0.0s\n",
      "[CV] END ................................ score: (test=0.438) total time=   0.0s\n",
      "[CV] END ................................ score: (test=0.542) total time=   0.0s\n",
      "[CV] END ................................ score: (test=0.458) total time=   0.0s\n",
      "[CV] END ................................ score: (test=0.188) total time=   0.0s\n",
      "[CV] END ................................ score: (test=0.312) total time=   0.0s\n",
      "[CV] END ................................ score: (test=0.375) total time=   0.0s\n",
      "[CV] END ................................ score: (test=0.521) total time=   0.0s\n",
      "[CV] END ................................ score: (test=0.479) total time=   0.0s\n",
      "[CV] END ................................ score: (test=0.458) total time=   0.0s\n",
      "[CV] END ................................ score: (test=0.542) total time=   0.0s\n",
      "[CV] END ................................ score: (test=0.188) total time=   0.0s\n",
      "[CV] END ................................ score: (test=0.292) total time=   0.0s\n",
      "[CV] END ................................ score: (test=0.583) total time=   0.0s\n",
      "[CV] END ................................ score: (test=0.438) total time=   0.0s\n",
      "[CV] END ................................ score: (test=0.417) total time=   0.0s\n",
      "[CV] END ................................ score: (test=0.521) total time=   0.0s\n",
      "[CV] END ................................ score: (test=0.417) total time=   0.0s\n",
      "[CV] END ................................ score: (test=0.521) total time=   0.0s\n",
      "[CV] END ................................ score: (test=0.188) total time=   0.0s\n",
      "[CV] END ................................ score: (test=0.188) total time=   0.0s\n",
      "[CV] END ................................ score: (test=0.375) total time=   0.0s\n",
      "[CV] END ................................ score: (test=0.458) total time=   0.0s\n",
      "[CV] END ................................ score: (test=0.521) total time=   0.0s\n",
      "[CV] END ................................ score: (test=0.562) total time=   0.0s\n",
      "[CV] END ................................ score: (test=0.458) total time=   0.0s\n",
      "[CV] END ................................ score: (test=0.521) total time=   0.0s\n",
      "[CV] END ................................ score: (test=0.521) total time=   0.0s\n",
      "[CV] END ................................ score: (test=0.188) total time=   0.0s\n",
      "[CV] END ................................ score: (test=0.188) total time=   0.0s\n",
      "[CV] END ................................ score: (test=0.542) total time=   0.0s\n",
      "[CV] END ................................ score: (test=0.458) total time=   0.0s\n",
      "[CV] END ................................ score: (test=0.458) total time=   0.0s\n",
      "[CV] END ................................ score: (test=0.417) total time=   0.0s\n",
      "[CV] END ................................ score: (test=0.521) total time=   0.0s\n",
      "[CV] END ................................ score: (test=0.188) total time=   0.0s\n",
      "[CV] END ................................ score: (test=0.167) total time=   0.0s\n",
      "[CV] END ................................ score: (test=0.479) total time=   0.0s\n",
      "[CV] END ................................ score: (test=0.417) total time=   0.0s\n",
      "[CV] END ................................ score: (test=0.354) total time=   0.0s\n",
      "[CV] END ................................ score: (test=0.396) total time=   0.0s\n",
      "[CV] END ................................ score: (test=0.500) total time=   0.0s\n",
      "[CV] END ................................ score: (test=0.590) total time=   0.4s\n",
      "[CV] END ................................ score: (test=0.632) total time=   0.4s\n",
      "[CV] END ................................ score: (test=0.733) total time=   0.4s\n",
      "[CV] END ................................ score: (test=0.716) total time=   0.4s\n",
      "[CV] END ................................ score: (test=0.739) total time=   0.7s\n",
      "[CV] END ................................ score: (test=0.717) total time=  24.2s\n",
      "[CV] END ................................ score: (test=0.742) total time= 3.4min\n",
      "[CV] END ................................ score: (test=0.723) total time=39.0min\n",
      "[CV] END ................................ score: (test=0.188) total time=   0.0s\n",
      "[CV] END ................................ score: (test=0.292) total time=   0.0s\n",
      "[CV] END ................................ score: (test=0.438) total time=   0.0s\n",
      "[CV] END ................................ score: (test=0.458) total time=   0.0s\n",
      "[CV] END ................................ score: (test=0.458) total time=   0.0s\n",
      "[CV] END ................................ score: (test=0.479) total time=   0.0s\n",
      "[CV] END ................................ score: (test=0.479) total time=   0.0s\n",
      "[CV] END ................................ score: (test=0.604) total time=   0.0s\n",
      "[CV] END ................................ score: (test=0.604) total time=   0.0s\n",
      "[CV] END ................................ score: (test=0.167) total time=   0.0s\n",
      "[CV] END ................................ score: (test=0.188) total time=   0.0s\n",
      "[CV] END ................................ score: (test=0.188) total time=   0.0s\n",
      "[CV] END ................................ score: (test=0.521) total time=   0.0s\n",
      "[CV] END ................................ score: (test=0.417) total time=   0.0s\n",
      "[CV] END ................................ score: (test=0.562) total time=   0.0s\n",
      "[CV] END ................................ score: (test=0.438) total time=   0.0s\n",
      "[CV] END ................................ score: (test=0.438) total time=   0.0s\n",
      "[CV] END ................................ score: (test=0.438) total time=   0.0s\n",
      "[CV] END ................................ score: (test=0.417) total time=   0.0s\n",
      "[CV] END ................................ score: (test=0.167) total time=   0.0s\n",
      "[CV] END ................................ score: (test=0.188) total time=   0.0s\n",
      "[CV] END ................................ score: (test=0.500) total time=   0.0s\n",
      "[CV] END ................................ score: (test=0.562) total time=   0.0s\n",
      "[CV] END ................................ score: (test=0.562) total time=   0.0s\n",
      "[CV] END ................................ score: (test=0.521) total time=   0.0s\n",
      "[CV] END ................................ score: (test=0.562) total time=   0.0s\n",
      "[CV] END ................................ score: (test=0.438) total time=   0.0s\n",
      "[CV] END ................................ score: (test=0.167) total time=   0.0s\n",
      "[CV] END ................................ score: (test=0.167) total time=   0.0s\n",
      "[CV] END ................................ score: (test=0.188) total time=   0.0s\n",
      "[CV] END ................................ score: (test=0.208) total time=   0.0s\n",
      "[CV] END ................................ score: (test=0.583) total time=   0.0s\n",
      "[CV] END ................................ score: (test=0.521) total time=   0.0s\n",
      "[CV] END ................................ score: (test=0.458) total time=   0.0s\n",
      "[CV] END ................................ score: (test=0.458) total time=   0.0s\n",
      "[CV] END ................................ score: (test=0.521) total time=   0.0s\n",
      "[CV] END ................................ score: (test=0.208) total time=   0.0s\n",
      "[CV] END ................................ score: (test=0.188) total time=   0.0s\n",
      "[CV] END ................................ score: (test=0.542) total time=   0.0s\n",
      "[CV] END ................................ score: (test=0.438) total time=   0.0s\n",
      "[CV] END ................................ score: (test=0.521) total time=   0.0s\n",
      "[CV] END ................................ score: (test=0.438) total time=   0.0s\n",
      "[CV] END ................................ score: (test=0.188) total time=   0.0s\n",
      "[CV] END ................................ score: (test=0.188) total time=   0.0s\n",
      "[CV] END ................................ score: (test=0.500) total time=   0.0s\n",
      "[CV] END ................................ score: (test=0.438) total time=   0.0s\n",
      "[CV] END ................................ score: (test=0.479) total time=   0.0s\n",
      "[CV] END ................................ score: (test=0.521) total time=   0.0s\n",
      "[CV] END ................................ score: (test=0.438) total time=   0.0s\n",
      "[CV] END ................................ score: (test=0.188) total time=   0.0s\n",
      "[CV] END ................................ score: (test=0.188) total time=   0.0s\n",
      "[CV] END ................................ score: (test=0.583) total time=   0.0s\n",
      "[CV] END ................................ score: (test=0.396) total time=   0.0s\n",
      "[CV] END ................................ score: (test=0.521) total time=   0.0s\n",
      "[CV] END ................................ score: (test=0.417) total time=   0.0s\n",
      "[CV] END ................................ score: (test=0.458) total time=   0.0s\n",
      "[CV] END ................................ score: (test=0.396) total time=   0.0s\n",
      "[CV] END ................................ score: (test=0.188) total time=   0.0s\n",
      "[CV] END ................................ score: (test=0.375) total time=   0.0s\n",
      "[CV] END ................................ score: (test=0.354) total time=   0.0s\n",
      "[CV] END ................................ score: (test=0.521) total time=   0.0s\n",
      "[CV] END ................................ score: (test=0.417) total time=   0.0s\n",
      "[CV] END ................................ score: (test=0.521) total time=   0.0s\n",
      "[CV] END ................................ score: (test=0.521) total time=   0.0s\n",
      "[CV] END ................................ score: (test=0.479) total time=   0.0s\n",
      "[CV] END ................................ score: (test=0.458) total time=   0.0s\n",
      "[CV] END ................................ score: (test=0.188) total time=   0.0s\n",
      "[CV] END ................................ score: (test=0.312) total time=   0.0s\n",
      "[CV] END ................................ score: (test=0.521) total time=   0.0s\n",
      "[CV] END ................................ score: (test=0.438) total time=   0.0s\n",
      "[CV] END ................................ score: (test=0.500) total time=   0.0s\n",
      "[CV] END ................................ score: (test=0.438) total time=   0.0s\n",
      "[CV] END ................................ score: (test=0.438) total time=   0.0s\n",
      "[CV] END ................................ score: (test=0.521) total time=   0.0s\n",
      "[CV] END ................................ score: (test=0.396) total time=   0.0s\n",
      "[CV] END ................................ score: (test=0.657) total time=   0.5s\n",
      "[CV] END ................................ score: (test=0.689) total time=   0.4s\n",
      "[CV] END ................................ score: (test=0.717) total time=   0.5s\n",
      "[CV] END ................................ score: (test=0.777) total time=   0.6s\n",
      "[CV] END ................................ score: (test=0.769) total time=   2.4s\n",
      "[CV] END ................................ score: (test=0.757) total time=  16.2s\n",
      "[CV] END ................................ score: (test=0.766) total time= 4.1min\n",
      "[CV] END ................................ score: (test=0.742) total time=41.0min\n",
      "[CV] END ................................ score: (test=0.188) total time=   0.0s\n",
      "[CV] END ................................ score: (test=0.188) total time=   0.0s\n",
      "[CV] END ................................ score: (test=0.438) total time=   0.0s\n",
      "[CV] END ................................ score: (test=0.438) total time=   0.0s\n",
      "[CV] END ................................ score: (test=0.479) total time=   0.0s\n",
      "[CV] END ................................ score: (test=0.604) total time=   0.0s\n",
      "[CV] END ................................ score: (test=0.521) total time=   0.0s\n",
      "[CV] END ................................ score: (test=0.438) total time=   0.1s\n",
      "[CV] END ................................ score: (test=0.188) total time=   0.0s\n",
      "[CV] END ................................ score: (test=0.333) total time=   0.0s\n",
      "[CV] END ................................ score: (test=0.583) total time=   0.0s\n",
      "[CV] END ................................ score: (test=0.417) total time=   0.0s\n",
      "[CV] END ................................ score: (test=0.438) total time=   0.0s\n",
      "[CV] END ................................ score: (test=0.417) total time=   0.0s\n",
      "[CV] END ................................ score: (test=0.417) total time=   0.0s\n",
      "[CV] END ................................ score: (test=0.542) total time=   0.0s\n",
      "[CV] END ................................ score: (test=0.188) total time=   0.0s\n",
      "[CV] END ................................ score: (test=0.188) total time=   0.0s\n",
      "[CV] END ................................ score: (test=0.188) total time=   0.0s\n",
      "[CV] END ................................ score: (test=0.562) total time=   0.0s\n",
      "[CV] END ................................ score: (test=0.438) total time=   0.0s\n",
      "[CV] END ................................ score: (test=0.521) total time=   0.0s\n",
      "[CV] END ................................ score: (test=0.438) total time=   0.0s\n",
      "[CV] END ................................ score: (test=0.438) total time=   0.0s\n",
      "[CV] END ................................ score: (test=0.438) total time=   0.0s\n",
      "[CV] END ................................ score: (test=0.167) total time=   0.0s\n",
      "[CV] END ................................ score: (test=0.188) total time=   0.0s\n",
      "[CV] END ................................ score: (test=0.583) total time=   0.0s\n",
      "[CV] END ................................ score: (test=0.458) total time=   0.0s\n",
      "[CV] END ................................ score: (test=0.542) total time=   0.0s\n",
      "[CV] END ................................ score: (test=0.521) total time=   0.0s\n",
      "[CV] END ................................ score: (test=0.417) total time=   0.0s\n",
      "[CV] END ................................ score: (test=0.542) total time=   0.0s\n",
      "[CV] END ................................ score: (test=0.188) total time=   0.0s\n",
      "[CV] END ................................ score: (test=0.167) total time=   0.0s\n",
      "[CV] END ................................ score: (test=0.271) total time=   0.0s\n",
      "[CV] END ................................ score: (test=0.521) total time=   0.0s\n",
      "[CV] END ................................ score: (test=0.479) total time=   0.0s\n",
      "[CV] END ................................ score: (test=0.521) total time=   0.0s\n",
      "[CV] END ................................ score: (test=0.438) total time=   0.0s\n",
      "[CV] END ................................ score: (test=0.458) total time=   0.0s\n",
      "[CV] END ................................ score: (test=0.458) total time=   0.0s\n",
      "[CV] END ................................ score: (test=0.188) total time=   0.0s\n",
      "[CV] END ................................ score: (test=0.188) total time=   0.0s\n",
      "[CV] END ................................ score: (test=0.271) total time=   0.0s\n",
      "[CV] END ................................ score: (test=0.562) total time=   0.0s\n",
      "[CV] END ................................ score: (test=0.417) total time=   0.0s\n",
      "[CV] END ................................ score: (test=0.417) total time=   0.0s\n",
      "[CV] END ................................ score: (test=0.521) total time=   0.0s\n",
      "[CV] END ................................ score: (test=0.458) total time=   0.0s\n",
      "[CV] END ................................ score: (test=0.188) total time=   0.0s\n",
      "[CV] END ................................ score: (test=0.188) total time=   0.0s\n",
      "[CV] END ................................ score: (test=0.312) total time=   0.0s\n",
      "[CV] END ................................ score: (test=0.375) total time=   0.0s\n",
      "[CV] END ................................ score: (test=0.562) total time=   0.0s\n",
      "[CV] END ................................ score: (test=0.458) total time=   0.0s\n",
      "[CV] END ................................ score: (test=0.458) total time=   0.0s\n",
      "[CV] END ................................ score: (test=0.458) total time=   0.0s\n",
      "[CV] END ................................ score: (test=0.417) total time=   0.0s\n",
      "[CV] END ................................ score: (test=0.188) total time=   0.0s\n",
      "[CV] END ................................ score: (test=0.167) total time=   0.0s\n",
      "[CV] END ................................ score: (test=0.229) total time=   0.0s\n",
      "[CV] END ................................ score: (test=0.521) total time=   0.0s\n",
      "[CV] END ................................ score: (test=0.521) total time=   0.0s\n",
      "[CV] END ................................ score: (test=0.458) total time=   0.0s\n",
      "[CV] END ................................ score: (test=0.521) total time=   0.0s\n",
      "[CV] END ................................ score: (test=0.521) total time=   0.0s\n",
      "[CV] END ................................ score: (test=0.521) total time=   0.0s\n",
      "[CV] END ................................ score: (test=0.188) total time=   0.0s\n",
      "[CV] END ................................ score: (test=0.375) total time=   0.0s\n",
      "[CV] END ................................ score: (test=0.458) total time=   0.0s\n",
      "[CV] END ................................ score: (test=0.521) total time=   0.0s\n",
      "[CV] END ................................ score: (test=0.521) total time=   0.0s\n",
      "[CV] END ................................ score: (test=0.521) total time=   0.0s\n",
      "[CV] END ................................ score: (test=0.521) total time=   0.0s\n",
      "[CV] END ................................ score: (test=0.521) total time=   0.0s\n",
      "[CV] END ................................ score: (test=0.438) total time=   0.0s\n",
      "[CV] END ................................ score: (test=0.591) total time=   0.5s\n",
      "[CV] END ................................ score: (test=0.669) total time=   0.4s\n",
      "[CV] END ................................ score: (test=0.723) total time=   0.4s\n",
      "[CV] END ................................ score: (test=0.763) total time=   0.7s\n",
      "[CV] END ................................ score: (test=0.739) total time=   2.6s\n",
      "[CV] END ................................ score: (test=0.775) total time=  23.4s\n",
      "[CV] END ................................ score: (test=0.775) total time= 3.9min\n",
      "[CV] END ................................ score: (test=0.726) total time=41.1min\n",
      "[CV] END ................................ score: (test=0.188) total time=   0.0s\n",
      "[CV] END ................................ score: (test=0.500) total time=   0.0s\n",
      "[CV] END ................................ score: (test=0.583) total time=   0.0s\n",
      "[CV] END ................................ score: (test=0.521) total time=   0.0s\n",
      "[CV] END ................................ score: (test=0.438) total time=   0.0s\n",
      "[CV] END ................................ score: (test=0.458) total time=   0.1s\n",
      "[CV] END ................................ score: (test=0.188) total time=   0.0s\n",
      "[CV] END ................................ score: (test=0.167) total time=   0.0s\n",
      "[CV] END ................................ score: (test=0.312) total time=   0.0s\n",
      "[CV] END ................................ score: (test=0.417) total time=   0.0s\n",
      "[CV] END ................................ score: (test=0.583) total time=   0.0s\n",
      "[CV] END ................................ score: (test=0.417) total time=   0.0s\n",
      "[CV] END ................................ score: (test=0.500) total time=   0.0s\n",
      "[CV] END ................................ score: (test=0.500) total time=   0.0s\n",
      "[CV] END ................................ score: (test=0.458) total time=   0.0s\n",
      "[CV] END ................................ score: (test=0.188) total time=   0.0s\n",
      "[CV] END ................................ score: (test=0.188) total time=   0.0s\n",
      "[CV] END ................................ score: (test=0.458) total time=   0.0s\n",
      "[CV] END ................................ score: (test=0.562) total time=   0.0s\n",
      "[CV] END ................................ score: (test=0.521) total time=   0.0s\n",
      "[CV] END ................................ score: (test=0.500) total time=   0.0s\n",
      "[CV] END ................................ score: (test=0.521) total time=   0.0s\n",
      "[CV] END ................................ score: (test=0.417) total time=   0.0s\n",
      "[CV] END ................................ score: (test=0.188) total time=   0.0s\n",
      "[CV] END ................................ score: (test=0.292) total time=   0.0s\n",
      "[CV] END ................................ score: (test=0.458) total time=   0.0s\n",
      "[CV] END ................................ score: (test=0.479) total time=   0.0s\n",
      "[CV] END ................................ score: (test=0.521) total time=   0.0s\n",
      "[CV] END ................................ score: (test=0.521) total time=   0.0s\n",
      "[CV] END ................................ score: (test=0.479) total time=   0.0s\n",
      "[CV] END ................................ score: (test=0.188) total time=   0.0s\n",
      "[CV] END ................................ score: (test=0.292) total time=   0.0s\n",
      "[CV] END ................................ score: (test=0.458) total time=   0.0s\n",
      "[CV] END ................................ score: (test=0.500) total time=   0.0s\n",
      "[CV] END ................................ score: (test=0.542) total time=   0.0s\n",
      "[CV] END ................................ score: (test=0.417) total time=   0.0s\n",
      "[CV] END ................................ score: (test=0.438) total time=   0.0s\n",
      "[CV] END ................................ score: (test=0.188) total time=   0.0s\n",
      "[CV] END ................................ score: (test=0.167) total time=   0.0s\n",
      "[CV] END ................................ score: (test=0.479) total time=   0.0s\n",
      "[CV] END ................................ score: (test=0.417) total time=   0.0s\n",
      "[CV] END ................................ score: (test=0.521) total time=   0.0s\n",
      "[CV] END ................................ score: (test=0.479) total time=   0.0s\n",
      "[CV] END ................................ score: (test=0.417) total time=   0.0s\n",
      "[CV] END ................................ score: (test=0.562) total time=   0.0s\n",
      "[CV] END ................................ score: (test=0.188) total time=   0.0s\n",
      "[CV] END ................................ score: (test=0.188) total time=   0.0s\n",
      "[CV] END ................................ score: (test=0.500) total time=   0.0s\n",
      "[CV] END ................................ score: (test=0.417) total time=   0.0s\n",
      "[CV] END ................................ score: (test=0.396) total time=   0.0s\n",
      "[CV] END ................................ score: (test=0.562) total time=   0.0s\n",
      "[CV] END ................................ score: (test=0.417) total time=   0.0s\n",
      "[CV] END ................................ score: (test=0.188) total time=   0.0s\n",
      "[CV] END ................................ score: (test=0.188) total time=   0.0s\n",
      "[CV] END ................................ score: (test=0.375) total time=   0.0s\n",
      "[CV] END ................................ score: (test=0.521) total time=   0.0s\n",
      "[CV] END ................................ score: (test=0.521) total time=   0.0s\n",
      "[CV] END ................................ score: (test=0.396) total time=   0.0s\n",
      "[CV] END ................................ score: (test=0.500) total time=   0.0s\n",
      "[CV] END ................................ score: (test=0.188) total time=   0.0s\n",
      "[CV] END ................................ score: (test=0.375) total time=   0.0s\n",
      "[CV] END ................................ score: (test=0.521) total time=   0.0s\n",
      "[CV] END ................................ score: (test=0.500) total time=   0.0s\n",
      "[CV] END ................................ score: (test=0.438) total time=   0.0s\n",
      "[CV] END ................................ score: (test=0.521) total time=   0.0s\n",
      "[CV] END ................................ score: (test=0.396) total time=   0.0s\n",
      "[CV] END ................................ score: (test=0.605) total time=   0.4s\n",
      "[CV] END ................................ score: (test=0.660) total time=   0.4s\n",
      "[CV] END ................................ score: (test=0.705) total time=   0.4s\n",
      "[CV] END ................................ score: (test=0.754) total time=   0.5s\n",
      "[CV] END ................................ score: (test=0.716) total time=   0.7s\n",
      "[CV] END ................................ score: (test=0.772) total time=   3.1s\n",
      "[CV] END ................................ score: (test=0.723) total time= 3.4min\n",
      "[CV] END ................................ score: (test=0.717) total time=44.9min\n"
     ]
    },
    {
     "name": "stderr",
     "output_type": "stream",
     "text": [
      "[Parallel(n_jobs=-1)]: Done  10 out of  10 | elapsed: 51.4min finished\n"
     ]
    },
    {
     "name": "stdout",
     "output_type": "stream",
     "text": [
      "ieme iteration 1: H=2, C=1e-05\n"
     ]
    },
    {
     "name": "stderr",
     "output_type": "stream",
     "text": [
      "[Parallel(n_jobs=-1)]: Using backend LokyBackend with 12 concurrent workers.\n",
      "/home/vinc/anaconda3/lib/python3.9/site-packages/scipy/__init__.py:146: UserWarning: A NumPy version >=1.16.5 and <1.23.0 is required for this version of SciPy (detected version 1.23.4\n",
      "  warnings.warn(f\"A NumPy version >={np_minversion} and <{np_maxversion}\"\n",
      "/home/vinc/anaconda3/lib/python3.9/site-packages/scipy/__init__.py:146: UserWarning: A NumPy version >=1.16.5 and <1.23.0 is required for this version of SciPy (detected version 1.23.4\n",
      "  warnings.warn(f\"A NumPy version >={np_minversion} and <{np_maxversion}\"\n",
      "[Parallel(n_jobs=-1)]: Done   3 out of  10 | elapsed:    0.8s remaining:    1.8s\n",
      "/home/vinc/anaconda3/lib/python3.9/site-packages/scipy/__init__.py:146: UserWarning: A NumPy version >=1.16.5 and <1.23.0 is required for this version of SciPy (detected version 1.23.4\n",
      "  warnings.warn(f\"A NumPy version >={np_minversion} and <{np_maxversion}\"\n",
      "/home/vinc/anaconda3/lib/python3.9/site-packages/scipy/__init__.py:146: UserWarning: A NumPy version >=1.16.5 and <1.23.0 is required for this version of SciPy (detected version 1.23.4\n",
      "  warnings.warn(f\"A NumPy version >={np_minversion} and <{np_maxversion}\"\n",
      "/home/vinc/anaconda3/lib/python3.9/site-packages/scipy/__init__.py:146: UserWarning: A NumPy version >=1.16.5 and <1.23.0 is required for this version of SciPy (detected version 1.23.4\n",
      "  warnings.warn(f\"A NumPy version >={np_minversion} and <{np_maxversion}\"\n",
      "[Parallel(n_jobs=-1)]: Done   7 out of  10 | elapsed:    1.4s remaining:    0.6s\n",
      "[Parallel(n_jobs=-1)]: Done  10 out of  10 | elapsed:    1.5s finished\n"
     ]
    },
    {
     "name": "stdout",
     "output_type": "stream",
     "text": [
      "ieme iteration 1: H=2, C=0.0001\n"
     ]
    },
    {
     "name": "stderr",
     "output_type": "stream",
     "text": [
      "[Parallel(n_jobs=-1)]: Using backend LokyBackend with 12 concurrent workers.\n",
      "/home/vinc/anaconda3/lib/python3.9/site-packages/scipy/__init__.py:146: UserWarning: A NumPy version >=1.16.5 and <1.23.0 is required for this version of SciPy (detected version 1.23.4\n",
      "  warnings.warn(f\"A NumPy version >={np_minversion} and <{np_maxversion}\"\n",
      "/home/vinc/anaconda3/lib/python3.9/site-packages/scipy/__init__.py:146: UserWarning: A NumPy version >=1.16.5 and <1.23.0 is required for this version of SciPy (detected version 1.23.4\n",
      "  warnings.warn(f\"A NumPy version >={np_minversion} and <{np_maxversion}\"\n",
      "/home/vinc/anaconda3/lib/python3.9/site-packages/scipy/__init__.py:146: UserWarning: A NumPy version >=1.16.5 and <1.23.0 is required for this version of SciPy (detected version 1.23.4\n",
      "  warnings.warn(f\"A NumPy version >={np_minversion} and <{np_maxversion}\"\n",
      "/home/vinc/anaconda3/lib/python3.9/site-packages/scipy/__init__.py:146: UserWarning: A NumPy version >=1.16.5 and <1.23.0 is required for this version of SciPy (detected version 1.23.4\n",
      "  warnings.warn(f\"A NumPy version >={np_minversion} and <{np_maxversion}\"\n",
      "/home/vinc/anaconda3/lib/python3.9/site-packages/scipy/__init__.py:146: UserWarning: A NumPy version >=1.16.5 and <1.23.0 is required for this version of SciPy (detected version 1.23.4\n",
      "  warnings.warn(f\"A NumPy version >={np_minversion} and <{np_maxversion}\"\n",
      "[Parallel(n_jobs=-1)]: Done   3 out of  10 | elapsed:    0.4s remaining:    0.9s\n",
      "[Parallel(n_jobs=-1)]: Done   7 out of  10 | elapsed:    0.7s remaining:    0.3s\n",
      "[Parallel(n_jobs=-1)]: Done  10 out of  10 | elapsed:    0.7s finished\n"
     ]
    },
    {
     "name": "stdout",
     "output_type": "stream",
     "text": [
      "ieme iteration 1: H=2, C=0.001\n"
     ]
    },
    {
     "name": "stderr",
     "output_type": "stream",
     "text": [
      "[Parallel(n_jobs=-1)]: Using backend LokyBackend with 12 concurrent workers.\n",
      "[Parallel(n_jobs=-1)]: Done   3 out of  10 | elapsed:    0.5s remaining:    1.1s\n",
      "[Parallel(n_jobs=-1)]: Done   7 out of  10 | elapsed:    0.5s remaining:    0.2s\n",
      "[Parallel(n_jobs=-1)]: Done  10 out of  10 | elapsed:    0.6s finished\n"
     ]
    },
    {
     "name": "stdout",
     "output_type": "stream",
     "text": [
      "ieme iteration 1: H=2, C=0.01\n"
     ]
    },
    {
     "name": "stderr",
     "output_type": "stream",
     "text": [
      "[Parallel(n_jobs=-1)]: Using backend LokyBackend with 12 concurrent workers.\n",
      "[Parallel(n_jobs=-1)]: Done   3 out of  10 | elapsed:    0.6s remaining:    1.3s\n",
      "[Parallel(n_jobs=-1)]: Done   7 out of  10 | elapsed:    0.6s remaining:    0.2s\n",
      "[Parallel(n_jobs=-1)]: Done  10 out of  10 | elapsed:    0.6s finished\n"
     ]
    },
    {
     "name": "stdout",
     "output_type": "stream",
     "text": [
      "ieme iteration 1: H=2, C=0.1\n"
     ]
    },
    {
     "name": "stderr",
     "output_type": "stream",
     "text": [
      "[Parallel(n_jobs=-1)]: Using backend LokyBackend with 12 concurrent workers.\n",
      "[Parallel(n_jobs=-1)]: Done   3 out of  10 | elapsed:    1.1s remaining:    2.5s\n",
      "[Parallel(n_jobs=-1)]: Done   7 out of  10 | elapsed:    1.1s remaining:    0.5s\n",
      "[Parallel(n_jobs=-1)]: Done  10 out of  10 | elapsed:    1.2s finished\n"
     ]
    },
    {
     "name": "stdout",
     "output_type": "stream",
     "text": [
      "ieme iteration 1: H=2, C=1.0\n"
     ]
    },
    {
     "name": "stderr",
     "output_type": "stream",
     "text": [
      "[Parallel(n_jobs=-1)]: Using backend LokyBackend with 12 concurrent workers.\n",
      "[Parallel(n_jobs=-1)]: Done   3 out of  10 | elapsed:    4.2s remaining:    9.8s\n",
      "[Parallel(n_jobs=-1)]: Done   7 out of  10 | elapsed:    4.6s remaining:    2.0s\n",
      "[Parallel(n_jobs=-1)]: Done  10 out of  10 | elapsed:    5.5s finished\n"
     ]
    },
    {
     "name": "stdout",
     "output_type": "stream",
     "text": [
      "ieme iteration 1: H=2, C=10.0\n"
     ]
    },
    {
     "name": "stderr",
     "output_type": "stream",
     "text": [
      "[Parallel(n_jobs=-1)]: Using backend LokyBackend with 12 concurrent workers.\n",
      "[Parallel(n_jobs=-1)]: Done   3 out of  10 | elapsed:   19.6s remaining:   45.8s\n",
      "[Parallel(n_jobs=-1)]: Done   7 out of  10 | elapsed:   22.8s remaining:    9.8s\n",
      "[Parallel(n_jobs=-1)]: Done  10 out of  10 | elapsed:   35.4s finished\n"
     ]
    },
    {
     "name": "stdout",
     "output_type": "stream",
     "text": [
      "ieme iteration 1: H=2, C=100.0\n"
     ]
    },
    {
     "name": "stderr",
     "output_type": "stream",
     "text": [
      "[Parallel(n_jobs=-1)]: Using backend LokyBackend with 12 concurrent workers.\n",
      "[Parallel(n_jobs=-1)]: Done   3 out of  10 | elapsed:  2.2min remaining:  5.1min\n",
      "[Parallel(n_jobs=-1)]: Done   7 out of  10 | elapsed:  2.7min remaining:  1.2min\n",
      "[Parallel(n_jobs=-1)]: Done  10 out of  10 | elapsed:  4.1min finished\n"
     ]
    },
    {
     "name": "stdout",
     "output_type": "stream",
     "text": [
      "ieme iteration 1: H=2, C=1000.0\n"
     ]
    },
    {
     "name": "stderr",
     "output_type": "stream",
     "text": [
      "[Parallel(n_jobs=-1)]: Using backend LokyBackend with 12 concurrent workers.\n"
     ]
    },
    {
     "name": "stdout",
     "output_type": "stream",
     "text": [
      "[CV] END ................................ score: (test=0.675) total time=   0.2s\n",
      "[CV] END ................................ score: (test=0.793) total time=   0.6s\n",
      "[CV] END ................................ score: (test=0.827) total time=   4.7s\n",
      "[CV] END ................................ score: (test=0.768) total time=  14.0s\n",
      "[CV] END ................................ score: (test=0.748) total time= 3.5min\n",
      "[CV] END ................................ score: (test=0.626) total time=   0.2s\n",
      "[CV] END ................................ score: (test=0.771) total time=   0.4s\n",
      "[CV] END ................................ score: (test=0.839) total time=   0.5s\n",
      "[CV] END ................................ score: (test=0.805) total time=   1.1s\n",
      "[CV] END ................................ score: (test=0.778) total time=  17.9s\n",
      "[CV] END ................................ score: (test=0.775) total time= 4.1min\n",
      "[CV] END ................................ score: (test=0.681) total time=   0.2s\n",
      "[CV] END ................................ score: (test=0.809) total time=   0.5s\n",
      "[CV] END ................................ score: (test=0.821) total time=   0.8s\n",
      "[CV] END ................................ score: (test=0.824) total time=   4.2s\n",
      "[CV] END ................................ score: (test=0.772) total time=  19.6s\n",
      "[CV] END ................................ score: (test=0.745) total time= 2.7min\n",
      "[CV] END ................................ score: (test=0.765) total time= 9.0min\n",
      "[CV] END ................................ score: (test=0.653) total time=   0.2s\n",
      "[CV] END ................................ score: (test=0.714) total time=   0.4s\n",
      "[CV] END ................................ score: (test=0.784) total time=   0.6s\n",
      "[CV] END ................................ score: (test=0.826) total time=   1.1s\n",
      "[CV] END ................................ score: (test=0.802) total time=  22.7s\n",
      "[CV] END ................................ score: (test=0.771) total time= 2.2min\n",
      "[CV] END ................................ score: (test=0.702) total time=10.6min\n"
     ]
    },
    {
     "name": "stderr",
     "output_type": "stream",
     "text": [
      "[Parallel(n_jobs=-1)]: Done   3 out of  10 | elapsed: 15.9min remaining: 37.0min\n",
      "[Parallel(n_jobs=-1)]: Done   7 out of  10 | elapsed: 18.9min remaining:  8.1min\n"
     ]
    },
    {
     "name": "stdout",
     "output_type": "stream",
     "text": [
      "[CV] END ................................ score: (test=0.617) total time=   0.3s\n",
      "[CV] END ................................ score: (test=0.698) total time=   0.3s\n",
      "[CV] END ................................ score: (test=0.748) total time=   0.5s\n",
      "[CV] END ................................ score: (test=0.809) total time=   1.0s\n",
      "[CV] END ................................ score: (test=0.784) total time=   4.2s\n",
      "[CV] END ................................ score: (test=0.772) total time=  22.7s\n",
      "[CV] END ................................ score: (test=0.802) total time= 2.6min\n",
      "[CV] END ................................ score: (test=0.696) total time=15.9min\n",
      "[CV] END ................................ score: (test=0.599) total time=   0.3s\n",
      "[CV] END ................................ score: (test=0.668) total time=   0.3s\n",
      "[CV] END ................................ score: (test=0.729) total time=   0.4s\n",
      "[CV] END ................................ score: (test=0.796) total time=   0.5s\n",
      "[CV] END ................................ score: (test=0.841) total time=   1.0s\n",
      "[CV] END ................................ score: (test=0.796) total time=   4.1s\n",
      "[CV] END ................................ score: (test=0.787) total time=  21.2s\n",
      "[CV] END ................................ score: (test=0.778) total time= 3.3min\n",
      "[CV] END ................................ score: (test=0.707) total time=16.6min\n",
      "[CV] END ................................ score: (test=0.690) total time=   0.2s\n",
      "[CV] END ................................ score: (test=0.729) total time=   0.5s\n",
      "[CV] END ................................ score: (test=0.772) total time=   0.5s\n",
      "[CV] END ................................ score: (test=0.818) total time=   1.1s\n",
      "[CV] END ................................ score: (test=0.817) total time=   4.5s\n",
      "[CV] END ................................ score: (test=0.736) total time=  35.4s\n",
      "[CV] END ................................ score: (test=0.742) total time=16.9min\n",
      "[CV] END ................................ score: (test=0.188) total time=   0.0s\n",
      "[CV] END ................................ score: (test=0.500) total time=   0.0s\n",
      "[CV] END ................................ score: (test=0.438) total time=   0.0s\n",
      "[CV] END ................................ score: (test=0.458) total time=   0.0s\n",
      "[CV] END ................................ score: (test=0.458) total time=   0.0s\n",
      "[CV] END ................................ score: (test=0.438) total time=   0.0s\n",
      "[CV] END ................................ score: (test=0.458) total time=   0.0s\n",
      "[CV] END ................................ score: (test=0.458) total time=   0.0s\n",
      "[CV] END ................................ score: (test=0.188) total time=   0.0s\n",
      "[CV] END ................................ score: (test=0.188) total time=   0.0s\n",
      "[CV] END ................................ score: (test=0.271) total time=   0.0s\n",
      "[CV] END ................................ score: (test=0.500) total time=   0.0s\n",
      "[CV] END ................................ score: (test=0.438) total time=   0.0s\n",
      "[CV] END ................................ score: (test=0.500) total time=   0.0s\n",
      "[CV] END ................................ score: (test=0.583) total time=   0.0s\n",
      "[CV] END ................................ score: (test=0.542) total time=   0.0s\n",
      "[CV] END ................................ score: (test=0.438) total time=   0.0s\n",
      "[CV] END ................................ score: (test=0.208) total time=   0.0s\n",
      "[CV] END ................................ score: (test=0.250) total time=   0.0s\n",
      "[CV] END ................................ score: (test=0.479) total time=   0.0s\n",
      "[CV] END ................................ score: (test=0.417) total time=   0.0s\n",
      "[CV] END ................................ score: (test=0.562) total time=   0.0s\n",
      "[CV] END ................................ score: (test=0.417) total time=   0.0s\n",
      "[CV] END ................................ score: (test=0.438) total time=   0.0s\n",
      "[CV] END ................................ score: (test=0.562) total time=   0.0s\n",
      "[CV] END ................................ score: (test=0.188) total time=   0.0s\n",
      "[CV] END ................................ score: (test=0.188) total time=   0.0s\n",
      "[CV] END ................................ score: (test=0.333) total time=   0.0s\n",
      "[CV] END ................................ score: (test=0.396) total time=   0.0s\n",
      "[CV] END ................................ score: (test=0.542) total time=   0.0s\n",
      "[CV] END ................................ score: (test=0.458) total time=   0.0s\n",
      "[CV] END ................................ score: (test=0.417) total time=   0.0s\n",
      "[CV] END ................................ score: (test=0.479) total time=   0.0s\n",
      "[CV] END ................................ score: (test=0.438) total time=   0.0s\n",
      "[CV] END ................................ score: (test=0.188) total time=   0.0s\n",
      "[CV] END ................................ score: (test=0.188) total time=   0.0s\n",
      "[CV] END ................................ score: (test=0.292) total time=   0.0s\n",
      "[CV] END ................................ score: (test=0.479) total time=   0.0s\n",
      "[CV] END ................................ score: (test=0.438) total time=   0.0s\n",
      "[CV] END ................................ score: (test=0.458) total time=   0.0s\n",
      "[CV] END ................................ score: (test=0.500) total time=   0.0s\n",
      "[CV] END ................................ score: (test=0.479) total time=   0.0s\n",
      "[CV] END ................................ score: (test=0.438) total time=   0.0s\n",
      "[CV] END ................................ score: (test=0.479) total time=   0.0s\n",
      "[CV] END ................................ score: (test=0.167) total time=   0.0s\n",
      "[CV] END ................................ score: (test=0.354) total time=   0.0s\n",
      "[CV] END ................................ score: (test=0.458) total time=   0.0s\n",
      "[CV] END ................................ score: (test=0.479) total time=   0.0s\n",
      "[CV] END ................................ score: (test=0.562) total time=   0.0s\n",
      "[CV] END ................................ score: (test=0.458) total time=   0.0s\n",
      "[CV] END ................................ score: (test=0.417) total time=   0.0s\n",
      "[CV] END ................................ score: (test=0.438) total time=   0.0s\n",
      "[CV] END ................................ score: (test=0.188) total time=   0.0s\n",
      "[CV] END ................................ score: (test=0.271) total time=   0.0s\n",
      "[CV] END ................................ score: (test=0.438) total time=   0.0s\n",
      "[CV] END ................................ score: (test=0.521) total time=   0.0s\n",
      "[CV] END ................................ score: (test=0.417) total time=   0.0s\n",
      "[CV] END ................................ score: (test=0.417) total time=   0.0s\n",
      "[CV] END ................................ score: (test=0.396) total time=   0.0s\n",
      "[CV] END ................................ score: (test=0.417) total time=   0.0s\n",
      "[CV] END ................................ score: (test=0.458) total time=   0.0s\n",
      "[CV] END ................................ score: (test=0.167) total time=   0.0s\n",
      "[CV] END ................................ score: (test=0.188) total time=   0.0s\n",
      "[CV] END ................................ score: (test=0.271) total time=   0.0s\n",
      "[CV] END ................................ score: (test=0.500) total time=   0.0s\n",
      "[CV] END ................................ score: (test=0.521) total time=   0.0s\n",
      "[CV] END ................................ score: (test=0.417) total time=   0.0s\n",
      "[CV] END ................................ score: (test=0.396) total time=   0.0s\n",
      "[CV] END ................................ score: (test=0.396) total time=   0.0s\n",
      "[CV] END ................................ score: (test=0.208) total time=   0.0s\n",
      "[CV] END ................................ score: (test=0.229) total time=   0.0s\n",
      "[CV] END ................................ score: (test=0.521) total time=   0.0s\n",
      "[CV] END ................................ score: (test=0.396) total time=   0.0s\n",
      "[CV] END ................................ score: (test=0.500) total time=   0.0s\n",
      "[CV] END ................................ score: (test=0.354) total time=   0.0s\n",
      "[CV] END ................................ score: (test=0.354) total time=   0.0s\n",
      "[CV] END ................................ score: (test=0.607) total time=   0.4s\n",
      "[CV] END ................................ score: (test=0.687) total time=   0.5s\n",
      "[CV] END ................................ score: (test=0.711) total time=   0.5s\n",
      "[CV] END ................................ score: (test=0.733) total time=   2.7s\n",
      "[CV] END ................................ score: (test=0.742) total time=  19.2s\n",
      "[CV] END ................................ score: (test=0.775) total time= 5.8min\n",
      "[CV] END ................................ score: (test=0.808) total time=51.4min\n",
      "[CV] END ................................ score: (test=0.605) total time=   0.5s\n",
      "[CV] END ................................ score: (test=0.617) total time=   0.3s\n",
      "[CV] END ................................ score: (test=0.666) total time=   0.3s\n",
      "[CV] END ................................ score: (test=0.745) total time=   0.5s\n",
      "[CV] END ................................ score: (test=0.772) total time=   0.5s\n",
      "[CV] END ................................ score: (test=0.839) total time=   1.0s\n",
      "[CV] END ................................ score: (test=0.824) total time=   3.5s\n",
      "[CV] END ................................ score: (test=0.799) total time=  20.1s\n",
      "[CV] END ................................ score: (test=0.754) total time= 1.6min\n",
      "[CV] END ................................ score: (test=0.717) total time=16.9min\n",
      "[CV] END ................................ score: (test=0.620) total time=   0.3s\n",
      "[CV] END ................................ score: (test=0.669) total time=   0.3s\n",
      "[CV] END ................................ score: (test=0.793) total time=   0.5s\n",
      "[CV] END ................................ score: (test=0.812) total time=   1.0s\n",
      "[CV] END ................................ score: (test=0.775) total time=   4.5s\n",
      "[CV] END ................................ score: (test=0.832) total time=  21.6s\n",
      "[CV] END ................................ score: (test=0.717) total time= 2.2min\n",
      "[CV] END ................................ score: (test=0.733) total time=18.9min\n",
      "[CV] END ................................ score: (test=0.312) total time=   0.0s\n",
      "[CV] END ................................ score: (test=0.521) total time=   0.0s\n",
      "[CV] END ................................ score: (test=0.604) total time=   0.0s\n",
      "[CV] END ................................ score: (test=0.583) total time=   0.0s\n",
      "[CV] END ................................ score: (test=0.479) total time=   0.1s\n",
      "[CV] END ................................ score: (test=0.438) total time=   0.0s\n",
      "[CV] END ................................ score: (test=0.188) total time=   0.0s\n",
      "[CV] END ................................ score: (test=0.188) total time=   0.0s\n",
      "[CV] END ................................ score: (test=0.188) total time=   0.0s\n",
      "[CV] END ................................ score: (test=0.583) total time=   0.0s\n",
      "[CV] END ................................ score: (test=0.458) total time=   0.0s\n",
      "[CV] END ................................ score: (test=0.542) total time=   0.0s\n",
      "[CV] END ................................ score: (test=0.417) total time=   0.0s\n",
      "[CV] END ................................ score: (test=0.417) total time=   0.0s\n",
      "[CV] END ................................ score: (test=0.188) total time=   0.0s\n",
      "[CV] END ................................ score: (test=0.188) total time=   0.0s\n",
      "[CV] END ................................ score: (test=0.292) total time=   0.0s\n",
      "[CV] END ................................ score: (test=0.521) total time=   0.0s\n",
      "[CV] END ................................ score: (test=0.562) total time=   0.0s\n",
      "[CV] END ................................ score: (test=0.417) total time=   0.0s\n",
      "[CV] END ................................ score: (test=0.500) total time=   0.0s\n",
      "[CV] END ................................ score: (test=0.500) total time=   0.0s\n",
      "[CV] END ................................ score: (test=0.521) total time=   0.0s\n",
      "[CV] END ................................ score: (test=0.188) total time=   0.0s\n",
      "[CV] END ................................ score: (test=0.292) total time=   0.0s\n",
      "[CV] END ................................ score: (test=0.521) total time=   0.0s\n",
      "[CV] END ................................ score: (test=0.458) total time=   0.0s\n",
      "[CV] END ................................ score: (test=0.479) total time=   0.0s\n",
      "[CV] END ................................ score: (test=0.438) total time=   0.0s\n",
      "[CV] END ................................ score: (test=0.458) total time=   0.0s\n",
      "[CV] END ................................ score: (test=0.417) total time=   0.0s\n",
      "[CV] END ................................ score: (test=0.188) total time=   0.0s\n",
      "[CV] END ................................ score: (test=0.188) total time=   0.0s\n",
      "[CV] END ................................ score: (test=0.604) total time=   0.0s\n",
      "[CV] END ................................ score: (test=0.458) total time=   0.0s\n",
      "[CV] END ................................ score: (test=0.438) total time=   0.0s\n",
      "[CV] END ................................ score: (test=0.542) total time=   0.0s\n",
      "[CV] END ................................ score: (test=0.417) total time=   0.0s\n",
      "[CV] END ................................ score: (test=0.500) total time=   0.0s\n",
      "[CV] END ................................ score: (test=0.188) total time=   0.0s\n",
      "[CV] END ................................ score: (test=0.188) total time=   0.0s\n",
      "[CV] END ................................ score: (test=0.208) total time=   0.0s\n",
      "[CV] END ................................ score: (test=0.521) total time=   0.0s\n",
      "[CV] END ................................ score: (test=0.458) total time=   0.0s\n",
      "[CV] END ................................ score: (test=0.438) total time=   0.0s\n",
      "[CV] END ................................ score: (test=0.458) total time=   0.0s\n",
      "[CV] END ................................ score: (test=0.479) total time=   0.0s\n",
      "[CV] END ................................ score: (test=0.521) total time=   0.0s\n",
      "[CV] END ................................ score: (test=0.208) total time=   0.0s\n",
      "[CV] END ................................ score: (test=0.333) total time=   0.0s\n",
      "[CV] END ................................ score: (test=0.542) total time=   0.0s\n",
      "[CV] END ................................ score: (test=0.458) total time=   0.0s\n",
      "[CV] END ................................ score: (test=0.458) total time=   0.0s\n",
      "[CV] END ................................ score: (test=0.417) total time=   0.0s\n",
      "[CV] END ................................ score: (test=0.458) total time=   0.0s\n",
      "[CV] END ................................ score: (test=0.521) total time=   0.0s\n",
      "[CV] END ................................ score: (test=0.521) total time=   0.0s\n",
      "[CV] END ................................ score: (test=0.188) total time=   0.0s\n",
      "[CV] END ................................ score: (test=0.354) total time=   0.0s\n",
      "[CV] END ................................ score: (test=0.521) total time=   0.0s\n",
      "[CV] END ................................ score: (test=0.479) total time=   0.0s\n",
      "[CV] END ................................ score: (test=0.500) total time=   0.0s\n",
      "[CV] END ................................ score: (test=0.396) total time=   0.0s\n",
      "[CV] END ................................ score: (test=0.521) total time=   0.0s\n",
      "[CV] END ................................ score: (test=0.417) total time=   0.0s\n",
      "[CV] END ................................ score: (test=0.188) total time=   0.0s\n",
      "[CV] END ................................ score: (test=0.542) total time=   0.0s\n",
      "[CV] END ................................ score: (test=0.396) total time=   0.0s\n",
      "[CV] END ................................ score: (test=0.438) total time=   0.0s\n",
      "[CV] END ................................ score: (test=0.354) total time=   0.0s\n",
      "[CV] END ................................ score: (test=0.396) total time=   0.0s\n",
      "[CV] END ................................ score: (test=0.500) total time=   0.0s\n",
      "[CV] END ................................ score: (test=0.500) total time=   0.0s\n",
      "[CV] END ................................ score: (test=0.574) total time=   0.5s\n",
      "[CV] END ................................ score: (test=0.702) total time=   0.4s\n",
      "[CV] END ................................ score: (test=0.772) total time=   0.4s\n",
      "[CV] END ................................ score: (test=0.781) total time=   0.7s\n",
      "[CV] END ................................ score: (test=0.787) total time=   2.7s\n",
      "[CV] END ................................ score: (test=0.729) total time=  24.2s\n",
      "[CV] END ................................ score: (test=0.747) total time= 3.5min\n",
      "[CV] END ................................ score: (test=0.775) total time=49.3min\n",
      "[CV] END ................................ score: (test=0.614) total time=   0.3s\n",
      "[CV] END ................................ score: (test=0.638) total time=   0.3s\n",
      "[CV] END ................................ score: (test=0.587) total time=   0.3s\n",
      "[CV] END ................................ score: (test=0.687) total time=   0.3s\n",
      "[CV] END ................................ score: (test=0.754) total time=   0.4s\n",
      "[CV] END ................................ score: (test=0.805) total time=   0.5s\n",
      "[CV] END ................................ score: (test=0.802) total time=   1.0s\n",
      "[CV] END ................................ score: (test=0.805) total time=   5.5s\n",
      "[CV] END ................................ score: (test=0.763) total time= 2.3min\n",
      "[CV] END ................................ score: (test=0.742) total time=20.3min\n",
      "[CV] END ................................ score: (test=0.616) total time=   0.3s\n",
      "[CV] END ................................ score: (test=0.711) total time=   0.5s\n",
      "[CV] END ................................ score: (test=0.826) total time=   0.6s\n",
      "[CV] END ................................ score: (test=0.818) total time=   4.1s\n",
      "[CV] END ................................ score: (test=0.818) total time=  25.3s\n",
      "[CV] END ................................ score: (test=0.720) total time=25.5min\n"
     ]
    },
    {
     "name": "stderr",
     "output_type": "stream",
     "text": [
      "[Parallel(n_jobs=-1)]: Done  10 out of  10 | elapsed: 30.7min finished\n"
     ]
    },
    {
     "name": "stdout",
     "output_type": "stream",
     "text": [
      "ieme iteration 2: H=3, C=1e-05\n"
     ]
    },
    {
     "name": "stderr",
     "output_type": "stream",
     "text": [
      "[Parallel(n_jobs=-1)]: Using backend LokyBackend with 12 concurrent workers.\n",
      "/home/vinc/anaconda3/lib/python3.9/site-packages/scipy/__init__.py:146: UserWarning: A NumPy version >=1.16.5 and <1.23.0 is required for this version of SciPy (detected version 1.23.4\n",
      "  warnings.warn(f\"A NumPy version >={np_minversion} and <{np_maxversion}\"\n",
      "/home/vinc/anaconda3/lib/python3.9/site-packages/scipy/__init__.py:146: UserWarning: A NumPy version >=1.16.5 and <1.23.0 is required for this version of SciPy (detected version 1.23.4\n",
      "  warnings.warn(f\"A NumPy version >={np_minversion} and <{np_maxversion}\"\n",
      "/home/vinc/anaconda3/lib/python3.9/site-packages/scipy/__init__.py:146: UserWarning: A NumPy version >=1.16.5 and <1.23.0 is required for this version of SciPy (detected version 1.23.4\n",
      "  warnings.warn(f\"A NumPy version >={np_minversion} and <{np_maxversion}\"\n",
      "/home/vinc/anaconda3/lib/python3.9/site-packages/scipy/__init__.py:146: UserWarning: A NumPy version >=1.16.5 and <1.23.0 is required for this version of SciPy (detected version 1.23.4\n",
      "  warnings.warn(f\"A NumPy version >={np_minversion} and <{np_maxversion}\"\n",
      "/home/vinc/anaconda3/lib/python3.9/site-packages/scipy/__init__.py:146: UserWarning: A NumPy version >=1.16.5 and <1.23.0 is required for this version of SciPy (detected version 1.23.4\n",
      "  warnings.warn(f\"A NumPy version >={np_minversion} and <{np_maxversion}\"\n",
      "/home/vinc/anaconda3/lib/python3.9/site-packages/scipy/__init__.py:146: UserWarning: A NumPy version >=1.16.5 and <1.23.0 is required for this version of SciPy (detected version 1.23.4\n",
      "  warnings.warn(f\"A NumPy version >={np_minversion} and <{np_maxversion}\"\n",
      "/home/vinc/anaconda3/lib/python3.9/site-packages/scipy/__init__.py:146: UserWarning: A NumPy version >=1.16.5 and <1.23.0 is required for this version of SciPy (detected version 1.23.4\n",
      "  warnings.warn(f\"A NumPy version >={np_minversion} and <{np_maxversion}\"\n",
      "[Parallel(n_jobs=-1)]: Done   3 out of  10 | elapsed:    0.8s remaining:    1.9s\n",
      "[Parallel(n_jobs=-1)]: Done   7 out of  10 | elapsed:    1.2s remaining:    0.5s\n",
      "[Parallel(n_jobs=-1)]: Done  10 out of  10 | elapsed:    1.3s finished\n"
     ]
    },
    {
     "name": "stdout",
     "output_type": "stream",
     "text": [
      "ieme iteration 2: H=3, C=0.0001\n"
     ]
    },
    {
     "name": "stderr",
     "output_type": "stream",
     "text": [
      "[Parallel(n_jobs=-1)]: Using backend LokyBackend with 12 concurrent workers.\n",
      "/home/vinc/anaconda3/lib/python3.9/site-packages/scipy/__init__.py:146: UserWarning: A NumPy version >=1.16.5 and <1.23.0 is required for this version of SciPy (detected version 1.23.4\n",
      "  warnings.warn(f\"A NumPy version >={np_minversion} and <{np_maxversion}\"\n",
      "/home/vinc/anaconda3/lib/python3.9/site-packages/scipy/__init__.py:146: UserWarning: A NumPy version >=1.16.5 and <1.23.0 is required for this version of SciPy (detected version 1.23.4\n",
      "  warnings.warn(f\"A NumPy version >={np_minversion} and <{np_maxversion}\"\n",
      "/home/vinc/anaconda3/lib/python3.9/site-packages/scipy/__init__.py:146: UserWarning: A NumPy version >=1.16.5 and <1.23.0 is required for this version of SciPy (detected version 1.23.4\n",
      "  warnings.warn(f\"A NumPy version >={np_minversion} and <{np_maxversion}\"\n",
      "/home/vinc/anaconda3/lib/python3.9/site-packages/scipy/__init__.py:146: UserWarning: A NumPy version >=1.16.5 and <1.23.0 is required for this version of SciPy (detected version 1.23.4\n",
      "  warnings.warn(f\"A NumPy version >={np_minversion} and <{np_maxversion}\"\n",
      "[Parallel(n_jobs=-1)]: Done   3 out of  10 | elapsed:    0.4s remaining:    1.0s\n",
      "[Parallel(n_jobs=-1)]: Done   7 out of  10 | elapsed:    0.6s remaining:    0.3s\n",
      "[Parallel(n_jobs=-1)]: Done  10 out of  10 | elapsed:    0.7s finished\n"
     ]
    },
    {
     "name": "stdout",
     "output_type": "stream",
     "text": [
      "ieme iteration 2: H=3, C=0.001\n"
     ]
    },
    {
     "name": "stderr",
     "output_type": "stream",
     "text": [
      "[Parallel(n_jobs=-1)]: Using backend LokyBackend with 12 concurrent workers.\n",
      "[Parallel(n_jobs=-1)]: Done   3 out of  10 | elapsed:    0.5s remaining:    1.1s\n",
      "[Parallel(n_jobs=-1)]: Done   7 out of  10 | elapsed:    0.5s remaining:    0.2s\n",
      "[Parallel(n_jobs=-1)]: Done  10 out of  10 | elapsed:    0.5s finished\n"
     ]
    },
    {
     "name": "stdout",
     "output_type": "stream",
     "text": [
      "ieme iteration 2: H=3, C=0.01\n"
     ]
    },
    {
     "name": "stderr",
     "output_type": "stream",
     "text": [
      "[Parallel(n_jobs=-1)]: Using backend LokyBackend with 12 concurrent workers.\n",
      "[Parallel(n_jobs=-1)]: Done   3 out of  10 | elapsed:    0.5s remaining:    1.1s\n",
      "[Parallel(n_jobs=-1)]: Done   7 out of  10 | elapsed:    0.6s remaining:    0.2s\n",
      "[Parallel(n_jobs=-1)]: Done  10 out of  10 | elapsed:    0.6s finished\n"
     ]
    },
    {
     "name": "stdout",
     "output_type": "stream",
     "text": [
      "ieme iteration 2: H=3, C=0.1\n"
     ]
    },
    {
     "name": "stderr",
     "output_type": "stream",
     "text": [
      "[Parallel(n_jobs=-1)]: Using backend LokyBackend with 12 concurrent workers.\n",
      "[Parallel(n_jobs=-1)]: Done   3 out of  10 | elapsed:    0.9s remaining:    2.2s\n",
      "[Parallel(n_jobs=-1)]: Done   7 out of  10 | elapsed:    1.0s remaining:    0.4s\n",
      "[Parallel(n_jobs=-1)]: Done  10 out of  10 | elapsed:    1.0s finished\n"
     ]
    },
    {
     "name": "stdout",
     "output_type": "stream",
     "text": [
      "ieme iteration 2: H=3, C=1.0\n"
     ]
    },
    {
     "name": "stderr",
     "output_type": "stream",
     "text": [
      "[Parallel(n_jobs=-1)]: Using backend LokyBackend with 12 concurrent workers.\n",
      "[Parallel(n_jobs=-1)]: Done   3 out of  10 | elapsed:    1.1s remaining:    2.6s\n",
      "[Parallel(n_jobs=-1)]: Done   7 out of  10 | elapsed:    1.2s remaining:    0.5s\n",
      "[Parallel(n_jobs=-1)]: Done  10 out of  10 | elapsed:    1.2s finished\n"
     ]
    },
    {
     "name": "stdout",
     "output_type": "stream",
     "text": [
      "ieme iteration 2: H=3, C=10.0\n"
     ]
    },
    {
     "name": "stderr",
     "output_type": "stream",
     "text": [
      "[Parallel(n_jobs=-1)]: Using backend LokyBackend with 12 concurrent workers.\n",
      "[Parallel(n_jobs=-1)]: Done   3 out of  10 | elapsed:    1.1s remaining:    2.6s\n",
      "[Parallel(n_jobs=-1)]: Done   7 out of  10 | elapsed:    1.2s remaining:    0.5s\n",
      "[Parallel(n_jobs=-1)]: Done  10 out of  10 | elapsed:    1.2s finished\n"
     ]
    },
    {
     "name": "stdout",
     "output_type": "stream",
     "text": [
      "ieme iteration 2: H=3, C=100.0\n"
     ]
    },
    {
     "name": "stderr",
     "output_type": "stream",
     "text": [
      "[Parallel(n_jobs=-1)]: Using backend LokyBackend with 12 concurrent workers.\n",
      "[Parallel(n_jobs=-1)]: Done   3 out of  10 | elapsed:    1.1s remaining:    2.6s\n",
      "[Parallel(n_jobs=-1)]: Done   7 out of  10 | elapsed:    1.3s remaining:    0.5s\n",
      "[Parallel(n_jobs=-1)]: Done  10 out of  10 | elapsed:    1.3s finished\n"
     ]
    },
    {
     "name": "stdout",
     "output_type": "stream",
     "text": [
      "ieme iteration 2: H=3, C=1000.0\n"
     ]
    },
    {
     "name": "stderr",
     "output_type": "stream",
     "text": [
      "[Parallel(n_jobs=-1)]: Using backend LokyBackend with 12 concurrent workers.\n",
      "[Parallel(n_jobs=-1)]: Done   3 out of  10 | elapsed:    1.5s remaining:    3.6s\n",
      "[Parallel(n_jobs=-1)]: Done   7 out of  10 | elapsed:    1.9s remaining:    0.8s\n",
      "[Parallel(n_jobs=-1)]: Done  10 out of  10 | elapsed:    2.0s finished\n"
     ]
    },
    {
     "name": "stdout",
     "output_type": "stream",
     "text": [
      "ieme iteration 3: H=4, C=1e-05\n"
     ]
    },
    {
     "name": "stderr",
     "output_type": "stream",
     "text": [
      "[Parallel(n_jobs=-1)]: Using backend LokyBackend with 12 concurrent workers.\n",
      "[Parallel(n_jobs=-1)]: Done   3 out of  10 | elapsed:    0.5s remaining:    1.1s\n",
      "[Parallel(n_jobs=-1)]: Done   7 out of  10 | elapsed:    0.5s remaining:    0.2s\n",
      "[Parallel(n_jobs=-1)]: Done  10 out of  10 | elapsed:    0.5s finished\n"
     ]
    },
    {
     "name": "stdout",
     "output_type": "stream",
     "text": [
      "ieme iteration 3: H=4, C=0.0001\n"
     ]
    },
    {
     "name": "stderr",
     "output_type": "stream",
     "text": [
      "[Parallel(n_jobs=-1)]: Using backend LokyBackend with 12 concurrent workers.\n",
      "[Parallel(n_jobs=-1)]: Done   3 out of  10 | elapsed:    0.4s remaining:    1.0s\n",
      "[Parallel(n_jobs=-1)]: Done   7 out of  10 | elapsed:    0.5s remaining:    0.2s\n",
      "[Parallel(n_jobs=-1)]: Done  10 out of  10 | elapsed:    0.5s finished\n"
     ]
    },
    {
     "name": "stdout",
     "output_type": "stream",
     "text": [
      "ieme iteration 3: H=4, C=0.001\n"
     ]
    },
    {
     "name": "stderr",
     "output_type": "stream",
     "text": [
      "[Parallel(n_jobs=-1)]: Using backend LokyBackend with 12 concurrent workers.\n",
      "[Parallel(n_jobs=-1)]: Done   3 out of  10 | elapsed:    0.5s remaining:    1.1s\n",
      "[Parallel(n_jobs=-1)]: Done   7 out of  10 | elapsed:    0.5s remaining:    0.2s\n",
      "[Parallel(n_jobs=-1)]: Done  10 out of  10 | elapsed:    0.5s finished\n"
     ]
    },
    {
     "name": "stdout",
     "output_type": "stream",
     "text": [
      "ieme iteration 3: H=4, C=0.01\n"
     ]
    },
    {
     "name": "stderr",
     "output_type": "stream",
     "text": [
      "[Parallel(n_jobs=-1)]: Using backend LokyBackend with 12 concurrent workers.\n",
      "[Parallel(n_jobs=-1)]: Done   3 out of  10 | elapsed:    0.6s remaining:    1.3s\n",
      "[Parallel(n_jobs=-1)]: Done   7 out of  10 | elapsed:    0.6s remaining:    0.3s\n",
      "[Parallel(n_jobs=-1)]: Done  10 out of  10 | elapsed:    0.6s finished\n"
     ]
    },
    {
     "name": "stdout",
     "output_type": "stream",
     "text": [
      "ieme iteration 3: H=4, C=0.1\n"
     ]
    },
    {
     "name": "stderr",
     "output_type": "stream",
     "text": [
      "[Parallel(n_jobs=-1)]: Using backend LokyBackend with 12 concurrent workers.\n",
      "[Parallel(n_jobs=-1)]: Done   3 out of  10 | elapsed:    0.8s remaining:    1.8s\n",
      "[Parallel(n_jobs=-1)]: Done   7 out of  10 | elapsed:    0.8s remaining:    0.4s\n",
      "[Parallel(n_jobs=-1)]: Done  10 out of  10 | elapsed:    0.9s finished\n"
     ]
    },
    {
     "name": "stdout",
     "output_type": "stream",
     "text": [
      "ieme iteration 3: H=4, C=1.0\n"
     ]
    },
    {
     "name": "stderr",
     "output_type": "stream",
     "text": [
      "[Parallel(n_jobs=-1)]: Using backend LokyBackend with 12 concurrent workers.\n",
      "[Parallel(n_jobs=-1)]: Done   3 out of  10 | elapsed:    0.8s remaining:    2.0s\n",
      "[Parallel(n_jobs=-1)]: Done   7 out of  10 | elapsed:    0.9s remaining:    0.4s\n",
      "[Parallel(n_jobs=-1)]: Done  10 out of  10 | elapsed:    0.9s finished\n"
     ]
    },
    {
     "name": "stdout",
     "output_type": "stream",
     "text": [
      "ieme iteration 3: H=4, C=10.0\n"
     ]
    },
    {
     "name": "stderr",
     "output_type": "stream",
     "text": [
      "[Parallel(n_jobs=-1)]: Using backend LokyBackend with 12 concurrent workers.\n",
      "[Parallel(n_jobs=-1)]: Done   3 out of  10 | elapsed:    0.8s remaining:    2.0s\n",
      "[Parallel(n_jobs=-1)]: Done   7 out of  10 | elapsed:    0.9s remaining:    0.4s\n",
      "[Parallel(n_jobs=-1)]: Done  10 out of  10 | elapsed:    0.9s finished\n"
     ]
    },
    {
     "name": "stdout",
     "output_type": "stream",
     "text": [
      "ieme iteration 3: H=4, C=100.0\n"
     ]
    },
    {
     "name": "stderr",
     "output_type": "stream",
     "text": [
      "[Parallel(n_jobs=-1)]: Using backend LokyBackend with 12 concurrent workers.\n",
      "[Parallel(n_jobs=-1)]: Done   3 out of  10 | elapsed:    0.8s remaining:    1.9s\n",
      "[Parallel(n_jobs=-1)]: Done   7 out of  10 | elapsed:    0.9s remaining:    0.4s\n",
      "[Parallel(n_jobs=-1)]: Done  10 out of  10 | elapsed:    0.9s finished\n"
     ]
    },
    {
     "name": "stdout",
     "output_type": "stream",
     "text": [
      "ieme iteration 3: H=4, C=1000.0\n"
     ]
    },
    {
     "name": "stderr",
     "output_type": "stream",
     "text": [
      "[Parallel(n_jobs=-1)]: Using backend LokyBackend with 12 concurrent workers.\n",
      "[Parallel(n_jobs=-1)]: Done   3 out of  10 | elapsed:    0.9s remaining:    2.0s\n",
      "[Parallel(n_jobs=-1)]: Done   7 out of  10 | elapsed:    0.9s remaining:    0.4s\n",
      "[Parallel(n_jobs=-1)]: Done  10 out of  10 | elapsed:    0.9s finished\n"
     ]
    },
    {
     "name": "stdout",
     "output_type": "stream",
     "text": [
      "ieme iteration 4: H=5, C=1e-05\n"
     ]
    },
    {
     "name": "stderr",
     "output_type": "stream",
     "text": [
      "[Parallel(n_jobs=-1)]: Using backend LokyBackend with 12 concurrent workers.\n",
      "[Parallel(n_jobs=-1)]: Done   3 out of  10 | elapsed:    0.5s remaining:    1.1s\n",
      "[Parallel(n_jobs=-1)]: Done   7 out of  10 | elapsed:    0.5s remaining:    0.2s\n",
      "[Parallel(n_jobs=-1)]: Done  10 out of  10 | elapsed:    0.5s finished\n"
     ]
    },
    {
     "name": "stdout",
     "output_type": "stream",
     "text": [
      "ieme iteration 4: H=5, C=0.0001\n"
     ]
    },
    {
     "name": "stderr",
     "output_type": "stream",
     "text": [
      "[Parallel(n_jobs=-1)]: Using backend LokyBackend with 12 concurrent workers.\n",
      "[Parallel(n_jobs=-1)]: Done   3 out of  10 | elapsed:    0.4s remaining:    1.0s\n",
      "[Parallel(n_jobs=-1)]: Done   7 out of  10 | elapsed:    0.5s remaining:    0.2s\n",
      "[Parallel(n_jobs=-1)]: Done  10 out of  10 | elapsed:    0.5s finished\n"
     ]
    },
    {
     "name": "stdout",
     "output_type": "stream",
     "text": [
      "ieme iteration 4: H=5, C=0.001\n"
     ]
    },
    {
     "name": "stderr",
     "output_type": "stream",
     "text": [
      "[Parallel(n_jobs=-1)]: Using backend LokyBackend with 12 concurrent workers.\n",
      "[Parallel(n_jobs=-1)]: Done   3 out of  10 | elapsed:    0.5s remaining:    1.1s\n",
      "[Parallel(n_jobs=-1)]: Done   7 out of  10 | elapsed:    0.5s remaining:    0.2s\n",
      "[Parallel(n_jobs=-1)]: Done  10 out of  10 | elapsed:    0.5s finished\n"
     ]
    },
    {
     "name": "stdout",
     "output_type": "stream",
     "text": [
      "ieme iteration 4: H=5, C=0.01\n"
     ]
    },
    {
     "name": "stderr",
     "output_type": "stream",
     "text": [
      "[Parallel(n_jobs=-1)]: Using backend LokyBackend with 12 concurrent workers.\n",
      "[Parallel(n_jobs=-1)]: Done   3 out of  10 | elapsed:    0.6s remaining:    1.4s\n",
      "[Parallel(n_jobs=-1)]: Done   7 out of  10 | elapsed:    0.6s remaining:    0.3s\n",
      "[Parallel(n_jobs=-1)]: Done  10 out of  10 | elapsed:    0.6s finished\n"
     ]
    },
    {
     "name": "stdout",
     "output_type": "stream",
     "text": [
      "ieme iteration 4: H=5, C=0.1\n"
     ]
    },
    {
     "name": "stderr",
     "output_type": "stream",
     "text": [
      "[Parallel(n_jobs=-1)]: Using backend LokyBackend with 12 concurrent workers.\n",
      "[Parallel(n_jobs=-1)]: Done   3 out of  10 | elapsed:    0.7s remaining:    1.7s\n",
      "[Parallel(n_jobs=-1)]: Done   7 out of  10 | elapsed:    0.8s remaining:    0.3s\n",
      "[Parallel(n_jobs=-1)]: Done  10 out of  10 | elapsed:    0.8s finished\n"
     ]
    },
    {
     "name": "stdout",
     "output_type": "stream",
     "text": [
      "ieme iteration 4: H=5, C=1.0\n"
     ]
    },
    {
     "name": "stderr",
     "output_type": "stream",
     "text": [
      "[Parallel(n_jobs=-1)]: Using backend LokyBackend with 12 concurrent workers.\n",
      "[Parallel(n_jobs=-1)]: Done   3 out of  10 | elapsed:    0.7s remaining:    1.7s\n",
      "[Parallel(n_jobs=-1)]: Done   7 out of  10 | elapsed:    0.8s remaining:    0.3s\n",
      "[Parallel(n_jobs=-1)]: Done  10 out of  10 | elapsed:    0.8s finished\n"
     ]
    },
    {
     "name": "stdout",
     "output_type": "stream",
     "text": [
      "ieme iteration 4: H=5, C=10.0\n"
     ]
    },
    {
     "name": "stderr",
     "output_type": "stream",
     "text": [
      "[Parallel(n_jobs=-1)]: Using backend LokyBackend with 12 concurrent workers.\n",
      "[Parallel(n_jobs=-1)]: Done   3 out of  10 | elapsed:    0.7s remaining:    1.6s\n",
      "[Parallel(n_jobs=-1)]: Done   7 out of  10 | elapsed:    0.7s remaining:    0.3s\n",
      "[Parallel(n_jobs=-1)]: Done  10 out of  10 | elapsed:    0.7s finished\n"
     ]
    },
    {
     "name": "stdout",
     "output_type": "stream",
     "text": [
      "ieme iteration 4: H=5, C=100.0\n"
     ]
    },
    {
     "name": "stderr",
     "output_type": "stream",
     "text": [
      "[Parallel(n_jobs=-1)]: Using backend LokyBackend with 12 concurrent workers.\n",
      "[Parallel(n_jobs=-1)]: Done   3 out of  10 | elapsed:    0.7s remaining:    1.5s\n",
      "[Parallel(n_jobs=-1)]: Done   7 out of  10 | elapsed:    0.7s remaining:    0.3s\n",
      "[Parallel(n_jobs=-1)]: Done  10 out of  10 | elapsed:    0.7s finished\n"
     ]
    },
    {
     "name": "stdout",
     "output_type": "stream",
     "text": [
      "ieme iteration 4: H=5, C=1000.0\n"
     ]
    },
    {
     "name": "stderr",
     "output_type": "stream",
     "text": [
      "[Parallel(n_jobs=-1)]: Using backend LokyBackend with 12 concurrent workers.\n",
      "[Parallel(n_jobs=-1)]: Done   3 out of  10 | elapsed:    0.7s remaining:    1.6s\n",
      "[Parallel(n_jobs=-1)]: Done   7 out of  10 | elapsed:    0.7s remaining:    0.3s\n",
      "[Parallel(n_jobs=-1)]: Done  10 out of  10 | elapsed:    0.7s finished\n"
     ]
    },
    {
     "name": "stdout",
     "output_type": "stream",
     "text": [
      "ieme iteration 5: H=6, C=1e-05\n"
     ]
    },
    {
     "name": "stderr",
     "output_type": "stream",
     "text": [
      "[Parallel(n_jobs=-1)]: Using backend LokyBackend with 12 concurrent workers.\n",
      "[Parallel(n_jobs=-1)]: Done   3 out of  10 | elapsed:    0.5s remaining:    1.1s\n",
      "[Parallel(n_jobs=-1)]: Done   7 out of  10 | elapsed:    0.5s remaining:    0.2s\n",
      "[Parallel(n_jobs=-1)]: Done  10 out of  10 | elapsed:    0.5s finished\n"
     ]
    },
    {
     "name": "stdout",
     "output_type": "stream",
     "text": [
      "ieme iteration 5: H=6, C=0.0001\n"
     ]
    },
    {
     "name": "stderr",
     "output_type": "stream",
     "text": [
      "[Parallel(n_jobs=-1)]: Using backend LokyBackend with 12 concurrent workers.\n",
      "[Parallel(n_jobs=-1)]: Done   3 out of  10 | elapsed:    0.4s remaining:    0.9s\n",
      "[Parallel(n_jobs=-1)]: Done   7 out of  10 | elapsed:    0.5s remaining:    0.2s\n",
      "[Parallel(n_jobs=-1)]: Done  10 out of  10 | elapsed:    0.5s finished\n"
     ]
    },
    {
     "name": "stdout",
     "output_type": "stream",
     "text": [
      "ieme iteration 5: H=6, C=0.001\n"
     ]
    },
    {
     "name": "stderr",
     "output_type": "stream",
     "text": [
      "[Parallel(n_jobs=-1)]: Using backend LokyBackend with 12 concurrent workers.\n",
      "[Parallel(n_jobs=-1)]: Done   3 out of  10 | elapsed:    0.4s remaining:    1.0s\n",
      "[Parallel(n_jobs=-1)]: Done   7 out of  10 | elapsed:    0.5s remaining:    0.2s\n",
      "[Parallel(n_jobs=-1)]: Done  10 out of  10 | elapsed:    0.5s finished\n"
     ]
    },
    {
     "name": "stdout",
     "output_type": "stream",
     "text": [
      "ieme iteration 5: H=6, C=0.01\n"
     ]
    },
    {
     "name": "stderr",
     "output_type": "stream",
     "text": [
      "[Parallel(n_jobs=-1)]: Using backend LokyBackend with 12 concurrent workers.\n",
      "[Parallel(n_jobs=-1)]: Done   3 out of  10 | elapsed:    0.7s remaining:    1.5s\n",
      "[Parallel(n_jobs=-1)]: Done   7 out of  10 | elapsed:    0.7s remaining:    0.3s\n",
      "[Parallel(n_jobs=-1)]: Done  10 out of  10 | elapsed:    0.7s finished\n"
     ]
    },
    {
     "name": "stdout",
     "output_type": "stream",
     "text": [
      "ieme iteration 5: H=6, C=0.1\n"
     ]
    },
    {
     "name": "stderr",
     "output_type": "stream",
     "text": [
      "[Parallel(n_jobs=-1)]: Using backend LokyBackend with 12 concurrent workers.\n",
      "[Parallel(n_jobs=-1)]: Done   3 out of  10 | elapsed:    0.6s remaining:    1.5s\n",
      "[Parallel(n_jobs=-1)]: Done   7 out of  10 | elapsed:    0.7s remaining:    0.3s\n",
      "[Parallel(n_jobs=-1)]: Done  10 out of  10 | elapsed:    0.7s finished\n"
     ]
    },
    {
     "name": "stdout",
     "output_type": "stream",
     "text": [
      "ieme iteration 5: H=6, C=1.0\n"
     ]
    },
    {
     "name": "stderr",
     "output_type": "stream",
     "text": [
      "[Parallel(n_jobs=-1)]: Using backend LokyBackend with 12 concurrent workers.\n",
      "[Parallel(n_jobs=-1)]: Done   3 out of  10 | elapsed:    0.7s remaining:    1.6s\n",
      "[Parallel(n_jobs=-1)]: Done   7 out of  10 | elapsed:    0.7s remaining:    0.3s\n",
      "[Parallel(n_jobs=-1)]: Done  10 out of  10 | elapsed:    0.7s finished\n"
     ]
    },
    {
     "name": "stdout",
     "output_type": "stream",
     "text": [
      "ieme iteration 5: H=6, C=10.0\n"
     ]
    },
    {
     "name": "stderr",
     "output_type": "stream",
     "text": [
      "[Parallel(n_jobs=-1)]: Using backend LokyBackend with 12 concurrent workers.\n",
      "[Parallel(n_jobs=-1)]: Done   3 out of  10 | elapsed:    0.7s remaining:    1.5s\n",
      "[Parallel(n_jobs=-1)]: Done   7 out of  10 | elapsed:    0.7s remaining:    0.3s\n",
      "[Parallel(n_jobs=-1)]: Done  10 out of  10 | elapsed:    0.7s finished\n"
     ]
    },
    {
     "name": "stdout",
     "output_type": "stream",
     "text": [
      "ieme iteration 5: H=6, C=100.0\n"
     ]
    },
    {
     "name": "stderr",
     "output_type": "stream",
     "text": [
      "[Parallel(n_jobs=-1)]: Using backend LokyBackend with 12 concurrent workers.\n",
      "[Parallel(n_jobs=-1)]: Done   3 out of  10 | elapsed:    0.6s remaining:    1.5s\n",
      "[Parallel(n_jobs=-1)]: Done   7 out of  10 | elapsed:    0.7s remaining:    0.3s\n",
      "[Parallel(n_jobs=-1)]: Done  10 out of  10 | elapsed:    0.7s finished\n"
     ]
    },
    {
     "name": "stdout",
     "output_type": "stream",
     "text": [
      "ieme iteration 5: H=6, C=1000.0\n"
     ]
    },
    {
     "name": "stderr",
     "output_type": "stream",
     "text": [
      "[Parallel(n_jobs=-1)]: Using backend LokyBackend with 12 concurrent workers.\n",
      "[Parallel(n_jobs=-1)]: Done   3 out of  10 | elapsed:    0.7s remaining:    1.5s\n",
      "[Parallel(n_jobs=-1)]: Done   7 out of  10 | elapsed:    0.7s remaining:    0.3s\n",
      "[Parallel(n_jobs=-1)]: Done  10 out of  10 | elapsed:    0.7s finished\n"
     ]
    },
    {
     "name": "stdout",
     "output_type": "stream",
     "text": [
      "ieme iteration 6: H=7, C=1e-05\n"
     ]
    },
    {
     "name": "stderr",
     "output_type": "stream",
     "text": [
      "[Parallel(n_jobs=-1)]: Using backend LokyBackend with 12 concurrent workers.\n",
      "[Parallel(n_jobs=-1)]: Done   3 out of  10 | elapsed:    0.5s remaining:    1.1s\n",
      "[Parallel(n_jobs=-1)]: Done   7 out of  10 | elapsed:    0.5s remaining:    0.2s\n",
      "[Parallel(n_jobs=-1)]: Done  10 out of  10 | elapsed:    0.5s finished\n"
     ]
    },
    {
     "name": "stdout",
     "output_type": "stream",
     "text": [
      "ieme iteration 6: H=7, C=0.0001\n"
     ]
    },
    {
     "name": "stderr",
     "output_type": "stream",
     "text": [
      "[Parallel(n_jobs=-1)]: Using backend LokyBackend with 12 concurrent workers.\n",
      "[Parallel(n_jobs=-1)]: Done   3 out of  10 | elapsed:    0.5s remaining:    1.1s\n",
      "[Parallel(n_jobs=-1)]: Done   7 out of  10 | elapsed:    0.5s remaining:    0.2s\n",
      "[Parallel(n_jobs=-1)]: Done  10 out of  10 | elapsed:    0.5s finished\n"
     ]
    },
    {
     "name": "stdout",
     "output_type": "stream",
     "text": [
      "ieme iteration 6: H=7, C=0.001\n"
     ]
    },
    {
     "name": "stderr",
     "output_type": "stream",
     "text": [
      "[Parallel(n_jobs=-1)]: Using backend LokyBackend with 12 concurrent workers.\n",
      "[Parallel(n_jobs=-1)]: Done   3 out of  10 | elapsed:    0.4s remaining:    1.0s\n",
      "[Parallel(n_jobs=-1)]: Done   7 out of  10 | elapsed:    0.5s remaining:    0.2s\n",
      "[Parallel(n_jobs=-1)]: Done  10 out of  10 | elapsed:    0.5s finished\n"
     ]
    },
    {
     "name": "stdout",
     "output_type": "stream",
     "text": [
      "ieme iteration 6: H=7, C=0.01\n"
     ]
    },
    {
     "name": "stderr",
     "output_type": "stream",
     "text": [
      "[Parallel(n_jobs=-1)]: Using backend LokyBackend with 12 concurrent workers.\n",
      "[Parallel(n_jobs=-1)]: Done   3 out of  10 | elapsed:    0.6s remaining:    1.4s\n",
      "[Parallel(n_jobs=-1)]: Done   7 out of  10 | elapsed:    0.7s remaining:    0.3s\n",
      "[Parallel(n_jobs=-1)]: Done  10 out of  10 | elapsed:    0.7s finished\n"
     ]
    },
    {
     "name": "stdout",
     "output_type": "stream",
     "text": [
      "ieme iteration 6: H=7, C=0.1\n"
     ]
    },
    {
     "name": "stderr",
     "output_type": "stream",
     "text": [
      "[Parallel(n_jobs=-1)]: Using backend LokyBackend with 12 concurrent workers.\n",
      "[Parallel(n_jobs=-1)]: Done   3 out of  10 | elapsed:    0.7s remaining:    1.5s\n",
      "[Parallel(n_jobs=-1)]: Done   7 out of  10 | elapsed:    0.7s remaining:    0.3s\n",
      "[Parallel(n_jobs=-1)]: Done  10 out of  10 | elapsed:    0.7s finished\n"
     ]
    },
    {
     "name": "stdout",
     "output_type": "stream",
     "text": [
      "ieme iteration 6: H=7, C=1.0\n"
     ]
    },
    {
     "name": "stderr",
     "output_type": "stream",
     "text": [
      "[Parallel(n_jobs=-1)]: Using backend LokyBackend with 12 concurrent workers.\n",
      "[Parallel(n_jobs=-1)]: Done   3 out of  10 | elapsed:    0.6s remaining:    1.5s\n",
      "[Parallel(n_jobs=-1)]: Done   7 out of  10 | elapsed:    0.7s remaining:    0.3s\n",
      "[Parallel(n_jobs=-1)]: Done  10 out of  10 | elapsed:    0.7s finished\n"
     ]
    },
    {
     "name": "stdout",
     "output_type": "stream",
     "text": [
      "ieme iteration 6: H=7, C=10.0\n"
     ]
    },
    {
     "name": "stderr",
     "output_type": "stream",
     "text": [
      "[Parallel(n_jobs=-1)]: Using backend LokyBackend with 12 concurrent workers.\n",
      "[Parallel(n_jobs=-1)]: Done   3 out of  10 | elapsed:    0.6s remaining:    1.4s\n",
      "[Parallel(n_jobs=-1)]: Done   7 out of  10 | elapsed:    0.6s remaining:    0.3s\n",
      "[Parallel(n_jobs=-1)]: Done  10 out of  10 | elapsed:    0.7s finished\n"
     ]
    },
    {
     "name": "stdout",
     "output_type": "stream",
     "text": [
      "ieme iteration 6: H=7, C=100.0\n"
     ]
    },
    {
     "name": "stderr",
     "output_type": "stream",
     "text": [
      "[Parallel(n_jobs=-1)]: Using backend LokyBackend with 12 concurrent workers.\n",
      "[Parallel(n_jobs=-1)]: Done   3 out of  10 | elapsed:    0.7s remaining:    1.5s\n",
      "[Parallel(n_jobs=-1)]: Done   7 out of  10 | elapsed:    0.7s remaining:    0.3s\n",
      "[Parallel(n_jobs=-1)]: Done  10 out of  10 | elapsed:    0.7s finished\n"
     ]
    },
    {
     "name": "stdout",
     "output_type": "stream",
     "text": [
      "ieme iteration 6: H=7, C=1000.0\n"
     ]
    },
    {
     "name": "stderr",
     "output_type": "stream",
     "text": [
      "[Parallel(n_jobs=-1)]: Using backend LokyBackend with 12 concurrent workers.\n",
      "[Parallel(n_jobs=-1)]: Done   3 out of  10 | elapsed:    0.6s remaining:    1.4s\n",
      "[Parallel(n_jobs=-1)]: Done   7 out of  10 | elapsed:    0.6s remaining:    0.3s\n",
      "[Parallel(n_jobs=-1)]: Done  10 out of  10 | elapsed:    0.7s finished\n"
     ]
    },
    {
     "name": "stdout",
     "output_type": "stream",
     "text": [
      "ieme iteration 7: H=8, C=1e-05\n"
     ]
    },
    {
     "name": "stderr",
     "output_type": "stream",
     "text": [
      "[Parallel(n_jobs=-1)]: Using backend LokyBackend with 12 concurrent workers.\n",
      "[Parallel(n_jobs=-1)]: Done   3 out of  10 | elapsed:    0.4s remaining:    1.0s\n",
      "[Parallel(n_jobs=-1)]: Done   7 out of  10 | elapsed:    0.5s remaining:    0.2s\n",
      "[Parallel(n_jobs=-1)]: Done  10 out of  10 | elapsed:    0.5s finished\n"
     ]
    },
    {
     "name": "stdout",
     "output_type": "stream",
     "text": [
      "ieme iteration 7: H=8, C=0.0001\n"
     ]
    },
    {
     "name": "stderr",
     "output_type": "stream",
     "text": [
      "[Parallel(n_jobs=-1)]: Using backend LokyBackend with 12 concurrent workers.\n",
      "[Parallel(n_jobs=-1)]: Done   3 out of  10 | elapsed:    0.4s remaining:    1.0s\n",
      "[Parallel(n_jobs=-1)]: Done   7 out of  10 | elapsed:    0.4s remaining:    0.2s\n",
      "[Parallel(n_jobs=-1)]: Done  10 out of  10 | elapsed:    0.5s finished\n"
     ]
    },
    {
     "name": "stdout",
     "output_type": "stream",
     "text": [
      "ieme iteration 7: H=8, C=0.001\n"
     ]
    },
    {
     "name": "stderr",
     "output_type": "stream",
     "text": [
      "[Parallel(n_jobs=-1)]: Using backend LokyBackend with 12 concurrent workers.\n",
      "[Parallel(n_jobs=-1)]: Done   3 out of  10 | elapsed:    0.5s remaining:    1.1s\n",
      "[Parallel(n_jobs=-1)]: Done   7 out of  10 | elapsed:    0.5s remaining:    0.2s\n",
      "[Parallel(n_jobs=-1)]: Done  10 out of  10 | elapsed:    0.5s finished\n"
     ]
    },
    {
     "name": "stdout",
     "output_type": "stream",
     "text": [
      "ieme iteration 7: H=8, C=0.01\n"
     ]
    },
    {
     "name": "stderr",
     "output_type": "stream",
     "text": [
      "[Parallel(n_jobs=-1)]: Using backend LokyBackend with 12 concurrent workers.\n",
      "[Parallel(n_jobs=-1)]: Done   3 out of  10 | elapsed:    0.6s remaining:    1.4s\n",
      "[Parallel(n_jobs=-1)]: Done   7 out of  10 | elapsed:    0.6s remaining:    0.3s\n",
      "[Parallel(n_jobs=-1)]: Done  10 out of  10 | elapsed:    0.6s finished\n"
     ]
    },
    {
     "name": "stdout",
     "output_type": "stream",
     "text": [
      "ieme iteration 7: H=8, C=0.1\n"
     ]
    },
    {
     "name": "stderr",
     "output_type": "stream",
     "text": [
      "[Parallel(n_jobs=-1)]: Using backend LokyBackend with 12 concurrent workers.\n",
      "[Parallel(n_jobs=-1)]: Done   3 out of  10 | elapsed:    0.6s remaining:    1.4s\n",
      "[Parallel(n_jobs=-1)]: Done   7 out of  10 | elapsed:    0.7s remaining:    0.3s\n",
      "[Parallel(n_jobs=-1)]: Done  10 out of  10 | elapsed:    0.7s finished\n"
     ]
    },
    {
     "name": "stdout",
     "output_type": "stream",
     "text": [
      "ieme iteration 7: H=8, C=1.0\n"
     ]
    },
    {
     "name": "stderr",
     "output_type": "stream",
     "text": [
      "[Parallel(n_jobs=-1)]: Using backend LokyBackend with 12 concurrent workers.\n",
      "[Parallel(n_jobs=-1)]: Done   3 out of  10 | elapsed:    0.6s remaining:    1.5s\n",
      "[Parallel(n_jobs=-1)]: Done   7 out of  10 | elapsed:    0.7s remaining:    0.3s\n",
      "[Parallel(n_jobs=-1)]: Done  10 out of  10 | elapsed:    0.7s finished\n"
     ]
    },
    {
     "name": "stdout",
     "output_type": "stream",
     "text": [
      "ieme iteration 7: H=8, C=10.0\n"
     ]
    },
    {
     "name": "stderr",
     "output_type": "stream",
     "text": [
      "[Parallel(n_jobs=-1)]: Using backend LokyBackend with 12 concurrent workers.\n",
      "[Parallel(n_jobs=-1)]: Done   3 out of  10 | elapsed:    0.6s remaining:    1.5s\n",
      "[Parallel(n_jobs=-1)]: Done   7 out of  10 | elapsed:    0.7s remaining:    0.3s\n",
      "[Parallel(n_jobs=-1)]: Done  10 out of  10 | elapsed:    0.7s finished\n"
     ]
    },
    {
     "name": "stdout",
     "output_type": "stream",
     "text": [
      "ieme iteration 7: H=8, C=100.0\n"
     ]
    },
    {
     "name": "stderr",
     "output_type": "stream",
     "text": [
      "[Parallel(n_jobs=-1)]: Using backend LokyBackend with 12 concurrent workers.\n",
      "[Parallel(n_jobs=-1)]: Done   3 out of  10 | elapsed:    0.6s remaining:    1.4s\n",
      "[Parallel(n_jobs=-1)]: Done   7 out of  10 | elapsed:    0.7s remaining:    0.3s\n",
      "[Parallel(n_jobs=-1)]: Done  10 out of  10 | elapsed:    0.7s finished\n"
     ]
    },
    {
     "name": "stdout",
     "output_type": "stream",
     "text": [
      "ieme iteration 7: H=8, C=1000.0\n"
     ]
    },
    {
     "name": "stderr",
     "output_type": "stream",
     "text": [
      "[Parallel(n_jobs=-1)]: Using backend LokyBackend with 12 concurrent workers.\n",
      "[Parallel(n_jobs=-1)]: Done   3 out of  10 | elapsed:    0.6s remaining:    1.4s\n",
      "[Parallel(n_jobs=-1)]: Done   7 out of  10 | elapsed:    0.7s remaining:    0.3s\n",
      "[Parallel(n_jobs=-1)]: Done  10 out of  10 | elapsed:    0.7s finished\n"
     ]
    },
    {
     "name": "stdout",
     "output_type": "stream",
     "text": [
      "ieme iteration 8: H=9, C=1e-05\n"
     ]
    },
    {
     "name": "stderr",
     "output_type": "stream",
     "text": [
      "[Parallel(n_jobs=-1)]: Using backend LokyBackend with 12 concurrent workers.\n",
      "[Parallel(n_jobs=-1)]: Done   3 out of  10 | elapsed:    0.4s remaining:    1.0s\n",
      "[Parallel(n_jobs=-1)]: Done   7 out of  10 | elapsed:    0.5s remaining:    0.2s\n",
      "[Parallel(n_jobs=-1)]: Done  10 out of  10 | elapsed:    0.5s finished\n"
     ]
    },
    {
     "name": "stdout",
     "output_type": "stream",
     "text": [
      "ieme iteration 8: H=9, C=0.0001\n"
     ]
    },
    {
     "name": "stderr",
     "output_type": "stream",
     "text": [
      "[Parallel(n_jobs=-1)]: Using backend LokyBackend with 12 concurrent workers.\n",
      "[Parallel(n_jobs=-1)]: Done   3 out of  10 | elapsed:    0.4s remaining:    1.0s\n",
      "[Parallel(n_jobs=-1)]: Done   7 out of  10 | elapsed:    0.5s remaining:    0.2s\n",
      "[Parallel(n_jobs=-1)]: Done  10 out of  10 | elapsed:    0.5s finished\n"
     ]
    },
    {
     "name": "stdout",
     "output_type": "stream",
     "text": [
      "ieme iteration 8: H=9, C=0.001\n"
     ]
    },
    {
     "name": "stderr",
     "output_type": "stream",
     "text": [
      "[Parallel(n_jobs=-1)]: Using backend LokyBackend with 12 concurrent workers.\n",
      "[Parallel(n_jobs=-1)]: Done   3 out of  10 | elapsed:    0.4s remaining:    1.0s\n",
      "[Parallel(n_jobs=-1)]: Done   7 out of  10 | elapsed:    0.5s remaining:    0.2s\n",
      "[Parallel(n_jobs=-1)]: Done  10 out of  10 | elapsed:    0.5s finished\n"
     ]
    },
    {
     "name": "stdout",
     "output_type": "stream",
     "text": [
      "ieme iteration 8: H=9, C=0.01\n"
     ]
    },
    {
     "name": "stderr",
     "output_type": "stream",
     "text": [
      "[Parallel(n_jobs=-1)]: Using backend LokyBackend with 12 concurrent workers.\n",
      "[Parallel(n_jobs=-1)]: Done   3 out of  10 | elapsed:    0.6s remaining:    1.4s\n",
      "[Parallel(n_jobs=-1)]: Done   7 out of  10 | elapsed:    0.6s remaining:    0.3s\n",
      "[Parallel(n_jobs=-1)]: Done  10 out of  10 | elapsed:    0.6s finished\n"
     ]
    },
    {
     "name": "stdout",
     "output_type": "stream",
     "text": [
      "ieme iteration 8: H=9, C=0.1\n"
     ]
    },
    {
     "name": "stderr",
     "output_type": "stream",
     "text": [
      "[Parallel(n_jobs=-1)]: Using backend LokyBackend with 12 concurrent workers.\n",
      "[Parallel(n_jobs=-1)]: Done   3 out of  10 | elapsed:    0.6s remaining:    1.4s\n",
      "[Parallel(n_jobs=-1)]: Done   7 out of  10 | elapsed:    0.6s remaining:    0.3s\n",
      "[Parallel(n_jobs=-1)]: Done  10 out of  10 | elapsed:    0.6s finished\n"
     ]
    },
    {
     "name": "stdout",
     "output_type": "stream",
     "text": [
      "ieme iteration 8: H=9, C=1.0\n"
     ]
    },
    {
     "name": "stderr",
     "output_type": "stream",
     "text": [
      "[Parallel(n_jobs=-1)]: Using backend LokyBackend with 12 concurrent workers.\n",
      "[Parallel(n_jobs=-1)]: Done   3 out of  10 | elapsed:    0.6s remaining:    1.4s\n",
      "[Parallel(n_jobs=-1)]: Done   7 out of  10 | elapsed:    0.6s remaining:    0.3s\n",
      "[Parallel(n_jobs=-1)]: Done  10 out of  10 | elapsed:    0.7s finished\n"
     ]
    },
    {
     "name": "stdout",
     "output_type": "stream",
     "text": [
      "ieme iteration 8: H=9, C=10.0\n"
     ]
    },
    {
     "name": "stderr",
     "output_type": "stream",
     "text": [
      "[Parallel(n_jobs=-1)]: Using backend LokyBackend with 12 concurrent workers.\n",
      "[Parallel(n_jobs=-1)]: Done   3 out of  10 | elapsed:    0.6s remaining:    1.4s\n",
      "[Parallel(n_jobs=-1)]: Done   7 out of  10 | elapsed:    0.6s remaining:    0.3s\n",
      "[Parallel(n_jobs=-1)]: Done  10 out of  10 | elapsed:    0.6s finished\n"
     ]
    },
    {
     "name": "stdout",
     "output_type": "stream",
     "text": [
      "ieme iteration 8: H=9, C=100.0\n"
     ]
    },
    {
     "name": "stderr",
     "output_type": "stream",
     "text": [
      "[Parallel(n_jobs=-1)]: Using backend LokyBackend with 12 concurrent workers.\n",
      "[Parallel(n_jobs=-1)]: Done   3 out of  10 | elapsed:    0.6s remaining:    1.4s\n",
      "[Parallel(n_jobs=-1)]: Done   7 out of  10 | elapsed:    0.6s remaining:    0.3s\n",
      "[Parallel(n_jobs=-1)]: Done  10 out of  10 | elapsed:    0.7s finished\n"
     ]
    },
    {
     "name": "stdout",
     "output_type": "stream",
     "text": [
      "ieme iteration 8: H=9, C=1000.0\n"
     ]
    },
    {
     "name": "stderr",
     "output_type": "stream",
     "text": [
      "[Parallel(n_jobs=-1)]: Using backend LokyBackend with 12 concurrent workers.\n",
      "[Parallel(n_jobs=-1)]: Done   3 out of  10 | elapsed:    0.6s remaining:    1.4s\n",
      "[Parallel(n_jobs=-1)]: Done   7 out of  10 | elapsed:    0.6s remaining:    0.3s\n",
      "[Parallel(n_jobs=-1)]: Done  10 out of  10 | elapsed:    0.6s finished\n"
     ]
    },
    {
     "name": "stdout",
     "output_type": "stream",
     "text": [
      "ieme iteration 9: H=10, C=1e-05\n"
     ]
    },
    {
     "name": "stderr",
     "output_type": "stream",
     "text": [
      "[Parallel(n_jobs=-1)]: Using backend LokyBackend with 12 concurrent workers.\n",
      "[Parallel(n_jobs=-1)]: Done   3 out of  10 | elapsed:    0.4s remaining:    1.0s\n",
      "[Parallel(n_jobs=-1)]: Done   7 out of  10 | elapsed:    0.5s remaining:    0.2s\n",
      "[Parallel(n_jobs=-1)]: Done  10 out of  10 | elapsed:    0.5s finished\n"
     ]
    },
    {
     "name": "stdout",
     "output_type": "stream",
     "text": [
      "ieme iteration 9: H=10, C=0.0001\n"
     ]
    },
    {
     "name": "stderr",
     "output_type": "stream",
     "text": [
      "[Parallel(n_jobs=-1)]: Using backend LokyBackend with 12 concurrent workers.\n",
      "[Parallel(n_jobs=-1)]: Done   3 out of  10 | elapsed:    0.5s remaining:    1.1s\n",
      "[Parallel(n_jobs=-1)]: Done   7 out of  10 | elapsed:    0.5s remaining:    0.2s\n",
      "[Parallel(n_jobs=-1)]: Done  10 out of  10 | elapsed:    0.5s finished\n"
     ]
    },
    {
     "name": "stdout",
     "output_type": "stream",
     "text": [
      "ieme iteration 9: H=10, C=0.001\n"
     ]
    },
    {
     "name": "stderr",
     "output_type": "stream",
     "text": [
      "[Parallel(n_jobs=-1)]: Using backend LokyBackend with 12 concurrent workers.\n",
      "[Parallel(n_jobs=-1)]: Done   3 out of  10 | elapsed:    0.5s remaining:    1.1s\n",
      "[Parallel(n_jobs=-1)]: Done   7 out of  10 | elapsed:    0.5s remaining:    0.2s\n",
      "[Parallel(n_jobs=-1)]: Done  10 out of  10 | elapsed:    0.5s finished\n"
     ]
    },
    {
     "name": "stdout",
     "output_type": "stream",
     "text": [
      "ieme iteration 9: H=10, C=0.01\n"
     ]
    },
    {
     "name": "stderr",
     "output_type": "stream",
     "text": [
      "[Parallel(n_jobs=-1)]: Using backend LokyBackend with 12 concurrent workers.\n",
      "[Parallel(n_jobs=-1)]: Done   3 out of  10 | elapsed:    0.6s remaining:    1.4s\n",
      "[Parallel(n_jobs=-1)]: Done   7 out of  10 | elapsed:    0.6s remaining:    0.3s\n",
      "[Parallel(n_jobs=-1)]: Done  10 out of  10 | elapsed:    0.6s finished\n"
     ]
    },
    {
     "name": "stdout",
     "output_type": "stream",
     "text": [
      "ieme iteration 9: H=10, C=0.1\n"
     ]
    },
    {
     "name": "stderr",
     "output_type": "stream",
     "text": [
      "[Parallel(n_jobs=-1)]: Using backend LokyBackend with 12 concurrent workers.\n",
      "[Parallel(n_jobs=-1)]: Done   3 out of  10 | elapsed:    0.6s remaining:    1.3s\n",
      "[Parallel(n_jobs=-1)]: Done   7 out of  10 | elapsed:    0.6s remaining:    0.3s\n",
      "[Parallel(n_jobs=-1)]: Done  10 out of  10 | elapsed:    0.6s finished\n"
     ]
    },
    {
     "name": "stdout",
     "output_type": "stream",
     "text": [
      "ieme iteration 9: H=10, C=1.0\n"
     ]
    },
    {
     "name": "stderr",
     "output_type": "stream",
     "text": [
      "[Parallel(n_jobs=-1)]: Using backend LokyBackend with 12 concurrent workers.\n",
      "[Parallel(n_jobs=-1)]: Done   3 out of  10 | elapsed:    0.6s remaining:    1.3s\n",
      "[Parallel(n_jobs=-1)]: Done   7 out of  10 | elapsed:    0.6s remaining:    0.3s\n",
      "[Parallel(n_jobs=-1)]: Done  10 out of  10 | elapsed:    0.6s finished\n"
     ]
    },
    {
     "name": "stdout",
     "output_type": "stream",
     "text": [
      "ieme iteration 9: H=10, C=10.0\n"
     ]
    },
    {
     "name": "stderr",
     "output_type": "stream",
     "text": [
      "[Parallel(n_jobs=-1)]: Using backend LokyBackend with 12 concurrent workers.\n",
      "[Parallel(n_jobs=-1)]: Done   3 out of  10 | elapsed:    0.6s remaining:    1.3s\n",
      "[Parallel(n_jobs=-1)]: Done   7 out of  10 | elapsed:    0.6s remaining:    0.3s\n",
      "[Parallel(n_jobs=-1)]: Done  10 out of  10 | elapsed:    0.6s finished\n"
     ]
    },
    {
     "name": "stdout",
     "output_type": "stream",
     "text": [
      "ieme iteration 9: H=10, C=100.0\n"
     ]
    },
    {
     "name": "stderr",
     "output_type": "stream",
     "text": [
      "[Parallel(n_jobs=-1)]: Using backend LokyBackend with 12 concurrent workers.\n",
      "[Parallel(n_jobs=-1)]: Done   3 out of  10 | elapsed:    0.6s remaining:    1.5s\n",
      "[Parallel(n_jobs=-1)]: Done   7 out of  10 | elapsed:    0.6s remaining:    0.3s\n",
      "[Parallel(n_jobs=-1)]: Done  10 out of  10 | elapsed:    0.7s finished\n"
     ]
    },
    {
     "name": "stdout",
     "output_type": "stream",
     "text": [
      "ieme iteration 9: H=10, C=1000.0\n"
     ]
    },
    {
     "name": "stderr",
     "output_type": "stream",
     "text": [
      "[Parallel(n_jobs=-1)]: Using backend LokyBackend with 12 concurrent workers.\n"
     ]
    },
    {
     "name": "stdout",
     "output_type": "stream",
     "text": [
      "Best param SVC NCI1: (7, 0.1), accuracy: 0.8573643339016976\n"
     ]
    },
    {
     "name": "stderr",
     "output_type": "stream",
     "text": [
      "[Parallel(n_jobs=-1)]: Done   3 out of  10 | elapsed:    0.6s remaining:    1.4s\n",
      "[Parallel(n_jobs=-1)]: Done   7 out of  10 | elapsed:    0.6s remaining:    0.3s\n",
      "[Parallel(n_jobs=-1)]: Done  10 out of  10 | elapsed:    0.6s finished\n"
     ]
    }
   ],
   "source": [
    "C = [1e-5,1e-4, 1e-3, 1e-2, 1e-1, 1e0, 1e1, 1e2, 1e3]\n",
    "#remove 10 000 because it take too much computational time it is not worth the effort\n",
    "bestParamNCI1 = bestParams(trainNCI1, y_trainNCI1, H, C)\n",
    "print(f\"Best param SVC NCI1: {bestParamNCI1[0]}, accuracy: {bestParamNCI1[1]}\")"
   ],
   "metadata": {
    "collapsed": false
   }
  },
  {
   "cell_type": "code",
   "execution_count": 28,
   "outputs": [],
   "source": [
    "### FINAL EVALUATION ON TEST SET  with the best parameters found above###\n",
    "def finalEvaluation(H, C, Xtrain, Xtest, yTrain, ytest):\n",
    "\n",
    "    wl = WeisfeilerLehman(n_iter=H, base_graph_kernel=VertexHistogram,normalize=False)\n",
    "    wlTrain = wl.fit_transform(Xtrain)\n",
    "    wlTest = wl.transform(Xtest)\n",
    "\n",
    "    clf = SVC(kernel=\"precomputed\", C=C)\n",
    "    clf.fit(wlTrain, yTrain)\n",
    "    ypred = clf.predict(wlTest)\n",
    "    acc = accuracy_score(ytest, ypred)\n",
    "    print(\"Accuracy:\", str(round(acc*100, 2)) + \"%\")\n",
    "    return acc\n"
   ],
   "metadata": {
    "collapsed": false
   }
  },
  {
   "cell_type": "markdown",
   "source": [],
   "metadata": {
    "collapsed": false
   }
  },
  {
   "cell_type": "code",
   "execution_count": 29,
   "outputs": [
    {
     "name": "stdout",
     "output_type": "stream",
     "text": [
      "Accuracy: 94.74%\n"
     ]
    }
   ],
   "source": [
    "finalMutag = finalEvaluation(1, 1000, trainMutag, testMutag, y_trainMutag, y_testMutag)"
   ],
   "metadata": {
    "collapsed": false
   }
  },
  {
   "cell_type": "code",
   "execution_count": 30,
   "outputs": [
    {
     "name": "stdout",
     "output_type": "stream",
     "text": [
      "Accuracy: 55.0%\n"
     ]
    }
   ],
   "source": [
    "finalEnzimes = finalEvaluation(3, 0.1, trainEnzimes, testEnzimes, y_trainEnzimes, y_testEnzimes)"
   ],
   "metadata": {
    "collapsed": false
   }
  },
  {
   "cell_type": "code",
   "execution_count": 31,
   "outputs": [
    {
     "name": "stdout",
     "output_type": "stream",
     "text": [
      "Accuracy: 85.28%\n"
     ]
    }
   ],
   "source": [
    "finalNCI1 = finalEvaluation(7, 0.1, trainNCI1, testNCI1, y_trainNCI1, y_testNCI1)"
   ],
   "metadata": {
    "collapsed": false
   }
  },
  {
   "cell_type": "markdown",
   "source": [
    "### 4.3.4 Oberservations"
   ],
   "metadata": {
    "collapsed": false
   }
  },
  {
   "cell_type": "code",
   "execution_count": 32,
   "outputs": [],
   "source": [
    "#to complete in the report"
   ],
   "metadata": {
    "collapsed": false
   }
  }
 ],
 "metadata": {
  "kernelspec": {
   "name": "python3",
   "language": "python",
   "display_name": "Python 3 (ipykernel)"
  },
  "language_info": {
   "codemirror_mode": {
    "name": "ipython",
    "version": 3
   },
   "file_extension": ".py",
   "mimetype": "text/x-python",
   "name": "python",
   "nbconvert_exporter": "python",
   "pygments_lexer": "ipython3",
   "version": "3.9.13"
  }
 },
 "nbformat": 4,
 "nbformat_minor": 5
}
